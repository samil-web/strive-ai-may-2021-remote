{
 "cells": [
  {
   "cell_type": "code",
   "execution_count": 3,
   "id": "comic-license",
   "metadata": {},
   "outputs": [],
   "source": [
    "# import the needed libraries and datasets\n",
    "import pandas as pd\n",
    "import numpy as np"
   ]
  },
  {
   "cell_type": "markdown",
   "id": "after-lithuania",
   "metadata": {},
   "source": [
    "**23.** Given a DataFrame of numeric values, say\n",
    "```python\n",
    "df = pd.DataFrame(np.random.random(size=(5, 3))) # a 5x3 frame of float values\n",
    "```\n",
    "\n",
    "how do you subtract the row mean from each element in the row?"
   ]
  },
  {
   "cell_type": "code",
   "execution_count": 4,
   "id": "supported-bicycle",
   "metadata": {},
   "outputs": [
    {
     "output_type": "stream",
     "name": "stdout",
     "text": [
      "Data Frame: \n          0         1         2\n0  0.559899  0.524617  0.286999\n1  0.763649  0.979709  0.191252\n2  0.821155  0.302328  0.992608\n3  0.368276  0.010655  0.544633\n4  0.415250  0.242622  0.646848\n\nRow Means: \n0    0.457172\n1    0.644870\n2    0.705364\n3    0.307854\n4    0.434907\ndtype: float64\n\nSubtraction: \n          0         1         2\n0  0.102727  0.067445 -0.170173\n1  0.118779  0.334839 -0.453618\n2  0.115791 -0.403036  0.287244\n3  0.060421 -0.297199  0.236778\n4 -0.019657 -0.192285  0.211942\n"
     ]
    }
   ],
   "source": [
    "df = pd.DataFrame(np.random.random(size=(5, 3))) # a 5x3 frame of float values\n",
    "df_mean = df.mean(axis = 1)\n",
    "print(\"Data Frame: \")\n",
    "print(df)\n",
    "print(\"\\nRow Means: \")\n",
    "print(df_mean)\n",
    "print(\"\\nSubtraction: \")\n",
    "print(df.sub(df_mean, axis = 0))"
   ]
  },
  {
   "cell_type": "markdown",
   "id": "severe-count",
   "metadata": {},
   "source": [
    "**24.** Suppose you have DataFrame with 10 columns of real numbers, for example:\n",
    "\n",
    "```python\n",
    "df = pd.DataFrame(np.random.random(size=(5, 10)), columns=list('abcdefghij'))\n",
    "```\n",
    "Which column of numbers has the smallest sum? (Find that column's label.)"
   ]
  },
  {
   "cell_type": "code",
   "execution_count": 9,
   "id": "czech-superior",
   "metadata": {},
   "outputs": [
    {
     "output_type": "stream",
     "name": "stdout",
     "text": [
      "Original dataframe: \n          a         b         c         d         e         f         g  \\\n0  0.771648  0.271045  0.200619  0.094092  0.477494  0.440987  0.407111   \n1  0.048315  0.357761  0.094008  0.180058  0.643974  0.002964  0.460485   \n2  0.823106  0.707620  0.368425  0.978203  0.638960  0.355303  0.352352   \n3  0.819880  0.898776  0.771052  0.934028  0.156351  0.645020  0.953377   \n4  0.903977  0.568614  0.794307  0.866216  0.541514  0.489112  0.609467   \n\n          h         i         j  \n0  0.823421  0.615639  0.972455  \n1  0.213099  0.916351  0.845869  \n2  0.951681  0.885593  0.288944  \n3  0.126917  0.214320  0.515401  \n4  0.998745  0.989745  0.905947  \n\nSum of columns: \na    3.366925\nb    2.803816\nc    2.228412\nd    3.052597\ne    2.458292\nf    1.933385\ng    2.782792\nh    3.113864\ni    3.621648\nj    3.528615\ndtype: float64\n\nColumn with minimum sum:  f\n"
     ]
    }
   ],
   "source": [
    "df = pd.DataFrame(np.random.random(size=(5, 10)), columns=list('abcdefghij'))\n",
    "\n",
    "print(\"Original dataframe: \")\n",
    "print(df)\n",
    "print(\"\\nSum of columns: \")\n",
    "print(df.sum())\n",
    "print(\"\\nColumn with minimum sum: \", df.sum().idxmin())"
   ]
  },
  {
   "cell_type": "code",
   "execution_count": null,
   "metadata": {},
   "outputs": [],
   "source": []
  }
 ],
 "metadata": {
  "kernelspec": {
   "name": "python3810jvsc74a57bd068274f4789de8facababa72c5292f6e9ee0042994feee1bf982b457f4d00f7e0",
   "display_name": "Python 3.8.10 64-bit ('strivenev': conda)"
  },
  "language_info": {
   "codemirror_mode": {
    "name": "ipython",
    "version": 3
   },
   "file_extension": ".py",
   "mimetype": "text/x-python",
   "name": "python",
   "nbconvert_exporter": "python",
   "pygments_lexer": "ipython3",
   "version": "3.8.10"
  }
 },
 "nbformat": 4,
 "nbformat_minor": 5
}