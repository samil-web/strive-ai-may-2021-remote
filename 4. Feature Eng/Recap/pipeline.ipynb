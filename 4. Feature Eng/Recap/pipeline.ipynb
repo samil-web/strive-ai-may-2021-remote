{
 "cells": [
  {
   "cell_type": "code",
   "metadata": {
    "tags": [],
    "cell_id": "00000-3e546a31-3693-4bee-99eb-ff27921bfced",
    "deepnote_to_be_reexecuted": false,
    "source_hash": "4759f9c1",
    "execution_start": 1626705224368,
    "execution_millis": 2875,
    "deepnote_cell_type": "code"
   },
   "source": "import time\n\nimport pandas as pd \nimport numpy as np \nimport matplotlib.pyplot as plt\nimport seaborn as sb\n\nfrom sklearn import pipeline\nfrom sklearn import preprocessing\nfrom sklearn import model_selection\nfrom sklearn.model_selection import train_test_split\nfrom sklearn import impute\nfrom sklearn import compose\nfrom sklearn import metrics\nfrom sklearn import set_config\nimport math\n\nset_config(display='diagram')",
   "execution_count": 1,
   "outputs": []
  },
  {
   "cell_type": "code",
   "source": "df = pd.read_csv(\"data/Mall_Customers.csv\")\n",
   "metadata": {
    "tags": [],
    "cell_id": "00001-0c891d20-5ac0-40be-a2cb-1b6c1e2a4ecd",
    "deepnote_to_be_reexecuted": false,
    "source_hash": "6d475bc8",
    "execution_start": 1626705227246,
    "execution_millis": 15,
    "deepnote_cell_type": "code"
   },
   "outputs": [],
   "execution_count": 2
  },
  {
   "cell_type": "code",
   "source": "# Change Gender to categorical using OrdinalEncoder\ndf.dtypes",
   "metadata": {
    "tags": [],
    "cell_id": "00002-1a0f5b27-9b31-4ae5-bef2-9cc25e725e2d",
    "deepnote_to_be_reexecuted": false,
    "source_hash": "e3c0b128",
    "execution_start": 1626705227272,
    "execution_millis": 11,
    "deepnote_cell_type": "code"
   },
   "outputs": [
    {
     "output_type": "execute_result",
     "execution_count": 3,
     "data": {
      "text/plain": "CustomerID                 int64\nGenre                     object\nAge                        int64\nAnnual Income (k$)         int64\nSpending Score (1-100)     int64\ndtype: object"
     },
     "metadata": {}
    }
   ],
   "execution_count": 3
  },
  {
   "cell_type": "code",
   "source": "df.columns",
   "metadata": {
    "tags": [],
    "cell_id": "00003-c12bd4b8-ae08-4b1d-be13-6c019559b2d1",
    "deepnote_to_be_reexecuted": false,
    "source_hash": "25d43fa0",
    "execution_start": 1626705227284,
    "execution_millis": 8,
    "deepnote_cell_type": "code"
   },
   "outputs": [
    {
     "output_type": "execute_result",
     "execution_count": 4,
     "data": {
      "text/plain": "Index(['CustomerID', 'Genre', 'Age', 'Annual Income (k$)',\n       'Spending Score (1-100)'],\n      dtype='object')"
     },
     "metadata": {}
    }
   ],
   "execution_count": 4
  },
  {
   "cell_type": "code",
   "source": "# Feature Generation : SpendingLabel (Our Target)\n# Will add the label column based on Spending Score: If SS>50=1 else 0\n\ndf['SpendingLabel'] = df['Spending Score (1-100)'].apply(lambda row: 1 if row>50  else 0)",
   "metadata": {
    "tags": [],
    "cell_id": "00004-50edd450-c024-442c-9a16-32e3ae66d551",
    "deepnote_to_be_reexecuted": false,
    "source_hash": "48daa89d",
    "execution_start": 1626705227369,
    "execution_millis": 0,
    "deepnote_cell_type": "code"
   },
   "outputs": [],
   "execution_count": 5
  },
  {
   "cell_type": "code",
   "source": "# Data Enhancement Function\n#Based on Gender\n\n\ndef income_RNG_on_gender(df):\n    #Copying to a dummy dataframe\n    gen_data = df.copy() \n    \n    #Localizing standard deviation based on gender\n    for gender in gen_data['Genre'].unique():\n        gen_std = gen_data[gen_data['Genre']==gender]\n        income_std = gen_std ['Annual Income (k$)'].std()\n\n        #Altering the data based on std\n        for i in range (gen_data[gen_data['Genre']==gender].shape[0]):\n            if np.random.randint(2)==1:\n                gen_data['Annual Income (k$)'].values[i] += income_std/10\n            else:\n                gen_data['Annual Income (k$)'].values[i] -= income_std/10\n\n    return gen_data\n\n",
   "metadata": {
    "tags": [],
    "cell_id": "00004-66f3aa12-ed01-4e96-b0c0-9dec1e3c11e9",
    "deepnote_to_be_reexecuted": false,
    "source_hash": "3feac572",
    "execution_start": 1626705227369,
    "execution_millis": 111,
    "deepnote_cell_type": "code"
   },
   "outputs": [],
   "execution_count": 6
  },
  {
   "cell_type": "code",
   "source": "# Generate the Generated Data\ngenerated_data = income_RNG_on_gender(df)\n\n# Take 30% of the information\nextra_sample = generated_data.sample(math.floor(generated_data.shape[0] * 30 / 100))",
   "metadata": {
    "tags": [],
    "cell_id": "00005-caacb641-012a-423e-b7fd-2ddb1c8655af",
    "deepnote_to_be_reexecuted": false,
    "source_hash": "2f4f3727",
    "execution_start": 1626705227480,
    "execution_millis": 1,
    "deepnote_cell_type": "code"
   },
   "outputs": [],
   "execution_count": 7
  },
  {
   "cell_type": "code",
   "source": "extra_sample",
   "metadata": {
    "tags": [],
    "cell_id": "00006-66d8518a-b272-458b-805f-2c1735dbba43",
    "deepnote_to_be_reexecuted": false,
    "source_hash": "6661b409",
    "execution_start": 1626705227481,
    "execution_millis": 99,
    "deepnote_cell_type": "code"
   },
   "outputs": [
    {
     "output_type": "execute_result",
     "execution_count": 8,
     "data": {
      "application/vnd.deepnote.dataframe.v2+json": {
       "row_count": 60,
       "column_count": 6,
       "columns": [
        {
         "name": "CustomerID",
         "dtype": "int64",
         "stats": {
          "unique_count": 60,
          "nan_count": 0,
          "min": "1",
          "max": "200",
          "histogram": [
           {
            "bin_start": 1,
            "bin_end": 20.9,
            "count": 8
           },
           {
            "bin_start": 20.9,
            "bin_end": 40.8,
            "count": 7
           },
           {
            "bin_start": 40.8,
            "bin_end": 60.699999999999996,
            "count": 3
           },
           {
            "bin_start": 60.699999999999996,
            "bin_end": 80.6,
            "count": 9
           },
           {
            "bin_start": 80.6,
            "bin_end": 100.5,
            "count": 5
           },
           {
            "bin_start": 100.5,
            "bin_end": 120.39999999999999,
            "count": 6
           },
           {
            "bin_start": 120.39999999999999,
            "bin_end": 140.29999999999998,
            "count": 4
           },
           {
            "bin_start": 140.29999999999998,
            "bin_end": 160.2,
            "count": 7
           },
           {
            "bin_start": 160.2,
            "bin_end": 180.1,
            "count": 5
           },
           {
            "bin_start": 180.1,
            "bin_end": 200,
            "count": 6
           }
          ]
         }
        },
        {
         "name": "Genre",
         "dtype": "object",
         "stats": {
          "unique_count": 2,
          "nan_count": 0,
          "categories": [
           {
            "name": "Female",
            "count": 34
           },
           {
            "name": "Male",
            "count": 26
           }
          ]
         }
        },
        {
         "name": "Age",
         "dtype": "int64",
         "stats": {
          "unique_count": 33,
          "nan_count": 0,
          "min": "19",
          "max": "70",
          "histogram": [
           {
            "bin_start": 19,
            "bin_end": 24.1,
            "count": 10
           },
           {
            "bin_start": 24.1,
            "bin_end": 29.2,
            "count": 7
           },
           {
            "bin_start": 29.2,
            "bin_end": 34.3,
            "count": 7
           },
           {
            "bin_start": 34.3,
            "bin_end": 39.4,
            "count": 9
           },
           {
            "bin_start": 39.4,
            "bin_end": 44.5,
            "count": 8
           },
           {
            "bin_start": 44.5,
            "bin_end": 49.599999999999994,
            "count": 7
           },
           {
            "bin_start": 49.599999999999994,
            "bin_end": 54.699999999999996,
            "count": 1
           },
           {
            "bin_start": 54.699999999999996,
            "bin_end": 59.8,
            "count": 3
           },
           {
            "bin_start": 59.8,
            "bin_end": 64.9,
            "count": 4
           },
           {
            "bin_start": 64.9,
            "bin_end": 70,
            "count": 4
           }
          ]
         }
        },
        {
         "name": "Annual Income (k$)",
         "dtype": "int64",
         "stats": {
          "unique_count": 48,
          "nan_count": 0,
          "min": "9",
          "max": "137",
          "histogram": [
           {
            "bin_start": 9,
            "bin_end": 21.8,
            "count": 6
           },
           {
            "bin_start": 21.8,
            "bin_end": 34.6,
            "count": 9
           },
           {
            "bin_start": 34.6,
            "bin_end": 47.400000000000006,
            "count": 6
           },
           {
            "bin_start": 47.400000000000006,
            "bin_end": 60.2,
            "count": 9
           },
           {
            "bin_start": 60.2,
            "bin_end": 73,
            "count": 11
           },
           {
            "bin_start": 73,
            "bin_end": 85.80000000000001,
            "count": 10
           },
           {
            "bin_start": 85.80000000000001,
            "bin_end": 98.60000000000001,
            "count": 4
           },
           {
            "bin_start": 98.60000000000001,
            "bin_end": 111.4,
            "count": 2
           },
           {
            "bin_start": 111.4,
            "bin_end": 124.2,
            "count": 2
           },
           {
            "bin_start": 124.2,
            "bin_end": 137,
            "count": 1
           }
          ]
         }
        },
        {
         "name": "Spending Score (1-100)",
         "dtype": "int64",
         "stats": {
          "unique_count": 47,
          "nan_count": 0,
          "min": "1",
          "max": "95",
          "histogram": [
           {
            "bin_start": 1,
            "bin_end": 10.4,
            "count": 5
           },
           {
            "bin_start": 10.4,
            "bin_end": 19.8,
            "count": 4
           },
           {
            "bin_start": 19.8,
            "bin_end": 29.200000000000003,
            "count": 3
           },
           {
            "bin_start": 29.200000000000003,
            "bin_end": 38.6,
            "count": 3
           },
           {
            "bin_start": 38.6,
            "bin_end": 48,
            "count": 13
           },
           {
            "bin_start": 48,
            "bin_end": 57.400000000000006,
            "count": 10
           },
           {
            "bin_start": 57.400000000000006,
            "bin_end": 66.8,
            "count": 4
           },
           {
            "bin_start": 66.8,
            "bin_end": 76.2,
            "count": 6
           },
           {
            "bin_start": 76.2,
            "bin_end": 85.60000000000001,
            "count": 7
           },
           {
            "bin_start": 85.60000000000001,
            "bin_end": 95,
            "count": 5
           }
          ]
         }
        },
        {
         "name": "SpendingLabel",
         "dtype": "int64",
         "stats": {
          "unique_count": 2,
          "nan_count": 0,
          "min": "0",
          "max": "1",
          "histogram": [
           {
            "bin_start": 0,
            "bin_end": 0.1,
            "count": 32
           },
           {
            "bin_start": 0.1,
            "bin_end": 0.2,
            "count": 0
           },
           {
            "bin_start": 0.2,
            "bin_end": 0.30000000000000004,
            "count": 0
           },
           {
            "bin_start": 0.30000000000000004,
            "bin_end": 0.4,
            "count": 0
           },
           {
            "bin_start": 0.4,
            "bin_end": 0.5,
            "count": 0
           },
           {
            "bin_start": 0.5,
            "bin_end": 0.6000000000000001,
            "count": 0
           },
           {
            "bin_start": 0.6000000000000001,
            "bin_end": 0.7000000000000001,
            "count": 0
           },
           {
            "bin_start": 0.7000000000000001,
            "bin_end": 0.8,
            "count": 0
           },
           {
            "bin_start": 0.8,
            "bin_end": 0.9,
            "count": 0
           },
           {
            "bin_start": 0.9,
            "bin_end": 1,
            "count": 28
           }
          ]
         }
        },
        {
         "name": "_deepnote_index_column",
         "dtype": "int64"
        }
       ],
       "rows_top": [
        {
         "CustomerID": 10,
         "Genre": "Female",
         "Age": 30,
         "Annual Income (k$)": 23,
         "Spending Score (1-100)": 72,
         "SpendingLabel": 1,
         "_deepnote_index_column": 9
        },
        {
         "CustomerID": 166,
         "Genre": "Female",
         "Age": 36,
         "Annual Income (k$)": 85,
         "Spending Score (1-100)": 75,
         "SpendingLabel": 1,
         "_deepnote_index_column": 165
        },
        {
         "CustomerID": 18,
         "Genre": "Male",
         "Age": 20,
         "Annual Income (k$)": 25,
         "Spending Score (1-100)": 66,
         "SpendingLabel": 1,
         "_deepnote_index_column": 17
        },
        {
         "CustomerID": 188,
         "Genre": "Male",
         "Age": 28,
         "Annual Income (k$)": 101,
         "Spending Score (1-100)": 68,
         "SpendingLabel": 1,
         "_deepnote_index_column": 187
        },
        {
         "CustomerID": 122,
         "Genre": "Female",
         "Age": 38,
         "Annual Income (k$)": 67,
         "Spending Score (1-100)": 40,
         "SpendingLabel": 0,
         "_deepnote_index_column": 121
        },
        {
         "CustomerID": 80,
         "Genre": "Female",
         "Age": 49,
         "Annual Income (k$)": 53,
         "Spending Score (1-100)": 42,
         "SpendingLabel": 0,
         "_deepnote_index_column": 79
        },
        {
         "CustomerID": 15,
         "Genre": "Male",
         "Age": 37,
         "Annual Income (k$)": 14,
         "Spending Score (1-100)": 13,
         "SpendingLabel": 0,
         "_deepnote_index_column": 14
        },
        {
         "CustomerID": 190,
         "Genre": "Female",
         "Age": 36,
         "Annual Income (k$)": 103,
         "Spending Score (1-100)": 85,
         "SpendingLabel": 1,
         "_deepnote_index_column": 189
        },
        {
         "CustomerID": 6,
         "Genre": "Female",
         "Age": 22,
         "Annual Income (k$)": 11,
         "Spending Score (1-100)": 76,
         "SpendingLabel": 1,
         "_deepnote_index_column": 5
        },
        {
         "CustomerID": 81,
         "Genre": "Male",
         "Age": 57,
         "Annual Income (k$)": 53,
         "Spending Score (1-100)": 51,
         "SpendingLabel": 1,
         "_deepnote_index_column": 80
        },
        {
         "CustomerID": 128,
         "Genre": "Male",
         "Age": 40,
         "Annual Income (k$)": 71,
         "Spending Score (1-100)": 95,
         "SpendingLabel": 1,
         "_deepnote_index_column": 127
        },
        {
         "CustomerID": 16,
         "Genre": "Male",
         "Age": 22,
         "Annual Income (k$)": 19,
         "Spending Score (1-100)": 79,
         "SpendingLabel": 1,
         "_deepnote_index_column": 15
        },
        {
         "CustomerID": 67,
         "Genre": "Female",
         "Age": 43,
         "Annual Income (k$)": 47,
         "Spending Score (1-100)": 50,
         "SpendingLabel": 0,
         "_deepnote_index_column": 66
        },
        {
         "CustomerID": 200,
         "Genre": "Male",
         "Age": 30,
         "Annual Income (k$)": 137,
         "Spending Score (1-100)": 83,
         "SpendingLabel": 1,
         "_deepnote_index_column": 199
        },
        {
         "CustomerID": 178,
         "Genre": "Male",
         "Age": 27,
         "Annual Income (k$)": 88,
         "Spending Score (1-100)": 69,
         "SpendingLabel": 1,
         "_deepnote_index_column": 177
        },
        {
         "CustomerID": 106,
         "Genre": "Female",
         "Age": 21,
         "Annual Income (k$)": 64,
         "Spending Score (1-100)": 42,
         "SpendingLabel": 0,
         "_deepnote_index_column": 105
        },
        {
         "CustomerID": 31,
         "Genre": "Male",
         "Age": 60,
         "Annual Income (k$)": 24,
         "Spending Score (1-100)": 4,
         "SpendingLabel": 0,
         "_deepnote_index_column": 30
        },
        {
         "CustomerID": 141,
         "Genre": "Female",
         "Age": 57,
         "Annual Income (k$)": 75,
         "Spending Score (1-100)": 5,
         "SpendingLabel": 0,
         "_deepnote_index_column": 140
        },
        {
         "CustomerID": 63,
         "Genre": "Female",
         "Age": 67,
         "Annual Income (k$)": 46,
         "Spending Score (1-100)": 52,
         "SpendingLabel": 1,
         "_deepnote_index_column": 62
        },
        {
         "CustomerID": 163,
         "Genre": "Male",
         "Age": 19,
         "Annual Income (k$)": 81,
         "Spending Score (1-100)": 5,
         "SpendingLabel": 0,
         "_deepnote_index_column": 162
        },
        {
         "CustomerID": 26,
         "Genre": "Male",
         "Age": 29,
         "Annual Income (k$)": 27,
         "Spending Score (1-100)": 82,
         "SpendingLabel": 1,
         "_deepnote_index_column": 25
        },
        {
         "CustomerID": 147,
         "Genre": "Male",
         "Age": 48,
         "Annual Income (k$)": 77,
         "Spending Score (1-100)": 36,
         "SpendingLabel": 0,
         "_deepnote_index_column": 146
        },
        {
         "CustomerID": 1,
         "Genre": "Male",
         "Age": 19,
         "Annual Income (k$)": 9,
         "Spending Score (1-100)": 39,
         "SpendingLabel": 0,
         "_deepnote_index_column": 0
        },
        {
         "CustomerID": 196,
         "Genre": "Female",
         "Age": 35,
         "Annual Income (k$)": 120,
         "Spending Score (1-100)": 79,
         "SpendingLabel": 1,
         "_deepnote_index_column": 195
        },
        {
         "CustomerID": 101,
         "Genre": "Female",
         "Age": 23,
         "Annual Income (k$)": 59,
         "Spending Score (1-100)": 41,
         "SpendingLabel": 0,
         "_deepnote_index_column": 100
        },
        {
         "CustomerID": 119,
         "Genre": "Female",
         "Age": 51,
         "Annual Income (k$)": 67,
         "Spending Score (1-100)": 43,
         "SpendingLabel": 0,
         "_deepnote_index_column": 118
        },
        {
         "CustomerID": 137,
         "Genre": "Female",
         "Age": 44,
         "Annual Income (k$)": 73,
         "Spending Score (1-100)": 7,
         "SpendingLabel": 0,
         "_deepnote_index_column": 136
        },
        {
         "CustomerID": 65,
         "Genre": "Male",
         "Age": 63,
         "Annual Income (k$)": 52,
         "Spending Score (1-100)": 51,
         "SpendingLabel": 1,
         "_deepnote_index_column": 64
        },
        {
         "CustomerID": 182,
         "Genre": "Female",
         "Age": 32,
         "Annual Income (k$)": 97,
         "Spending Score (1-100)": 86,
         "SpendingLabel": 1,
         "_deepnote_index_column": 181
        },
        {
         "CustomerID": 171,
         "Genre": "Male",
         "Age": 40,
         "Annual Income (k$)": 87,
         "Spending Score (1-100)": 13,
         "SpendingLabel": 0,
         "_deepnote_index_column": 170
        },
        {
         "CustomerID": 98,
         "Genre": "Female",
         "Age": 27,
         "Annual Income (k$)": 62,
         "Spending Score (1-100)": 50,
         "SpendingLabel": 0,
         "_deepnote_index_column": 97
        },
        {
         "CustomerID": 99,
         "Genre": "Male",
         "Age": 48,
         "Annual Income (k$)": 63,
         "Spending Score (1-100)": 42,
         "SpendingLabel": 0,
         "_deepnote_index_column": 98
        },
        {
         "CustomerID": 29,
         "Genre": "Female",
         "Age": 40,
         "Annual Income (k$)": 23,
         "Spending Score (1-100)": 31,
         "SpendingLabel": 0,
         "_deepnote_index_column": 28
        },
        {
         "CustomerID": 61,
         "Genre": "Male",
         "Age": 70,
         "Annual Income (k$)": 45,
         "Spending Score (1-100)": 56,
         "SpendingLabel": 1,
         "_deepnote_index_column": 60
        },
        {
         "CustomerID": 11,
         "Genre": "Male",
         "Age": 67,
         "Annual Income (k$)": 18,
         "Spending Score (1-100)": 14,
         "SpendingLabel": 0,
         "_deepnote_index_column": 10
        },
        {
         "CustomerID": 52,
         "Genre": "Male",
         "Age": 33,
         "Annual Income (k$)": 41,
         "Spending Score (1-100)": 60,
         "SpendingLabel": 1,
         "_deepnote_index_column": 51
        },
        {
         "CustomerID": 156,
         "Genre": "Female",
         "Age": 27,
         "Annual Income (k$)": 78,
         "Spending Score (1-100)": 89,
         "SpendingLabel": 1,
         "_deepnote_index_column": 155
        },
        {
         "CustomerID": 87,
         "Genre": "Female",
         "Age": 55,
         "Annual Income (k$)": 61,
         "Spending Score (1-100)": 58,
         "SpendingLabel": 1,
         "_deepnote_index_column": 86
        },
        {
         "CustomerID": 73,
         "Genre": "Female",
         "Age": 60,
         "Annual Income (k$)": 49,
         "Spending Score (1-100)": 49,
         "SpendingLabel": 0,
         "_deepnote_index_column": 72
        },
        {
         "CustomerID": 94,
         "Genre": "Female",
         "Age": 40,
         "Annual Income (k$)": 57,
         "Spending Score (1-100)": 40,
         "SpendingLabel": 0,
         "_deepnote_index_column": 93
        },
        {
         "CustomerID": 125,
         "Genre": "Female",
         "Age": 23,
         "Annual Income (k$)": 70,
         "Spending Score (1-100)": 29,
         "SpendingLabel": 0,
         "_deepnote_index_column": 124
        },
        {
         "CustomerID": 5,
         "Genre": "Female",
         "Age": 31,
         "Annual Income (k$)": 21,
         "Spending Score (1-100)": 40,
         "SpendingLabel": 0,
         "_deepnote_index_column": 4
        },
        {
         "CustomerID": 38,
         "Genre": "Female",
         "Age": 30,
         "Annual Income (k$)": 33,
         "Spending Score (1-100)": 73,
         "SpendingLabel": 1,
         "_deepnote_index_column": 37
        },
        {
         "CustomerID": 152,
         "Genre": "Male",
         "Age": 39,
         "Annual Income (k$)": 78,
         "Spending Score (1-100)": 88,
         "SpendingLabel": 1,
         "_deepnote_index_column": 151
        },
        {
         "CustomerID": 158,
         "Genre": "Female",
         "Age": 30,
         "Annual Income (k$)": 78,
         "Spending Score (1-100)": 78,
         "SpendingLabel": 1,
         "_deepnote_index_column": 157
        },
        {
         "CustomerID": 45,
         "Genre": "Female",
         "Age": 49,
         "Annual Income (k$)": 38,
         "Spending Score (1-100)": 28,
         "SpendingLabel": 0,
         "_deepnote_index_column": 44
        },
        {
         "CustomerID": 21,
         "Genre": "Male",
         "Age": 35,
         "Annual Income (k$)": 28,
         "Spending Score (1-100)": 35,
         "SpendingLabel": 0,
         "_deepnote_index_column": 20
        },
        {
         "CustomerID": 30,
         "Genre": "Female",
         "Age": 23,
         "Annual Income (k$)": 28,
         "Spending Score (1-100)": 87,
         "SpendingLabel": 1,
         "_deepnote_index_column": 29
        },
        {
         "CustomerID": 36,
         "Genre": "Female",
         "Age": 21,
         "Annual Income (k$)": 27,
         "Spending Score (1-100)": 81,
         "SpendingLabel": 1,
         "_deepnote_index_column": 35
        },
        {
         "CustomerID": 113,
         "Genre": "Female",
         "Age": 38,
         "Annual Income (k$)": 64,
         "Spending Score (1-100)": 42,
         "SpendingLabel": 0,
         "_deepnote_index_column": 112
        },
        {
         "CustomerID": 118,
         "Genre": "Female",
         "Age": 49,
         "Annual Income (k$)": 65,
         "Spending Score (1-100)": 59,
         "SpendingLabel": 1,
         "_deepnote_index_column": 117
        },
        {
         "CustomerID": 157,
         "Genre": "Male",
         "Age": 37,
         "Annual Income (k$)": 78,
         "Spending Score (1-100)": 1,
         "SpendingLabel": 0,
         "_deepnote_index_column": 156
        },
        {
         "CustomerID": 195,
         "Genre": "Female",
         "Age": 47,
         "Annual Income (k$)": 120,
         "Spending Score (1-100)": 16,
         "SpendingLabel": 0,
         "_deepnote_index_column": 194
        },
        {
         "CustomerID": 58,
         "Genre": "Male",
         "Age": 69,
         "Annual Income (k$)": 48,
         "Spending Score (1-100)": 46,
         "SpendingLabel": 0,
         "_deepnote_index_column": 57
        },
        {
         "CustomerID": 143,
         "Genre": "Female",
         "Age": 28,
         "Annual Income (k$)": 76,
         "Spending Score (1-100)": 40,
         "SpendingLabel": 0,
         "_deepnote_index_column": 142
        },
        {
         "CustomerID": 104,
         "Genre": "Male",
         "Age": 26,
         "Annual Income (k$)": 64,
         "Spending Score (1-100)": 55,
         "SpendingLabel": 1,
         "_deepnote_index_column": 103
        },
        {
         "CustomerID": 78,
         "Genre": "Male",
         "Age": 40,
         "Annual Income (k$)": 58,
         "Spending Score (1-100)": 48,
         "SpendingLabel": 0,
         "_deepnote_index_column": 77
        },
        {
         "CustomerID": 72,
         "Genre": "Female",
         "Age": 47,
         "Annual Income (k$)": 43,
         "Spending Score (1-100)": 42,
         "SpendingLabel": 0,
         "_deepnote_index_column": 71
        },
        {
         "CustomerID": 74,
         "Genre": "Female",
         "Age": 60,
         "Annual Income (k$)": 49,
         "Spending Score (1-100)": 56,
         "SpendingLabel": 1,
         "_deepnote_index_column": 73
        },
        {
         "CustomerID": 167,
         "Genre": "Male",
         "Age": 42,
         "Annual Income (k$)": 86,
         "Spending Score (1-100)": 20,
         "SpendingLabel": 0,
         "_deepnote_index_column": 166
        }
       ],
       "rows_bottom": null
      },
      "text/plain": "     CustomerID   Genre  Age  Annual Income (k$)  Spending Score (1-100)  \\\n9            10  Female   30                  23                      72   \n165         166  Female   36                  85                      75   \n17           18    Male   20                  25                      66   \n187         188    Male   28                 101                      68   \n121         122  Female   38                  67                      40   \n79           80  Female   49                  53                      42   \n14           15    Male   37                  14                      13   \n189         190  Female   36                 103                      85   \n5             6  Female   22                  11                      76   \n80           81    Male   57                  53                      51   \n127         128    Male   40                  71                      95   \n15           16    Male   22                  19                      79   \n66           67  Female   43                  47                      50   \n199         200    Male   30                 137                      83   \n177         178    Male   27                  88                      69   \n105         106  Female   21                  64                      42   \n30           31    Male   60                  24                       4   \n140         141  Female   57                  75                       5   \n62           63  Female   67                  46                      52   \n162         163    Male   19                  81                       5   \n25           26    Male   29                  27                      82   \n146         147    Male   48                  77                      36   \n0             1    Male   19                   9                      39   \n195         196  Female   35                 120                      79   \n100         101  Female   23                  59                      41   \n118         119  Female   51                  67                      43   \n136         137  Female   44                  73                       7   \n64           65    Male   63                  52                      51   \n181         182  Female   32                  97                      86   \n170         171    Male   40                  87                      13   \n97           98  Female   27                  62                      50   \n98           99    Male   48                  63                      42   \n28           29  Female   40                  23                      31   \n60           61    Male   70                  45                      56   \n10           11    Male   67                  18                      14   \n51           52    Male   33                  41                      60   \n155         156  Female   27                  78                      89   \n86           87  Female   55                  61                      58   \n72           73  Female   60                  49                      49   \n93           94  Female   40                  57                      40   \n124         125  Female   23                  70                      29   \n4             5  Female   31                  21                      40   \n37           38  Female   30                  33                      73   \n151         152    Male   39                  78                      88   \n157         158  Female   30                  78                      78   \n44           45  Female   49                  38                      28   \n20           21    Male   35                  28                      35   \n29           30  Female   23                  28                      87   \n35           36  Female   21                  27                      81   \n112         113  Female   38                  64                      42   \n117         118  Female   49                  65                      59   \n156         157    Male   37                  78                       1   \n194         195  Female   47                 120                      16   \n57           58    Male   69                  48                      46   \n142         143  Female   28                  76                      40   \n103         104    Male   26                  64                      55   \n77           78    Male   40                  58                      48   \n71           72  Female   47                  43                      42   \n73           74  Female   60                  49                      56   \n166         167    Male   42                  86                      20   \n\n     SpendingLabel  \n9                1  \n165              1  \n17               1  \n187              1  \n121              0  \n79               0  \n14               0  \n189              1  \n5                1  \n80               1  \n127              1  \n15               1  \n66               0  \n199              1  \n177              1  \n105              0  \n30               0  \n140              0  \n62               1  \n162              0  \n25               1  \n146              0  \n0                0  \n195              1  \n100              0  \n118              0  \n136              0  \n64               1  \n181              1  \n170              0  \n97               0  \n98               0  \n28               0  \n60               1  \n10               0  \n51               1  \n155              1  \n86               1  \n72               0  \n93               0  \n124              0  \n4                0  \n37               1  \n151              1  \n157              1  \n44               0  \n20               0  \n29               1  \n35               1  \n112              0  \n117              1  \n156              0  \n194              0  \n57               0  \n142              0  \n103              1  \n77               0  \n71               0  \n73               1  \n166              0  ",
      "text/html": "<div>\n<style scoped>\n    .dataframe tbody tr th:only-of-type {\n        vertical-align: middle;\n    }\n\n    .dataframe tbody tr th {\n        vertical-align: top;\n    }\n\n    .dataframe thead th {\n        text-align: right;\n    }\n</style>\n<table border=\"1\" class=\"dataframe\">\n  <thead>\n    <tr style=\"text-align: right;\">\n      <th></th>\n      <th>CustomerID</th>\n      <th>Genre</th>\n      <th>Age</th>\n      <th>Annual Income (k$)</th>\n      <th>Spending Score (1-100)</th>\n      <th>SpendingLabel</th>\n    </tr>\n  </thead>\n  <tbody>\n    <tr>\n      <th>9</th>\n      <td>10</td>\n      <td>Female</td>\n      <td>30</td>\n      <td>23</td>\n      <td>72</td>\n      <td>1</td>\n    </tr>\n    <tr>\n      <th>165</th>\n      <td>166</td>\n      <td>Female</td>\n      <td>36</td>\n      <td>85</td>\n      <td>75</td>\n      <td>1</td>\n    </tr>\n    <tr>\n      <th>17</th>\n      <td>18</td>\n      <td>Male</td>\n      <td>20</td>\n      <td>25</td>\n      <td>66</td>\n      <td>1</td>\n    </tr>\n    <tr>\n      <th>187</th>\n      <td>188</td>\n      <td>Male</td>\n      <td>28</td>\n      <td>101</td>\n      <td>68</td>\n      <td>1</td>\n    </tr>\n    <tr>\n      <th>121</th>\n      <td>122</td>\n      <td>Female</td>\n      <td>38</td>\n      <td>67</td>\n      <td>40</td>\n      <td>0</td>\n    </tr>\n    <tr>\n      <th>79</th>\n      <td>80</td>\n      <td>Female</td>\n      <td>49</td>\n      <td>53</td>\n      <td>42</td>\n      <td>0</td>\n    </tr>\n    <tr>\n      <th>14</th>\n      <td>15</td>\n      <td>Male</td>\n      <td>37</td>\n      <td>14</td>\n      <td>13</td>\n      <td>0</td>\n    </tr>\n    <tr>\n      <th>189</th>\n      <td>190</td>\n      <td>Female</td>\n      <td>36</td>\n      <td>103</td>\n      <td>85</td>\n      <td>1</td>\n    </tr>\n    <tr>\n      <th>5</th>\n      <td>6</td>\n      <td>Female</td>\n      <td>22</td>\n      <td>11</td>\n      <td>76</td>\n      <td>1</td>\n    </tr>\n    <tr>\n      <th>80</th>\n      <td>81</td>\n      <td>Male</td>\n      <td>57</td>\n      <td>53</td>\n      <td>51</td>\n      <td>1</td>\n    </tr>\n    <tr>\n      <th>127</th>\n      <td>128</td>\n      <td>Male</td>\n      <td>40</td>\n      <td>71</td>\n      <td>95</td>\n      <td>1</td>\n    </tr>\n    <tr>\n      <th>15</th>\n      <td>16</td>\n      <td>Male</td>\n      <td>22</td>\n      <td>19</td>\n      <td>79</td>\n      <td>1</td>\n    </tr>\n    <tr>\n      <th>66</th>\n      <td>67</td>\n      <td>Female</td>\n      <td>43</td>\n      <td>47</td>\n      <td>50</td>\n      <td>0</td>\n    </tr>\n    <tr>\n      <th>199</th>\n      <td>200</td>\n      <td>Male</td>\n      <td>30</td>\n      <td>137</td>\n      <td>83</td>\n      <td>1</td>\n    </tr>\n    <tr>\n      <th>177</th>\n      <td>178</td>\n      <td>Male</td>\n      <td>27</td>\n      <td>88</td>\n      <td>69</td>\n      <td>1</td>\n    </tr>\n    <tr>\n      <th>105</th>\n      <td>106</td>\n      <td>Female</td>\n      <td>21</td>\n      <td>64</td>\n      <td>42</td>\n      <td>0</td>\n    </tr>\n    <tr>\n      <th>30</th>\n      <td>31</td>\n      <td>Male</td>\n      <td>60</td>\n      <td>24</td>\n      <td>4</td>\n      <td>0</td>\n    </tr>\n    <tr>\n      <th>140</th>\n      <td>141</td>\n      <td>Female</td>\n      <td>57</td>\n      <td>75</td>\n      <td>5</td>\n      <td>0</td>\n    </tr>\n    <tr>\n      <th>62</th>\n      <td>63</td>\n      <td>Female</td>\n      <td>67</td>\n      <td>46</td>\n      <td>52</td>\n      <td>1</td>\n    </tr>\n    <tr>\n      <th>162</th>\n      <td>163</td>\n      <td>Male</td>\n      <td>19</td>\n      <td>81</td>\n      <td>5</td>\n      <td>0</td>\n    </tr>\n    <tr>\n      <th>25</th>\n      <td>26</td>\n      <td>Male</td>\n      <td>29</td>\n      <td>27</td>\n      <td>82</td>\n      <td>1</td>\n    </tr>\n    <tr>\n      <th>146</th>\n      <td>147</td>\n      <td>Male</td>\n      <td>48</td>\n      <td>77</td>\n      <td>36</td>\n      <td>0</td>\n    </tr>\n    <tr>\n      <th>0</th>\n      <td>1</td>\n      <td>Male</td>\n      <td>19</td>\n      <td>9</td>\n      <td>39</td>\n      <td>0</td>\n    </tr>\n    <tr>\n      <th>195</th>\n      <td>196</td>\n      <td>Female</td>\n      <td>35</td>\n      <td>120</td>\n      <td>79</td>\n      <td>1</td>\n    </tr>\n    <tr>\n      <th>100</th>\n      <td>101</td>\n      <td>Female</td>\n      <td>23</td>\n      <td>59</td>\n      <td>41</td>\n      <td>0</td>\n    </tr>\n    <tr>\n      <th>118</th>\n      <td>119</td>\n      <td>Female</td>\n      <td>51</td>\n      <td>67</td>\n      <td>43</td>\n      <td>0</td>\n    </tr>\n    <tr>\n      <th>136</th>\n      <td>137</td>\n      <td>Female</td>\n      <td>44</td>\n      <td>73</td>\n      <td>7</td>\n      <td>0</td>\n    </tr>\n    <tr>\n      <th>64</th>\n      <td>65</td>\n      <td>Male</td>\n      <td>63</td>\n      <td>52</td>\n      <td>51</td>\n      <td>1</td>\n    </tr>\n    <tr>\n      <th>181</th>\n      <td>182</td>\n      <td>Female</td>\n      <td>32</td>\n      <td>97</td>\n      <td>86</td>\n      <td>1</td>\n    </tr>\n    <tr>\n      <th>170</th>\n      <td>171</td>\n      <td>Male</td>\n      <td>40</td>\n      <td>87</td>\n      <td>13</td>\n      <td>0</td>\n    </tr>\n    <tr>\n      <th>97</th>\n      <td>98</td>\n      <td>Female</td>\n      <td>27</td>\n      <td>62</td>\n      <td>50</td>\n      <td>0</td>\n    </tr>\n    <tr>\n      <th>98</th>\n      <td>99</td>\n      <td>Male</td>\n      <td>48</td>\n      <td>63</td>\n      <td>42</td>\n      <td>0</td>\n    </tr>\n    <tr>\n      <th>28</th>\n      <td>29</td>\n      <td>Female</td>\n      <td>40</td>\n      <td>23</td>\n      <td>31</td>\n      <td>0</td>\n    </tr>\n    <tr>\n      <th>60</th>\n      <td>61</td>\n      <td>Male</td>\n      <td>70</td>\n      <td>45</td>\n      <td>56</td>\n      <td>1</td>\n    </tr>\n    <tr>\n      <th>10</th>\n      <td>11</td>\n      <td>Male</td>\n      <td>67</td>\n      <td>18</td>\n      <td>14</td>\n      <td>0</td>\n    </tr>\n    <tr>\n      <th>51</th>\n      <td>52</td>\n      <td>Male</td>\n      <td>33</td>\n      <td>41</td>\n      <td>60</td>\n      <td>1</td>\n    </tr>\n    <tr>\n      <th>155</th>\n      <td>156</td>\n      <td>Female</td>\n      <td>27</td>\n      <td>78</td>\n      <td>89</td>\n      <td>1</td>\n    </tr>\n    <tr>\n      <th>86</th>\n      <td>87</td>\n      <td>Female</td>\n      <td>55</td>\n      <td>61</td>\n      <td>58</td>\n      <td>1</td>\n    </tr>\n    <tr>\n      <th>72</th>\n      <td>73</td>\n      <td>Female</td>\n      <td>60</td>\n      <td>49</td>\n      <td>49</td>\n      <td>0</td>\n    </tr>\n    <tr>\n      <th>93</th>\n      <td>94</td>\n      <td>Female</td>\n      <td>40</td>\n      <td>57</td>\n      <td>40</td>\n      <td>0</td>\n    </tr>\n    <tr>\n      <th>124</th>\n      <td>125</td>\n      <td>Female</td>\n      <td>23</td>\n      <td>70</td>\n      <td>29</td>\n      <td>0</td>\n    </tr>\n    <tr>\n      <th>4</th>\n      <td>5</td>\n      <td>Female</td>\n      <td>31</td>\n      <td>21</td>\n      <td>40</td>\n      <td>0</td>\n    </tr>\n    <tr>\n      <th>37</th>\n      <td>38</td>\n      <td>Female</td>\n      <td>30</td>\n      <td>33</td>\n      <td>73</td>\n      <td>1</td>\n    </tr>\n    <tr>\n      <th>151</th>\n      <td>152</td>\n      <td>Male</td>\n      <td>39</td>\n      <td>78</td>\n      <td>88</td>\n      <td>1</td>\n    </tr>\n    <tr>\n      <th>157</th>\n      <td>158</td>\n      <td>Female</td>\n      <td>30</td>\n      <td>78</td>\n      <td>78</td>\n      <td>1</td>\n    </tr>\n    <tr>\n      <th>44</th>\n      <td>45</td>\n      <td>Female</td>\n      <td>49</td>\n      <td>38</td>\n      <td>28</td>\n      <td>0</td>\n    </tr>\n    <tr>\n      <th>20</th>\n      <td>21</td>\n      <td>Male</td>\n      <td>35</td>\n      <td>28</td>\n      <td>35</td>\n      <td>0</td>\n    </tr>\n    <tr>\n      <th>29</th>\n      <td>30</td>\n      <td>Female</td>\n      <td>23</td>\n      <td>28</td>\n      <td>87</td>\n      <td>1</td>\n    </tr>\n    <tr>\n      <th>35</th>\n      <td>36</td>\n      <td>Female</td>\n      <td>21</td>\n      <td>27</td>\n      <td>81</td>\n      <td>1</td>\n    </tr>\n    <tr>\n      <th>112</th>\n      <td>113</td>\n      <td>Female</td>\n      <td>38</td>\n      <td>64</td>\n      <td>42</td>\n      <td>0</td>\n    </tr>\n    <tr>\n      <th>117</th>\n      <td>118</td>\n      <td>Female</td>\n      <td>49</td>\n      <td>65</td>\n      <td>59</td>\n      <td>1</td>\n    </tr>\n    <tr>\n      <th>156</th>\n      <td>157</td>\n      <td>Male</td>\n      <td>37</td>\n      <td>78</td>\n      <td>1</td>\n      <td>0</td>\n    </tr>\n    <tr>\n      <th>194</th>\n      <td>195</td>\n      <td>Female</td>\n      <td>47</td>\n      <td>120</td>\n      <td>16</td>\n      <td>0</td>\n    </tr>\n    <tr>\n      <th>57</th>\n      <td>58</td>\n      <td>Male</td>\n      <td>69</td>\n      <td>48</td>\n      <td>46</td>\n      <td>0</td>\n    </tr>\n    <tr>\n      <th>142</th>\n      <td>143</td>\n      <td>Female</td>\n      <td>28</td>\n      <td>76</td>\n      <td>40</td>\n      <td>0</td>\n    </tr>\n    <tr>\n      <th>103</th>\n      <td>104</td>\n      <td>Male</td>\n      <td>26</td>\n      <td>64</td>\n      <td>55</td>\n      <td>1</td>\n    </tr>\n    <tr>\n      <th>77</th>\n      <td>78</td>\n      <td>Male</td>\n      <td>40</td>\n      <td>58</td>\n      <td>48</td>\n      <td>0</td>\n    </tr>\n    <tr>\n      <th>71</th>\n      <td>72</td>\n      <td>Female</td>\n      <td>47</td>\n      <td>43</td>\n      <td>42</td>\n      <td>0</td>\n    </tr>\n    <tr>\n      <th>73</th>\n      <td>74</td>\n      <td>Female</td>\n      <td>60</td>\n      <td>49</td>\n      <td>56</td>\n      <td>1</td>\n    </tr>\n    <tr>\n      <th>166</th>\n      <td>167</td>\n      <td>Male</td>\n      <td>42</td>\n      <td>86</td>\n      <td>20</td>\n      <td>0</td>\n    </tr>\n  </tbody>\n</table>\n</div>"
     },
     "metadata": {}
    }
   ],
   "execution_count": 8
  },
  {
   "cell_type": "code",
   "source": "df['Spending Score (1-100)']",
   "metadata": {
    "tags": [],
    "cell_id": "00006-59c86e1a-011d-4078-b51e-e39edced8b33",
    "deepnote_to_be_reexecuted": false,
    "source_hash": "636db102",
    "execution_start": 1626705227578,
    "execution_millis": 19,
    "deepnote_cell_type": "code"
   },
   "outputs": [
    {
     "output_type": "execute_result",
     "execution_count": 9,
     "data": {
      "text/plain": "0      39\n1      81\n2       6\n3      77\n4      40\n       ..\n195    79\n196    28\n197    74\n198    18\n199    83\nName: Spending Score (1-100), Length: 200, dtype: int64"
     },
     "metadata": {}
    }
   ],
   "execution_count": 9
  },
  {
   "cell_type": "code",
   "source": "",
   "metadata": {
    "tags": [],
    "cell_id": "00004-b9079915-8b78-4e87-8446-17f9acb6a21a",
    "deepnote_to_be_reexecuted": false,
    "source_hash": "b623e53d",
    "execution_start": 1626705227591,
    "execution_millis": 2,
    "deepnote_cell_type": "code"
   },
   "outputs": [],
   "execution_count": 9
  },
  {
   "cell_type": "code",
   "source": "cat_vars = ['Genre']\n\nnum_vars = ['Age', 'Annual Income (k$)']",
   "metadata": {
    "tags": [],
    "cell_id": "00003-bae91c56-abe0-455d-b4f7-0a44b940c3c7",
    "deepnote_to_be_reexecuted": false,
    "source_hash": "e2a82d02",
    "execution_start": 1626705227676,
    "execution_millis": 0,
    "deepnote_cell_type": "code"
   },
   "outputs": [],
   "execution_count": 10
  },
  {
   "cell_type": "code",
   "source": "df.head()",
   "metadata": {
    "tags": [],
    "cell_id": "00011-e49bdd3c-5ef0-49f4-b6bb-c15380ef65a8",
    "deepnote_to_be_reexecuted": false,
    "source_hash": "c085b6ba",
    "execution_start": 1626708961567,
    "execution_millis": 66,
    "deepnote_cell_type": "code"
   },
   "outputs": [
    {
     "output_type": "execute_result",
     "execution_count": 24,
     "data": {
      "application/vnd.deepnote.dataframe.v2+json": {
       "row_count": 5,
       "column_count": 6,
       "columns": [
        {
         "name": "CustomerID",
         "dtype": "int64",
         "stats": {
          "unique_count": 5,
          "nan_count": 0,
          "min": "1",
          "max": "5",
          "histogram": [
           {
            "bin_start": 1,
            "bin_end": 1.4,
            "count": 1
           },
           {
            "bin_start": 1.4,
            "bin_end": 1.8,
            "count": 0
           },
           {
            "bin_start": 1.8,
            "bin_end": 2.2,
            "count": 1
           },
           {
            "bin_start": 2.2,
            "bin_end": 2.6,
            "count": 0
           },
           {
            "bin_start": 2.6,
            "bin_end": 3,
            "count": 0
           },
           {
            "bin_start": 3,
            "bin_end": 3.4000000000000004,
            "count": 1
           },
           {
            "bin_start": 3.4000000000000004,
            "bin_end": 3.8000000000000003,
            "count": 0
           },
           {
            "bin_start": 3.8000000000000003,
            "bin_end": 4.2,
            "count": 1
           },
           {
            "bin_start": 4.2,
            "bin_end": 4.6,
            "count": 0
           },
           {
            "bin_start": 4.6,
            "bin_end": 5,
            "count": 1
           }
          ]
         }
        },
        {
         "name": "Genre",
         "dtype": "object",
         "stats": {
          "unique_count": 2,
          "nan_count": 0,
          "categories": [
           {
            "name": "Female",
            "count": 3
           },
           {
            "name": "Male",
            "count": 2
           }
          ]
         }
        },
        {
         "name": "Age",
         "dtype": "int64",
         "stats": {
          "unique_count": 5,
          "nan_count": 0,
          "min": "19",
          "max": "31",
          "histogram": [
           {
            "bin_start": 19,
            "bin_end": 20.2,
            "count": 2
           },
           {
            "bin_start": 20.2,
            "bin_end": 21.4,
            "count": 1
           },
           {
            "bin_start": 21.4,
            "bin_end": 22.6,
            "count": 0
           },
           {
            "bin_start": 22.6,
            "bin_end": 23.8,
            "count": 1
           },
           {
            "bin_start": 23.8,
            "bin_end": 25,
            "count": 0
           },
           {
            "bin_start": 25,
            "bin_end": 26.2,
            "count": 0
           },
           {
            "bin_start": 26.2,
            "bin_end": 27.4,
            "count": 0
           },
           {
            "bin_start": 27.4,
            "bin_end": 28.6,
            "count": 0
           },
           {
            "bin_start": 28.6,
            "bin_end": 29.799999999999997,
            "count": 0
           },
           {
            "bin_start": 29.799999999999997,
            "bin_end": 31,
            "count": 1
           }
          ]
         }
        },
        {
         "name": "Annual Income (k$)",
         "dtype": "int64",
         "stats": {
          "unique_count": 3,
          "nan_count": 0,
          "min": "15",
          "max": "17",
          "histogram": [
           {
            "bin_start": 15,
            "bin_end": 15.2,
            "count": 2
           },
           {
            "bin_start": 15.2,
            "bin_end": 15.4,
            "count": 0
           },
           {
            "bin_start": 15.4,
            "bin_end": 15.6,
            "count": 0
           },
           {
            "bin_start": 15.6,
            "bin_end": 15.8,
            "count": 0
           },
           {
            "bin_start": 15.8,
            "bin_end": 16,
            "count": 0
           },
           {
            "bin_start": 16,
            "bin_end": 16.2,
            "count": 2
           },
           {
            "bin_start": 16.2,
            "bin_end": 16.4,
            "count": 0
           },
           {
            "bin_start": 16.4,
            "bin_end": 16.6,
            "count": 0
           },
           {
            "bin_start": 16.6,
            "bin_end": 16.8,
            "count": 0
           },
           {
            "bin_start": 16.8,
            "bin_end": 17,
            "count": 1
           }
          ]
         }
        },
        {
         "name": "Spending Score (1-100)",
         "dtype": "int64",
         "stats": {
          "unique_count": 5,
          "nan_count": 0,
          "min": "6",
          "max": "81",
          "histogram": [
           {
            "bin_start": 6,
            "bin_end": 13.5,
            "count": 1
           },
           {
            "bin_start": 13.5,
            "bin_end": 21,
            "count": 0
           },
           {
            "bin_start": 21,
            "bin_end": 28.5,
            "count": 0
           },
           {
            "bin_start": 28.5,
            "bin_end": 36,
            "count": 0
           },
           {
            "bin_start": 36,
            "bin_end": 43.5,
            "count": 2
           },
           {
            "bin_start": 43.5,
            "bin_end": 51,
            "count": 0
           },
           {
            "bin_start": 51,
            "bin_end": 58.5,
            "count": 0
           },
           {
            "bin_start": 58.5,
            "bin_end": 66,
            "count": 0
           },
           {
            "bin_start": 66,
            "bin_end": 73.5,
            "count": 0
           },
           {
            "bin_start": 73.5,
            "bin_end": 81,
            "count": 2
           }
          ]
         }
        },
        {
         "name": "SpendingLabel",
         "dtype": "int64",
         "stats": {
          "unique_count": 2,
          "nan_count": 0,
          "min": "0",
          "max": "1",
          "histogram": [
           {
            "bin_start": 0,
            "bin_end": 0.1,
            "count": 3
           },
           {
            "bin_start": 0.1,
            "bin_end": 0.2,
            "count": 0
           },
           {
            "bin_start": 0.2,
            "bin_end": 0.30000000000000004,
            "count": 0
           },
           {
            "bin_start": 0.30000000000000004,
            "bin_end": 0.4,
            "count": 0
           },
           {
            "bin_start": 0.4,
            "bin_end": 0.5,
            "count": 0
           },
           {
            "bin_start": 0.5,
            "bin_end": 0.6000000000000001,
            "count": 0
           },
           {
            "bin_start": 0.6000000000000001,
            "bin_end": 0.7000000000000001,
            "count": 0
           },
           {
            "bin_start": 0.7000000000000001,
            "bin_end": 0.8,
            "count": 0
           },
           {
            "bin_start": 0.8,
            "bin_end": 0.9,
            "count": 0
           },
           {
            "bin_start": 0.9,
            "bin_end": 1,
            "count": 2
           }
          ]
         }
        },
        {
         "name": "_deepnote_index_column",
         "dtype": "int64"
        }
       ],
       "rows_top": [
        {
         "CustomerID": 1,
         "Genre": "Male",
         "Age": 19,
         "Annual Income (k$)": 15,
         "Spending Score (1-100)": 39,
         "SpendingLabel": 0,
         "_deepnote_index_column": 0
        },
        {
         "CustomerID": 2,
         "Genre": "Male",
         "Age": 21,
         "Annual Income (k$)": 15,
         "Spending Score (1-100)": 81,
         "SpendingLabel": 1,
         "_deepnote_index_column": 1
        },
        {
         "CustomerID": 3,
         "Genre": "Female",
         "Age": 20,
         "Annual Income (k$)": 16,
         "Spending Score (1-100)": 6,
         "SpendingLabel": 0,
         "_deepnote_index_column": 2
        },
        {
         "CustomerID": 4,
         "Genre": "Female",
         "Age": 23,
         "Annual Income (k$)": 16,
         "Spending Score (1-100)": 77,
         "SpendingLabel": 1,
         "_deepnote_index_column": 3
        },
        {
         "CustomerID": 5,
         "Genre": "Female",
         "Age": 31,
         "Annual Income (k$)": 17,
         "Spending Score (1-100)": 40,
         "SpendingLabel": 0,
         "_deepnote_index_column": 4
        }
       ],
       "rows_bottom": null
      },
      "text/plain": "   CustomerID   Genre  Age  Annual Income (k$)  Spending Score (1-100)  \\\n0           1    Male   19                  15                      39   \n1           2    Male   21                  15                      81   \n2           3  Female   20                  16                       6   \n3           4  Female   23                  16                      77   \n4           5  Female   31                  17                      40   \n\n   SpendingLabel  \n0              0  \n1              1  \n2              0  \n3              1  \n4              0  ",
      "text/html": "<div>\n<style scoped>\n    .dataframe tbody tr th:only-of-type {\n        vertical-align: middle;\n    }\n\n    .dataframe tbody tr th {\n        vertical-align: top;\n    }\n\n    .dataframe thead th {\n        text-align: right;\n    }\n</style>\n<table border=\"1\" class=\"dataframe\">\n  <thead>\n    <tr style=\"text-align: right;\">\n      <th></th>\n      <th>CustomerID</th>\n      <th>Genre</th>\n      <th>Age</th>\n      <th>Annual Income (k$)</th>\n      <th>Spending Score (1-100)</th>\n      <th>SpendingLabel</th>\n    </tr>\n  </thead>\n  <tbody>\n    <tr>\n      <th>0</th>\n      <td>1</td>\n      <td>Male</td>\n      <td>19</td>\n      <td>15</td>\n      <td>39</td>\n      <td>0</td>\n    </tr>\n    <tr>\n      <th>1</th>\n      <td>2</td>\n      <td>Male</td>\n      <td>21</td>\n      <td>15</td>\n      <td>81</td>\n      <td>1</td>\n    </tr>\n    <tr>\n      <th>2</th>\n      <td>3</td>\n      <td>Female</td>\n      <td>20</td>\n      <td>16</td>\n      <td>6</td>\n      <td>0</td>\n    </tr>\n    <tr>\n      <th>3</th>\n      <td>4</td>\n      <td>Female</td>\n      <td>23</td>\n      <td>16</td>\n      <td>77</td>\n      <td>1</td>\n    </tr>\n    <tr>\n      <th>4</th>\n      <td>5</td>\n      <td>Female</td>\n      <td>31</td>\n      <td>17</td>\n      <td>40</td>\n      <td>0</td>\n    </tr>\n  </tbody>\n</table>\n</div>"
     },
     "metadata": {}
    }
   ],
   "execution_count": 24
  },
  {
   "cell_type": "code",
   "source": "num_preproc1 = pipeline.Pipeline(steps=[('imputer', impute.SimpleImputer(strategy='mean')),\n                                        ('scaler', preprocessing.StandardScaler()),\n                                        ('normalizer', preprocessing.QuantileTransformer(n_quantiles=100))])\n\ncat_preproc1 = pipeline.Pipeline(steps=[('imputer', impute.SimpleImputer(strategy='constant', fill_value=-1)),\n                                        ('encoder', preprocessing.OrdinalEncoder(handle_unknown='use_encoded_value', unknown_value = -1))])",
   "metadata": {
    "tags": [],
    "cell_id": "00005-5f74dda8-b2f9-4414-be9e-4694487d894c",
    "deepnote_to_be_reexecuted": false,
    "source_hash": "3c9d0779",
    "execution_start": 1626705227677,
    "execution_millis": 0,
    "deepnote_cell_type": "code"
   },
   "outputs": [],
   "execution_count": 11
  },
  {
   "cell_type": "code",
   "source": "tree_prepro = compose.ColumnTransformer(transformers=[\n    ('num', num_preproc1, num_vars),\n    ('cat', cat_preproc1, cat_vars)\n    ], remainder = 'drop')\n\ntree_prepro",
   "metadata": {
    "tags": [],
    "cell_id": "00006-368d48e1-eb8a-41ae-ab77-8b36f1a1cfdd",
    "deepnote_to_be_reexecuted": false,
    "source_hash": "ed271617",
    "execution_start": 1626705227678,
    "execution_millis": 79,
    "deepnote_cell_type": "code"
   },
   "outputs": [
    {
     "output_type": "execute_result",
     "execution_count": 12,
     "data": {
      "text/plain": "ColumnTransformer(transformers=[('num',\n                                 Pipeline(steps=[('imputer', SimpleImputer()),\n                                                 ('scaler', StandardScaler()),\n                                                 ('normalizer',\n                                                  QuantileTransformer(n_quantiles=100))]),\n                                 ['Age', 'Annual Income (k$)']),\n                                ('cat',\n                                 Pipeline(steps=[('imputer',\n                                                  SimpleImputer(fill_value=-1,\n                                                                strategy='constant')),\n                                                 ('encoder',\n                                                  OrdinalEncoder(handle_unknown='use_encoded_value',\n                                                                 unknown_value=-1))]),\n                                 ['Genre'])])",
      "text/html": "<style>#sk-3870eb60-45ae-49a1-90a6-e1db8abe3f95 {color: black;background-color: white;}#sk-3870eb60-45ae-49a1-90a6-e1db8abe3f95 pre{padding: 0;}#sk-3870eb60-45ae-49a1-90a6-e1db8abe3f95 div.sk-toggleable {background-color: white;}#sk-3870eb60-45ae-49a1-90a6-e1db8abe3f95 label.sk-toggleable__label {cursor: pointer;display: block;width: 100%;margin-bottom: 0;padding: 0.2em 0.3em;box-sizing: border-box;text-align: center;}#sk-3870eb60-45ae-49a1-90a6-e1db8abe3f95 div.sk-toggleable__content {max-height: 0;max-width: 0;overflow: hidden;text-align: left;background-color: #f0f8ff;}#sk-3870eb60-45ae-49a1-90a6-e1db8abe3f95 div.sk-toggleable__content pre {margin: 0.2em;color: black;border-radius: 0.25em;background-color: #f0f8ff;}#sk-3870eb60-45ae-49a1-90a6-e1db8abe3f95 input.sk-toggleable__control:checked~div.sk-toggleable__content {max-height: 200px;max-width: 100%;overflow: auto;}#sk-3870eb60-45ae-49a1-90a6-e1db8abe3f95 div.sk-estimator input.sk-toggleable__control:checked~label.sk-toggleable__label {background-color: #d4ebff;}#sk-3870eb60-45ae-49a1-90a6-e1db8abe3f95 div.sk-label input.sk-toggleable__control:checked~label.sk-toggleable__label {background-color: #d4ebff;}#sk-3870eb60-45ae-49a1-90a6-e1db8abe3f95 input.sk-hidden--visually {border: 0;clip: rect(1px 1px 1px 1px);clip: rect(1px, 1px, 1px, 1px);height: 1px;margin: -1px;overflow: hidden;padding: 0;position: absolute;width: 1px;}#sk-3870eb60-45ae-49a1-90a6-e1db8abe3f95 div.sk-estimator {font-family: monospace;background-color: #f0f8ff;margin: 0.25em 0.25em;border: 1px dotted black;border-radius: 0.25em;box-sizing: border-box;}#sk-3870eb60-45ae-49a1-90a6-e1db8abe3f95 div.sk-estimator:hover {background-color: #d4ebff;}#sk-3870eb60-45ae-49a1-90a6-e1db8abe3f95 div.sk-parallel-item::after {content: \"\";width: 100%;border-bottom: 1px solid gray;flex-grow: 1;}#sk-3870eb60-45ae-49a1-90a6-e1db8abe3f95 div.sk-label:hover label.sk-toggleable__label {background-color: #d4ebff;}#sk-3870eb60-45ae-49a1-90a6-e1db8abe3f95 div.sk-serial::before {content: \"\";position: absolute;border-left: 1px solid gray;box-sizing: border-box;top: 2em;bottom: 0;left: 50%;}#sk-3870eb60-45ae-49a1-90a6-e1db8abe3f95 div.sk-serial {display: flex;flex-direction: column;align-items: center;background-color: white;}#sk-3870eb60-45ae-49a1-90a6-e1db8abe3f95 div.sk-item {z-index: 1;}#sk-3870eb60-45ae-49a1-90a6-e1db8abe3f95 div.sk-parallel {display: flex;align-items: stretch;justify-content: center;background-color: white;}#sk-3870eb60-45ae-49a1-90a6-e1db8abe3f95 div.sk-parallel-item {display: flex;flex-direction: column;position: relative;background-color: white;}#sk-3870eb60-45ae-49a1-90a6-e1db8abe3f95 div.sk-parallel-item:first-child::after {align-self: flex-end;width: 50%;}#sk-3870eb60-45ae-49a1-90a6-e1db8abe3f95 div.sk-parallel-item:last-child::after {align-self: flex-start;width: 50%;}#sk-3870eb60-45ae-49a1-90a6-e1db8abe3f95 div.sk-parallel-item:only-child::after {width: 0;}#sk-3870eb60-45ae-49a1-90a6-e1db8abe3f95 div.sk-dashed-wrapped {border: 1px dashed gray;margin: 0.2em;box-sizing: border-box;padding-bottom: 0.1em;background-color: white;position: relative;}#sk-3870eb60-45ae-49a1-90a6-e1db8abe3f95 div.sk-label label {font-family: monospace;font-weight: bold;background-color: white;display: inline-block;line-height: 1.2em;}#sk-3870eb60-45ae-49a1-90a6-e1db8abe3f95 div.sk-label-container {position: relative;z-index: 2;text-align: center;}#sk-3870eb60-45ae-49a1-90a6-e1db8abe3f95 div.sk-container {display: inline-block;position: relative;}</style><div id=\"sk-3870eb60-45ae-49a1-90a6-e1db8abe3f95\" class\"sk-top-container\"><div class=\"sk-container\"><div class=\"sk-item sk-dashed-wrapped\"><div class=\"sk-label-container\"><div class=\"sk-label sk-toggleable\"><input class=\"sk-toggleable__control sk-hidden--visually\" id=\"b8ef7e9a-2f6e-43e8-b015-b6f90b281292\" type=\"checkbox\" ><label class=\"sk-toggleable__label\" for=\"b8ef7e9a-2f6e-43e8-b015-b6f90b281292\">ColumnTransformer</label><div class=\"sk-toggleable__content\"><pre>ColumnTransformer(transformers=[('num',\n                                 Pipeline(steps=[('imputer', SimpleImputer()),\n                                                 ('scaler', StandardScaler()),\n                                                 ('normalizer',\n                                                  QuantileTransformer(n_quantiles=100))]),\n                                 ['Age', 'Annual Income (k$)']),\n                                ('cat',\n                                 Pipeline(steps=[('imputer',\n                                                  SimpleImputer(fill_value=-1,\n                                                                strategy='constant')),\n                                                 ('encoder',\n                                                  OrdinalEncoder(handle_unknown='use_encoded_value',\n                                                                 unknown_value=-1))]),\n                                 ['Genre'])])</pre></div></div></div><div class=\"sk-parallel\"><div class=\"sk-parallel-item\"><div class=\"sk-item\"><div class=\"sk-label-container\"><div class=\"sk-label sk-toggleable\"><input class=\"sk-toggleable__control sk-hidden--visually\" id=\"65f97ac9-66f0-4520-ac48-e8938b1e8212\" type=\"checkbox\" ><label class=\"sk-toggleable__label\" for=\"65f97ac9-66f0-4520-ac48-e8938b1e8212\">num</label><div class=\"sk-toggleable__content\"><pre>['Age', 'Annual Income (k$)']</pre></div></div></div><div class=\"sk-serial\"><div class=\"sk-item\"><div class=\"sk-serial\"><div class=\"sk-item\"><div class=\"sk-estimator sk-toggleable\"><input class=\"sk-toggleable__control sk-hidden--visually\" id=\"10de95cd-acdb-4df7-aac7-d84e87906358\" type=\"checkbox\" ><label class=\"sk-toggleable__label\" for=\"10de95cd-acdb-4df7-aac7-d84e87906358\">SimpleImputer</label><div class=\"sk-toggleable__content\"><pre>SimpleImputer()</pre></div></div></div><div class=\"sk-item\"><div class=\"sk-estimator sk-toggleable\"><input class=\"sk-toggleable__control sk-hidden--visually\" id=\"9763d3eb-44bd-463b-9c30-6410c98c4105\" type=\"checkbox\" ><label class=\"sk-toggleable__label\" for=\"9763d3eb-44bd-463b-9c30-6410c98c4105\">StandardScaler</label><div class=\"sk-toggleable__content\"><pre>StandardScaler()</pre></div></div></div><div class=\"sk-item\"><div class=\"sk-estimator sk-toggleable\"><input class=\"sk-toggleable__control sk-hidden--visually\" id=\"b5fcd7ce-86d9-4530-b822-29a7870ff60b\" type=\"checkbox\" ><label class=\"sk-toggleable__label\" for=\"b5fcd7ce-86d9-4530-b822-29a7870ff60b\">QuantileTransformer</label><div class=\"sk-toggleable__content\"><pre>QuantileTransformer(n_quantiles=100)</pre></div></div></div></div></div></div></div></div><div class=\"sk-parallel-item\"><div class=\"sk-item\"><div class=\"sk-label-container\"><div class=\"sk-label sk-toggleable\"><input class=\"sk-toggleable__control sk-hidden--visually\" id=\"21caab3c-fdee-48bd-a9d0-1c15882ed0f1\" type=\"checkbox\" ><label class=\"sk-toggleable__label\" for=\"21caab3c-fdee-48bd-a9d0-1c15882ed0f1\">cat</label><div class=\"sk-toggleable__content\"><pre>['Genre']</pre></div></div></div><div class=\"sk-serial\"><div class=\"sk-item\"><div class=\"sk-serial\"><div class=\"sk-item\"><div class=\"sk-estimator sk-toggleable\"><input class=\"sk-toggleable__control sk-hidden--visually\" id=\"14afd954-6bf2-4c4b-bdf7-d0fb2c7ea667\" type=\"checkbox\" ><label class=\"sk-toggleable__label\" for=\"14afd954-6bf2-4c4b-bdf7-d0fb2c7ea667\">SimpleImputer</label><div class=\"sk-toggleable__content\"><pre>SimpleImputer(fill_value=-1, strategy='constant')</pre></div></div></div><div class=\"sk-item\"><div class=\"sk-estimator sk-toggleable\"><input class=\"sk-toggleable__control sk-hidden--visually\" id=\"12adc101-6047-4337-a575-decfbef2fe16\" type=\"checkbox\" ><label class=\"sk-toggleable__label\" for=\"12adc101-6047-4337-a575-decfbef2fe16\">OrdinalEncoder</label><div class=\"sk-toggleable__content\"><pre>OrdinalEncoder(handle_unknown='use_encoded_value', unknown_value=-1)</pre></div></div></div></div></div></div></div></div></div></div></div></div>"
     },
     "metadata": {}
    }
   ],
   "execution_count": 12
  },
  {
   "cell_type": "code",
   "source": "from sklearn.tree          import DecisionTreeClassifier\nfrom sklearn.ensemble      import RandomForestClassifier\nfrom sklearn.ensemble      import ExtraTreesClassifier\nfrom sklearn.ensemble      import AdaBoostClassifier\nfrom sklearn.ensemble      import GradientBoostingClassifier\nfrom sklearn.experimental  import enable_hist_gradient_boosting # Necesary for HistGradientBoostingClassifier\nfrom sklearn.ensemble      import HistGradientBoostingClassifier\nfrom xgboost               import XGBClassifier\nfrom lightgbm              import LGBMClassifier\nfrom catboost              import CatBoostClassifier\n# from sklearn.svm           import SVC\n\ntree_classifiers = {\n  \"Decision Tree\": DecisionTreeClassifier(),\n  \"Extra Trees\":   ExtraTreesClassifier(n_estimators=100),\n  \"Random Forest\": RandomForestClassifier(n_estimators=100),\n  \"AdaBoost\":      AdaBoostClassifier(n_estimators=100),\n  \"Skl GBM\":       GradientBoostingClassifier(n_estimators=100),\n  \"Skl HistGBM\":   HistGradientBoostingClassifier(max_iter=100),\n  \"XGBoost\":       XGBClassifier(n_estimators=100),\n  \"LightGBM\":      LGBMClassifier(n_estimators=100),\n  \"CatBoost\":      CatBoostClassifier(n_estimators=100),\n#   \"SVM\":           SVC(kernel='linear')\n}",
   "metadata": {
    "tags": [],
    "cell_id": "00007-c71d9b07-f072-4b0c-b514-ad279a0983d5",
    "deepnote_to_be_reexecuted": false,
    "source_hash": "42d3765e",
    "execution_start": 1626705227756,
    "execution_millis": 378,
    "deepnote_cell_type": "code"
   },
   "outputs": [],
   "execution_count": 13
  },
  {
   "cell_type": "code",
   "source": "df.sample(10)",
   "metadata": {
    "tags": [],
    "cell_id": "00011-fd52794b-8852-4969-b0e1-9e207214a2db",
    "deepnote_to_be_reexecuted": false,
    "source_hash": "96846a11",
    "execution_start": 1626705228139,
    "execution_millis": 49,
    "deepnote_cell_type": "code"
   },
   "outputs": [
    {
     "output_type": "execute_result",
     "execution_count": 14,
     "data": {
      "application/vnd.deepnote.dataframe.v2+json": {
       "row_count": 10,
       "column_count": 6,
       "columns": [
        {
         "name": "CustomerID",
         "dtype": "int64",
         "stats": {
          "unique_count": 10,
          "nan_count": 0,
          "min": "6",
          "max": "174",
          "histogram": [
           {
            "bin_start": 6,
            "bin_end": 22.8,
            "count": 1
           },
           {
            "bin_start": 22.8,
            "bin_end": 39.6,
            "count": 3
           },
           {
            "bin_start": 39.6,
            "bin_end": 56.400000000000006,
            "count": 1
           },
           {
            "bin_start": 56.400000000000006,
            "bin_end": 73.2,
            "count": 0
           },
           {
            "bin_start": 73.2,
            "bin_end": 90,
            "count": 0
           },
           {
            "bin_start": 90,
            "bin_end": 106.80000000000001,
            "count": 0
           },
           {
            "bin_start": 106.80000000000001,
            "bin_end": 123.60000000000001,
            "count": 1
           },
           {
            "bin_start": 123.60000000000001,
            "bin_end": 140.4,
            "count": 0
           },
           {
            "bin_start": 140.4,
            "bin_end": 157.20000000000002,
            "count": 2
           },
           {
            "bin_start": 157.20000000000002,
            "bin_end": 174,
            "count": 2
           }
          ]
         }
        },
        {
         "name": "Genre",
         "dtype": "object",
         "stats": {
          "unique_count": 2,
          "nan_count": 0,
          "categories": [
           {
            "name": "Female",
            "count": 6
           },
           {
            "name": "Male",
            "count": 4
           }
          ]
         }
        },
        {
         "name": "Age",
         "dtype": "int64",
         "stats": {
          "unique_count": 10,
          "nan_count": 0,
          "min": "22",
          "max": "66",
          "histogram": [
           {
            "bin_start": 22,
            "bin_end": 26.4,
            "count": 1
           },
           {
            "bin_start": 26.4,
            "bin_end": 30.8,
            "count": 3
           },
           {
            "bin_start": 30.8,
            "bin_end": 35.2,
            "count": 0
           },
           {
            "bin_start": 35.2,
            "bin_end": 39.6,
            "count": 2
           },
           {
            "bin_start": 39.6,
            "bin_end": 44,
            "count": 2
           },
           {
            "bin_start": 44,
            "bin_end": 48.400000000000006,
            "count": 0
           },
           {
            "bin_start": 48.400000000000006,
            "bin_end": 52.800000000000004,
            "count": 0
           },
           {
            "bin_start": 52.800000000000004,
            "bin_end": 57.2,
            "count": 0
           },
           {
            "bin_start": 57.2,
            "bin_end": 61.6,
            "count": 1
           },
           {
            "bin_start": 61.6,
            "bin_end": 66,
            "count": 1
           }
          ]
         }
        },
        {
         "name": "Annual Income (k$)",
         "dtype": "int64",
         "stats": {
          "unique_count": 9,
          "nan_count": 0,
          "min": "17",
          "max": "87",
          "histogram": [
           {
            "bin_start": 17,
            "bin_end": 24,
            "count": 1
           },
           {
            "bin_start": 24,
            "bin_end": 31,
            "count": 2
           },
           {
            "bin_start": 31,
            "bin_end": 38,
            "count": 1
           },
           {
            "bin_start": 38,
            "bin_end": 45,
            "count": 1
           },
           {
            "bin_start": 45,
            "bin_end": 52,
            "count": 0
           },
           {
            "bin_start": 52,
            "bin_end": 59,
            "count": 0
           },
           {
            "bin_start": 59,
            "bin_end": 66,
            "count": 1
           },
           {
            "bin_start": 66,
            "bin_end": 73,
            "count": 0
           },
           {
            "bin_start": 73,
            "bin_end": 80,
            "count": 3
           },
           {
            "bin_start": 80,
            "bin_end": 87,
            "count": 1
           }
          ]
         }
        },
        {
         "name": "Spending Score (1-100)",
         "dtype": "int64",
         "stats": {
          "unique_count": 10,
          "nan_count": 0,
          "min": "1",
          "max": "92",
          "histogram": [
           {
            "bin_start": 1,
            "bin_end": 10.1,
            "count": 2
           },
           {
            "bin_start": 10.1,
            "bin_end": 19.2,
            "count": 1
           },
           {
            "bin_start": 19.2,
            "bin_end": 28.299999999999997,
            "count": 0
           },
           {
            "bin_start": 28.299999999999997,
            "bin_end": 37.4,
            "count": 1
           },
           {
            "bin_start": 37.4,
            "bin_end": 46.5,
            "count": 1
           },
           {
            "bin_start": 46.5,
            "bin_end": 55.599999999999994,
            "count": 2
           },
           {
            "bin_start": 55.599999999999994,
            "bin_end": 64.69999999999999,
            "count": 0
           },
           {
            "bin_start": 64.69999999999999,
            "bin_end": 73.8,
            "count": 1
           },
           {
            "bin_start": 73.8,
            "bin_end": 82.89999999999999,
            "count": 1
           },
           {
            "bin_start": 82.89999999999999,
            "bin_end": 92,
            "count": 1
           }
          ]
         }
        },
        {
         "name": "SpendingLabel",
         "dtype": "int64",
         "stats": {
          "unique_count": 2,
          "nan_count": 0,
          "min": "0",
          "max": "1",
          "histogram": [
           {
            "bin_start": 0,
            "bin_end": 0.1,
            "count": 7
           },
           {
            "bin_start": 0.1,
            "bin_end": 0.2,
            "count": 0
           },
           {
            "bin_start": 0.2,
            "bin_end": 0.30000000000000004,
            "count": 0
           },
           {
            "bin_start": 0.30000000000000004,
            "bin_end": 0.4,
            "count": 0
           },
           {
            "bin_start": 0.4,
            "bin_end": 0.5,
            "count": 0
           },
           {
            "bin_start": 0.5,
            "bin_end": 0.6000000000000001,
            "count": 0
           },
           {
            "bin_start": 0.6000000000000001,
            "bin_end": 0.7000000000000001,
            "count": 0
           },
           {
            "bin_start": 0.7000000000000001,
            "bin_end": 0.8,
            "count": 0
           },
           {
            "bin_start": 0.8,
            "bin_end": 0.9,
            "count": 0
           },
           {
            "bin_start": 0.9,
            "bin_end": 1,
            "count": 3
           }
          ]
         }
        },
        {
         "name": "_deepnote_index_column",
         "dtype": "int64"
        }
       ],
       "rows_top": [
        {
         "CustomerID": 110,
         "Genre": "Male",
         "Age": 66,
         "Annual Income (k$)": 63,
         "Spending Score (1-100)": 48,
         "SpendingLabel": 0,
         "_deepnote_index_column": 109
        },
        {
         "CustomerID": 143,
         "Genre": "Female",
         "Age": 28,
         "Annual Income (k$)": 76,
         "Spending Score (1-100)": 40,
         "SpendingLabel": 0,
         "_deepnote_index_column": 142
        },
        {
         "CustomerID": 160,
         "Genre": "Female",
         "Age": 30,
         "Annual Income (k$)": 78,
         "Spending Score (1-100)": 73,
         "SpendingLabel": 1,
         "_deepnote_index_column": 159
        },
        {
         "CustomerID": 48,
         "Genre": "Female",
         "Age": 27,
         "Annual Income (k$)": 40,
         "Spending Score (1-100)": 47,
         "SpendingLabel": 0,
         "_deepnote_index_column": 47
        },
        {
         "CustomerID": 29,
         "Genre": "Female",
         "Age": 40,
         "Annual Income (k$)": 29,
         "Spending Score (1-100)": 31,
         "SpendingLabel": 0,
         "_deepnote_index_column": 28
        },
        {
         "CustomerID": 157,
         "Genre": "Male",
         "Age": 37,
         "Annual Income (k$)": 78,
         "Spending Score (1-100)": 1,
         "SpendingLabel": 0,
         "_deepnote_index_column": 156
        },
        {
         "CustomerID": 174,
         "Genre": "Male",
         "Age": 36,
         "Annual Income (k$)": 87,
         "Spending Score (1-100)": 92,
         "SpendingLabel": 1,
         "_deepnote_index_column": 173
        },
        {
         "CustomerID": 6,
         "Genre": "Female",
         "Age": 22,
         "Annual Income (k$)": 17,
         "Spending Score (1-100)": 76,
         "SpendingLabel": 1,
         "_deepnote_index_column": 5
        },
        {
         "CustomerID": 37,
         "Genre": "Female",
         "Age": 42,
         "Annual Income (k$)": 34,
         "Spending Score (1-100)": 17,
         "SpendingLabel": 0,
         "_deepnote_index_column": 36
        },
        {
         "CustomerID": 31,
         "Genre": "Male",
         "Age": 60,
         "Annual Income (k$)": 30,
         "Spending Score (1-100)": 4,
         "SpendingLabel": 0,
         "_deepnote_index_column": 30
        }
       ],
       "rows_bottom": null
      },
      "text/plain": "     CustomerID   Genre  Age  Annual Income (k$)  Spending Score (1-100)  \\\n109         110    Male   66                  63                      48   \n142         143  Female   28                  76                      40   \n159         160  Female   30                  78                      73   \n47           48  Female   27                  40                      47   \n28           29  Female   40                  29                      31   \n156         157    Male   37                  78                       1   \n173         174    Male   36                  87                      92   \n5             6  Female   22                  17                      76   \n36           37  Female   42                  34                      17   \n30           31    Male   60                  30                       4   \n\n     SpendingLabel  \n109              0  \n142              0  \n159              1  \n47               0  \n28               0  \n156              0  \n173              1  \n5                1  \n36               0  \n30               0  ",
      "text/html": "<div>\n<style scoped>\n    .dataframe tbody tr th:only-of-type {\n        vertical-align: middle;\n    }\n\n    .dataframe tbody tr th {\n        vertical-align: top;\n    }\n\n    .dataframe thead th {\n        text-align: right;\n    }\n</style>\n<table border=\"1\" class=\"dataframe\">\n  <thead>\n    <tr style=\"text-align: right;\">\n      <th></th>\n      <th>CustomerID</th>\n      <th>Genre</th>\n      <th>Age</th>\n      <th>Annual Income (k$)</th>\n      <th>Spending Score (1-100)</th>\n      <th>SpendingLabel</th>\n    </tr>\n  </thead>\n  <tbody>\n    <tr>\n      <th>109</th>\n      <td>110</td>\n      <td>Male</td>\n      <td>66</td>\n      <td>63</td>\n      <td>48</td>\n      <td>0</td>\n    </tr>\n    <tr>\n      <th>142</th>\n      <td>143</td>\n      <td>Female</td>\n      <td>28</td>\n      <td>76</td>\n      <td>40</td>\n      <td>0</td>\n    </tr>\n    <tr>\n      <th>159</th>\n      <td>160</td>\n      <td>Female</td>\n      <td>30</td>\n      <td>78</td>\n      <td>73</td>\n      <td>1</td>\n    </tr>\n    <tr>\n      <th>47</th>\n      <td>48</td>\n      <td>Female</td>\n      <td>27</td>\n      <td>40</td>\n      <td>47</td>\n      <td>0</td>\n    </tr>\n    <tr>\n      <th>28</th>\n      <td>29</td>\n      <td>Female</td>\n      <td>40</td>\n      <td>29</td>\n      <td>31</td>\n      <td>0</td>\n    </tr>\n    <tr>\n      <th>156</th>\n      <td>157</td>\n      <td>Male</td>\n      <td>37</td>\n      <td>78</td>\n      <td>1</td>\n      <td>0</td>\n    </tr>\n    <tr>\n      <th>173</th>\n      <td>174</td>\n      <td>Male</td>\n      <td>36</td>\n      <td>87</td>\n      <td>92</td>\n      <td>1</td>\n    </tr>\n    <tr>\n      <th>5</th>\n      <td>6</td>\n      <td>Female</td>\n      <td>22</td>\n      <td>17</td>\n      <td>76</td>\n      <td>1</td>\n    </tr>\n    <tr>\n      <th>36</th>\n      <td>37</td>\n      <td>Female</td>\n      <td>42</td>\n      <td>34</td>\n      <td>17</td>\n      <td>0</td>\n    </tr>\n    <tr>\n      <th>30</th>\n      <td>31</td>\n      <td>Male</td>\n      <td>60</td>\n      <td>30</td>\n      <td>4</td>\n      <td>0</td>\n    </tr>\n  </tbody>\n</table>\n</div>"
     },
     "metadata": {}
    }
   ],
   "execution_count": 14
  },
  {
   "cell_type": "code",
   "source": "X = df.drop(['SpendingLabel'],axis=1)\ny = df['SpendingLabel']",
   "metadata": {
    "tags": [],
    "cell_id": "00015-23fb9ef4-99c9-43d7-8951-0a082e5454f0",
    "deepnote_to_be_reexecuted": false,
    "source_hash": "2c22e994",
    "execution_start": 1626705228177,
    "execution_millis": 3,
    "deepnote_cell_type": "code"
   },
   "outputs": [],
   "execution_count": 15
  },
  {
   "cell_type": "code",
   "source": "tree_classifiers = {name: pipeline.make_pipeline(tree_prepro, model) for name, model in tree_classifiers.items()}\n\n\nX_train, x_test, Y_train, y_test = train_test_split(\n    X, y,\n    test_size=0.1,\n    stratify = y,   # ALWAYS RECOMMENDED FOR BETTER VALIDATION\n    random_state=42  # Recommended for reproducibility\n)",
   "metadata": {
    "tags": [],
    "cell_id": "00008-4edcb8f1-e12e-4b16-8ad1-b61eaea158c9",
    "deepnote_to_be_reexecuted": false,
    "source_hash": "16981c7d",
    "execution_start": 1626705228184,
    "execution_millis": 52,
    "deepnote_cell_type": "code"
   },
   "outputs": [],
   "execution_count": 16
  },
  {
   "cell_type": "code",
   "source": "X_train.shape",
   "metadata": {
    "tags": [],
    "cell_id": "00017-cec501a3-4cd4-4cbb-b2c6-825543db1e90",
    "deepnote_to_be_reexecuted": false,
    "source_hash": "38f368cd",
    "execution_start": 1626705228238,
    "execution_millis": 32,
    "deepnote_cell_type": "code"
   },
   "outputs": [
    {
     "output_type": "execute_result",
     "execution_count": 17,
     "data": {
      "text/plain": "(180, 5)"
     },
     "metadata": {}
    }
   ],
   "execution_count": 17
  },
  {
   "cell_type": "code",
   "source": "## ADDITION OF DATA ENHANCEMENT\n\n## COMMENT THIS OUT IF YOU WANT TO ADD THE ENHANCED DATA\n\n## Concatenate train dataset with extra_sample from generated data\n\nX_train = pd.concat([X_train, extra_sample.drop(['SpendingLabel'],axis=1)])\nY_train = pd.concat([Y_train, extra_sample['SpendingLabel']])",
   "metadata": {
    "tags": [],
    "cell_id": "00015-ff739326-a8d5-4ff6-98ef-bc9daa345169",
    "deepnote_to_be_reexecuted": false,
    "source_hash": "3a5a99e0",
    "execution_start": 1626705228292,
    "execution_millis": 1,
    "deepnote_cell_type": "code"
   },
   "outputs": [],
   "execution_count": 18
  },
  {
   "cell_type": "code",
   "source": "# Second Train_Test_Split as an Alternative for One-Time Cross Validation\n\nx_train, x_val, y_train, y_val = model_selection.train_test_split(\n    X_train, Y_train,\n    test_size=0.2,\n    stratify = Y_train,   # ALWAYS RECOMMENDED FOR BETTER VALIDATION\n    random_state=42  # Recommended for reproducibility\n)",
   "metadata": {
    "tags": [],
    "cell_id": "00012-f4ec03e4-7061-4bd1-89ef-f0221928f08e",
    "deepnote_to_be_reexecuted": false,
    "source_hash": "f8472b31",
    "execution_start": 1626705228293,
    "execution_millis": 0,
    "deepnote_cell_type": "code"
   },
   "outputs": [],
   "execution_count": 19
  },
  {
   "cell_type": "code",
   "source": "X_train.shape",
   "metadata": {
    "tags": [],
    "cell_id": "00019-0cd83c6b-084e-440b-9c72-18efc1f01f29",
    "deepnote_to_be_reexecuted": false,
    "source_hash": "38f368cd",
    "execution_start": 1626705228293,
    "execution_millis": 6,
    "deepnote_cell_type": "code"
   },
   "outputs": [
    {
     "output_type": "execute_result",
     "execution_count": 20,
     "data": {
      "text/plain": "(240, 5)"
     },
     "metadata": {}
    }
   ],
   "execution_count": 20
  },
  {
   "cell_type": "code",
   "source": "results = pd.DataFrame({'Model': [], 'Heart Att. Acc.': [], 'Healthy Acc.': [], 'Accuracy': [], 'Bal Acc.': [], 'Time': []})\n\nfor model_name, model in tree_classifiers.items():\n\n    start_time = time.time()\n    model.fit(x_train, y_train)\n    total_time = time.time() - start_time\n        \n    pred = model.predict(x_val)\n    \n    results = results.append({\"Model\":    model_name,\n                              \"Accuracy\": metrics.accuracy_score(y_val, pred)*100,\n                              \"Bal Acc.\": metrics.balanced_accuracy_score(y_val, pred)*100,\n                              \"Heart Att. Acc.\": metrics.recall_score(y_val,pred)*100,\n                              \"Healthy Acc.\": metrics.precision_score(y_val, pred)*100,\n                              \"Time\":     total_time},\n                              ignore_index=True)",
   "metadata": {
    "tags": [],
    "cell_id": "00013-3a856a25-cbd5-407b-9743-7d6c8d1d378a",
    "deepnote_to_be_reexecuted": false,
    "source_hash": "7df846a9",
    "execution_start": 1626705228351,
    "execution_millis": 76626,
    "deepnote_cell_type": "code"
   },
   "outputs": [
    {
     "name": "stderr",
     "text": "/root/venv/lib/python3.7/site-packages/xgboost/sklearn.py:1146: UserWarning: The use of label encoder in XGBClassifier is deprecated and will be removed in a future release. To remove this warning, do the following: 1) Pass option use_label_encoder=False when constructing XGBClassifier object; and 2) Encode your labels (y) as integers starting with 0, i.e. 0, 1, 2, ..., [num_class - 1].\n  warnings.warn(label_encoder_deprecation_msg, UserWarning)\n[14:34:51] WARNING: ../src/learner.cc:1095: Starting in XGBoost 1.3.0, the default evaluation metric used with the objective 'binary:logistic' was changed from 'error' to 'logloss'. Explicitly set eval_metric if you'd like to restore the old behavior.\nLearning rate set to 0.042063\n0:\tlearn: 0.6879785\ttotal: 48.2ms\tremaining: 4.77s\n1:\tlearn: 0.6821839\ttotal: 48.8ms\tremaining: 2.39s\n2:\tlearn: 0.6774496\ttotal: 58.2ms\tremaining: 1.88s\n3:\tlearn: 0.6726361\ttotal: 58.7ms\tremaining: 1.41s\n4:\tlearn: 0.6664821\ttotal: 59.2ms\tremaining: 1.13s\n5:\tlearn: 0.6605322\ttotal: 59.8ms\tremaining: 937ms\n6:\tlearn: 0.6576819\ttotal: 60.3ms\tremaining: 801ms\n7:\tlearn: 0.6530968\ttotal: 62.1ms\tremaining: 714ms\n8:\tlearn: 0.6479368\ttotal: 63.1ms\tremaining: 638ms\n9:\tlearn: 0.6439859\ttotal: 63.8ms\tremaining: 574ms\n10:\tlearn: 0.6402890\ttotal: 65ms\tremaining: 526ms\n11:\tlearn: 0.6355052\ttotal: 66.3ms\tremaining: 486ms\n12:\tlearn: 0.6318228\ttotal: 67.5ms\tremaining: 452ms\n13:\tlearn: 0.6281449\ttotal: 68.8ms\tremaining: 423ms\n14:\tlearn: 0.6237945\ttotal: 70.1ms\tremaining: 397ms\n15:\tlearn: 0.6208015\ttotal: 87.6ms\tremaining: 460ms\n16:\tlearn: 0.6171829\ttotal: 89.1ms\tremaining: 435ms\n17:\tlearn: 0.6145206\ttotal: 90.3ms\tremaining: 411ms\n18:\tlearn: 0.6093397\ttotal: 91.4ms\tremaining: 390ms\n19:\tlearn: 0.6072114\ttotal: 92.6ms\tremaining: 370ms\n20:\tlearn: 0.6037118\ttotal: 93.7ms\tremaining: 353ms\n21:\tlearn: 0.6004705\ttotal: 94.8ms\tremaining: 336ms\n22:\tlearn: 0.5981384\ttotal: 95.7ms\tremaining: 320ms\n23:\tlearn: 0.5953124\ttotal: 96.8ms\tremaining: 306ms\n24:\tlearn: 0.5927993\ttotal: 97.3ms\tremaining: 292ms\n25:\tlearn: 0.5910486\ttotal: 97.8ms\tremaining: 278ms\n26:\tlearn: 0.5866950\ttotal: 98.3ms\tremaining: 266ms\n27:\tlearn: 0.5829799\ttotal: 98.8ms\tremaining: 254ms\n28:\tlearn: 0.5802304\ttotal: 99.4ms\tremaining: 243ms\n29:\tlearn: 0.5776905\ttotal: 99.9ms\tremaining: 233ms\n30:\tlearn: 0.5739748\ttotal: 100ms\tremaining: 224ms\n31:\tlearn: 0.5718779\ttotal: 101ms\tremaining: 214ms\n32:\tlearn: 0.5691563\ttotal: 101ms\tremaining: 206ms\n33:\tlearn: 0.5682960\ttotal: 102ms\tremaining: 198ms\n34:\tlearn: 0.5666840\ttotal: 102ms\tremaining: 190ms\n35:\tlearn: 0.5651923\ttotal: 103ms\tremaining: 183ms\n36:\tlearn: 0.5620977\ttotal: 103ms\tremaining: 176ms\n37:\tlearn: 0.5596570\ttotal: 104ms\tremaining: 169ms\n38:\tlearn: 0.5569685\ttotal: 104ms\tremaining: 163ms\n39:\tlearn: 0.5536031\ttotal: 105ms\tremaining: 157ms\n40:\tlearn: 0.5511374\ttotal: 105ms\tremaining: 151ms\n41:\tlearn: 0.5493105\ttotal: 106ms\tremaining: 146ms\n42:\tlearn: 0.5470309\ttotal: 106ms\tremaining: 141ms\n43:\tlearn: 0.5450251\ttotal: 107ms\tremaining: 136ms\n44:\tlearn: 0.5436954\ttotal: 107ms\tremaining: 131ms\n45:\tlearn: 0.5428846\ttotal: 108ms\tremaining: 126ms\n46:\tlearn: 0.5410717\ttotal: 108ms\tremaining: 122ms\n47:\tlearn: 0.5398378\ttotal: 109ms\tremaining: 118ms\n48:\tlearn: 0.5376856\ttotal: 109ms\tremaining: 114ms\n49:\tlearn: 0.5348217\ttotal: 110ms\tremaining: 110ms\n50:\tlearn: 0.5332753\ttotal: 110ms\tremaining: 106ms\n51:\tlearn: 0.5313969\ttotal: 111ms\tremaining: 102ms\n52:\tlearn: 0.5298128\ttotal: 111ms\tremaining: 98.6ms\n53:\tlearn: 0.5280444\ttotal: 112ms\tremaining: 95.2ms\n54:\tlearn: 0.5259730\ttotal: 112ms\tremaining: 91.9ms\n55:\tlearn: 0.5245305\ttotal: 113ms\tremaining: 88.7ms\n56:\tlearn: 0.5226011\ttotal: 113ms\tremaining: 85.6ms\n57:\tlearn: 0.5209226\ttotal: 115ms\tremaining: 82.9ms\n58:\tlearn: 0.5198259\ttotal: 115ms\tremaining: 80.1ms\n59:\tlearn: 0.5189493\ttotal: 116ms\tremaining: 77.2ms\n60:\tlearn: 0.5174505\ttotal: 116ms\tremaining: 74.3ms\n61:\tlearn: 0.5164863\ttotal: 117ms\tremaining: 71.6ms\n62:\tlearn: 0.5152248\ttotal: 122ms\tremaining: 71.9ms\n63:\tlearn: 0.5130276\ttotal: 127ms\tremaining: 71.7ms\n64:\tlearn: 0.5114150\ttotal: 128ms\tremaining: 69.1ms\n65:\tlearn: 0.5099961\ttotal: 129ms\tremaining: 66.3ms\n66:\tlearn: 0.5086854\ttotal: 129ms\tremaining: 63.5ms\n67:\tlearn: 0.5071027\ttotal: 129ms\tremaining: 60.9ms\n68:\tlearn: 0.5064700\ttotal: 130ms\tremaining: 58.2ms\n69:\tlearn: 0.5059381\ttotal: 130ms\tremaining: 55.7ms\n70:\tlearn: 0.5044174\ttotal: 131ms\tremaining: 53.3ms\n71:\tlearn: 0.5032415\ttotal: 179ms\tremaining: 69.5ms\n72:\tlearn: 0.5010921\ttotal: 179ms\tremaining: 66.3ms\n73:\tlearn: 0.4995911\ttotal: 180ms\tremaining: 63.2ms\n74:\tlearn: 0.4985213\ttotal: 180ms\tremaining: 60.1ms\n75:\tlearn: 0.4975600\ttotal: 181ms\tremaining: 57.1ms\n76:\tlearn: 0.4966587\ttotal: 181ms\tremaining: 54.1ms\n77:\tlearn: 0.4962365\ttotal: 182ms\tremaining: 51.2ms\n78:\tlearn: 0.4949842\ttotal: 182ms\tremaining: 48.4ms\n79:\tlearn: 0.4936593\ttotal: 183ms\tremaining: 45.7ms\n80:\tlearn: 0.4919176\ttotal: 183ms\tremaining: 43ms\n81:\tlearn: 0.4904527\ttotal: 184ms\tremaining: 40.3ms\n82:\tlearn: 0.4899961\ttotal: 185ms\tremaining: 37.9ms\n83:\tlearn: 0.4886473\ttotal: 186ms\tremaining: 35.3ms\n84:\tlearn: 0.4874059\ttotal: 186ms\tremaining: 32.8ms\n85:\tlearn: 0.4860585\ttotal: 186ms\tremaining: 30.3ms\n86:\tlearn: 0.4848962\ttotal: 187ms\tremaining: 27.9ms\n87:\tlearn: 0.4838078\ttotal: 187ms\tremaining: 25.5ms\n88:\tlearn: 0.4834122\ttotal: 188ms\tremaining: 23.2ms\n89:\tlearn: 0.4824996\ttotal: 188ms\tremaining: 20.9ms\n90:\tlearn: 0.4814678\ttotal: 189ms\tremaining: 18.7ms\n91:\tlearn: 0.4814196\ttotal: 189ms\tremaining: 16.4ms\n92:\tlearn: 0.4812283\ttotal: 189ms\tremaining: 14.3ms\n93:\tlearn: 0.4800599\ttotal: 190ms\tremaining: 12.1ms\n94:\tlearn: 0.4794146\ttotal: 190ms\tremaining: 10ms\n95:\tlearn: 0.4787566\ttotal: 191ms\tremaining: 7.95ms\n96:\tlearn: 0.4780138\ttotal: 191ms\tremaining: 5.92ms\n97:\tlearn: 0.4767062\ttotal: 192ms\tremaining: 3.92ms\n98:\tlearn: 0.4755770\ttotal: 192ms\tremaining: 1.94ms\n99:\tlearn: 0.4746834\ttotal: 193ms\tremaining: 0us\n",
     "output_type": "stream"
    }
   ],
   "execution_count": 21
  },
  {
   "cell_type": "code",
   "source": "results_ord = results.sort_values(by=['Accuracy'], ascending=False, ignore_index=True)\nresults_ord.index += 1 \nresults_ord.style.bar(subset=['Accuracy', 'Bal Acc.'], vmin=0, vmax=100, color='#5fba7d')",
   "metadata": {
    "tags": [],
    "cell_id": "00016-fac1595a-50fc-4212-9e32-fc40ebf0ed81",
    "deepnote_to_be_reexecuted": false,
    "source_hash": "f6c97c91",
    "execution_start": 1626705305023,
    "execution_millis": 157,
    "deepnote_cell_type": "code"
   },
   "outputs": [
    {
     "output_type": "execute_result",
     "execution_count": 22,
     "data": {
      "text/plain": "<pandas.io.formats.style.Styler at 0x7f75ed62da50>",
      "text/html": "<style  type=\"text/css\" >\n#T_035cd_row0_col3{\n            width:  10em;\n             height:  80%;\n            background:  linear-gradient(90deg,#5fba7d 83.3%, transparent 83.3%);\n        }#T_035cd_row0_col4{\n            width:  10em;\n             height:  80%;\n            background:  linear-gradient(90deg,#5fba7d 83.8%, transparent 83.8%);\n        }#T_035cd_row1_col3,#T_035cd_row2_col3{\n            width:  10em;\n             height:  80%;\n            background:  linear-gradient(90deg,#5fba7d 81.2%, transparent 81.2%);\n        }#T_035cd_row1_col4{\n            width:  10em;\n             height:  80%;\n            background:  linear-gradient(90deg,#5fba7d 81.7%, transparent 81.7%);\n        }#T_035cd_row2_col4{\n            width:  10em;\n             height:  80%;\n            background:  linear-gradient(90deg,#5fba7d 81.5%, transparent 81.5%);\n        }#T_035cd_row3_col3,#T_035cd_row4_col3{\n            width:  10em;\n             height:  80%;\n            background:  linear-gradient(90deg,#5fba7d 79.2%, transparent 79.2%);\n        }#T_035cd_row3_col4,#T_035cd_row4_col4{\n            width:  10em;\n             height:  80%;\n            background:  linear-gradient(90deg,#5fba7d 79.5%, transparent 79.5%);\n        }#T_035cd_row5_col3,#T_035cd_row5_col4{\n            width:  10em;\n             height:  80%;\n            background:  linear-gradient(90deg,#5fba7d 77.1%, transparent 77.1%);\n        }#T_035cd_row6_col3{\n            width:  10em;\n             height:  80%;\n            background:  linear-gradient(90deg,#5fba7d 72.9%, transparent 72.9%);\n        }#T_035cd_row6_col4{\n            width:  10em;\n             height:  80%;\n            background:  linear-gradient(90deg,#5fba7d 73.5%, transparent 73.5%);\n        }#T_035cd_row7_col3{\n            width:  10em;\n             height:  80%;\n            background:  linear-gradient(90deg,#5fba7d 70.8%, transparent 70.8%);\n        }#T_035cd_row7_col4{\n            width:  10em;\n             height:  80%;\n            background:  linear-gradient(90deg,#5fba7d 71.1%, transparent 71.1%);\n        }#T_035cd_row8_col3{\n            width:  10em;\n             height:  80%;\n            background:  linear-gradient(90deg,#5fba7d 66.7%, transparent 66.7%);\n        }#T_035cd_row8_col4{\n            width:  10em;\n             height:  80%;\n            background:  linear-gradient(90deg,#5fba7d 67.3%, transparent 67.3%);\n        }</style><table id=\"T_035cd_\" ><thead>    <tr>        <th class=\"blank level0\" ></th>        <th class=\"col_heading level0 col0\" >Model</th>        <th class=\"col_heading level0 col1\" >Heart Att. Acc.</th>        <th class=\"col_heading level0 col2\" >Healthy Acc.</th>        <th class=\"col_heading level0 col3\" >Accuracy</th>        <th class=\"col_heading level0 col4\" >Bal Acc.</th>        <th class=\"col_heading level0 col5\" >Time</th>    </tr></thead><tbody>\n                <tr>\n                        <th id=\"T_035cd_level0_row0\" class=\"row_heading level0 row0\" >1</th>\n                        <td id=\"T_035cd_row0_col0\" class=\"data row0 col0\" >Extra Trees</td>\n                        <td id=\"T_035cd_row0_col1\" class=\"data row0 col1\" >95.652174</td>\n                        <td id=\"T_035cd_row0_col2\" class=\"data row0 col2\" >75.862069</td>\n                        <td id=\"T_035cd_row0_col3\" class=\"data row0 col3\" >83.333333</td>\n                        <td id=\"T_035cd_row0_col4\" class=\"data row0 col4\" >83.826087</td>\n                        <td id=\"T_035cd_row0_col5\" class=\"data row0 col5\" >0.281653</td>\n            </tr>\n            <tr>\n                        <th id=\"T_035cd_level0_row1\" class=\"row_heading level0 row1\" >2</th>\n                        <td id=\"T_035cd_row1_col0\" class=\"data row1 col0\" >Skl GBM</td>\n                        <td id=\"T_035cd_row1_col1\" class=\"data row1 col1\" >91.304348</td>\n                        <td id=\"T_035cd_row1_col2\" class=\"data row1 col2\" >75.000000</td>\n                        <td id=\"T_035cd_row1_col3\" class=\"data row1 col3\" >81.250000</td>\n                        <td id=\"T_035cd_row1_col4\" class=\"data row1 col4\" >81.652174</td>\n                        <td id=\"T_035cd_row1_col5\" class=\"data row1 col5\" >0.135492</td>\n            </tr>\n            <tr>\n                        <th id=\"T_035cd_level0_row2\" class=\"row_heading level0 row2\" >3</th>\n                        <td id=\"T_035cd_row2_col0\" class=\"data row2 col0\" >XGBoost</td>\n                        <td id=\"T_035cd_row2_col1\" class=\"data row2 col1\" >86.956522</td>\n                        <td id=\"T_035cd_row2_col2\" class=\"data row2 col2\" >76.923077</td>\n                        <td id=\"T_035cd_row2_col3\" class=\"data row2 col3\" >81.250000</td>\n                        <td id=\"T_035cd_row2_col4\" class=\"data row2 col4\" >81.478261</td>\n                        <td id=\"T_035cd_row2_col5\" class=\"data row2 col5\" >9.806614</td>\n            </tr>\n            <tr>\n                        <th id=\"T_035cd_level0_row3\" class=\"row_heading level0 row3\" >4</th>\n                        <td id=\"T_035cd_row3_col0\" class=\"data row3 col0\" >Random Forest</td>\n                        <td id=\"T_035cd_row3_col1\" class=\"data row3 col1\" >86.956522</td>\n                        <td id=\"T_035cd_row3_col2\" class=\"data row3 col2\" >74.074074</td>\n                        <td id=\"T_035cd_row3_col3\" class=\"data row3 col3\" >79.166667</td>\n                        <td id=\"T_035cd_row3_col4\" class=\"data row3 col4\" >79.478261</td>\n                        <td id=\"T_035cd_row3_col5\" class=\"data row3 col5\" >0.291544</td>\n            </tr>\n            <tr>\n                        <th id=\"T_035cd_level0_row4\" class=\"row_heading level0 row4\" >5</th>\n                        <td id=\"T_035cd_row4_col0\" class=\"data row4 col0\" >LightGBM</td>\n                        <td id=\"T_035cd_row4_col1\" class=\"data row4 col1\" >86.956522</td>\n                        <td id=\"T_035cd_row4_col2\" class=\"data row4 col2\" >74.074074</td>\n                        <td id=\"T_035cd_row4_col3\" class=\"data row4 col3\" >79.166667</td>\n                        <td id=\"T_035cd_row4_col4\" class=\"data row4 col4\" >79.478261</td>\n                        <td id=\"T_035cd_row4_col5\" class=\"data row4 col5\" >4.305990</td>\n            </tr>\n            <tr>\n                        <th id=\"T_035cd_level0_row5\" class=\"row_heading level0 row5\" >6</th>\n                        <td id=\"T_035cd_row5_col0\" class=\"data row5 col0\" >Decision Tree</td>\n                        <td id=\"T_035cd_row5_col1\" class=\"data row5 col1\" >78.260870</td>\n                        <td id=\"T_035cd_row5_col2\" class=\"data row5 col2\" >75.000000</td>\n                        <td id=\"T_035cd_row5_col3\" class=\"data row5 col3\" >77.083333</td>\n                        <td id=\"T_035cd_row5_col4\" class=\"data row5 col4\" >77.130435</td>\n                        <td id=\"T_035cd_row5_col5\" class=\"data row5 col5\" >0.022384</td>\n            </tr>\n            <tr>\n                        <th id=\"T_035cd_level0_row6\" class=\"row_heading level0 row6\" >7</th>\n                        <td id=\"T_035cd_row6_col0\" class=\"data row6 col0\" >Skl HistGBM</td>\n                        <td id=\"T_035cd_row6_col1\" class=\"data row6 col1\" >86.956522</td>\n                        <td id=\"T_035cd_row6_col2\" class=\"data row6 col2\" >66.666667</td>\n                        <td id=\"T_035cd_row6_col3\" class=\"data row6 col3\" >72.916667</td>\n                        <td id=\"T_035cd_row6_col4\" class=\"data row6 col4\" >73.478261</td>\n                        <td id=\"T_035cd_row6_col5\" class=\"data row6 col5\" >60.524705</td>\n            </tr>\n            <tr>\n                        <th id=\"T_035cd_level0_row7\" class=\"row_heading level0 row7\" >8</th>\n                        <td id=\"T_035cd_row7_col0\" class=\"data row7 col0\" >CatBoost</td>\n                        <td id=\"T_035cd_row7_col1\" class=\"data row7 col1\" >78.260870</td>\n                        <td id=\"T_035cd_row7_col2\" class=\"data row7 col2\" >66.666667</td>\n                        <td id=\"T_035cd_row7_col3\" class=\"data row7 col3\" >70.833333</td>\n                        <td id=\"T_035cd_row7_col4\" class=\"data row7 col4\" >71.130435</td>\n                        <td id=\"T_035cd_row7_col5\" class=\"data row7 col5\" >0.302696</td>\n            </tr>\n            <tr>\n                        <th id=\"T_035cd_level0_row8\" class=\"row_heading level0 row8\" >9</th>\n                        <td id=\"T_035cd_row8_col0\" class=\"data row8 col0\" >AdaBoost</td>\n                        <td id=\"T_035cd_row8_col1\" class=\"data row8 col1\" >82.608696</td>\n                        <td id=\"T_035cd_row8_col2\" class=\"data row8 col2\" >61.290323</td>\n                        <td id=\"T_035cd_row8_col3\" class=\"data row8 col3\" >66.666667</td>\n                        <td id=\"T_035cd_row8_col4\" class=\"data row8 col4\" >67.304348</td>\n                        <td id=\"T_035cd_row8_col5\" class=\"data row8 col5\" >0.240287</td>\n            </tr>\n    </tbody></table>"
     },
     "metadata": {}
    }
   ],
   "execution_count": 22
  },
  {
   "cell_type": "code",
   "source": "best_model = tree_classifiers[results_ord.iloc[0].Model]\nbest_model.fit(X_train,Y_train)",
   "metadata": {
    "tags": [],
    "cell_id": "00014-b3f8f4cd-f4f1-490a-b683-26f8ed2a6c24",
    "deepnote_to_be_reexecuted": false,
    "source_hash": "feb8ae67",
    "execution_start": 1626705305235,
    "execution_millis": 500,
    "deepnote_cell_type": "code"
   },
   "outputs": [
    {
     "output_type": "execute_result",
     "execution_count": 23,
     "data": {
      "text/plain": "Pipeline(steps=[('columntransformer',\n                 ColumnTransformer(transformers=[('num',\n                                                  Pipeline(steps=[('imputer',\n                                                                   SimpleImputer()),\n                                                                  ('scaler',\n                                                                   StandardScaler()),\n                                                                  ('normalizer',\n                                                                   QuantileTransformer(n_quantiles=100))]),\n                                                  ['Age',\n                                                   'Annual Income (k$)']),\n                                                 ('cat',\n                                                  Pipeline(steps=[('imputer',\n                                                                   SimpleImputer(fill_value=-1,\n                                                                                 strategy='constant')),\n                                                                  ('encoder',\n                                                                   OrdinalEncoder(handle_unknown='use_encoded_value',\n                                                                                  unknown_value=-1))]),\n                                                  ['Genre'])])),\n                ('extratreesclassifier', ExtraTreesClassifier())])",
      "text/html": "<style>#sk-148d58b0-b4d4-4fa0-b394-dc7ec1b7ce1c {color: black;background-color: white;}#sk-148d58b0-b4d4-4fa0-b394-dc7ec1b7ce1c pre{padding: 0;}#sk-148d58b0-b4d4-4fa0-b394-dc7ec1b7ce1c div.sk-toggleable {background-color: white;}#sk-148d58b0-b4d4-4fa0-b394-dc7ec1b7ce1c label.sk-toggleable__label {cursor: pointer;display: block;width: 100%;margin-bottom: 0;padding: 0.2em 0.3em;box-sizing: border-box;text-align: center;}#sk-148d58b0-b4d4-4fa0-b394-dc7ec1b7ce1c div.sk-toggleable__content {max-height: 0;max-width: 0;overflow: hidden;text-align: left;background-color: #f0f8ff;}#sk-148d58b0-b4d4-4fa0-b394-dc7ec1b7ce1c div.sk-toggleable__content pre {margin: 0.2em;color: black;border-radius: 0.25em;background-color: #f0f8ff;}#sk-148d58b0-b4d4-4fa0-b394-dc7ec1b7ce1c input.sk-toggleable__control:checked~div.sk-toggleable__content {max-height: 200px;max-width: 100%;overflow: auto;}#sk-148d58b0-b4d4-4fa0-b394-dc7ec1b7ce1c div.sk-estimator input.sk-toggleable__control:checked~label.sk-toggleable__label {background-color: #d4ebff;}#sk-148d58b0-b4d4-4fa0-b394-dc7ec1b7ce1c div.sk-label input.sk-toggleable__control:checked~label.sk-toggleable__label {background-color: #d4ebff;}#sk-148d58b0-b4d4-4fa0-b394-dc7ec1b7ce1c input.sk-hidden--visually {border: 0;clip: rect(1px 1px 1px 1px);clip: rect(1px, 1px, 1px, 1px);height: 1px;margin: -1px;overflow: hidden;padding: 0;position: absolute;width: 1px;}#sk-148d58b0-b4d4-4fa0-b394-dc7ec1b7ce1c div.sk-estimator {font-family: monospace;background-color: #f0f8ff;margin: 0.25em 0.25em;border: 1px dotted black;border-radius: 0.25em;box-sizing: border-box;}#sk-148d58b0-b4d4-4fa0-b394-dc7ec1b7ce1c div.sk-estimator:hover {background-color: #d4ebff;}#sk-148d58b0-b4d4-4fa0-b394-dc7ec1b7ce1c div.sk-parallel-item::after {content: \"\";width: 100%;border-bottom: 1px solid gray;flex-grow: 1;}#sk-148d58b0-b4d4-4fa0-b394-dc7ec1b7ce1c div.sk-label:hover label.sk-toggleable__label {background-color: #d4ebff;}#sk-148d58b0-b4d4-4fa0-b394-dc7ec1b7ce1c div.sk-serial::before {content: \"\";position: absolute;border-left: 1px solid gray;box-sizing: border-box;top: 2em;bottom: 0;left: 50%;}#sk-148d58b0-b4d4-4fa0-b394-dc7ec1b7ce1c div.sk-serial {display: flex;flex-direction: column;align-items: center;background-color: white;}#sk-148d58b0-b4d4-4fa0-b394-dc7ec1b7ce1c div.sk-item {z-index: 1;}#sk-148d58b0-b4d4-4fa0-b394-dc7ec1b7ce1c div.sk-parallel {display: flex;align-items: stretch;justify-content: center;background-color: white;}#sk-148d58b0-b4d4-4fa0-b394-dc7ec1b7ce1c div.sk-parallel-item {display: flex;flex-direction: column;position: relative;background-color: white;}#sk-148d58b0-b4d4-4fa0-b394-dc7ec1b7ce1c div.sk-parallel-item:first-child::after {align-self: flex-end;width: 50%;}#sk-148d58b0-b4d4-4fa0-b394-dc7ec1b7ce1c div.sk-parallel-item:last-child::after {align-self: flex-start;width: 50%;}#sk-148d58b0-b4d4-4fa0-b394-dc7ec1b7ce1c div.sk-parallel-item:only-child::after {width: 0;}#sk-148d58b0-b4d4-4fa0-b394-dc7ec1b7ce1c div.sk-dashed-wrapped {border: 1px dashed gray;margin: 0.2em;box-sizing: border-box;padding-bottom: 0.1em;background-color: white;position: relative;}#sk-148d58b0-b4d4-4fa0-b394-dc7ec1b7ce1c div.sk-label label {font-family: monospace;font-weight: bold;background-color: white;display: inline-block;line-height: 1.2em;}#sk-148d58b0-b4d4-4fa0-b394-dc7ec1b7ce1c div.sk-label-container {position: relative;z-index: 2;text-align: center;}#sk-148d58b0-b4d4-4fa0-b394-dc7ec1b7ce1c div.sk-container {display: inline-block;position: relative;}</style><div id=\"sk-148d58b0-b4d4-4fa0-b394-dc7ec1b7ce1c\" class\"sk-top-container\"><div class=\"sk-container\"><div class=\"sk-item sk-dashed-wrapped\"><div class=\"sk-label-container\"><div class=\"sk-label sk-toggleable\"><input class=\"sk-toggleable__control sk-hidden--visually\" id=\"41546bf9-91fb-4744-9110-ad3b35cc948e\" type=\"checkbox\" ><label class=\"sk-toggleable__label\" for=\"41546bf9-91fb-4744-9110-ad3b35cc948e\">Pipeline</label><div class=\"sk-toggleable__content\"><pre>Pipeline(steps=[('columntransformer',\n                 ColumnTransformer(transformers=[('num',\n                                                  Pipeline(steps=[('imputer',\n                                                                   SimpleImputer()),\n                                                                  ('scaler',\n                                                                   StandardScaler()),\n                                                                  ('normalizer',\n                                                                   QuantileTransformer(n_quantiles=100))]),\n                                                  ['Age',\n                                                   'Annual Income (k$)']),\n                                                 ('cat',\n                                                  Pipeline(steps=[('imputer',\n                                                                   SimpleImputer(fill_value=-1,\n                                                                                 strategy='constant')),\n                                                                  ('encoder',\n                                                                   OrdinalEncoder(handle_unknown='use_encoded_value',\n                                                                                  unknown_value=-1))]),\n                                                  ['Genre'])])),\n                ('extratreesclassifier', ExtraTreesClassifier())])</pre></div></div></div><div class=\"sk-serial\"><div class=\"sk-item sk-dashed-wrapped\"><div class=\"sk-label-container\"><div class=\"sk-label sk-toggleable\"><input class=\"sk-toggleable__control sk-hidden--visually\" id=\"3e0b3d5c-185a-4102-948d-770f4a26902b\" type=\"checkbox\" ><label class=\"sk-toggleable__label\" for=\"3e0b3d5c-185a-4102-948d-770f4a26902b\">columntransformer: ColumnTransformer</label><div class=\"sk-toggleable__content\"><pre>ColumnTransformer(transformers=[('num',\n                                 Pipeline(steps=[('imputer', SimpleImputer()),\n                                                 ('scaler', StandardScaler()),\n                                                 ('normalizer',\n                                                  QuantileTransformer(n_quantiles=100))]),\n                                 ['Age', 'Annual Income (k$)']),\n                                ('cat',\n                                 Pipeline(steps=[('imputer',\n                                                  SimpleImputer(fill_value=-1,\n                                                                strategy='constant')),\n                                                 ('encoder',\n                                                  OrdinalEncoder(handle_unknown='use_encoded_value',\n                                                                 unknown_value=-1))]),\n                                 ['Genre'])])</pre></div></div></div><div class=\"sk-parallel\"><div class=\"sk-parallel-item\"><div class=\"sk-item\"><div class=\"sk-label-container\"><div class=\"sk-label sk-toggleable\"><input class=\"sk-toggleable__control sk-hidden--visually\" id=\"32ad6e63-333c-449c-ae02-37209f1f9994\" type=\"checkbox\" ><label class=\"sk-toggleable__label\" for=\"32ad6e63-333c-449c-ae02-37209f1f9994\">num</label><div class=\"sk-toggleable__content\"><pre>['Age', 'Annual Income (k$)']</pre></div></div></div><div class=\"sk-serial\"><div class=\"sk-item\"><div class=\"sk-serial\"><div class=\"sk-item\"><div class=\"sk-estimator sk-toggleable\"><input class=\"sk-toggleable__control sk-hidden--visually\" id=\"c174211b-0947-487f-bfb6-dbf700d16a06\" type=\"checkbox\" ><label class=\"sk-toggleable__label\" for=\"c174211b-0947-487f-bfb6-dbf700d16a06\">SimpleImputer</label><div class=\"sk-toggleable__content\"><pre>SimpleImputer()</pre></div></div></div><div class=\"sk-item\"><div class=\"sk-estimator sk-toggleable\"><input class=\"sk-toggleable__control sk-hidden--visually\" id=\"51d49c32-e2ab-40ef-92e0-ace49345b2c2\" type=\"checkbox\" ><label class=\"sk-toggleable__label\" for=\"51d49c32-e2ab-40ef-92e0-ace49345b2c2\">StandardScaler</label><div class=\"sk-toggleable__content\"><pre>StandardScaler()</pre></div></div></div><div class=\"sk-item\"><div class=\"sk-estimator sk-toggleable\"><input class=\"sk-toggleable__control sk-hidden--visually\" id=\"9ee1acdf-d563-4422-a447-46ba5e8117a1\" type=\"checkbox\" ><label class=\"sk-toggleable__label\" for=\"9ee1acdf-d563-4422-a447-46ba5e8117a1\">QuantileTransformer</label><div class=\"sk-toggleable__content\"><pre>QuantileTransformer(n_quantiles=100)</pre></div></div></div></div></div></div></div></div><div class=\"sk-parallel-item\"><div class=\"sk-item\"><div class=\"sk-label-container\"><div class=\"sk-label sk-toggleable\"><input class=\"sk-toggleable__control sk-hidden--visually\" id=\"f6b50ac5-9b74-4c82-a26c-3fddd9814fce\" type=\"checkbox\" ><label class=\"sk-toggleable__label\" for=\"f6b50ac5-9b74-4c82-a26c-3fddd9814fce\">cat</label><div class=\"sk-toggleable__content\"><pre>['Genre']</pre></div></div></div><div class=\"sk-serial\"><div class=\"sk-item\"><div class=\"sk-serial\"><div class=\"sk-item\"><div class=\"sk-estimator sk-toggleable\"><input class=\"sk-toggleable__control sk-hidden--visually\" id=\"4b2e7b0a-113d-427e-bd3e-596badf253cd\" type=\"checkbox\" ><label class=\"sk-toggleable__label\" for=\"4b2e7b0a-113d-427e-bd3e-596badf253cd\">SimpleImputer</label><div class=\"sk-toggleable__content\"><pre>SimpleImputer(fill_value=-1, strategy='constant')</pre></div></div></div><div class=\"sk-item\"><div class=\"sk-estimator sk-toggleable\"><input class=\"sk-toggleable__control sk-hidden--visually\" id=\"db0250a9-72ca-4fff-9151-4f5501d577df\" type=\"checkbox\" ><label class=\"sk-toggleable__label\" for=\"db0250a9-72ca-4fff-9151-4f5501d577df\">OrdinalEncoder</label><div class=\"sk-toggleable__content\"><pre>OrdinalEncoder(handle_unknown='use_encoded_value', unknown_value=-1)</pre></div></div></div></div></div></div></div></div></div></div><div class=\"sk-item\"><div class=\"sk-estimator sk-toggleable\"><input class=\"sk-toggleable__control sk-hidden--visually\" id=\"5bab455e-2ac0-495c-9bad-85ff006a2e9c\" type=\"checkbox\" ><label class=\"sk-toggleable__label\" for=\"5bab455e-2ac0-495c-9bad-85ff006a2e9c\">ExtraTreesClassifier</label><div class=\"sk-toggleable__content\"><pre>ExtraTreesClassifier()</pre></div></div></div></div></div></div></div>"
     },
     "metadata": {}
    }
   ],
   "execution_count": 23
  },
  {
   "cell_type": "code",
   "source": "",
   "metadata": {
    "tags": [],
    "cell_id": "00017-e86633d3-3ba6-4490-b97d-3167907b0178",
    "deepnote_to_be_reexecuted": false,
    "source_hash": "b623e53d",
    "execution_start": 1626705305776,
    "execution_millis": 0,
    "deepnote_cell_type": "code"
   },
   "outputs": [],
   "execution_count": 23
  },
  {
   "cell_type": "markdown",
   "source": "<a style='text-decoration:none;line-height:16px;display:flex;color:#5B5B62;padding:10px;justify-content:end;' href='https://deepnote.com?utm_source=created-in-deepnote-cell&projectId=ae2e0bca-572a-4bd6-aa62-1bb6656a18fd' target=\"_blank\">\n<img alt='Created in deepnote.com' style='display:inline;max-height:16px;margin:0px;margin-right:7.5px;' src='data:image/svg+xml;base64,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' > </img>\nCreated in <span style='font-weight:600;margin-left:4px;'>Deepnote</span></a>",
   "metadata": {
    "tags": [],
    "created_in_deepnote_cell": true,
    "deepnote_cell_type": "markdown"
   }
  }
 ],
 "nbformat": 4,
 "nbformat_minor": 2,
 "metadata": {
  "orig_nbformat": 2,
  "deepnote": {
   "is_reactive": false
  },
  "deepnote_notebook_id": "fc443391-0048-46e0-897a-7bacc7d79bd8",
  "deepnote_execution_queue": []
 }
}