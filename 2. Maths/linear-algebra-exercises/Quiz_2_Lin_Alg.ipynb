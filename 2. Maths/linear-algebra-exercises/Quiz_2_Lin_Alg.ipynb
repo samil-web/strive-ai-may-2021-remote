{
 "cells": [
  {
   "cell_type": "markdown",
   "metadata": {},
   "source": [
    "## Linear Algebra Quiz #2\n",
    "\n",
    "![title](./img/2_1.jpeg)\n",
    "\n",
    "We strongly suggest working with numpy :)"
   ]
  },
  {
   "cell_type": "code",
   "execution_count": 1,
   "metadata": {},
   "outputs": [],
   "source": [
    "#Do your imports here\n",
    "import numpy as np"
   ]
  },
  {
   "cell_type": "markdown",
   "metadata": {},
   "source": [
    "![title](./img/2_2.png)\n",
    "- Which vectors below define a plane spanned by a linear combination?"
   ]
  },
  {
   "cell_type": "code",
   "execution_count": 1,
   "metadata": {},
   "outputs": [],
   "source": [
    "def plane(vec1, vec2, vec3):\n",
    "    #returns false if the vectors don't define a plane and returns which are those vectors if true\n",
    "    pass\n",
    "\n",
    "    \n",
    "\n",
    "def complete_plane(*inputs):\n",
    "    pass    \n",
    "    #returns the first set of vectors to complete a plane, false otherwise"
   ]
  },
  {
   "cell_type": "markdown",
   "metadata": {},
   "source": [
    "![title](./img/2_3.png)\n",
    "- What is the solution for a and b?"
   ]
  },
  {
   "cell_type": "code",
   "execution_count": 7,
   "metadata": {},
   "outputs": [
    {
     "output_type": "stream",
     "name": "stdout",
     "text": [
      "(array([[-0.15384615],\n",
      "       [-0.23076923]]), array([], dtype=float64), 1, array([1.83847763e+01, 1.97069097e-15]))\n",
      "<ipython-input-7-2aa86b802808>:8: FutureWarning: `rcond` parameter will change to the default of machine precision times ``max(M, N)`` where M and N are the input matrix dimensions.\n",
      "To use the future default and silence this warning we advise to pass `rcond=None`, to keep using the old, explicitly pass `rcond=-1`.\n",
      "  print(np.linalg.lstsq(A, B))\n"
     ]
    }
   ],
   "source": [
    "# do you need a function for this? What is the most efficient way to solve it?\n",
    "# A_inv = np.linalg.inv([[2,3],[10,15]])\n",
    "# B = np.array([[-1],[-5]])\n",
    "# X = np.dot(A_inv, B)\n",
    "# Above returns singular matrix error --> no unique solution (i.e. infinite or no solution)\n",
    "A = np.array([[2,3],[10,15]])\n",
    "B = np.array([[-1],[-5]])\n",
    "print(np.linalg.lstsq(A, B))"
   ]
  },
  {
   "cell_type": "markdown",
   "metadata": {},
   "source": [
    "![title](./img/2_4.png)\n",
    "- What is the solution for a and b?"
   ]
  },
  {
   "cell_type": "code",
   "execution_count": 6,
   "metadata": {},
   "outputs": [
    {
     "output_type": "stream",
     "name": "stderr",
     "text": [
      "<ipython-input-6-63eeea4d30c9>:9: FutureWarning: `rcond` parameter will change to the default of machine precision times ``max(M, N)`` where M and N are the input matrix dimensions.\nTo use the future default and silence this warning we advise to pass `rcond=None`, to keep using the old, explicitly pass `rcond=-1`.\n  np.linalg.lstsq(A, B)\n"
     ]
    },
    {
     "output_type": "execute_result",
     "data": {
      "text/plain": [
       "(array([[-0.3],\n",
       "        [ 0.9]]),\n",
       " array([], dtype=float64),\n",
       " 1,\n",
       " array([4.47213595, 0.        ]))"
      ]
     },
     "metadata": {},
     "execution_count": 6
    }
   ],
   "source": [
    "# Idem. Do you need a function for this? What is the most efficient way to solve it?\n",
    "# A_inv = np.linalg.inv([[-1,3],[-1,3]])\n",
    "# B = np.array([[1],[5]])\n",
    "# X = np.dot(A_inv, B)\n",
    "# Above returns singular matrix error. Clearly above set of equations has no solution,\n",
    "# but trying with numpy anyways\n",
    "A = np.array([[-1,3],[-1,3]])\n",
    "B = np.array([[1],[5]])\n",
    "np.linalg.lstsq(A, B)"
   ]
  },
  {
   "cell_type": "code",
   "execution_count": null,
   "metadata": {},
   "outputs": [],
   "source": []
  }
 ],
 "metadata": {
  "kernelspec": {
   "name": "python395jvsc74a57bd063fd5069d213b44bf678585dea6b12cceca9941eaf7f819626cde1f2670de90d",
   "display_name": "Python 3.9.5 64-bit"
  },
  "language_info": {
   "codemirror_mode": {
    "name": "ipython",
    "version": 3
   },
   "file_extension": ".py",
   "mimetype": "text/x-python",
   "name": "python",
   "nbconvert_exporter": "python",
   "pygments_lexer": "ipython3",
   "version": "3.9.5"
  },
  "metadata": {
   "interpreter": {
    "hash": "63fd5069d213b44bf678585dea6b12cceca9941eaf7f819626cde1f2670de90d"
   }
  }
 },
 "nbformat": 4,
 "nbformat_minor": 2
}