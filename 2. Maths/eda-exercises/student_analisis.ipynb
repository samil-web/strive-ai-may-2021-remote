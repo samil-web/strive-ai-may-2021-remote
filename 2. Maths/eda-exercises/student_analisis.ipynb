{
 "cells": [
  {
   "cell_type": "markdown",
   "metadata": {},
   "source": [
    "# Student Analysis\n",
    "\n",
    "\n",
    "In this notebook I present to you data taken out of a real highschool. In this dataset we have a total of 16 variables and a single class. Most of the data is categorical, this means it is divided into a certain ammount of pre-defined categories. There also a few columns that have numerical data in the form of integers. In this notebook we will try to extract some key features in order to better understand the dataset and as part of the field of 'Data Analysis'."
   ]
  },
  {
   "cell_type": "code",
   "execution_count": 101,
   "metadata": {},
   "outputs": [],
   "source": [
    "import pandas as pd \n",
    "import numpy as np\n",
    "import seaborn as sns"
   ]
  },
  {
   "cell_type": "markdown",
   "metadata": {},
   "source": [
    "## Step 0: \n",
    "### Load the data into a pandas dataframe\n",
    "\n",
    "How do you intend to do data analysis without loading the data????\n",
    "# ?"
   ]
  },
  {
   "cell_type": "code",
   "execution_count": 15,
   "metadata": {},
   "outputs": [
    {
     "output_type": "execute_result",
     "data": {
      "text/plain": [
       "(480, 17)"
      ]
     },
     "metadata": {},
     "execution_count": 15
    }
   ],
   "source": [
    "df = pd.read_csv('./data/xAPI-Edu-Data.csv')\n",
    "df.shape"
   ]
  },
  {
   "cell_type": "markdown",
   "metadata": {},
   "source": [
    "## Step 1: \n",
    "### Print some elements from the dataset in order to take a quick look at the dataset\n",
    "\n",
    "Understanding the data you are working with is very important"
   ]
  },
  {
   "cell_type": "code",
   "execution_count": 10,
   "metadata": {
    "tags": []
   },
   "outputs": [
    {
     "output_type": "execute_result",
     "data": {
      "text/plain": [
       "    gender NationalITy PlaceofBirth       StageID GradeID SectionID  \\\n",
       "259      M          KW       KuwaIT    lowerlevel    G-04         A   \n",
       "359      F     lebanon      lebanon    lowerlevel    G-02         B   \n",
       "355      M      Jordan       Jordan    lowerlevel    G-02         B   \n",
       "210      M      Jordan  SaudiArabia  MiddleSchool    G-08         C   \n",
       "317      M      Jordan       Jordan    lowerlevel    G-02         A   \n",
       "83       M          KW       KuwaIT    lowerlevel    G-02         B   \n",
       "316      M      Jordan       Jordan    lowerlevel    G-02         A   \n",
       "76       M        Iran         Iran    HighSchool    G-09         A   \n",
       "169      M          KW       KuwaIT    lowerlevel    G-02         B   \n",
       "469      F      Jordan       Jordan  MiddleSchool    G-08         A   \n",
       "\n",
       "         Topic Semester Relation  raisedhands  VisITedResources  \\\n",
       "259    English        S      Mum           69                34   \n",
       "359     French        S      Mum           75                90   \n",
       "355     French        S      Mum           35                97   \n",
       "210    Spanish        S      Mum           27                90   \n",
       "317     French        S      Mum           50                90   \n",
       "83          IT        F   Father            7                 4   \n",
       "316     French        F      Mum           60                92   \n",
       "76          IT        F      Mum           15                70   \n",
       "169     French        S      Mum           30                12   \n",
       "469  Chemistry        S   Father            9                 6   \n",
       "\n",
       "     AnnouncementsView  Discussion ParentAnsweringSurvey  \\\n",
       "259                 12          17                    No   \n",
       "359                 51          17                   Yes   \n",
       "355                 41          23                   Yes   \n",
       "210                 82          14                   Yes   \n",
       "317                 83          13                   Yes   \n",
       "83                  10          50                    No   \n",
       "316                 83          23                   Yes   \n",
       "76                  37          44                   Yes   \n",
       "169                 29          23                    No   \n",
       "469                 15          85                    No   \n",
       "\n",
       "    ParentschoolSatisfaction StudentAbsenceDays Class  \n",
       "259                      Bad            Above-7     L  \n",
       "359                     Good            Under-7     H  \n",
       "355                     Good            Under-7     H  \n",
       "210                     Good            Under-7     H  \n",
       "317                     Good            Under-7     H  \n",
       "83                      Good            Above-7     M  \n",
       "316                     Good            Under-7     H  \n",
       "76                      Good            Under-7     M  \n",
       "169                      Bad            Under-7     M  \n",
       "469                      Bad            Above-7     L  "
      ],
      "text/html": "<div>\n<style scoped>\n    .dataframe tbody tr th:only-of-type {\n        vertical-align: middle;\n    }\n\n    .dataframe tbody tr th {\n        vertical-align: top;\n    }\n\n    .dataframe thead th {\n        text-align: right;\n    }\n</style>\n<table border=\"1\" class=\"dataframe\">\n  <thead>\n    <tr style=\"text-align: right;\">\n      <th></th>\n      <th>gender</th>\n      <th>NationalITy</th>\n      <th>PlaceofBirth</th>\n      <th>StageID</th>\n      <th>GradeID</th>\n      <th>SectionID</th>\n      <th>Topic</th>\n      <th>Semester</th>\n      <th>Relation</th>\n      <th>raisedhands</th>\n      <th>VisITedResources</th>\n      <th>AnnouncementsView</th>\n      <th>Discussion</th>\n      <th>ParentAnsweringSurvey</th>\n      <th>ParentschoolSatisfaction</th>\n      <th>StudentAbsenceDays</th>\n      <th>Class</th>\n    </tr>\n  </thead>\n  <tbody>\n    <tr>\n      <th>259</th>\n      <td>M</td>\n      <td>KW</td>\n      <td>KuwaIT</td>\n      <td>lowerlevel</td>\n      <td>G-04</td>\n      <td>A</td>\n      <td>English</td>\n      <td>S</td>\n      <td>Mum</td>\n      <td>69</td>\n      <td>34</td>\n      <td>12</td>\n      <td>17</td>\n      <td>No</td>\n      <td>Bad</td>\n      <td>Above-7</td>\n      <td>L</td>\n    </tr>\n    <tr>\n      <th>359</th>\n      <td>F</td>\n      <td>lebanon</td>\n      <td>lebanon</td>\n      <td>lowerlevel</td>\n      <td>G-02</td>\n      <td>B</td>\n      <td>French</td>\n      <td>S</td>\n      <td>Mum</td>\n      <td>75</td>\n      <td>90</td>\n      <td>51</td>\n      <td>17</td>\n      <td>Yes</td>\n      <td>Good</td>\n      <td>Under-7</td>\n      <td>H</td>\n    </tr>\n    <tr>\n      <th>355</th>\n      <td>M</td>\n      <td>Jordan</td>\n      <td>Jordan</td>\n      <td>lowerlevel</td>\n      <td>G-02</td>\n      <td>B</td>\n      <td>French</td>\n      <td>S</td>\n      <td>Mum</td>\n      <td>35</td>\n      <td>97</td>\n      <td>41</td>\n      <td>23</td>\n      <td>Yes</td>\n      <td>Good</td>\n      <td>Under-7</td>\n      <td>H</td>\n    </tr>\n    <tr>\n      <th>210</th>\n      <td>M</td>\n      <td>Jordan</td>\n      <td>SaudiArabia</td>\n      <td>MiddleSchool</td>\n      <td>G-08</td>\n      <td>C</td>\n      <td>Spanish</td>\n      <td>S</td>\n      <td>Mum</td>\n      <td>27</td>\n      <td>90</td>\n      <td>82</td>\n      <td>14</td>\n      <td>Yes</td>\n      <td>Good</td>\n      <td>Under-7</td>\n      <td>H</td>\n    </tr>\n    <tr>\n      <th>317</th>\n      <td>M</td>\n      <td>Jordan</td>\n      <td>Jordan</td>\n      <td>lowerlevel</td>\n      <td>G-02</td>\n      <td>A</td>\n      <td>French</td>\n      <td>S</td>\n      <td>Mum</td>\n      <td>50</td>\n      <td>90</td>\n      <td>83</td>\n      <td>13</td>\n      <td>Yes</td>\n      <td>Good</td>\n      <td>Under-7</td>\n      <td>H</td>\n    </tr>\n    <tr>\n      <th>83</th>\n      <td>M</td>\n      <td>KW</td>\n      <td>KuwaIT</td>\n      <td>lowerlevel</td>\n      <td>G-02</td>\n      <td>B</td>\n      <td>IT</td>\n      <td>F</td>\n      <td>Father</td>\n      <td>7</td>\n      <td>4</td>\n      <td>10</td>\n      <td>50</td>\n      <td>No</td>\n      <td>Good</td>\n      <td>Above-7</td>\n      <td>M</td>\n    </tr>\n    <tr>\n      <th>316</th>\n      <td>M</td>\n      <td>Jordan</td>\n      <td>Jordan</td>\n      <td>lowerlevel</td>\n      <td>G-02</td>\n      <td>A</td>\n      <td>French</td>\n      <td>F</td>\n      <td>Mum</td>\n      <td>60</td>\n      <td>92</td>\n      <td>83</td>\n      <td>23</td>\n      <td>Yes</td>\n      <td>Good</td>\n      <td>Under-7</td>\n      <td>H</td>\n    </tr>\n    <tr>\n      <th>76</th>\n      <td>M</td>\n      <td>Iran</td>\n      <td>Iran</td>\n      <td>HighSchool</td>\n      <td>G-09</td>\n      <td>A</td>\n      <td>IT</td>\n      <td>F</td>\n      <td>Mum</td>\n      <td>15</td>\n      <td>70</td>\n      <td>37</td>\n      <td>44</td>\n      <td>Yes</td>\n      <td>Good</td>\n      <td>Under-7</td>\n      <td>M</td>\n    </tr>\n    <tr>\n      <th>169</th>\n      <td>M</td>\n      <td>KW</td>\n      <td>KuwaIT</td>\n      <td>lowerlevel</td>\n      <td>G-02</td>\n      <td>B</td>\n      <td>French</td>\n      <td>S</td>\n      <td>Mum</td>\n      <td>30</td>\n      <td>12</td>\n      <td>29</td>\n      <td>23</td>\n      <td>No</td>\n      <td>Bad</td>\n      <td>Under-7</td>\n      <td>M</td>\n    </tr>\n    <tr>\n      <th>469</th>\n      <td>F</td>\n      <td>Jordan</td>\n      <td>Jordan</td>\n      <td>MiddleSchool</td>\n      <td>G-08</td>\n      <td>A</td>\n      <td>Chemistry</td>\n      <td>S</td>\n      <td>Father</td>\n      <td>9</td>\n      <td>6</td>\n      <td>15</td>\n      <td>85</td>\n      <td>No</td>\n      <td>Bad</td>\n      <td>Above-7</td>\n      <td>L</td>\n    </tr>\n  </tbody>\n</table>\n</div>"
     },
     "metadata": {},
     "execution_count": 10
    }
   ],
   "source": [
    "# Print 10 e random elements from the dataset.\n",
    "df.sample(10)"
   ]
  },
  {
   "cell_type": "markdown",
   "metadata": {},
   "source": [
    "## Step 2:\n",
    "### Check for missing or null values\n",
    "\n",
    "We should always check for missing values as part of getting familiarized with our data.\n"
   ]
  },
  {
   "cell_type": "code",
   "execution_count": 11,
   "metadata": {},
   "outputs": [
    {
     "output_type": "execute_result",
     "data": {
      "text/plain": [
       "gender                      0\n",
       "NationalITy                 0\n",
       "PlaceofBirth                0\n",
       "StageID                     0\n",
       "GradeID                     0\n",
       "SectionID                   0\n",
       "Topic                       0\n",
       "Semester                    0\n",
       "Relation                    0\n",
       "raisedhands                 0\n",
       "VisITedResources            0\n",
       "AnnouncementsView           0\n",
       "Discussion                  0\n",
       "ParentAnsweringSurvey       0\n",
       "ParentschoolSatisfaction    0\n",
       "StudentAbsenceDays          0\n",
       "Class                       0\n",
       "dtype: int64"
      ]
     },
     "metadata": {},
     "execution_count": 11
    }
   ],
   "source": [
    "# check for null values\n",
    "df.isnull().sum()"
   ]
  },
  {
   "cell_type": "markdown",
   "metadata": {},
   "source": [
    "## Step 3:\n",
    "### which is the column with the highest ammount of VARIABILITY?\n",
    "\n",
    "Time to start extracting info.\n"
   ]
  },
  {
   "cell_type": "code",
   "execution_count": 14,
   "metadata": {},
   "outputs": [
    {
     "output_type": "execute_result",
     "data": {
      "text/plain": [
       "raisedhands          30.779223\n",
       "VisITedResources     33.080007\n",
       "AnnouncementsView    26.611244\n",
       "Discussion           27.637735\n",
       "dtype: float64"
      ]
     },
     "metadata": {},
     "execution_count": 14
    }
   ],
   "source": [
    "# Check every column EXCEPT the one for the class and find out which one has the highest variability\n",
    "\n",
    "sigma = 0\n",
    "df.std(axis = 0, ddof = 1)"
   ]
  },
  {
   "cell_type": "markdown",
   "metadata": {},
   "source": [
    "## Step 4:\n",
    "### Find out for each variable their skewness and plot 5 of them.\n",
    "\n",
    "Understanding the biases of data can always give us some key information\n"
   ]
  },
  {
   "cell_type": "code",
   "execution_count": 115,
   "metadata": {},
   "outputs": [
    {
     "output_type": "execute_result",
     "data": {
      "text/plain": [
       "    gender NationalITy PlaceofBirth       StageID GradeID SectionID  \\\n",
       "0        M          KW       KuwaIT    lowerlevel    G-04         A   \n",
       "1        M          KW       KuwaIT    lowerlevel    G-04         A   \n",
       "2        M          KW       KuwaIT    lowerlevel    G-04         A   \n",
       "3        M          KW       KuwaIT    lowerlevel    G-04         A   \n",
       "4        M          KW       KuwaIT    lowerlevel    G-04         A   \n",
       "..     ...         ...          ...           ...     ...       ...   \n",
       "475      F      Jordan       Jordan  MiddleSchool    G-08         A   \n",
       "476      F      Jordan       Jordan  MiddleSchool    G-08         A   \n",
       "477      F      Jordan       Jordan  MiddleSchool    G-08         A   \n",
       "478      F      Jordan       Jordan  MiddleSchool    G-08         A   \n",
       "479      F      Jordan       Jordan  MiddleSchool    G-08         A   \n",
       "\n",
       "         Topic Semester Relation  raisedhands  VisITedResources  \\\n",
       "0           IT        F   Father           15                16   \n",
       "1           IT        F   Father           20                20   \n",
       "2           IT        F   Father           10                 7   \n",
       "3           IT        F   Father           30                25   \n",
       "4           IT        F   Father           40                50   \n",
       "..         ...      ...      ...          ...               ...   \n",
       "475  Chemistry        S   Father            5                 4   \n",
       "476    Geology        F   Father           50                77   \n",
       "477    Geology        S   Father           55                74   \n",
       "478    History        F   Father           30                17   \n",
       "479    History        S   Father           35                14   \n",
       "\n",
       "     AnnouncementsView  Discussion ParentAnsweringSurvey  \\\n",
       "0                    2          20                   Yes   \n",
       "1                    3          25                   Yes   \n",
       "2                    0          30                    No   \n",
       "3                    5          35                    No   \n",
       "4                   12          50                    No   \n",
       "..                 ...         ...                   ...   \n",
       "475                  5           8                    No   \n",
       "476                 14          28                    No   \n",
       "477                 25          29                    No   \n",
       "478                 14          57                    No   \n",
       "479                 23          62                    No   \n",
       "\n",
       "    ParentschoolSatisfaction StudentAbsenceDays Class  \n",
       "0                       Good            Under-7     M  \n",
       "1                       Good            Under-7     M  \n",
       "2                        Bad            Above-7     L  \n",
       "3                        Bad            Above-7     L  \n",
       "4                        Bad            Above-7     M  \n",
       "..                       ...                ...   ...  \n",
       "475                      Bad            Above-7     L  \n",
       "476                      Bad            Under-7     M  \n",
       "477                      Bad            Under-7     M  \n",
       "478                      Bad            Above-7     L  \n",
       "479                      Bad            Above-7     L  \n",
       "\n",
       "[480 rows x 17 columns]"
      ],
      "text/html": "<div>\n<style scoped>\n    .dataframe tbody tr th:only-of-type {\n        vertical-align: middle;\n    }\n\n    .dataframe tbody tr th {\n        vertical-align: top;\n    }\n\n    .dataframe thead th {\n        text-align: right;\n    }\n</style>\n<table border=\"1\" class=\"dataframe\">\n  <thead>\n    <tr style=\"text-align: right;\">\n      <th></th>\n      <th>gender</th>\n      <th>NationalITy</th>\n      <th>PlaceofBirth</th>\n      <th>StageID</th>\n      <th>GradeID</th>\n      <th>SectionID</th>\n      <th>Topic</th>\n      <th>Semester</th>\n      <th>Relation</th>\n      <th>raisedhands</th>\n      <th>VisITedResources</th>\n      <th>AnnouncementsView</th>\n      <th>Discussion</th>\n      <th>ParentAnsweringSurvey</th>\n      <th>ParentschoolSatisfaction</th>\n      <th>StudentAbsenceDays</th>\n      <th>Class</th>\n    </tr>\n  </thead>\n  <tbody>\n    <tr>\n      <th>0</th>\n      <td>M</td>\n      <td>KW</td>\n      <td>KuwaIT</td>\n      <td>lowerlevel</td>\n      <td>G-04</td>\n      <td>A</td>\n      <td>IT</td>\n      <td>F</td>\n      <td>Father</td>\n      <td>15</td>\n      <td>16</td>\n      <td>2</td>\n      <td>20</td>\n      <td>Yes</td>\n      <td>Good</td>\n      <td>Under-7</td>\n      <td>M</td>\n    </tr>\n    <tr>\n      <th>1</th>\n      <td>M</td>\n      <td>KW</td>\n      <td>KuwaIT</td>\n      <td>lowerlevel</td>\n      <td>G-04</td>\n      <td>A</td>\n      <td>IT</td>\n      <td>F</td>\n      <td>Father</td>\n      <td>20</td>\n      <td>20</td>\n      <td>3</td>\n      <td>25</td>\n      <td>Yes</td>\n      <td>Good</td>\n      <td>Under-7</td>\n      <td>M</td>\n    </tr>\n    <tr>\n      <th>2</th>\n      <td>M</td>\n      <td>KW</td>\n      <td>KuwaIT</td>\n      <td>lowerlevel</td>\n      <td>G-04</td>\n      <td>A</td>\n      <td>IT</td>\n      <td>F</td>\n      <td>Father</td>\n      <td>10</td>\n      <td>7</td>\n      <td>0</td>\n      <td>30</td>\n      <td>No</td>\n      <td>Bad</td>\n      <td>Above-7</td>\n      <td>L</td>\n    </tr>\n    <tr>\n      <th>3</th>\n      <td>M</td>\n      <td>KW</td>\n      <td>KuwaIT</td>\n      <td>lowerlevel</td>\n      <td>G-04</td>\n      <td>A</td>\n      <td>IT</td>\n      <td>F</td>\n      <td>Father</td>\n      <td>30</td>\n      <td>25</td>\n      <td>5</td>\n      <td>35</td>\n      <td>No</td>\n      <td>Bad</td>\n      <td>Above-7</td>\n      <td>L</td>\n    </tr>\n    <tr>\n      <th>4</th>\n      <td>M</td>\n      <td>KW</td>\n      <td>KuwaIT</td>\n      <td>lowerlevel</td>\n      <td>G-04</td>\n      <td>A</td>\n      <td>IT</td>\n      <td>F</td>\n      <td>Father</td>\n      <td>40</td>\n      <td>50</td>\n      <td>12</td>\n      <td>50</td>\n      <td>No</td>\n      <td>Bad</td>\n      <td>Above-7</td>\n      <td>M</td>\n    </tr>\n    <tr>\n      <th>...</th>\n      <td>...</td>\n      <td>...</td>\n      <td>...</td>\n      <td>...</td>\n      <td>...</td>\n      <td>...</td>\n      <td>...</td>\n      <td>...</td>\n      <td>...</td>\n      <td>...</td>\n      <td>...</td>\n      <td>...</td>\n      <td>...</td>\n      <td>...</td>\n      <td>...</td>\n      <td>...</td>\n      <td>...</td>\n    </tr>\n    <tr>\n      <th>475</th>\n      <td>F</td>\n      <td>Jordan</td>\n      <td>Jordan</td>\n      <td>MiddleSchool</td>\n      <td>G-08</td>\n      <td>A</td>\n      <td>Chemistry</td>\n      <td>S</td>\n      <td>Father</td>\n      <td>5</td>\n      <td>4</td>\n      <td>5</td>\n      <td>8</td>\n      <td>No</td>\n      <td>Bad</td>\n      <td>Above-7</td>\n      <td>L</td>\n    </tr>\n    <tr>\n      <th>476</th>\n      <td>F</td>\n      <td>Jordan</td>\n      <td>Jordan</td>\n      <td>MiddleSchool</td>\n      <td>G-08</td>\n      <td>A</td>\n      <td>Geology</td>\n      <td>F</td>\n      <td>Father</td>\n      <td>50</td>\n      <td>77</td>\n      <td>14</td>\n      <td>28</td>\n      <td>No</td>\n      <td>Bad</td>\n      <td>Under-7</td>\n      <td>M</td>\n    </tr>\n    <tr>\n      <th>477</th>\n      <td>F</td>\n      <td>Jordan</td>\n      <td>Jordan</td>\n      <td>MiddleSchool</td>\n      <td>G-08</td>\n      <td>A</td>\n      <td>Geology</td>\n      <td>S</td>\n      <td>Father</td>\n      <td>55</td>\n      <td>74</td>\n      <td>25</td>\n      <td>29</td>\n      <td>No</td>\n      <td>Bad</td>\n      <td>Under-7</td>\n      <td>M</td>\n    </tr>\n    <tr>\n      <th>478</th>\n      <td>F</td>\n      <td>Jordan</td>\n      <td>Jordan</td>\n      <td>MiddleSchool</td>\n      <td>G-08</td>\n      <td>A</td>\n      <td>History</td>\n      <td>F</td>\n      <td>Father</td>\n      <td>30</td>\n      <td>17</td>\n      <td>14</td>\n      <td>57</td>\n      <td>No</td>\n      <td>Bad</td>\n      <td>Above-7</td>\n      <td>L</td>\n    </tr>\n    <tr>\n      <th>479</th>\n      <td>F</td>\n      <td>Jordan</td>\n      <td>Jordan</td>\n      <td>MiddleSchool</td>\n      <td>G-08</td>\n      <td>A</td>\n      <td>History</td>\n      <td>S</td>\n      <td>Father</td>\n      <td>35</td>\n      <td>14</td>\n      <td>23</td>\n      <td>62</td>\n      <td>No</td>\n      <td>Bad</td>\n      <td>Above-7</td>\n      <td>L</td>\n    </tr>\n  </tbody>\n</table>\n<p>480 rows × 17 columns</p>\n</div>"
     },
     "metadata": {},
     "execution_count": 115
    }
   ],
   "source": [
    "df"
   ]
  },
  {
   "cell_type": "code",
   "execution_count": 22,
   "metadata": {},
   "outputs": [
    {
     "output_type": "execute_result",
     "data": {
      "text/plain": [
       "raisedhands          0.026962\n",
       "VisITedResources    -0.342441\n",
       "AnnouncementsView    0.399243\n",
       "Discussion           0.362594\n",
       "dtype: float64"
      ]
     },
     "metadata": {},
     "execution_count": 22
    }
   ],
   "source": [
    "# Select 5 columns and find out their bias\n",
    "range_columns = (df.columns.get_loc(\"raisedhands\"), df.columns.get_loc(\"Discussion\"))\n",
    "df_selected = df.iloc[:, range_columns[0]:range_columns[1]+1]\n",
    "df_selected.skew()"
   ]
  },
  {
   "cell_type": "markdown",
   "metadata": {},
   "source": [
    "## Step 5:\n",
    "### Find out for all the variables which is their correlation with the class\n",
    "\n",
    "Sometimes we need to reduce the ammount of features we feed the model in order to make it more lighweight, so we either select the best ones or take out the most useless ones."
   ]
  },
  {
   "cell_type": "code",
   "execution_count": 117,
   "metadata": {},
   "outputs": [
    {
     "output_type": "stream",
     "name": "stdout",
     "text": [
      "                   raisedhands  VisITedResources  AnnouncementsView  \\\nraisedhands           1.000000          0.691572           0.643918   \nVisITedResources      0.691572          1.000000           0.594500   \nAnnouncementsView     0.643918          0.594500           1.000000   \nDiscussion            0.339386          0.243292           0.417290   \n\n                   Discussion  \nraisedhands          0.339386  \nVisITedResources     0.243292  \nAnnouncementsView    0.417290  \nDiscussion           1.000000  \naaaaa raisedhands        raisedhands          1.000000\n                   VisITedResources     0.691572\n                   AnnouncementsView    0.643918\n                   Discussion           0.339386\nVisITedResources   raisedhands          0.691572\n                   VisITedResources     1.000000\n                   AnnouncementsView    0.594500\n                   Discussion           0.243292\nAnnouncementsView  raisedhands          0.643918\n                   VisITedResources     0.594500\n                   AnnouncementsView    1.000000\n                   Discussion           0.417290\nDiscussion         raisedhands          0.339386\n                   VisITedResources     0.243292\n                   AnnouncementsView    0.417290\n                   Discussion           1.000000\ndtype: float64\n"
     ]
    },
    {
     "output_type": "display_data",
     "data": {
      "text/plain": "Discussion         VisITedResources     0.243292\n                   raisedhands          0.339386\n                   AnnouncementsView    0.417290\nAnnouncementsView  VisITedResources     0.594500\n                   raisedhands          0.643918\nVisITedResources   raisedhands          0.691572\ndtype: float64"
     },
     "metadata": {}
    },
    {
     "output_type": "display_data",
     "data": {
      "text/plain": "VisITedResources   raisedhands          0.691572\nAnnouncementsView  raisedhands          0.643918\n                   VisITedResources     0.594500\nDiscussion         AnnouncementsView    0.417290\ndtype: float64"
     },
     "metadata": {}
    },
    {
     "output_type": "execute_result",
     "data": {
      "text/plain": [
       "                   raisedhands  VisITedResources  AnnouncementsView\n",
       "VisITedResources      0.691572               NaN                NaN\n",
       "AnnouncementsView     0.643918            0.5945                NaN\n",
       "Discussion                 NaN               NaN            0.41729"
      ],
      "text/html": "<div>\n<style scoped>\n    .dataframe tbody tr th:only-of-type {\n        vertical-align: middle;\n    }\n\n    .dataframe tbody tr th {\n        vertical-align: top;\n    }\n\n    .dataframe thead th {\n        text-align: right;\n    }\n</style>\n<table border=\"1\" class=\"dataframe\">\n  <thead>\n    <tr style=\"text-align: right;\">\n      <th></th>\n      <th>raisedhands</th>\n      <th>VisITedResources</th>\n      <th>AnnouncementsView</th>\n    </tr>\n  </thead>\n  <tbody>\n    <tr>\n      <th>VisITedResources</th>\n      <td>0.691572</td>\n      <td>NaN</td>\n      <td>NaN</td>\n    </tr>\n    <tr>\n      <th>AnnouncementsView</th>\n      <td>0.643918</td>\n      <td>0.5945</td>\n      <td>NaN</td>\n    </tr>\n    <tr>\n      <th>Discussion</th>\n      <td>NaN</td>\n      <td>NaN</td>\n      <td>0.41729</td>\n    </tr>\n  </tbody>\n</table>\n</div>"
     },
     "metadata": {},
     "execution_count": 117
    }
   ],
   "source": [
    "# Select the top 4 most correlated and put them in a different dataset\n",
    "# https://stackoverflow.com/questions/17778394/list-highest-correlation-pairs-from-a-large-correlation-matrix-in-pandas\n",
    "\n",
    "\n",
    "def remove_self_corr(df):\n",
    "    #df: unstacked correlation dataframe with multilevel index\n",
    "    \n",
    "    for multi_index in df.index:\n",
    "\n",
    "        if multi_index[0] == multi_index[1]:\n",
    "            df.drop(multi_index, inplace = True)\n",
    "\n",
    "    return df\n",
    "\n",
    "def remove_same_pairs(df):\n",
    "    #df: unstacked correlation dataframe with multilevel index\n",
    "\n",
    "    for multi_index in df.index:\n",
    "        \n",
    "        if multi_index[::-1] in df.index:\n",
    "            df.drop(multi_index, inplace = True)\n",
    "\n",
    "    return df\n",
    "\n",
    "print(df.corr())\n",
    "\n",
    "print(\"aaaaa\", df.corr().unstack())\n",
    "df_corr_most = df.corr().unstack()\n",
    "df_corr_most_sorted = df_corr_most.sort_values()\n",
    "\n",
    "df_corr_most = remove_self_corr(df_corr_most_sorted)\n",
    "df_corr_most = remove_same_pairs(df_corr_clean)\n",
    "\n",
    "display(df_corr_most)\n",
    "display(df_corr_clean.nlargest(4))\n",
    "\n",
    "df_corr_most = df_corr_clean.nlargest(4).unstack()\n",
    "df_corr_most"
   ]
  },
  {
   "cell_type": "code",
   "execution_count": 103,
   "metadata": {},
   "outputs": [
    {
     "output_type": "stream",
     "name": "stdout",
     "text": [
      "VisITedResources   Discussion           0.243292\nDiscussion         VisITedResources     0.243292\nraisedhands        Discussion           0.339386\nDiscussion         raisedhands          0.339386\nAnnouncementsView  Discussion           0.417290\nDiscussion         AnnouncementsView    0.417290\nVisITedResources   AnnouncementsView    0.594500\nAnnouncementsView  VisITedResources     0.594500\nraisedhands        AnnouncementsView    0.643918\nAnnouncementsView  raisedhands          0.643918\nraisedhands        VisITedResources     0.691572\nVisITedResources   raisedhands          0.691572\ndtype: float64\n\nLeast correlated:\n\n Discussion         VisITedResources     0.243292\n                   raisedhands          0.339386\n                   AnnouncementsView    0.417290\nAnnouncementsView  VisITedResources     0.594500\ndtype: float64\n"
     ]
    }
   ],
   "source": [
    "# Select the top 4 least correlated and create a new dataset without them\n",
    "df_corr_least = df.corr().unstack()\n",
    "df_corr_least_sorted = df_corr_least.sort_values()\n",
    "\n",
    "df_corr_least = remove_self_corr(df_corr_least_sorted)\n",
    "df_corr_least = remove_same_pairs(df_corr_clean)\n",
    "\n",
    "print(df_corr_least)\n",
    "print(\"\\nLeast correlated:\\n\\n\", df_corr_clean.nsmallest(4))"
   ]
  },
  {
   "cell_type": "code",
   "execution_count": 100,
   "metadata": {},
   "outputs": [],
   "source": [
    "# for index in df_corr_most_sorted.index:\n",
    "#     print(index[::-1])"
   ]
  },
  {
   "cell_type": "markdown",
   "metadata": {},
   "source": [
    "## Step 6:\n",
    "### Visualize the correlation between the previously selected 4 most correlated variables with the class\n",
    "\n",
    "Lets see if those are correlated too.\n"
   ]
  },
  {
   "cell_type": "code",
   "execution_count": 113,
   "metadata": {},
   "outputs": [
    {
     "output_type": "execute_result",
     "data": {
      "text/plain": [
       "<AxesSubplot:>"
      ]
     },
     "metadata": {},
     "execution_count": 113
    },
    {
     "output_type": "display_data",
     "data": {
      "text/plain": "<Figure size 432x288 with 2 Axes>",
      "image/svg+xml": "<?xml version=\"1.0\" encoding=\"utf-8\" standalone=\"no\"?>\r\n<!DOCTYPE svg PUBLIC \"-//W3C//DTD SVG 1.1//EN\"\r\n  \"http://www.w3.org/Graphics/SVG/1.1/DTD/svg11.dtd\">\r\n<svg height=\"343.886875pt\" version=\"1.1\" viewBox=\"0 0 451.1645 343.886875\" width=\"451.1645pt\" xmlns=\"http://www.w3.org/2000/svg\" xmlns:xlink=\"http://www.w3.org/1999/xlink\">\r\n <metadata>\r\n  <rdf:RDF xmlns:cc=\"http://creativecommons.org/ns#\" xmlns:dc=\"http://purl.org/dc/elements/1.1/\" xmlns:rdf=\"http://www.w3.org/1999/02/22-rdf-syntax-ns#\">\r\n   <cc:Work>\r\n    <dc:type rdf:resource=\"http://purl.org/dc/dcmitype/StillImage\"/>\r\n    <dc:date>2021-06-17T16:52:37.897071</dc:date>\r\n    <dc:format>image/svg+xml</dc:format>\r\n    <dc:creator>\r\n     <cc:Agent>\r\n      <dc:title>Matplotlib v3.4.2, https://matplotlib.org/</dc:title>\r\n     </cc:Agent>\r\n    </dc:creator>\r\n   </cc:Work>\r\n  </rdf:RDF>\r\n </metadata>\r\n <defs>\r\n  <style type=\"text/css\">*{stroke-linecap:butt;stroke-linejoin:round;}</style>\r\n </defs>\r\n <g id=\"figure_1\">\r\n  <g id=\"patch_1\">\r\n   <path d=\"M 0 343.886875 \r\nL 451.1645 343.886875 \r\nL 451.1645 0 \r\nL 0 0 \r\nz\r\n\" style=\"fill:none;\"/>\r\n  </g>\r\n  <g id=\"axes_1\">\r\n   <g id=\"patch_2\">\r\n    <path d=\"M 119.246875 224.64 \r\nL 387.086875 224.64 \r\nL 387.086875 7.2 \r\nL 119.246875 7.2 \r\nz\r\n\" style=\"fill:#ffffff;\"/>\r\n   </g>\r\n   <g id=\"QuadMesh_1\">\r\n    <path clip-path=\"url(#p4c58a7e60d)\" d=\"M 119.246875 7.2 \r\nL 208.526875 7.2 \r\nL 208.526875 79.68 \r\nL 119.246875 79.68 \r\nL 119.246875 7.2 \r\n\" style=\"fill:#faebdd;\"/>\r\n    <path clip-path=\"url(#p4c58a7e60d)\" d=\"M 208.526875 7.2 \r\nL 297.806875 7.2 \r\nL 297.806875 79.68 \r\nL 208.526875 79.68 \r\nL 208.526875 7.2 \r\n\" style=\"fill:none;\"/>\r\n    <path clip-path=\"url(#p4c58a7e60d)\" d=\"M 297.806875 7.2 \r\nL 387.086875 7.2 \r\nL 387.086875 79.68 \r\nL 297.806875 79.68 \r\nL 297.806875 7.2 \r\n\" style=\"fill:none;\"/>\r\n    <path clip-path=\"url(#p4c58a7e60d)\" d=\"M 119.246875 79.68 \r\nL 208.526875 79.68 \r\nL 208.526875 152.16 \r\nL 119.246875 152.16 \r\nL 119.246875 79.68 \r\n\" style=\"fill:#f6a880;\"/>\r\n    <path clip-path=\"url(#p4c58a7e60d)\" d=\"M 208.526875 79.68 \r\nL 297.806875 79.68 \r\nL 297.806875 152.16 \r\nL 208.526875 152.16 \r\nL 208.526875 79.68 \r\n\" style=\"fill:#ef5640;\"/>\r\n    <path clip-path=\"url(#p4c58a7e60d)\" d=\"M 297.806875 79.68 \r\nL 387.086875 79.68 \r\nL 387.086875 152.16 \r\nL 297.806875 152.16 \r\nL 297.806875 79.68 \r\n\" style=\"fill:none;\"/>\r\n    <path clip-path=\"url(#p4c58a7e60d)\" d=\"M 119.246875 152.16 \r\nL 208.526875 152.16 \r\nL 208.526875 224.64 \r\nL 119.246875 224.64 \r\nL 119.246875 152.16 \r\n\" style=\"fill:none;\"/>\r\n    <path clip-path=\"url(#p4c58a7e60d)\" d=\"M 208.526875 152.16 \r\nL 297.806875 152.16 \r\nL 297.806875 224.64 \r\nL 208.526875 224.64 \r\nL 208.526875 152.16 \r\n\" style=\"fill:none;\"/>\r\n    <path clip-path=\"url(#p4c58a7e60d)\" d=\"M 297.806875 152.16 \r\nL 387.086875 152.16 \r\nL 387.086875 224.64 \r\nL 297.806875 224.64 \r\nL 297.806875 152.16 \r\n\" style=\"fill:#03051a;\"/>\r\n   </g>\r\n   <g id=\"matplotlib.axis_1\">\r\n    <g id=\"xtick_1\">\r\n     <g id=\"line2d_1\">\r\n      <defs>\r\n       <path d=\"M 0 0 \r\nL 0 3.5 \r\n\" id=\"m85dc39ec7d\" style=\"stroke:#000000;stroke-width:0.8;\"/>\r\n      </defs>\r\n      <g>\r\n       <use style=\"stroke:#000000;stroke-width:0.8;\" x=\"163.886875\" xlink:href=\"#m85dc39ec7d\" y=\"224.64\"/>\r\n      </g>\r\n     </g>\r\n     <g id=\"text_1\">\r\n      <!-- raisedhands -->\r\n      <g transform=\"translate(166.64625 292.729062)rotate(-90)scale(0.1 -0.1)\">\r\n       <defs>\r\n        <path d=\"M 2631 2963 \r\nQ 2534 3019 2420 3045 \r\nQ 2306 3072 2169 3072 \r\nQ 1681 3072 1420 2755 \r\nQ 1159 2438 1159 1844 \r\nL 1159 0 \r\nL 581 0 \r\nL 581 3500 \r\nL 1159 3500 \r\nL 1159 2956 \r\nQ 1341 3275 1631 3429 \r\nQ 1922 3584 2338 3584 \r\nQ 2397 3584 2469 3576 \r\nQ 2541 3569 2628 3553 \r\nL 2631 2963 \r\nz\r\n\" id=\"DejaVuSans-72\" transform=\"scale(0.015625)\"/>\r\n        <path d=\"M 2194 1759 \r\nQ 1497 1759 1228 1600 \r\nQ 959 1441 959 1056 \r\nQ 959 750 1161 570 \r\nQ 1363 391 1709 391 \r\nQ 2188 391 2477 730 \r\nQ 2766 1069 2766 1631 \r\nL 2766 1759 \r\nL 2194 1759 \r\nz\r\nM 3341 1997 \r\nL 3341 0 \r\nL 2766 0 \r\nL 2766 531 \r\nQ 2569 213 2275 61 \r\nQ 1981 -91 1556 -91 \r\nQ 1019 -91 701 211 \r\nQ 384 513 384 1019 \r\nQ 384 1609 779 1909 \r\nQ 1175 2209 1959 2209 \r\nL 2766 2209 \r\nL 2766 2266 \r\nQ 2766 2663 2505 2880 \r\nQ 2244 3097 1772 3097 \r\nQ 1472 3097 1187 3025 \r\nQ 903 2953 641 2809 \r\nL 641 3341 \r\nQ 956 3463 1253 3523 \r\nQ 1550 3584 1831 3584 \r\nQ 2591 3584 2966 3190 \r\nQ 3341 2797 3341 1997 \r\nz\r\n\" id=\"DejaVuSans-61\" transform=\"scale(0.015625)\"/>\r\n        <path d=\"M 603 3500 \r\nL 1178 3500 \r\nL 1178 0 \r\nL 603 0 \r\nL 603 3500 \r\nz\r\nM 603 4863 \r\nL 1178 4863 \r\nL 1178 4134 \r\nL 603 4134 \r\nL 603 4863 \r\nz\r\n\" id=\"DejaVuSans-69\" transform=\"scale(0.015625)\"/>\r\n        <path d=\"M 2834 3397 \r\nL 2834 2853 \r\nQ 2591 2978 2328 3040 \r\nQ 2066 3103 1784 3103 \r\nQ 1356 3103 1142 2972 \r\nQ 928 2841 928 2578 \r\nQ 928 2378 1081 2264 \r\nQ 1234 2150 1697 2047 \r\nL 1894 2003 \r\nQ 2506 1872 2764 1633 \r\nQ 3022 1394 3022 966 \r\nQ 3022 478 2636 193 \r\nQ 2250 -91 1575 -91 \r\nQ 1294 -91 989 -36 \r\nQ 684 19 347 128 \r\nL 347 722 \r\nQ 666 556 975 473 \r\nQ 1284 391 1588 391 \r\nQ 1994 391 2212 530 \r\nQ 2431 669 2431 922 \r\nQ 2431 1156 2273 1281 \r\nQ 2116 1406 1581 1522 \r\nL 1381 1569 \r\nQ 847 1681 609 1914 \r\nQ 372 2147 372 2553 \r\nQ 372 3047 722 3315 \r\nQ 1072 3584 1716 3584 \r\nQ 2034 3584 2315 3537 \r\nQ 2597 3491 2834 3397 \r\nz\r\n\" id=\"DejaVuSans-73\" transform=\"scale(0.015625)\"/>\r\n        <path d=\"M 3597 1894 \r\nL 3597 1613 \r\nL 953 1613 \r\nQ 991 1019 1311 708 \r\nQ 1631 397 2203 397 \r\nQ 2534 397 2845 478 \r\nQ 3156 559 3463 722 \r\nL 3463 178 \r\nQ 3153 47 2828 -22 \r\nQ 2503 -91 2169 -91 \r\nQ 1331 -91 842 396 \r\nQ 353 884 353 1716 \r\nQ 353 2575 817 3079 \r\nQ 1281 3584 2069 3584 \r\nQ 2775 3584 3186 3129 \r\nQ 3597 2675 3597 1894 \r\nz\r\nM 3022 2063 \r\nQ 3016 2534 2758 2815 \r\nQ 2500 3097 2075 3097 \r\nQ 1594 3097 1305 2825 \r\nQ 1016 2553 972 2059 \r\nL 3022 2063 \r\nz\r\n\" id=\"DejaVuSans-65\" transform=\"scale(0.015625)\"/>\r\n        <path d=\"M 2906 2969 \r\nL 2906 4863 \r\nL 3481 4863 \r\nL 3481 0 \r\nL 2906 0 \r\nL 2906 525 \r\nQ 2725 213 2448 61 \r\nQ 2172 -91 1784 -91 \r\nQ 1150 -91 751 415 \r\nQ 353 922 353 1747 \r\nQ 353 2572 751 3078 \r\nQ 1150 3584 1784 3584 \r\nQ 2172 3584 2448 3432 \r\nQ 2725 3281 2906 2969 \r\nz\r\nM 947 1747 \r\nQ 947 1113 1208 752 \r\nQ 1469 391 1925 391 \r\nQ 2381 391 2643 752 \r\nQ 2906 1113 2906 1747 \r\nQ 2906 2381 2643 2742 \r\nQ 2381 3103 1925 3103 \r\nQ 1469 3103 1208 2742 \r\nQ 947 2381 947 1747 \r\nz\r\n\" id=\"DejaVuSans-64\" transform=\"scale(0.015625)\"/>\r\n        <path d=\"M 3513 2113 \r\nL 3513 0 \r\nL 2938 0 \r\nL 2938 2094 \r\nQ 2938 2591 2744 2837 \r\nQ 2550 3084 2163 3084 \r\nQ 1697 3084 1428 2787 \r\nQ 1159 2491 1159 1978 \r\nL 1159 0 \r\nL 581 0 \r\nL 581 4863 \r\nL 1159 4863 \r\nL 1159 2956 \r\nQ 1366 3272 1645 3428 \r\nQ 1925 3584 2291 3584 \r\nQ 2894 3584 3203 3211 \r\nQ 3513 2838 3513 2113 \r\nz\r\n\" id=\"DejaVuSans-68\" transform=\"scale(0.015625)\"/>\r\n        <path d=\"M 3513 2113 \r\nL 3513 0 \r\nL 2938 0 \r\nL 2938 2094 \r\nQ 2938 2591 2744 2837 \r\nQ 2550 3084 2163 3084 \r\nQ 1697 3084 1428 2787 \r\nQ 1159 2491 1159 1978 \r\nL 1159 0 \r\nL 581 0 \r\nL 581 3500 \r\nL 1159 3500 \r\nL 1159 2956 \r\nQ 1366 3272 1645 3428 \r\nQ 1925 3584 2291 3584 \r\nQ 2894 3584 3203 3211 \r\nQ 3513 2838 3513 2113 \r\nz\r\n\" id=\"DejaVuSans-6e\" transform=\"scale(0.015625)\"/>\r\n       </defs>\r\n       <use xlink:href=\"#DejaVuSans-72\"/>\r\n       <use x=\"41.113281\" xlink:href=\"#DejaVuSans-61\"/>\r\n       <use x=\"102.392578\" xlink:href=\"#DejaVuSans-69\"/>\r\n       <use x=\"130.175781\" xlink:href=\"#DejaVuSans-73\"/>\r\n       <use x=\"182.275391\" xlink:href=\"#DejaVuSans-65\"/>\r\n       <use x=\"243.798828\" xlink:href=\"#DejaVuSans-64\"/>\r\n       <use x=\"307.275391\" xlink:href=\"#DejaVuSans-68\"/>\r\n       <use x=\"370.654297\" xlink:href=\"#DejaVuSans-61\"/>\r\n       <use x=\"431.933594\" xlink:href=\"#DejaVuSans-6e\"/>\r\n       <use x=\"495.3125\" xlink:href=\"#DejaVuSans-64\"/>\r\n       <use x=\"558.789062\" xlink:href=\"#DejaVuSans-73\"/>\r\n      </g>\r\n     </g>\r\n    </g>\r\n    <g id=\"xtick_2\">\r\n     <g id=\"line2d_2\">\r\n      <g>\r\n       <use style=\"stroke:#000000;stroke-width:0.8;\" x=\"253.166875\" xlink:href=\"#m85dc39ec7d\" y=\"224.64\"/>\r\n      </g>\r\n     </g>\r\n     <g id=\"text_2\">\r\n      <!-- VisITedResources -->\r\n      <g transform=\"translate(255.92625 317.166562)rotate(-90)scale(0.1 -0.1)\">\r\n       <defs>\r\n        <path d=\"M 1831 0 \r\nL 50 4666 \r\nL 709 4666 \r\nL 2188 738 \r\nL 3669 4666 \r\nL 4325 4666 \r\nL 2547 0 \r\nL 1831 0 \r\nz\r\n\" id=\"DejaVuSans-56\" transform=\"scale(0.015625)\"/>\r\n        <path d=\"M 628 4666 \r\nL 1259 4666 \r\nL 1259 0 \r\nL 628 0 \r\nL 628 4666 \r\nz\r\n\" id=\"DejaVuSans-49\" transform=\"scale(0.015625)\"/>\r\n        <path d=\"M -19 4666 \r\nL 3928 4666 \r\nL 3928 4134 \r\nL 2272 4134 \r\nL 2272 0 \r\nL 1638 0 \r\nL 1638 4134 \r\nL -19 4134 \r\nL -19 4666 \r\nz\r\n\" id=\"DejaVuSans-54\" transform=\"scale(0.015625)\"/>\r\n        <path d=\"M 2841 2188 \r\nQ 3044 2119 3236 1894 \r\nQ 3428 1669 3622 1275 \r\nL 4263 0 \r\nL 3584 0 \r\nL 2988 1197 \r\nQ 2756 1666 2539 1819 \r\nQ 2322 1972 1947 1972 \r\nL 1259 1972 \r\nL 1259 0 \r\nL 628 0 \r\nL 628 4666 \r\nL 2053 4666 \r\nQ 2853 4666 3247 4331 \r\nQ 3641 3997 3641 3322 \r\nQ 3641 2881 3436 2590 \r\nQ 3231 2300 2841 2188 \r\nz\r\nM 1259 4147 \r\nL 1259 2491 \r\nL 2053 2491 \r\nQ 2509 2491 2742 2702 \r\nQ 2975 2913 2975 3322 \r\nQ 2975 3731 2742 3939 \r\nQ 2509 4147 2053 4147 \r\nL 1259 4147 \r\nz\r\n\" id=\"DejaVuSans-52\" transform=\"scale(0.015625)\"/>\r\n        <path d=\"M 1959 3097 \r\nQ 1497 3097 1228 2736 \r\nQ 959 2375 959 1747 \r\nQ 959 1119 1226 758 \r\nQ 1494 397 1959 397 \r\nQ 2419 397 2687 759 \r\nQ 2956 1122 2956 1747 \r\nQ 2956 2369 2687 2733 \r\nQ 2419 3097 1959 3097 \r\nz\r\nM 1959 3584 \r\nQ 2709 3584 3137 3096 \r\nQ 3566 2609 3566 1747 \r\nQ 3566 888 3137 398 \r\nQ 2709 -91 1959 -91 \r\nQ 1206 -91 779 398 \r\nQ 353 888 353 1747 \r\nQ 353 2609 779 3096 \r\nQ 1206 3584 1959 3584 \r\nz\r\n\" id=\"DejaVuSans-6f\" transform=\"scale(0.015625)\"/>\r\n        <path d=\"M 544 1381 \r\nL 544 3500 \r\nL 1119 3500 \r\nL 1119 1403 \r\nQ 1119 906 1312 657 \r\nQ 1506 409 1894 409 \r\nQ 2359 409 2629 706 \r\nQ 2900 1003 2900 1516 \r\nL 2900 3500 \r\nL 3475 3500 \r\nL 3475 0 \r\nL 2900 0 \r\nL 2900 538 \r\nQ 2691 219 2414 64 \r\nQ 2138 -91 1772 -91 \r\nQ 1169 -91 856 284 \r\nQ 544 659 544 1381 \r\nz\r\nM 1991 3584 \r\nL 1991 3584 \r\nz\r\n\" id=\"DejaVuSans-75\" transform=\"scale(0.015625)\"/>\r\n        <path d=\"M 3122 3366 \r\nL 3122 2828 \r\nQ 2878 2963 2633 3030 \r\nQ 2388 3097 2138 3097 \r\nQ 1578 3097 1268 2742 \r\nQ 959 2388 959 1747 \r\nQ 959 1106 1268 751 \r\nQ 1578 397 2138 397 \r\nQ 2388 397 2633 464 \r\nQ 2878 531 3122 666 \r\nL 3122 134 \r\nQ 2881 22 2623 -34 \r\nQ 2366 -91 2075 -91 \r\nQ 1284 -91 818 406 \r\nQ 353 903 353 1747 \r\nQ 353 2603 823 3093 \r\nQ 1294 3584 2113 3584 \r\nQ 2378 3584 2631 3529 \r\nQ 2884 3475 3122 3366 \r\nz\r\n\" id=\"DejaVuSans-63\" transform=\"scale(0.015625)\"/>\r\n       </defs>\r\n       <use xlink:href=\"#DejaVuSans-56\"/>\r\n       <use x=\"66.158203\" xlink:href=\"#DejaVuSans-69\"/>\r\n       <use x=\"93.941406\" xlink:href=\"#DejaVuSans-73\"/>\r\n       <use x=\"146.041016\" xlink:href=\"#DejaVuSans-49\"/>\r\n       <use x=\"175.533203\" xlink:href=\"#DejaVuSans-54\"/>\r\n       <use x=\"219.617188\" xlink:href=\"#DejaVuSans-65\"/>\r\n       <use x=\"281.140625\" xlink:href=\"#DejaVuSans-64\"/>\r\n       <use x=\"344.617188\" xlink:href=\"#DejaVuSans-52\"/>\r\n       <use x=\"409.599609\" xlink:href=\"#DejaVuSans-65\"/>\r\n       <use x=\"471.123047\" xlink:href=\"#DejaVuSans-73\"/>\r\n       <use x=\"523.222656\" xlink:href=\"#DejaVuSans-6f\"/>\r\n       <use x=\"584.404297\" xlink:href=\"#DejaVuSans-75\"/>\r\n       <use x=\"647.783203\" xlink:href=\"#DejaVuSans-72\"/>\r\n       <use x=\"686.646484\" xlink:href=\"#DejaVuSans-63\"/>\r\n       <use x=\"741.626953\" xlink:href=\"#DejaVuSans-65\"/>\r\n       <use x=\"803.150391\" xlink:href=\"#DejaVuSans-73\"/>\r\n      </g>\r\n     </g>\r\n    </g>\r\n    <g id=\"xtick_3\">\r\n     <g id=\"line2d_3\">\r\n      <g>\r\n       <use style=\"stroke:#000000;stroke-width:0.8;\" x=\"342.446875\" xlink:href=\"#m85dc39ec7d\" y=\"224.64\"/>\r\n      </g>\r\n     </g>\r\n     <g id=\"text_3\">\r\n      <!-- AnnouncementsView -->\r\n      <g transform=\"translate(345.20625 336.686875)rotate(-90)scale(0.1 -0.1)\">\r\n       <defs>\r\n        <path d=\"M 2188 4044 \r\nL 1331 1722 \r\nL 3047 1722 \r\nL 2188 4044 \r\nz\r\nM 1831 4666 \r\nL 2547 4666 \r\nL 4325 0 \r\nL 3669 0 \r\nL 3244 1197 \r\nL 1141 1197 \r\nL 716 0 \r\nL 50 0 \r\nL 1831 4666 \r\nz\r\n\" id=\"DejaVuSans-41\" transform=\"scale(0.015625)\"/>\r\n        <path d=\"M 3328 2828 \r\nQ 3544 3216 3844 3400 \r\nQ 4144 3584 4550 3584 \r\nQ 5097 3584 5394 3201 \r\nQ 5691 2819 5691 2113 \r\nL 5691 0 \r\nL 5113 0 \r\nL 5113 2094 \r\nQ 5113 2597 4934 2840 \r\nQ 4756 3084 4391 3084 \r\nQ 3944 3084 3684 2787 \r\nQ 3425 2491 3425 1978 \r\nL 3425 0 \r\nL 2847 0 \r\nL 2847 2094 \r\nQ 2847 2600 2669 2842 \r\nQ 2491 3084 2119 3084 \r\nQ 1678 3084 1418 2786 \r\nQ 1159 2488 1159 1978 \r\nL 1159 0 \r\nL 581 0 \r\nL 581 3500 \r\nL 1159 3500 \r\nL 1159 2956 \r\nQ 1356 3278 1631 3431 \r\nQ 1906 3584 2284 3584 \r\nQ 2666 3584 2933 3390 \r\nQ 3200 3197 3328 2828 \r\nz\r\n\" id=\"DejaVuSans-6d\" transform=\"scale(0.015625)\"/>\r\n        <path d=\"M 1172 4494 \r\nL 1172 3500 \r\nL 2356 3500 \r\nL 2356 3053 \r\nL 1172 3053 \r\nL 1172 1153 \r\nQ 1172 725 1289 603 \r\nQ 1406 481 1766 481 \r\nL 2356 481 \r\nL 2356 0 \r\nL 1766 0 \r\nQ 1100 0 847 248 \r\nQ 594 497 594 1153 \r\nL 594 3053 \r\nL 172 3053 \r\nL 172 3500 \r\nL 594 3500 \r\nL 594 4494 \r\nL 1172 4494 \r\nz\r\n\" id=\"DejaVuSans-74\" transform=\"scale(0.015625)\"/>\r\n        <path d=\"M 269 3500 \r\nL 844 3500 \r\nL 1563 769 \r\nL 2278 3500 \r\nL 2956 3500 \r\nL 3675 769 \r\nL 4391 3500 \r\nL 4966 3500 \r\nL 4050 0 \r\nL 3372 0 \r\nL 2619 2869 \r\nL 1863 0 \r\nL 1184 0 \r\nL 269 3500 \r\nz\r\n\" id=\"DejaVuSans-77\" transform=\"scale(0.015625)\"/>\r\n       </defs>\r\n       <use xlink:href=\"#DejaVuSans-41\"/>\r\n       <use x=\"68.408203\" xlink:href=\"#DejaVuSans-6e\"/>\r\n       <use x=\"131.787109\" xlink:href=\"#DejaVuSans-6e\"/>\r\n       <use x=\"195.166016\" xlink:href=\"#DejaVuSans-6f\"/>\r\n       <use x=\"256.347656\" xlink:href=\"#DejaVuSans-75\"/>\r\n       <use x=\"319.726562\" xlink:href=\"#DejaVuSans-6e\"/>\r\n       <use x=\"383.105469\" xlink:href=\"#DejaVuSans-63\"/>\r\n       <use x=\"438.085938\" xlink:href=\"#DejaVuSans-65\"/>\r\n       <use x=\"499.609375\" xlink:href=\"#DejaVuSans-6d\"/>\r\n       <use x=\"597.021484\" xlink:href=\"#DejaVuSans-65\"/>\r\n       <use x=\"658.544922\" xlink:href=\"#DejaVuSans-6e\"/>\r\n       <use x=\"721.923828\" xlink:href=\"#DejaVuSans-74\"/>\r\n       <use x=\"761.132812\" xlink:href=\"#DejaVuSans-73\"/>\r\n       <use x=\"813.232422\" xlink:href=\"#DejaVuSans-56\"/>\r\n       <use x=\"879.390625\" xlink:href=\"#DejaVuSans-69\"/>\r\n       <use x=\"907.173828\" xlink:href=\"#DejaVuSans-65\"/>\r\n       <use x=\"968.697266\" xlink:href=\"#DejaVuSans-77\"/>\r\n      </g>\r\n     </g>\r\n    </g>\r\n   </g>\r\n   <g id=\"matplotlib.axis_2\">\r\n    <g id=\"ytick_1\">\r\n     <g id=\"line2d_4\">\r\n      <defs>\r\n       <path d=\"M 0 0 \r\nL -3.5 0 \r\n\" id=\"m6a9c534642\" style=\"stroke:#000000;stroke-width:0.8;\"/>\r\n      </defs>\r\n      <g>\r\n       <use style=\"stroke:#000000;stroke-width:0.8;\" x=\"119.246875\" xlink:href=\"#m6a9c534642\" y=\"43.44\"/>\r\n      </g>\r\n     </g>\r\n     <g id=\"text_4\">\r\n      <!-- VisITedResources -->\r\n      <g transform=\"translate(26.720312 47.239219)scale(0.1 -0.1)\">\r\n       <use xlink:href=\"#DejaVuSans-56\"/>\r\n       <use x=\"66.158203\" xlink:href=\"#DejaVuSans-69\"/>\r\n       <use x=\"93.941406\" xlink:href=\"#DejaVuSans-73\"/>\r\n       <use x=\"146.041016\" xlink:href=\"#DejaVuSans-49\"/>\r\n       <use x=\"175.533203\" xlink:href=\"#DejaVuSans-54\"/>\r\n       <use x=\"219.617188\" xlink:href=\"#DejaVuSans-65\"/>\r\n       <use x=\"281.140625\" xlink:href=\"#DejaVuSans-64\"/>\r\n       <use x=\"344.617188\" xlink:href=\"#DejaVuSans-52\"/>\r\n       <use x=\"409.599609\" xlink:href=\"#DejaVuSans-65\"/>\r\n       <use x=\"471.123047\" xlink:href=\"#DejaVuSans-73\"/>\r\n       <use x=\"523.222656\" xlink:href=\"#DejaVuSans-6f\"/>\r\n       <use x=\"584.404297\" xlink:href=\"#DejaVuSans-75\"/>\r\n       <use x=\"647.783203\" xlink:href=\"#DejaVuSans-72\"/>\r\n       <use x=\"686.646484\" xlink:href=\"#DejaVuSans-63\"/>\r\n       <use x=\"741.626953\" xlink:href=\"#DejaVuSans-65\"/>\r\n       <use x=\"803.150391\" xlink:href=\"#DejaVuSans-73\"/>\r\n      </g>\r\n     </g>\r\n    </g>\r\n    <g id=\"ytick_2\">\r\n     <g id=\"line2d_5\">\r\n      <g>\r\n       <use style=\"stroke:#000000;stroke-width:0.8;\" x=\"119.246875\" xlink:href=\"#m6a9c534642\" y=\"115.92\"/>\r\n      </g>\r\n     </g>\r\n     <g id=\"text_5\">\r\n      <!-- AnnouncementsView -->\r\n      <g transform=\"translate(7.2 119.719219)scale(0.1 -0.1)\">\r\n       <use xlink:href=\"#DejaVuSans-41\"/>\r\n       <use x=\"68.408203\" xlink:href=\"#DejaVuSans-6e\"/>\r\n       <use x=\"131.787109\" xlink:href=\"#DejaVuSans-6e\"/>\r\n       <use x=\"195.166016\" xlink:href=\"#DejaVuSans-6f\"/>\r\n       <use x=\"256.347656\" xlink:href=\"#DejaVuSans-75\"/>\r\n       <use x=\"319.726562\" xlink:href=\"#DejaVuSans-6e\"/>\r\n       <use x=\"383.105469\" xlink:href=\"#DejaVuSans-63\"/>\r\n       <use x=\"438.085938\" xlink:href=\"#DejaVuSans-65\"/>\r\n       <use x=\"499.609375\" xlink:href=\"#DejaVuSans-6d\"/>\r\n       <use x=\"597.021484\" xlink:href=\"#DejaVuSans-65\"/>\r\n       <use x=\"658.544922\" xlink:href=\"#DejaVuSans-6e\"/>\r\n       <use x=\"721.923828\" xlink:href=\"#DejaVuSans-74\"/>\r\n       <use x=\"761.132812\" xlink:href=\"#DejaVuSans-73\"/>\r\n       <use x=\"813.232422\" xlink:href=\"#DejaVuSans-56\"/>\r\n       <use x=\"879.390625\" xlink:href=\"#DejaVuSans-69\"/>\r\n       <use x=\"907.173828\" xlink:href=\"#DejaVuSans-65\"/>\r\n       <use x=\"968.697266\" xlink:href=\"#DejaVuSans-77\"/>\r\n      </g>\r\n     </g>\r\n    </g>\r\n    <g id=\"ytick_3\">\r\n     <g id=\"line2d_6\">\r\n      <g>\r\n       <use style=\"stroke:#000000;stroke-width:0.8;\" x=\"119.246875\" xlink:href=\"#m6a9c534642\" y=\"188.4\"/>\r\n      </g>\r\n     </g>\r\n     <g id=\"text_6\">\r\n      <!-- Discussion -->\r\n      <g transform=\"translate(59.070312 192.199219)scale(0.1 -0.1)\">\r\n       <defs>\r\n        <path d=\"M 1259 4147 \r\nL 1259 519 \r\nL 2022 519 \r\nQ 2988 519 3436 956 \r\nQ 3884 1394 3884 2338 \r\nQ 3884 3275 3436 3711 \r\nQ 2988 4147 2022 4147 \r\nL 1259 4147 \r\nz\r\nM 628 4666 \r\nL 1925 4666 \r\nQ 3281 4666 3915 4102 \r\nQ 4550 3538 4550 2338 \r\nQ 4550 1131 3912 565 \r\nQ 3275 0 1925 0 \r\nL 628 0 \r\nL 628 4666 \r\nz\r\n\" id=\"DejaVuSans-44\" transform=\"scale(0.015625)\"/>\r\n       </defs>\r\n       <use xlink:href=\"#DejaVuSans-44\"/>\r\n       <use x=\"77.001953\" xlink:href=\"#DejaVuSans-69\"/>\r\n       <use x=\"104.785156\" xlink:href=\"#DejaVuSans-73\"/>\r\n       <use x=\"156.884766\" xlink:href=\"#DejaVuSans-63\"/>\r\n       <use x=\"211.865234\" xlink:href=\"#DejaVuSans-75\"/>\r\n       <use x=\"275.244141\" xlink:href=\"#DejaVuSans-73\"/>\r\n       <use x=\"327.34375\" xlink:href=\"#DejaVuSans-73\"/>\r\n       <use x=\"379.443359\" xlink:href=\"#DejaVuSans-69\"/>\r\n       <use x=\"407.226562\" xlink:href=\"#DejaVuSans-6f\"/>\r\n       <use x=\"468.408203\" xlink:href=\"#DejaVuSans-6e\"/>\r\n      </g>\r\n     </g>\r\n    </g>\r\n   </g>\r\n  </g>\r\n  <g id=\"axes_2\">\r\n   <g id=\"patch_3\">\r\n    <path d=\"M 403.826875 224.64 \r\nL 414.698875 224.64 \r\nL 414.698875 7.2 \r\nL 403.826875 7.2 \r\nz\r\n\" style=\"fill:#ffffff;\"/>\r\n   </g>\r\n   <g id=\"patch_4\">\r\n    <path clip-path=\"url(#pd972ce0f95)\" d=\"M 403.826875 224.64 \r\nL 403.826875 223.790625 \r\nL 403.826875 8.049375 \r\nL 403.826875 7.2 \r\nL 414.698875 7.2 \r\nL 414.698875 8.049375 \r\nL 414.698875 223.790625 \r\nL 414.698875 224.64 \r\nL 414.698875 224.64 \r\nz\r\n\" style=\"fill:#ffffff;stroke:#ffffff;stroke-linejoin:miter;stroke-width:0.01;\"/>\r\n   </g>\r\n   <image height=\"218\" id=\"image7ecabe3cb0\" transform=\"scale(1 -1)translate(0 -218)\" width=\"11\" x=\"404\" xlink:href=\"data:image/png;base64,\r\niVBORw0KGgoAAAANSUhEUgAAAAsAAADaCAYAAABwzrisAAABZklEQVR4nO3aSW4DMRBDUQ3tS+T+54yzzVJv8QEZcK8JgkVS1YM99+vnPQ6vZ54ixxjPnOdwA6+5BCwyBsnIBhQZe4EbnQyLO/N5SzdKN0QGxf2J5e/iHpfEnbnRdYMGPIam3SgHpFDOr3LzZ0VCzedXWf7OjWOolp+sowG7PofWhXGDjE5zF/ctAx6/S7gbxNxVVMDiBsl47pCBewPAOyvSLW6IjD3O0eEZNDfeolmYOzcmMZ8TlwOiZgFD3qF1e/2KDGBeU3wWMDIfY9UNSrAbEA7hs2D1p5qPsSgjdEOYrRvEnFm3nkrG6LpBYHiwwwEzzcgsT+awzk3GIBkCNjfgTmiabUD5ZNHJkJc8DUXA8o0xDEXcKDVnzJvizmRcYp24EYZibsiPL9aN8xshumG7jpgFDJ9wSs3dgFZ+ciOT8XXjH3jObCOFp5vc6O6wtBhfEXNYUWLe1YD0L4tbiiTl/8AB/wCKAysnXjlHwQAAAABJRU5ErkJggg==\" y=\"-6\"/>\r\n   <g id=\"matplotlib.axis_3\"/>\r\n   <g id=\"matplotlib.axis_4\">\r\n    <g id=\"ytick_4\">\r\n     <g id=\"line2d_7\">\r\n      <defs>\r\n       <path d=\"M 0 0 \r\nL 3.5 0 \r\n\" id=\"md72d494475\" style=\"stroke:#000000;stroke-width:0.8;\"/>\r\n      </defs>\r\n      <g>\r\n       <use style=\"stroke:#000000;stroke-width:0.8;\" x=\"414.698875\" xlink:href=\"#md72d494475\" y=\"198.708768\"/>\r\n      </g>\r\n     </g>\r\n     <g id=\"text_7\">\r\n      <!-- 0.45 -->\r\n      <g transform=\"translate(421.698875 202.507986)scale(0.1 -0.1)\">\r\n       <defs>\r\n        <path d=\"M 2034 4250 \r\nQ 1547 4250 1301 3770 \r\nQ 1056 3291 1056 2328 \r\nQ 1056 1369 1301 889 \r\nQ 1547 409 2034 409 \r\nQ 2525 409 2770 889 \r\nQ 3016 1369 3016 2328 \r\nQ 3016 3291 2770 3770 \r\nQ 2525 4250 2034 4250 \r\nz\r\nM 2034 4750 \r\nQ 2819 4750 3233 4129 \r\nQ 3647 3509 3647 2328 \r\nQ 3647 1150 3233 529 \r\nQ 2819 -91 2034 -91 \r\nQ 1250 -91 836 529 \r\nQ 422 1150 422 2328 \r\nQ 422 3509 836 4129 \r\nQ 1250 4750 2034 4750 \r\nz\r\n\" id=\"DejaVuSans-30\" transform=\"scale(0.015625)\"/>\r\n        <path d=\"M 684 794 \r\nL 1344 794 \r\nL 1344 0 \r\nL 684 0 \r\nL 684 794 \r\nz\r\n\" id=\"DejaVuSans-2e\" transform=\"scale(0.015625)\"/>\r\n        <path d=\"M 2419 4116 \r\nL 825 1625 \r\nL 2419 1625 \r\nL 2419 4116 \r\nz\r\nM 2253 4666 \r\nL 3047 4666 \r\nL 3047 1625 \r\nL 3713 1625 \r\nL 3713 1100 \r\nL 3047 1100 \r\nL 3047 0 \r\nL 2419 0 \r\nL 2419 1100 \r\nL 313 1100 \r\nL 313 1709 \r\nL 2253 4666 \r\nz\r\n\" id=\"DejaVuSans-34\" transform=\"scale(0.015625)\"/>\r\n        <path d=\"M 691 4666 \r\nL 3169 4666 \r\nL 3169 4134 \r\nL 1269 4134 \r\nL 1269 2991 \r\nQ 1406 3038 1543 3061 \r\nQ 1681 3084 1819 3084 \r\nQ 2600 3084 3056 2656 \r\nQ 3513 2228 3513 1497 \r\nQ 3513 744 3044 326 \r\nQ 2575 -91 1722 -91 \r\nQ 1428 -91 1123 -41 \r\nQ 819 9 494 109 \r\nL 494 744 \r\nQ 775 591 1075 516 \r\nQ 1375 441 1709 441 \r\nQ 2250 441 2565 725 \r\nQ 2881 1009 2881 1497 \r\nQ 2881 1984 2565 2268 \r\nQ 2250 2553 1709 2553 \r\nQ 1456 2553 1204 2497 \r\nQ 953 2441 691 2322 \r\nL 691 4666 \r\nz\r\n\" id=\"DejaVuSans-35\" transform=\"scale(0.015625)\"/>\r\n       </defs>\r\n       <use xlink:href=\"#DejaVuSans-30\"/>\r\n       <use x=\"63.623047\" xlink:href=\"#DejaVuSans-2e\"/>\r\n       <use x=\"95.410156\" xlink:href=\"#DejaVuSans-34\"/>\r\n       <use x=\"159.033203\" xlink:href=\"#DejaVuSans-35\"/>\r\n      </g>\r\n     </g>\r\n    </g>\r\n    <g id=\"ytick_5\">\r\n     <g id=\"line2d_8\">\r\n      <g>\r\n       <use style=\"stroke:#000000;stroke-width:0.8;\" x=\"414.698875\" xlink:href=\"#md72d494475\" y=\"159.070689\"/>\r\n      </g>\r\n     </g>\r\n     <g id=\"text_8\">\r\n      <!-- 0.50 -->\r\n      <g transform=\"translate(421.698875 162.869907)scale(0.1 -0.1)\">\r\n       <use xlink:href=\"#DejaVuSans-30\"/>\r\n       <use x=\"63.623047\" xlink:href=\"#DejaVuSans-2e\"/>\r\n       <use x=\"95.410156\" xlink:href=\"#DejaVuSans-35\"/>\r\n       <use x=\"159.033203\" xlink:href=\"#DejaVuSans-30\"/>\r\n      </g>\r\n     </g>\r\n    </g>\r\n    <g id=\"ytick_6\">\r\n     <g id=\"line2d_9\">\r\n      <g>\r\n       <use style=\"stroke:#000000;stroke-width:0.8;\" x=\"414.698875\" xlink:href=\"#md72d494475\" y=\"119.432609\"/>\r\n      </g>\r\n     </g>\r\n     <g id=\"text_9\">\r\n      <!-- 0.55 -->\r\n      <g transform=\"translate(421.698875 123.231828)scale(0.1 -0.1)\">\r\n       <use xlink:href=\"#DejaVuSans-30\"/>\r\n       <use x=\"63.623047\" xlink:href=\"#DejaVuSans-2e\"/>\r\n       <use x=\"95.410156\" xlink:href=\"#DejaVuSans-35\"/>\r\n       <use x=\"159.033203\" xlink:href=\"#DejaVuSans-35\"/>\r\n      </g>\r\n     </g>\r\n    </g>\r\n    <g id=\"ytick_7\">\r\n     <g id=\"line2d_10\">\r\n      <g>\r\n       <use style=\"stroke:#000000;stroke-width:0.8;\" x=\"414.698875\" xlink:href=\"#md72d494475\" y=\"79.79453\"/>\r\n      </g>\r\n     </g>\r\n     <g id=\"text_10\">\r\n      <!-- 0.60 -->\r\n      <g transform=\"translate(421.698875 83.593749)scale(0.1 -0.1)\">\r\n       <defs>\r\n        <path d=\"M 2113 2584 \r\nQ 1688 2584 1439 2293 \r\nQ 1191 2003 1191 1497 \r\nQ 1191 994 1439 701 \r\nQ 1688 409 2113 409 \r\nQ 2538 409 2786 701 \r\nQ 3034 994 3034 1497 \r\nQ 3034 2003 2786 2293 \r\nQ 2538 2584 2113 2584 \r\nz\r\nM 3366 4563 \r\nL 3366 3988 \r\nQ 3128 4100 2886 4159 \r\nQ 2644 4219 2406 4219 \r\nQ 1781 4219 1451 3797 \r\nQ 1122 3375 1075 2522 \r\nQ 1259 2794 1537 2939 \r\nQ 1816 3084 2150 3084 \r\nQ 2853 3084 3261 2657 \r\nQ 3669 2231 3669 1497 \r\nQ 3669 778 3244 343 \r\nQ 2819 -91 2113 -91 \r\nQ 1303 -91 875 529 \r\nQ 447 1150 447 2328 \r\nQ 447 3434 972 4092 \r\nQ 1497 4750 2381 4750 \r\nQ 2619 4750 2861 4703 \r\nQ 3103 4656 3366 4563 \r\nz\r\n\" id=\"DejaVuSans-36\" transform=\"scale(0.015625)\"/>\r\n       </defs>\r\n       <use xlink:href=\"#DejaVuSans-30\"/>\r\n       <use x=\"63.623047\" xlink:href=\"#DejaVuSans-2e\"/>\r\n       <use x=\"95.410156\" xlink:href=\"#DejaVuSans-36\"/>\r\n       <use x=\"159.033203\" xlink:href=\"#DejaVuSans-30\"/>\r\n      </g>\r\n     </g>\r\n    </g>\r\n    <g id=\"ytick_8\">\r\n     <g id=\"line2d_11\">\r\n      <g>\r\n       <use style=\"stroke:#000000;stroke-width:0.8;\" x=\"414.698875\" xlink:href=\"#md72d494475\" y=\"40.156451\"/>\r\n      </g>\r\n     </g>\r\n     <g id=\"text_11\">\r\n      <!-- 0.65 -->\r\n      <g transform=\"translate(421.698875 43.95567)scale(0.1 -0.1)\">\r\n       <use xlink:href=\"#DejaVuSans-30\"/>\r\n       <use x=\"63.623047\" xlink:href=\"#DejaVuSans-2e\"/>\r\n       <use x=\"95.410156\" xlink:href=\"#DejaVuSans-36\"/>\r\n       <use x=\"159.033203\" xlink:href=\"#DejaVuSans-35\"/>\r\n      </g>\r\n     </g>\r\n    </g>\r\n   </g>\r\n   <g id=\"LineCollection_1\"/>\r\n   <g id=\"patch_5\">\r\n    <path d=\"M 403.826875 224.64 \r\nL 403.826875 223.790625 \r\nL 403.826875 8.049375 \r\nL 403.826875 7.2 \r\nL 414.698875 7.2 \r\nL 414.698875 8.049375 \r\nL 414.698875 223.790625 \r\nL 414.698875 224.64 \r\nz\r\n\" style=\"fill:none;\"/>\r\n   </g>\r\n  </g>\r\n </g>\r\n <defs>\r\n  <clipPath id=\"p4c58a7e60d\">\r\n   <rect height=\"217.44\" width=\"267.84\" x=\"119.246875\" y=\"7.2\"/>\r\n  </clipPath>\r\n  <clipPath id=\"pd972ce0f95\">\r\n   <rect height=\"217.44\" width=\"10.872\" x=\"403.826875\" y=\"7.2\"/>\r\n  </clipPath>\r\n </defs>\r\n</svg>\r\n",
      "image/png": "[encoded data removed]"
     },
     "metadata": {
      "needs_background": "light"
     }
    }
   ],
   "source": [
    "# Plot the correlation among themself for the previous 4 variables.\n",
    "xticks = df_corr_most.columns\n",
    "sns.heatmap(df_corr_most)"
   ]
  },
  {
   "cell_type": "markdown",
   "metadata": {},
   "source": [
    "## Step 7:\n",
    "### For the previoys 4 variables plot them AGAINST the class\n"
   ]
  },
  {
   "cell_type": "code",
   "execution_count": 3,
   "metadata": {},
   "outputs": [],
   "source": [
    "# make 4 plot where you plot each of the variables with the class"
   ]
  },
  {
   "cell_type": "markdown",
   "metadata": {},
   "source": [
    "## Step 8:\n",
    "### Probability time, if I know a student had less than 7 absent days what is the probability of him being classified as L"
   ]
  },
  {
   "cell_type": "code",
   "execution_count": null,
   "metadata": {},
   "outputs": [],
   "source": [
    "# compute the probability"
   ]
  },
  {
   "cell_type": "markdown",
   "metadata": {},
   "source": [
    "## Step 8:\n",
    "### Probability time, if I know a student had less than 7 absent days what is the probability of him being classified as m or higher, using the previous calculation"
   ]
  },
  {
   "cell_type": "code",
   "execution_count": null,
   "metadata": {},
   "outputs": [],
   "source": [
    "# Looking at step seven extrapolate from it the probability of a student being classified as M or H"
   ]
  },
  {
   "cell_type": "markdown",
   "metadata": {},
   "source": [
    "## Step 9:\n",
    "### Probability time, knowing a student was classified as H, what is the probability of him having raised the hand more than 10 times"
   ]
  },
  {
   "cell_type": "code",
   "execution_count": null,
   "metadata": {},
   "outputs": [],
   "source": [
    "# Bayes time"
   ]
  },
  {
   "cell_type": "markdown",
   "metadata": {},
   "source": [
    "## Step 10:\n",
    "### Free time, if I was the principal of the school what plots and probabilities would you show me to help me accept only M and H students."
   ]
  }
 ],
 "metadata": {
  "interpreter": {
   "hash": "68274f4789de8facababa72c5292f6e9ee0042994feee1bf982b457f4d00f7e0"
  },
  "kernelspec": {
   "name": "python3",
   "display_name": "Python 3.8.10 64-bit ('strivenev': conda)"
  },
  "language_info": {
   "codemirror_mode": {
    "name": "ipython",
    "version": 3
   },
   "file_extension": ".py",
   "mimetype": "text/x-python",
   "name": "python",
   "nbconvert_exporter": "python",
   "pygments_lexer": "ipython3",
   "version": "3.8.10"
  },
  "varInspector": {
   "cols": {
    "lenName": 16,
    "lenType": 16,
    "lenVar": 40
   },
   "kernels_config": {
    "python": {
     "delete_cmd_postfix": "",
     "delete_cmd_prefix": "del ",
     "library": "var_list.py",
     "varRefreshCmd": "print(var_dic_list())"
    },
    "r": {
     "delete_cmd_postfix": ") ",
     "delete_cmd_prefix": "rm(",
     "library": "var_list.r",
     "varRefreshCmd": "cat(var_dic_list()) "
    }
   },
   "types_to_exclude": [
    "module",
    "function",
    "builtin_function_or_method",
    "instance",
    "_Feature"
   ],
   "window_display": false
  }
 },
 "nbformat": 4,
 "nbformat_minor": 2
}