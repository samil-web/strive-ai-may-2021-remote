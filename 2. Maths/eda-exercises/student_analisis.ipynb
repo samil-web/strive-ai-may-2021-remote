{
 "cells": [
  {
   "cell_type": "markdown",
   "metadata": {},
   "source": [
    "# Student Analysis\n",
    "\n",
    "\n",
    "In this notebook I present to you data taken out of a real highschool. In this dataset we have a total of 16 variables and a single class. Most of the data is categorical, this means it is divided into a certain ammount of pre-defined categories. There also a few columns that have numerical data in the form of integers. In this notebook we will try to extract some key features in order to better understand the dataset and as part of the field of 'Data Analysis'."
   ]
  },
  {
   "cell_type": "code",
   "execution_count": 101,
   "metadata": {},
   "outputs": [],
   "source": [
    "import pandas as pd \n",
    "import numpy as np\n",
    "import seaborn as sns"
   ]
  },
  {
   "cell_type": "markdown",
   "metadata": {},
   "source": [
    "## Step 0: \n",
    "### Load the data into a pandas dataframe\n",
    "\n",
    "How do you intend to do data analysis without loading the data????\n",
    "# ?"
   ]
  },
  {
   "cell_type": "code",
   "execution_count": 15,
   "metadata": {},
   "outputs": [
    {
     "output_type": "execute_result",
     "data": {
      "text/plain": [
       "(480, 17)"
      ]
     },
     "metadata": {},
     "execution_count": 15
    }
   ],
   "source": [
    "df = pd.read_csv('./data/xAPI-Edu-Data.csv')\n",
    "df.shape"
   ]
  },
  {
   "cell_type": "markdown",
   "metadata": {},
   "source": [
    "## Step 1: \n",
    "### Print some elements from the dataset in order to take a quick look at the dataset\n",
    "\n",
    "Understanding the data you are working with is very important"
   ]
  },
  {
   "cell_type": "code",
   "execution_count": 10,
   "metadata": {
    "tags": []
   },
   "outputs": [
    {
     "output_type": "execute_result",
     "data": {
      "text/plain": [
       "    gender NationalITy PlaceofBirth       StageID GradeID SectionID  \\\n",
       "259      M          KW       KuwaIT    lowerlevel    G-04         A   \n",
       "359      F     lebanon      lebanon    lowerlevel    G-02         B   \n",
       "355      M      Jordan       Jordan    lowerlevel    G-02         B   \n",
       "210      M      Jordan  SaudiArabia  MiddleSchool    G-08         C   \n",
       "317      M      Jordan       Jordan    lowerlevel    G-02         A   \n",
       "83       M          KW       KuwaIT    lowerlevel    G-02         B   \n",
       "316      M      Jordan       Jordan    lowerlevel    G-02         A   \n",
       "76       M        Iran         Iran    HighSchool    G-09         A   \n",
       "169      M          KW       KuwaIT    lowerlevel    G-02         B   \n",
       "469      F      Jordan       Jordan  MiddleSchool    G-08         A   \n",
       "\n",
       "         Topic Semester Relation  raisedhands  VisITedResources  \\\n",
       "259    English        S      Mum           69                34   \n",
       "359     French        S      Mum           75                90   \n",
       "355     French        S      Mum           35                97   \n",
       "210    Spanish        S      Mum           27                90   \n",
       "317     French        S      Mum           50                90   \n",
       "83          IT        F   Father            7                 4   \n",
       "316     French        F      Mum           60                92   \n",
       "76          IT        F      Mum           15                70   \n",
       "169     French        S      Mum           30                12   \n",
       "469  Chemistry        S   Father            9                 6   \n",
       "\n",
       "     AnnouncementsView  Discussion ParentAnsweringSurvey  \\\n",
       "259                 12          17                    No   \n",
       "359                 51          17                   Yes   \n",
       "355                 41          23                   Yes   \n",
       "210                 82          14                   Yes   \n",
       "317                 83          13                   Yes   \n",
       "83                  10          50                    No   \n",
       "316                 83          23                   Yes   \n",
       "76                  37          44                   Yes   \n",
       "169                 29          23                    No   \n",
       "469                 15          85                    No   \n",
       "\n",
       "    ParentschoolSatisfaction StudentAbsenceDays Class  \n",
       "259                      Bad            Above-7     L  \n",
       "359                     Good            Under-7     H  \n",
       "355                     Good            Under-7     H  \n",
       "210                     Good            Under-7     H  \n",
       "317                     Good            Under-7     H  \n",
       "83                      Good            Above-7     M  \n",
       "316                     Good            Under-7     H  \n",
       "76                      Good            Under-7     M  \n",
       "169                      Bad            Under-7     M  \n",
       "469                      Bad            Above-7     L  "
      ],
      "text/html": "<div>\n<style scoped>\n    .dataframe tbody tr th:only-of-type {\n        vertical-align: middle;\n    }\n\n    .dataframe tbody tr th {\n        vertical-align: top;\n    }\n\n    .dataframe thead th {\n        text-align: right;\n    }\n</style>\n<table border=\"1\" class=\"dataframe\">\n  <thead>\n    <tr style=\"text-align: right;\">\n      <th></th>\n      <th>gender</th>\n      <th>NationalITy</th>\n      <th>PlaceofBirth</th>\n      <th>StageID</th>\n      <th>GradeID</th>\n      <th>SectionID</th>\n      <th>Topic</th>\n      <th>Semester</th>\n      <th>Relation</th>\n      <th>raisedhands</th>\n      <th>VisITedResources</th>\n      <th>AnnouncementsView</th>\n      <th>Discussion</th>\n      <th>ParentAnsweringSurvey</th>\n      <th>ParentschoolSatisfaction</th>\n      <th>StudentAbsenceDays</th>\n      <th>Class</th>\n    </tr>\n  </thead>\n  <tbody>\n    <tr>\n      <th>259</th>\n      <td>M</td>\n      <td>KW</td>\n      <td>KuwaIT</td>\n      <td>lowerlevel</td>\n      <td>G-04</td>\n      <td>A</td>\n      <td>English</td>\n      <td>S</td>\n      <td>Mum</td>\n      <td>69</td>\n      <td>34</td>\n      <td>12</td>\n      <td>17</td>\n      <td>No</td>\n      <td>Bad</td>\n      <td>Above-7</td>\n      <td>L</td>\n    </tr>\n    <tr>\n      <th>359</th>\n      <td>F</td>\n      <td>lebanon</td>\n      <td>lebanon</td>\n      <td>lowerlevel</td>\n      <td>G-02</td>\n      <td>B</td>\n      <td>French</td>\n      <td>S</td>\n      <td>Mum</td>\n      <td>75</td>\n      <td>90</td>\n      <td>51</td>\n      <td>17</td>\n      <td>Yes</td>\n      <td>Good</td>\n      <td>Under-7</td>\n      <td>H</td>\n    </tr>\n    <tr>\n      <th>355</th>\n      <td>M</td>\n      <td>Jordan</td>\n      <td>Jordan</td>\n      <td>lowerlevel</td>\n      <td>G-02</td>\n      <td>B</td>\n      <td>French</td>\n      <td>S</td>\n      <td>Mum</td>\n      <td>35</td>\n      <td>97</td>\n      <td>41</td>\n      <td>23</td>\n      <td>Yes</td>\n      <td>Good</td>\n      <td>Under-7</td>\n      <td>H</td>\n    </tr>\n    <tr>\n      <th>210</th>\n      <td>M</td>\n      <td>Jordan</td>\n      <td>SaudiArabia</td>\n      <td>MiddleSchool</td>\n      <td>G-08</td>\n      <td>C</td>\n      <td>Spanish</td>\n      <td>S</td>\n      <td>Mum</td>\n      <td>27</td>\n      <td>90</td>\n      <td>82</td>\n      <td>14</td>\n      <td>Yes</td>\n      <td>Good</td>\n      <td>Under-7</td>\n      <td>H</td>\n    </tr>\n    <tr>\n      <th>317</th>\n      <td>M</td>\n      <td>Jordan</td>\n      <td>Jordan</td>\n      <td>lowerlevel</td>\n      <td>G-02</td>\n      <td>A</td>\n      <td>French</td>\n      <td>S</td>\n      <td>Mum</td>\n      <td>50</td>\n      <td>90</td>\n      <td>83</td>\n      <td>13</td>\n      <td>Yes</td>\n      <td>Good</td>\n      <td>Under-7</td>\n      <td>H</td>\n    </tr>\n    <tr>\n      <th>83</th>\n      <td>M</td>\n      <td>KW</td>\n      <td>KuwaIT</td>\n      <td>lowerlevel</td>\n      <td>G-02</td>\n      <td>B</td>\n      <td>IT</td>\n      <td>F</td>\n      <td>Father</td>\n      <td>7</td>\n      <td>4</td>\n      <td>10</td>\n      <td>50</td>\n      <td>No</td>\n      <td>Good</td>\n      <td>Above-7</td>\n      <td>M</td>\n    </tr>\n    <tr>\n      <th>316</th>\n      <td>M</td>\n      <td>Jordan</td>\n      <td>Jordan</td>\n      <td>lowerlevel</td>\n      <td>G-02</td>\n      <td>A</td>\n      <td>French</td>\n      <td>F</td>\n      <td>Mum</td>\n      <td>60</td>\n      <td>92</td>\n      <td>83</td>\n      <td>23</td>\n      <td>Yes</td>\n      <td>Good</td>\n      <td>Under-7</td>\n      <td>H</td>\n    </tr>\n    <tr>\n      <th>76</th>\n      <td>M</td>\n      <td>Iran</td>\n      <td>Iran</td>\n      <td>HighSchool</td>\n      <td>G-09</td>\n      <td>A</td>\n      <td>IT</td>\n      <td>F</td>\n      <td>Mum</td>\n      <td>15</td>\n      <td>70</td>\n      <td>37</td>\n      <td>44</td>\n      <td>Yes</td>\n      <td>Good</td>\n      <td>Under-7</td>\n      <td>M</td>\n    </tr>\n    <tr>\n      <th>169</th>\n      <td>M</td>\n      <td>KW</td>\n      <td>KuwaIT</td>\n      <td>lowerlevel</td>\n      <td>G-02</td>\n      <td>B</td>\n      <td>French</td>\n      <td>S</td>\n      <td>Mum</td>\n      <td>30</td>\n      <td>12</td>\n      <td>29</td>\n      <td>23</td>\n      <td>No</td>\n      <td>Bad</td>\n      <td>Under-7</td>\n      <td>M</td>\n    </tr>\n    <tr>\n      <th>469</th>\n      <td>F</td>\n      <td>Jordan</td>\n      <td>Jordan</td>\n      <td>MiddleSchool</td>\n      <td>G-08</td>\n      <td>A</td>\n      <td>Chemistry</td>\n      <td>S</td>\n      <td>Father</td>\n      <td>9</td>\n      <td>6</td>\n      <td>15</td>\n      <td>85</td>\n      <td>No</td>\n      <td>Bad</td>\n      <td>Above-7</td>\n      <td>L</td>\n    </tr>\n  </tbody>\n</table>\n</div>"
     },
     "metadata": {},
     "execution_count": 10
    }
   ],
   "source": [
    "# Print 10 e random elements from the dataset.\n",
    "df.sample(10)"
   ]
  },
  {
   "cell_type": "markdown",
   "metadata": {},
   "source": [
    "## Step 2:\n",
    "### Check for missing or null values\n",
    "\n",
    "We should always check for missing values as part of getting familiarized with our data.\n"
   ]
  },
  {
   "cell_type": "code",
   "execution_count": 11,
   "metadata": {},
   "outputs": [
    {
     "output_type": "execute_result",
     "data": {
      "text/plain": [
       "gender                      0\n",
       "NationalITy                 0\n",
       "PlaceofBirth                0\n",
       "StageID                     0\n",
       "GradeID                     0\n",
       "SectionID                   0\n",
       "Topic                       0\n",
       "Semester                    0\n",
       "Relation                    0\n",
       "raisedhands                 0\n",
       "VisITedResources            0\n",
       "AnnouncementsView           0\n",
       "Discussion                  0\n",
       "ParentAnsweringSurvey       0\n",
       "ParentschoolSatisfaction    0\n",
       "StudentAbsenceDays          0\n",
       "Class                       0\n",
       "dtype: int64"
      ]
     },
     "metadata": {},
     "execution_count": 11
    }
   ],
   "source": [
    "# check for null values\n",
    "df.isnull().sum()"
   ]
  },
  {
   "cell_type": "markdown",
   "metadata": {},
   "source": [
    "## Step 3:\n",
    "### which is the column with the highest ammount of VARIABILITY?\n",
    "\n",
    "Time to start extracting info.\n"
   ]
  },
  {
   "cell_type": "code",
   "execution_count": 14,
   "metadata": {},
   "outputs": [
    {
     "output_type": "execute_result",
     "data": {
      "text/plain": [
       "raisedhands          30.779223\n",
       "VisITedResources     33.080007\n",
       "AnnouncementsView    26.611244\n",
       "Discussion           27.637735\n",
       "dtype: float64"
      ]
     },
     "metadata": {},
     "execution_count": 14
    }
   ],
   "source": [
    "# Check every column EXCEPT the one for the class and find out which one has the highest variability\n",
    "\n",
    "sigma = 0\n",
    "df.std(axis = 0, ddof = 1)"
   ]
  },
  {
   "cell_type": "markdown",
   "metadata": {},
   "source": [
    "## Step 4:\n",
    "### Find out for each variable their skewness and plot 5 of them.\n",
    "\n",
    "Understanding the biases of data can always give us some key information\n"
   ]
  },
  {
   "cell_type": "code",
   "execution_count": 22,
   "metadata": {},
   "outputs": [
    {
     "output_type": "execute_result",
     "data": {
      "text/plain": [
       "raisedhands          0.026962\n",
       "VisITedResources    -0.342441\n",
       "AnnouncementsView    0.399243\n",
       "Discussion           0.362594\n",
       "dtype: float64"
      ]
     },
     "metadata": {},
     "execution_count": 22
    }
   ],
   "source": [
    "# Select 5 columns and find out their bias\n",
    "range_columns = (df.columns.get_loc(\"raisedhands\"), df.columns.get_loc(\"Discussion\"))\n",
    "df_selected = df.iloc[:, range_columns[0]:range_columns[1]+1]\n",
    "df_selected.skew()"
   ]
  },
  {
   "cell_type": "markdown",
   "metadata": {},
   "source": [
    "## Step 5:\n",
    "### Find out for all the variables which is their correlation with the class\n",
    "\n",
    "Sometimes we need to reduce the ammount of features we feed the model in order to make it more lighweight, so we either select the best ones or take out the most useless ones."
   ]
  },
  {
   "cell_type": "code",
   "execution_count": 109,
   "metadata": {},
   "outputs": [
    {
     "output_type": "display_data",
     "data": {
      "text/plain": "Discussion         VisITedResources     0.243292\n                   raisedhands          0.339386\n                   AnnouncementsView    0.417290\nAnnouncementsView  VisITedResources     0.594500\n                   raisedhands          0.643918\nVisITedResources   raisedhands          0.691572\ndtype: float64"
     },
     "metadata": {}
    },
    {
     "output_type": "display_data",
     "data": {
      "text/plain": "VisITedResources   raisedhands          0.691572\nAnnouncementsView  raisedhands          0.643918\n                   VisITedResources     0.594500\nDiscussion         AnnouncementsView    0.417290\ndtype: float64"
     },
     "metadata": {}
    },
    {
     "output_type": "execute_result",
     "data": {
      "text/plain": [
       "                   raisedhands  VisITedResources  AnnouncementsView\n",
       "VisITedResources      0.691572               NaN                NaN\n",
       "AnnouncementsView     0.643918            0.5945                NaN\n",
       "Discussion                 NaN               NaN            0.41729"
      ],
      "text/html": "<div>\n<style scoped>\n    .dataframe tbody tr th:only-of-type {\n        vertical-align: middle;\n    }\n\n    .dataframe tbody tr th {\n        vertical-align: top;\n    }\n\n    .dataframe thead th {\n        text-align: right;\n    }\n</style>\n<table border=\"1\" class=\"dataframe\">\n  <thead>\n    <tr style=\"text-align: right;\">\n      <th></th>\n      <th>raisedhands</th>\n      <th>VisITedResources</th>\n      <th>AnnouncementsView</th>\n    </tr>\n  </thead>\n  <tbody>\n    <tr>\n      <th>VisITedResources</th>\n      <td>0.691572</td>\n      <td>NaN</td>\n      <td>NaN</td>\n    </tr>\n    <tr>\n      <th>AnnouncementsView</th>\n      <td>0.643918</td>\n      <td>0.5945</td>\n      <td>NaN</td>\n    </tr>\n    <tr>\n      <th>Discussion</th>\n      <td>NaN</td>\n      <td>NaN</td>\n      <td>0.41729</td>\n    </tr>\n  </tbody>\n</table>\n</div>"
     },
     "metadata": {},
     "execution_count": 109
    }
   ],
   "source": [
    "# Select the top 4 most correlated and put them in a different dataset\n",
    "# https://stackoverflow.com/questions/17778394/list-highest-correlation-pairs-from-a-large-correlation-matrix-in-pandas\n",
    "\n",
    "\n",
    "def remove_self_corr(df):\n",
    "    #df: unstacked correlation dataframe with multilevel index\n",
    "    \n",
    "    for multi_index in df.index:\n",
    "\n",
    "        if multi_index[0] == multi_index[1]:\n",
    "            df.drop(multi_index, inplace = True)\n",
    "\n",
    "    return df\n",
    "\n",
    "def remove_same_pairs(df):\n",
    "    #df: unstacked correlation dataframe with multilevel index\n",
    "\n",
    "    for multi_index in df.index:\n",
    "        \n",
    "        if multi_index[::-1] in df.index:\n",
    "            df.drop(multi_index, inplace = True)\n",
    "\n",
    "    return df\n",
    "\n",
    "df_corr_most = df.corr().unstack()\n",
    "df_corr_most_sorted = df_corr_most.sort_values()\n",
    "\n",
    "df_corr_most = remove_self_corr(df_corr_most_sorted)\n",
    "df_corr_most = remove_same_pairs(df_corr_clean)\n",
    "\n",
    "display(df_corr_most)\n",
    "display(df_corr_clean.nlargest(4))\n",
    "\n",
    "df_corr_most = df_corr_clean.nlargest(4).unstack()\n",
    "df_corr_most"
   ]
  },
  {
   "cell_type": "code",
   "execution_count": 103,
   "metadata": {},
   "outputs": [
    {
     "output_type": "stream",
     "name": "stdout",
     "text": [
      "VisITedResources   Discussion           0.243292\nDiscussion         VisITedResources     0.243292\nraisedhands        Discussion           0.339386\nDiscussion         raisedhands          0.339386\nAnnouncementsView  Discussion           0.417290\nDiscussion         AnnouncementsView    0.417290\nVisITedResources   AnnouncementsView    0.594500\nAnnouncementsView  VisITedResources     0.594500\nraisedhands        AnnouncementsView    0.643918\nAnnouncementsView  raisedhands          0.643918\nraisedhands        VisITedResources     0.691572\nVisITedResources   raisedhands          0.691572\ndtype: float64\n\nLeast correlated:\n\n Discussion         VisITedResources     0.243292\n                   raisedhands          0.339386\n                   AnnouncementsView    0.417290\nAnnouncementsView  VisITedResources     0.594500\ndtype: float64\n"
     ]
    }
   ],
   "source": [
    "# Select the top 4 least correlated and create a new dataset without them\n",
    "df_corr_least = df.corr().unstack()\n",
    "df_corr_least_sorted = df_corr_least.sort_values()\n",
    "\n",
    "df_corr_least = remove_self_corr(df_corr_least_sorted)\n",
    "df_corr_least = remove_same_pairs(df_corr_clean)\n",
    "\n",
    "print(df_corr_least)\n",
    "print(\"\\nLeast correlated:\\n\\n\", df_corr_clean.nsmallest(4))"
   ]
  },
  {
   "cell_type": "code",
   "execution_count": 100,
   "metadata": {},
   "outputs": [],
   "source": [
    "# for index in df_corr_most_sorted.index:\n",
    "#     print(index[::-1])"
   ]
  },
  {
   "cell_type": "markdown",
   "metadata": {},
   "source": [
    "## Step 6:\n",
    "### Visualize the correlation between the previously selected 4 most correlated variables with the class\n",
    "\n",
    "Lets see if those are correlated too.\n"
   ]
  },
  {
   "cell_type": "code",
   "execution_count": 102,
   "metadata": {},
   "outputs": [
    {
     "output_type": "error",
     "ename": "IndexError",
     "evalue": "Inconsistent shape between the condition and the input (got (6, 1) and (6,))",
     "traceback": [
      "\u001b[1;31m---------------------------------------------------------------------------\u001b[0m",
      "\u001b[1;31mIndexError\u001b[0m                                Traceback (most recent call last)",
      "\u001b[1;32m<ipython-input-102-a00d2fcb957b>\u001b[0m in \u001b[0;36m<module>\u001b[1;34m\u001b[0m\n\u001b[0;32m      1\u001b[0m \u001b[1;31m# Plot the correlation among themself for the previous 4 variables.\u001b[0m\u001b[1;33m\u001b[0m\u001b[1;33m\u001b[0m\u001b[1;33m\u001b[0m\u001b[0m\n\u001b[1;32m----> 2\u001b[1;33m \u001b[0msns\u001b[0m\u001b[1;33m.\u001b[0m\u001b[0mheatmap\u001b[0m\u001b[1;33m(\u001b[0m\u001b[0mdf_corr_most\u001b[0m\u001b[1;33m)\u001b[0m\u001b[1;33m\u001b[0m\u001b[1;33m\u001b[0m\u001b[0m\n\u001b[0m",
      "\u001b[1;32m~\\anaconda3\\envs\\strivenev\\lib\\site-packages\\seaborn\\_decorators.py\u001b[0m in \u001b[0;36minner_f\u001b[1;34m(*args, **kwargs)\u001b[0m\n\u001b[0;32m     44\u001b[0m             )\n\u001b[0;32m     45\u001b[0m         \u001b[0mkwargs\u001b[0m\u001b[1;33m.\u001b[0m\u001b[0mupdate\u001b[0m\u001b[1;33m(\u001b[0m\u001b[1;33m{\u001b[0m\u001b[0mk\u001b[0m\u001b[1;33m:\u001b[0m \u001b[0marg\u001b[0m \u001b[1;32mfor\u001b[0m \u001b[0mk\u001b[0m\u001b[1;33m,\u001b[0m \u001b[0marg\u001b[0m \u001b[1;32min\u001b[0m \u001b[0mzip\u001b[0m\u001b[1;33m(\u001b[0m\u001b[0msig\u001b[0m\u001b[1;33m.\u001b[0m\u001b[0mparameters\u001b[0m\u001b[1;33m,\u001b[0m \u001b[0margs\u001b[0m\u001b[1;33m)\u001b[0m\u001b[1;33m}\u001b[0m\u001b[1;33m)\u001b[0m\u001b[1;33m\u001b[0m\u001b[1;33m\u001b[0m\u001b[0m\n\u001b[1;32m---> 46\u001b[1;33m         \u001b[1;32mreturn\u001b[0m \u001b[0mf\u001b[0m\u001b[1;33m(\u001b[0m\u001b[1;33m**\u001b[0m\u001b[0mkwargs\u001b[0m\u001b[1;33m)\u001b[0m\u001b[1;33m\u001b[0m\u001b[1;33m\u001b[0m\u001b[0m\n\u001b[0m\u001b[0;32m     47\u001b[0m     \u001b[1;32mreturn\u001b[0m \u001b[0minner_f\u001b[0m\u001b[1;33m\u001b[0m\u001b[1;33m\u001b[0m\u001b[0m\n\u001b[0;32m     48\u001b[0m \u001b[1;33m\u001b[0m\u001b[0m\n",
      "\u001b[1;32m~\\anaconda3\\envs\\strivenev\\lib\\site-packages\\seaborn\\matrix.py\u001b[0m in \u001b[0;36mheatmap\u001b[1;34m(data, vmin, vmax, cmap, center, robust, annot, fmt, annot_kws, linewidths, linecolor, cbar, cbar_kws, cbar_ax, square, xticklabels, yticklabels, mask, ax, **kwargs)\u001b[0m\n\u001b[0;32m    533\u001b[0m     \"\"\"\n\u001b[0;32m    534\u001b[0m     \u001b[1;31m# Initialize the plotter object\u001b[0m\u001b[1;33m\u001b[0m\u001b[1;33m\u001b[0m\u001b[1;33m\u001b[0m\u001b[0m\n\u001b[1;32m--> 535\u001b[1;33m     plotter = _HeatMapper(data, vmin, vmax, cmap, center, robust, annot, fmt,\n\u001b[0m\u001b[0;32m    536\u001b[0m                           \u001b[0mannot_kws\u001b[0m\u001b[1;33m,\u001b[0m \u001b[0mcbar\u001b[0m\u001b[1;33m,\u001b[0m \u001b[0mcbar_kws\u001b[0m\u001b[1;33m,\u001b[0m \u001b[0mxticklabels\u001b[0m\u001b[1;33m,\u001b[0m\u001b[1;33m\u001b[0m\u001b[1;33m\u001b[0m\u001b[0m\n\u001b[0;32m    537\u001b[0m                           yticklabels, mask)\n",
      "\u001b[1;32m~\\anaconda3\\envs\\strivenev\\lib\\site-packages\\seaborn\\matrix.py\u001b[0m in \u001b[0;36m__init__\u001b[1;34m(self, data, vmin, vmax, cmap, center, robust, annot, fmt, annot_kws, cbar, cbar_kws, xticklabels, yticklabels, mask)\u001b[0m\n\u001b[0;32m    105\u001b[0m         \u001b[0mmask\u001b[0m \u001b[1;33m=\u001b[0m \u001b[0m_matrix_mask\u001b[0m\u001b[1;33m(\u001b[0m\u001b[0mdata\u001b[0m\u001b[1;33m,\u001b[0m \u001b[0mmask\u001b[0m\u001b[1;33m)\u001b[0m\u001b[1;33m\u001b[0m\u001b[1;33m\u001b[0m\u001b[0m\n\u001b[0;32m    106\u001b[0m \u001b[1;33m\u001b[0m\u001b[0m\n\u001b[1;32m--> 107\u001b[1;33m         \u001b[0mplot_data\u001b[0m \u001b[1;33m=\u001b[0m \u001b[0mnp\u001b[0m\u001b[1;33m.\u001b[0m\u001b[0mma\u001b[0m\u001b[1;33m.\u001b[0m\u001b[0mmasked_where\u001b[0m\u001b[1;33m(\u001b[0m\u001b[0mnp\u001b[0m\u001b[1;33m.\u001b[0m\u001b[0masarray\u001b[0m\u001b[1;33m(\u001b[0m\u001b[0mmask\u001b[0m\u001b[1;33m)\u001b[0m\u001b[1;33m,\u001b[0m \u001b[0mplot_data\u001b[0m\u001b[1;33m)\u001b[0m\u001b[1;33m\u001b[0m\u001b[1;33m\u001b[0m\u001b[0m\n\u001b[0m\u001b[0;32m    108\u001b[0m \u001b[1;33m\u001b[0m\u001b[0m\n\u001b[0;32m    109\u001b[0m         \u001b[1;31m# Get good names for the rows and columns\u001b[0m\u001b[1;33m\u001b[0m\u001b[1;33m\u001b[0m\u001b[1;33m\u001b[0m\u001b[0m\n",
      "\u001b[1;32m~\\anaconda3\\envs\\strivenev\\lib\\site-packages\\numpy\\ma\\core.py\u001b[0m in \u001b[0;36mmasked_where\u001b[1;34m(condition, a, copy)\u001b[0m\n\u001b[0;32m   1927\u001b[0m     \u001b[1;33m(\u001b[0m\u001b[0mcshape\u001b[0m\u001b[1;33m,\u001b[0m \u001b[0mashape\u001b[0m\u001b[1;33m)\u001b[0m \u001b[1;33m=\u001b[0m \u001b[1;33m(\u001b[0m\u001b[0mcond\u001b[0m\u001b[1;33m.\u001b[0m\u001b[0mshape\u001b[0m\u001b[1;33m,\u001b[0m \u001b[0ma\u001b[0m\u001b[1;33m.\u001b[0m\u001b[0mshape\u001b[0m\u001b[1;33m)\u001b[0m\u001b[1;33m\u001b[0m\u001b[1;33m\u001b[0m\u001b[0m\n\u001b[0;32m   1928\u001b[0m     \u001b[1;32mif\u001b[0m \u001b[0mcshape\u001b[0m \u001b[1;32mand\u001b[0m \u001b[0mcshape\u001b[0m \u001b[1;33m!=\u001b[0m \u001b[0mashape\u001b[0m\u001b[1;33m:\u001b[0m\u001b[1;33m\u001b[0m\u001b[1;33m\u001b[0m\u001b[0m\n\u001b[1;32m-> 1929\u001b[1;33m         raise IndexError(\"Inconsistent shape between the condition and the input\"\n\u001b[0m\u001b[0;32m   1930\u001b[0m                          \" (got %s and %s)\" % (cshape, ashape))\n\u001b[0;32m   1931\u001b[0m     \u001b[1;32mif\u001b[0m \u001b[0mhasattr\u001b[0m\u001b[1;33m(\u001b[0m\u001b[0ma\u001b[0m\u001b[1;33m,\u001b[0m \u001b[1;34m'_mask'\u001b[0m\u001b[1;33m)\u001b[0m\u001b[1;33m:\u001b[0m\u001b[1;33m\u001b[0m\u001b[1;33m\u001b[0m\u001b[0m\n",
      "\u001b[1;31mIndexError\u001b[0m: Inconsistent shape between the condition and the input (got (6, 1) and (6,))"
     ]
    }
   ],
   "source": [
    "# Plot the correlation among themself for the previous 4 variables.\n",
    "sns.heatmap(df_corr_most)"
   ]
  },
  {
   "cell_type": "markdown",
   "metadata": {},
   "source": [
    "## Step 7:\n",
    "### For the previoys 4 variables plot them AGAINST the class\n"
   ]
  },
  {
   "cell_type": "code",
   "execution_count": 3,
   "metadata": {},
   "outputs": [],
   "source": [
    "# make 4 plot where you plot each of the variables with the class"
   ]
  },
  {
   "cell_type": "markdown",
   "metadata": {},
   "source": [
    "## Step 8:\n",
    "### Probability time, if I know a student had less than 7 absent days what is the probability of him being classified as L"
   ]
  },
  {
   "cell_type": "code",
   "execution_count": null,
   "metadata": {},
   "outputs": [],
   "source": [
    "# compute the probability"
   ]
  },
  {
   "cell_type": "markdown",
   "metadata": {},
   "source": [
    "## Step 8:\n",
    "### Probability time, if I know a student had less than 7 absent days what is the probability of him being classified as m or higher, using the previous calculation"
   ]
  },
  {
   "cell_type": "code",
   "execution_count": null,
   "metadata": {},
   "outputs": [],
   "source": [
    "# Looking at step seven extrapolate from it the probability of a student being classified as M or H"
   ]
  },
  {
   "cell_type": "markdown",
   "metadata": {},
   "source": [
    "## Step 9:\n",
    "### Probability time, knowing a student was classified as H, what is the probability of him having raised the hand more than 10 times"
   ]
  },
  {
   "cell_type": "code",
   "execution_count": null,
   "metadata": {},
   "outputs": [],
   "source": [
    "# Bayes time"
   ]
  },
  {
   "cell_type": "markdown",
   "metadata": {},
   "source": [
    "## Step 10:\n",
    "### Free time, if I was the principal of the school what plots and probabilities would you show me to help me accept only M and H students."
   ]
  }
 ],
 "metadata": {
  "interpreter": {
   "hash": "68274f4789de8facababa72c5292f6e9ee0042994feee1bf982b457f4d00f7e0"
  },
  "kernelspec": {
   "name": "python3",
   "display_name": "Python 3.8.10 64-bit ('strivenev': conda)"
  },
  "language_info": {
   "codemirror_mode": {
    "name": "ipython",
    "version": 3
   },
   "file_extension": ".py",
   "mimetype": "text/x-python",
   "name": "python",
   "nbconvert_exporter": "python",
   "pygments_lexer": "ipython3",
   "version": "3.8.10"
  },
  "varInspector": {
   "cols": {
    "lenName": 16,
    "lenType": 16,
    "lenVar": 40
   },
   "kernels_config": {
    "python": {
     "delete_cmd_postfix": "",
     "delete_cmd_prefix": "del ",
     "library": "var_list.py",
     "varRefreshCmd": "print(var_dic_list())"
    },
    "r": {
     "delete_cmd_postfix": ") ",
     "delete_cmd_prefix": "rm(",
     "library": "var_list.r",
     "varRefreshCmd": "cat(var_dic_list()) "
    }
   },
   "types_to_exclude": [
    "module",
    "function",
    "builtin_function_or_method",
    "instance",
    "_Feature"
   ],
   "window_display": false
  }
 },
 "nbformat": 4,
 "nbformat_minor": 2
}