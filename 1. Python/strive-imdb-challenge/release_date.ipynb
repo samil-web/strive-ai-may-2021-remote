{
 "metadata": {
  "language_info": {
   "codemirror_mode": {
    "name": "ipython",
    "version": 3
   },
   "file_extension": ".py",
   "mimetype": "text/x-python",
   "name": "python",
   "nbconvert_exporter": "python",
   "pygments_lexer": "ipython3",
   "version": "3.8.10"
  },
  "orig_nbformat": 2,
  "kernelspec": {
   "name": "python3810jvsc74a57bd068274f4789de8facababa72c5292f6e9ee0042994feee1bf982b457f4d00f7e0",
   "display_name": "Python 3.8.10 64-bit ('strivenev': conda)"
  },
  "metadata": {
   "interpreter": {
    "hash": "63fd5069d213b44bf678585dea6b12cceca9941eaf7f819626cde1f2670de90d"
   }
  }
 },
 "nbformat": 4,
 "nbformat_minor": 2,
 "cells": [
  {
   "cell_type": "code",
   "execution_count": 1,
   "metadata": {},
   "outputs": [],
   "source": [
    "import requests\n",
    "from bs4 import BeautifulSoup"
   ]
  },
  {
   "cell_type": "code",
   "execution_count": 3,
   "metadata": {},
   "outputs": [
    {
     "output_type": "stream",
     "name": "stdout",
     "text": [
      "<Response [200]>\n"
     ]
    }
   ],
   "source": [
    "response = requests.get(\"https://www.imdb.com/list/ls066247137/\")\n",
    "print(response)"
   ]
  },
  {
   "cell_type": "code",
   "execution_count": 4,
   "metadata": {},
   "outputs": [],
   "source": [
    "page = response.content\n",
    "soup = BeautifulSoup(page, \"html.parser\")"
   ]
  },
  {
   "cell_type": "code",
   "execution_count": 16,
   "metadata": {
    "tags": []
   },
   "outputs": [
    {
     "output_type": "execute_result",
     "data": {
      "text/plain": [
       "['(2001)',\n",
       " '(2001)',\n",
       " '(2003)',\n",
       " '(2005)',\n",
       " '(1995)',\n",
       " '(1975)',\n",
       " '(1986)',\n",
       " '(1971)',\n",
       " '(1996)',\n",
       " '(2001)',\n",
       " '(2005)',\n",
       " '(1939)',\n",
       " '(1984)',\n",
       " '(1999)',\n",
       " '(1988)',\n",
       " '(1919)',\n",
       " '(2014)',\n",
       " '(2012)',\n",
       " '(1995)',\n",
       " '(1986)',\n",
       " '(2017)',\n",
       " '(1933)',\n",
       " '(2018)',\n",
       " '(2000)',\n",
       " '(2003)',\n",
       " '(1951)',\n",
       " '(1968)',\n",
       " '(2002)',\n",
       " '(1977)',\n",
       " '(1988)',\n",
       " '(1996)',\n",
       " '(1964)',\n",
       " '(2002)',\n",
       " '(1999)',\n",
       " '(2001)',\n",
       " '(2017)',\n",
       " '(1988)',\n",
       " '(I) (2013)',\n",
       " '(2010)',\n",
       " '(2014 Video)',\n",
       " '(2010)',\n",
       " '(1984)',\n",
       " '(2016)',\n",
       " '(1989)',\n",
       " '(2016)',\n",
       " '(2016)',\n",
       " '(2002)',\n",
       " '(2000)',\n",
       " '(2015)',\n",
       " '(1963)',\n",
       " '(2004)',\n",
       " '(2011)',\n",
       " '(1946)',\n",
       " '(1936)',\n",
       " '(2014 Video)',\n",
       " '(2011)',\n",
       " '(2011)',\n",
       " '(2004)',\n",
       " '(2009)',\n",
       " '(1999)',\n",
       " '(2017)',\n",
       " '(2013)',\n",
       " '(2004 TV Movie)',\n",
       " '(2013)',\n",
       " '(1992)',\n",
       " '(1986)',\n",
       " '(I) (2015)',\n",
       " '(2008)',\n",
       " '(1999)',\n",
       " '(2013)',\n",
       " '(2016)',\n",
       " '(1993)',\n",
       " '(2016)',\n",
       " '(2012)',\n",
       " '(2009)',\n",
       " '(2011)',\n",
       " '(1999)',\n",
       " '(1937)',\n",
       " '(1987)',\n",
       " '(2009)',\n",
       " '(1987)',\n",
       " '(2006)',\n",
       " '(1989)',\n",
       " '(1989)',\n",
       " '(1931)',\n",
       " '(1989)',\n",
       " '(1932)',\n",
       " '(2013)',\n",
       " '(1977)',\n",
       " '(2009)',\n",
       " '(2015)',\n",
       " '(2010)',\n",
       " '(2012)',\n",
       " '(1970)',\n",
       " '(2015)',\n",
       " '(2013)',\n",
       " '(1987)',\n",
       " '(2002 TV Movie)',\n",
       " '(1994)',\n",
       " '(2007)']"
      ]
     },
     "metadata": {},
     "execution_count": 16
    }
   ],
   "source": [
    "# <span class=\"lister-item-year text-muted unbold\">(2001)</span>\n",
    "\n",
    "release_dates = soup.find_all('span', class_ = 'lister-item-year text-muted unbold')\n",
    "\n",
    "release_years = [release_date.get_text() for release_date in release_dates]\n",
    "\n",
    "release_years"
   ]
  },
  {
   "cell_type": "code",
   "execution_count": null,
   "metadata": {},
   "outputs": [],
   "source": []
  }
 ]
}