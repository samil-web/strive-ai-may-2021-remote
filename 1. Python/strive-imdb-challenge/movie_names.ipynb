{
 "metadata": {
  "language_info": {
   "codemirror_mode": {
    "name": "ipython",
    "version": 3
   },
   "file_extension": ".py",
   "mimetype": "text/x-python",
   "name": "python",
   "nbconvert_exporter": "python",
   "pygments_lexer": "ipython3",
   "version": "3.8.10"
  },
  "orig_nbformat": 2,
  "kernelspec": {
   "name": "python3810jvsc74a57bd068274f4789de8facababa72c5292f6e9ee0042994feee1bf982b457f4d00f7e0",
   "display_name": "Python 3.8.10 64-bit ('strivenev': conda)"
  },
  "metadata": {
   "interpreter": {
    "hash": "63fd5069d213b44bf678585dea6b12cceca9941eaf7f819626cde1f2670de90d"
   }
  }
 },
 "nbformat": 4,
 "nbformat_minor": 2,
 "cells": [
  {
   "cell_type": "code",
   "execution_count": 3,
   "metadata": {},
   "outputs": [],
   "source": [
    "import requests\n",
    "from bs4 import BeautifulSoup"
   ]
  },
  {
   "cell_type": "code",
   "execution_count": 4,
   "metadata": {},
   "outputs": [
    {
     "output_type": "stream",
     "name": "stdout",
     "text": [
      "<Response [200]>\n"
     ]
    }
   ],
   "source": [
    "response = requests.get(\"https://www.imdb.com/list/ls066247137/\")\n",
    "print(response)"
   ]
  },
  {
   "cell_type": "code",
   "execution_count": 5,
   "metadata": {},
   "outputs": [],
   "source": [
    "page = response.content\n",
    "soup = BeautifulSoup(page, \"html.parser\")"
   ]
  },
  {
   "source": [],
   "cell_type": "markdown",
   "metadata": {}
  },
  {
   "cell_type": "code",
   "execution_count": 26,
   "metadata": {},
   "outputs": [
    {
     "output_type": "stream",
     "name": "stdout",
     "text": [
      "['Der Herr der Ringe: Die Gefährten', 'Final Fantasy - Die Mächte in dir', 'X-Men 2', 'Harry Potter und der Feuerkelch', 'Mortal Kombat', 'Die Ritter der Kokosnuß', 'Highlander - Es kann nur einen geben', 'Charlie und die Schokoladenfabrik', 'Space Jam', 'Harry Potter und der Stein der Weisen', 'Die Chroniken von Narnia - Der König von Narnia', 'Der Zauberer von Oz', 'Die unendliche Geschichte', 'South Park: Größer, länger und un(b)geschnitten', 'Willow', 'Die Puppe', 'Wenn ich bleibe', 'Ame & Yuki - Die Wolfskinder', 'Jumanji', 'Das Schloss im Himmel', 'Jumanji: Willkommen im Dschungel', 'Alice im Wunderland', 'Avengers: Infinity War', 'Dungeons & Dragons', 'Der Herr der Ringe: Die Rückkehr des Königs', 'Alice im Wunderland', 'Tschitti Tschitti Bäng Bäng', 'Harry Potter und die Kammer des Schreckens', 'Elliot, das Schmunzelmonster', 'Falsches Spiel mit Roger Rabbit', 'Matilda', 'Mary Poppins', 'Der Herr der Ringe: Die zwei Türme', 'Muppets aus dem All', 'Shrek - Der tollkühne Held', 'Der Dunkle Turm', 'Alice', 'Die Eiskönigin: Völlig unverfroren', \"Don't Be Afraid of the Dark\", 'TinkerBell und die Piratenfee', 'Harry Potter und die Heiligtümer des Todes - Teil 1', 'Ghostbusters - Die Geisterjäger', 'Doctor Strange', 'Kikis kleiner Lieferservice', 'Monster Trucks', 'Ghostbusters', 'The Scorpion King', 'Highlander: Endgame', 'Sirenengesang', 'Der Rabe - Duell der Zauberer', 'Das wandelnde Schloss', 'Mr. Poppers Pinguine', 'Ist das Leben nicht schön?', 'Draculas Tochter', 'Justice League: War', 'Red Riding Hood - Unter dem Wolfsmond', 'Harry Potter und die Heiligtümer des Todes - Teil 2', 'Harry Potter und der Gefangene von Askaban', 'Harry Potter und der Halbblutprinz', 'Die Mumie', 'The Lego Batman Movie', 'Jack and the Giants', 'The Quest - Jagd nach dem Speer des Schicksals', 'Ghost Movie', 'Aladdin', 'Labyrinth', 'Cinderella', 'Die Chroniken von Narnia - Prinz Kaspian von Narnia', 'Beowulf', 'Evil Dead', 'Suicide Squad', 'Die Addams Family in verrückter Tradition', 'Before I Wake', 'Breaking Dawn - Bis(s) zum Ende der Nacht: Teil 2', 'The Hole - Wovor hast Du Angst?', 'Hugo Cabret', 'Die Killerhand', 'Schneewittchen und die sieben Zwerge', 'Die Braut des Prinzen', 'Die Frau des Zeitreisenden', 'Masters of the Universe', 'Zombies', 'Ghostbusters 2', 'Arielle, die Meerjungfrau', 'Dracula', 'Indiana Jones und der letzte Kreuzzug', 'Die Mumie', 'R.I.P.D.', 'Krieg der Sterne', 'Underworld - Aufstand der Lykaner', 'Alvin und die Chipmunks: Road Chip', 'Die Chroniken von Narnia - Die Reise auf der Morgenröte', 'Das Geheimnis der Feenflügel', 'Santo el enmascarado de plata y Blue Demon contra los monstruos', 'Dragon - Love Is a Scary Tale', 'Die Legende der Prinzessin Kaguya', 'Hänsel und Gretel', \"Ariana's Quest\", \"Freddy's New Nightmare\", 'Harry Potter und der Orden des Phönix']\n"
     ]
    }
   ],
   "source": [
    "movies_parent =  soup.find_all('h3', class_ = 'lister-item-header')\n",
    "movie_names = []\n",
    "\n",
    "for movie_name in movies_parent:\n",
    "    movie_names.append(movie_name.find_all('a')[0].get_text())\n",
    "\n",
    "print(movie_names)"
   ]
  },
  {
   "cell_type": "code",
   "execution_count": null,
   "metadata": {},
   "outputs": [],
   "source": []
  }
 ]
}