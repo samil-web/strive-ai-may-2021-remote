{
 "metadata": {
  "language_info": {
   "codemirror_mode": {
    "name": "ipython",
    "version": 3
   },
   "file_extension": ".py",
   "mimetype": "text/x-python",
   "name": "python",
   "nbconvert_exporter": "python",
   "pygments_lexer": "ipython3",
   "version": "3.8.10"
  },
  "orig_nbformat": 2,
  "kernelspec": {
   "name": "python3810jvsc74a57bd068274f4789de8facababa72c5292f6e9ee0042994feee1bf982b457f4d00f7e0",
   "display_name": "Python 3.8.10 64-bit ('strivenev': conda)"
  }
 },
 "nbformat": 4,
 "nbformat_minor": 2,
 "cells": [
  {
   "cell_type": "code",
   "execution_count": 122,
   "metadata": {},
   "outputs": [
    {
     "output_type": "error",
     "ename": "ModuleNotFoundError",
     "evalue": "No module named 'matplotlib'",
     "traceback": [
      "\u001b[1;31m---------------------------------------------------------------------------\u001b[0m",
      "\u001b[1;31mModuleNotFoundError\u001b[0m                       Traceback (most recent call last)",
      "\u001b[1;32m<ipython-input-122-c08c9d5020aa>\u001b[0m in \u001b[0;36m<module>\u001b[1;34m\u001b[0m\n\u001b[0;32m      3\u001b[0m \u001b[1;32mimport\u001b[0m \u001b[0mrequests\u001b[0m\u001b[1;33m\u001b[0m\u001b[1;33m\u001b[0m\u001b[0m\n\u001b[0;32m      4\u001b[0m \u001b[1;32mfrom\u001b[0m \u001b[0mbs4\u001b[0m \u001b[1;32mimport\u001b[0m \u001b[0mBeautifulSoup\u001b[0m\u001b[1;33m\u001b[0m\u001b[1;33m\u001b[0m\u001b[0m\n\u001b[1;32m----> 5\u001b[1;33m \u001b[1;32mimport\u001b[0m \u001b[0mmatplotlib\u001b[0m\u001b[1;33m.\u001b[0m\u001b[0mpyplot\u001b[0m \u001b[1;32mas\u001b[0m \u001b[0mplt\u001b[0m\u001b[1;33m\u001b[0m\u001b[1;33m\u001b[0m\u001b[0m\n\u001b[0m\u001b[0;32m      6\u001b[0m \u001b[1;32mimport\u001b[0m \u001b[0mseaborn\u001b[0m \u001b[1;32mas\u001b[0m \u001b[0msns\u001b[0m\u001b[1;33m\u001b[0m\u001b[1;33m\u001b[0m\u001b[0m\n",
      "\u001b[1;31mModuleNotFoundError\u001b[0m: No module named 'matplotlib'"
     ]
    }
   ],
   "source": [
    "import pandas as pd \n",
    "import numpy as np\n",
    "import requests\n",
    "from bs4 import BeautifulSoup\n"
   ]
  },
  {
   "cell_type": "code",
   "execution_count": 2,
   "metadata": {},
   "outputs": [
    {
     "output_type": "stream",
     "name": "stdout",
     "text": [
      "<Response [200]>\n"
     ]
    }
   ],
   "source": [
    "response = requests.get(\"https://www.imdb.com/list/ls066247137/\")\n",
    "print(response)"
   ]
  },
  {
   "cell_type": "code",
   "execution_count": 4,
   "metadata": {},
   "outputs": [],
   "source": [
    "page = response.content\n",
    "soup = BeautifulSoup(page, \"html.parser\")"
   ]
  },
  {
   "cell_type": "code",
   "execution_count": 121,
   "metadata": {
    "tags": []
   },
   "outputs": [
    {
     "output_type": "stream",
     "name": "stdout",
     "text": [
      "Number of movies:  100\n['Elijah Wood, Ian McKellen, Orlando Bloom, Sean Bean']\n"
     ]
    }
   ],
   "source": [
    "movies =  soup.find_all('div', class_ = 'lister-item-content')\n",
    "\n",
    "# print(len(movies))\n",
    "\n",
    "all_movies_info = []\n",
    "for movie in movies:\n",
    "    all_movies_info.append(movie.find_all('p', class_ = 'text-muted text-small'))\n",
    "\n",
    "print(\"Number of movies: \", len(movies_info))\n",
    "\n",
    "director_names = []\n",
    "for single_movie_info in all_movies_info[0:1]:\n",
    "    # print(movie_info)\n",
    "    \n",
    "    for markup_info in single_movie_info:\n",
    "\n",
    "        markup_string = markup_info.get_text().split()\n",
    "        # print(markup_string[-1])\n",
    "        # print(markup_string)\n",
    "        if \"Director:\" in markup_string:\n",
    "            director = markup_string[markup_string.index(\"Stars:\") + 1:]\n",
    "            director = \" \".join(director)\n",
    "            director_names.append(director)\n",
    "        \n",
    "        elif \"Directors:\" in markup_string:\n",
    "            directors = markup_string[markup_string.index(\"Stars:\") + 1 :]\n",
    "            directors = \" \".join(directors)\n",
    "            director_names.append(directors)\n",
    "        \n",
    "print(director_names)\n",
    "    \n",
    "\n",
    "# .find_all('p', class_ = 'text-muted text-small'))\n",
    "# director_names = Element.find_all('a', class_ = 'ghost')\n",
    "\n",
    "# for director_name in director_names:\n",
    "#     print(director_name)"
   ]
  },
  {
   "cell_type": "code",
   "execution_count": null,
   "metadata": {},
   "outputs": [],
   "source": []
  }
 ]
}