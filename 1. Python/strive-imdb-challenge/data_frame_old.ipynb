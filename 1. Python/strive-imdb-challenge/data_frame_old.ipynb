{
 "cells": [
  {
   "cell_type": "code",
   "metadata": {
    "tags": [],
    "cell_id": "00000-fbbf5891-f511-41e6-8ddd-18828b42468c",
    "deepnote_to_be_reexecuted": false,
    "source_hash": "2e41ca93",
    "execution_start": 1622808052727,
    "execution_millis": 90,
    "deepnote_cell_type": "code"
   },
   "source": [
    "import pandas as pd \n",
    "import numpy as np\n",
    "import requests\n",
    "from bs4 import BeautifulSoup\n",
    "import matplotlib.pyplot as plt\n",
    "import seaborn as sns\n"
   ],
   "execution_count": 1,
   "outputs": [
    {
     "output_type": "error",
     "ename": "ModuleNotFoundError",
     "evalue": "No module named 'matplotlib'",
     "traceback": [
      "\u001b[1;31m---------------------------------------------------------------------------\u001b[0m",
      "\u001b[1;31mModuleNotFoundError\u001b[0m                       Traceback (most recent call last)",
      "\u001b[1;32m<ipython-input-1-c08c9d5020aa>\u001b[0m in \u001b[0;36m<module>\u001b[1;34m\u001b[0m\n\u001b[0;32m      3\u001b[0m \u001b[1;32mimport\u001b[0m \u001b[0mrequests\u001b[0m\u001b[1;33m\u001b[0m\u001b[1;33m\u001b[0m\u001b[0m\n\u001b[0;32m      4\u001b[0m \u001b[1;32mfrom\u001b[0m \u001b[0mbs4\u001b[0m \u001b[1;32mimport\u001b[0m \u001b[0mBeautifulSoup\u001b[0m\u001b[1;33m\u001b[0m\u001b[1;33m\u001b[0m\u001b[0m\n\u001b[1;32m----> 5\u001b[1;33m \u001b[1;32mimport\u001b[0m \u001b[0mmatplotlib\u001b[0m\u001b[1;33m.\u001b[0m\u001b[0mpyplot\u001b[0m \u001b[1;32mas\u001b[0m \u001b[0mplt\u001b[0m\u001b[1;33m\u001b[0m\u001b[1;33m\u001b[0m\u001b[0m\n\u001b[0m\u001b[0;32m      6\u001b[0m \u001b[1;32mimport\u001b[0m \u001b[0mseaborn\u001b[0m \u001b[1;32mas\u001b[0m \u001b[0msns\u001b[0m\u001b[1;33m\u001b[0m\u001b[1;33m\u001b[0m\u001b[0m\n",
      "\u001b[1;31mModuleNotFoundError\u001b[0m: No module named 'matplotlib'"
     ]
    }
   ]
  },
  {
   "cell_type": "code",
   "metadata": {
    "tags": [],
    "cell_id": "00001-a0efb3df-0acb-4132-9162-e95f55055c6c",
    "deepnote_to_be_reexecuted": false,
    "source_hash": "b623e53d",
    "execution_start": 1622808052820,
    "execution_millis": 3,
    "deepnote_cell_type": "code"
   },
   "source": [],
   "execution_count": 2,
   "outputs": []
  },
  {
   "cell_type": "code",
   "source": [
    "page = requests.get(\"https://www.imdb.com/list/ls066247137/\")\n",
    "soup = BeautifulSoup(page.content, \"html.parser\")\n",
    "\n",
    "movie_names = []\n",
    "movies_parent =  soup.find_all('h3', class_ = 'lister-item-header')\n",
    "for movie_name in movies_parent:\n",
    "    movie_names.append(movie_name.find_all('a')[0].get_text())\n",
    "\n",
    "descriptions = soup.find_all('p', class_= \"\")[1::2]\n",
    "descriptions = [description.get_text().strip() for description in descriptions]"
   ],
   "metadata": {
    "tags": [],
    "cell_id": "00002-234cf5e0-642d-4e21-87ee-7ea1f12b7f36",
    "deepnote_to_be_reexecuted": false,
    "source_hash": "95352c3d",
    "execution_start": 1622808717117,
    "execution_millis": 5050,
    "deepnote_cell_type": "code"
   },
   "outputs": [
    {
     "output_type": "error",
     "ename": "NameError",
     "evalue": "name 'requests' is not defined",
     "traceback": [
      "\u001b[1;31m---------------------------------------------------------------------------\u001b[0m",
      "\u001b[1;31mNameError\u001b[0m                                 Traceback (most recent call last)",
      "\u001b[1;32m<ipython-input-1-9cb57dfc49f0>\u001b[0m in \u001b[0;36m<module>\u001b[1;34m\u001b[0m\n\u001b[1;32m----> 1\u001b[1;33m \u001b[0mpage\u001b[0m \u001b[1;33m=\u001b[0m \u001b[0mrequests\u001b[0m\u001b[1;33m.\u001b[0m\u001b[0mget\u001b[0m\u001b[1;33m(\u001b[0m\u001b[1;34m\"https://www.imdb.com/list/ls066247137/\"\u001b[0m\u001b[1;33m)\u001b[0m\u001b[1;33m\u001b[0m\u001b[1;33m\u001b[0m\u001b[0m\n\u001b[0m\u001b[0;32m      2\u001b[0m \u001b[0msoup\u001b[0m \u001b[1;33m=\u001b[0m \u001b[0mBeautifulSoup\u001b[0m\u001b[1;33m(\u001b[0m\u001b[0mpage\u001b[0m\u001b[1;33m.\u001b[0m\u001b[0mcontent\u001b[0m\u001b[1;33m,\u001b[0m \u001b[1;34m\"html.parser\"\u001b[0m\u001b[1;33m)\u001b[0m\u001b[1;33m\u001b[0m\u001b[1;33m\u001b[0m\u001b[0m\n\u001b[0;32m      3\u001b[0m \u001b[1;33m\u001b[0m\u001b[0m\n\u001b[0;32m      4\u001b[0m \u001b[0mmovie_names\u001b[0m \u001b[1;33m=\u001b[0m \u001b[1;33m[\u001b[0m\u001b[1;33m]\u001b[0m\u001b[1;33m\u001b[0m\u001b[1;33m\u001b[0m\u001b[0m\n\u001b[0;32m      5\u001b[0m \u001b[0mmovies_parent\u001b[0m \u001b[1;33m=\u001b[0m  \u001b[0msoup\u001b[0m\u001b[1;33m.\u001b[0m\u001b[0mfind_all\u001b[0m\u001b[1;33m(\u001b[0m\u001b[1;34m'h3'\u001b[0m\u001b[1;33m,\u001b[0m \u001b[0mclass_\u001b[0m \u001b[1;33m=\u001b[0m \u001b[1;34m'lister-item-header'\u001b[0m\u001b[1;33m)\u001b[0m\u001b[1;33m\u001b[0m\u001b[1;33m\u001b[0m\u001b[0m\n",
      "\u001b[1;31mNameError\u001b[0m: name 'requests' is not defined"
     ]
    }
   ],
   "execution_count": 1
  },
  {
   "cell_type": "code",
   "source": [
    "release_dates = soup.find_all('span', class_ = 'lister-item-year text-muted unbold')\n",
    "release_years = [release_date.get_text() for release_date in release_dates]\n",
    "\n",
    "movies =  soup.find_all('div', class_ = 'lister-item-content')\n",
    "\n",
    "all_movies_info = []\n",
    "for movie in movies:\n",
    "    all_movies_info.append(movie.find_all('p', class_ = 'text-muted text-small'))\n",
    "\n",
    "# print(\"Number of movies: \", len(movies_info))\n",
    "\n",
    "director_names = []\n",
    "for single_movie_info in all_movies_info:\n",
    "    \n",
    "    for markup_info in single_movie_info:\n",
    "\n",
    "        markup_string = markup_info.get_text().split()\n",
    "        \n",
    "        if \"Director:\" in markup_string:\n",
    "            director = markup_string[markup_string.index(\"Director:\") + 1 : markup_string.index(\"Stars:\") - 1]\n",
    "            director = \" \".join(director)\n",
    "            director_names.append(director)\n",
    "        \n",
    "        elif \"Directors:\" in markup_string:\n",
    "            directors = markup_string[markup_string.index(\"Directors:\") + 1 : markup_string.index(\"Stars:\") - 1]\n",
    "            directors = \" \".join(directors)\n",
    "            director_names.append(directors)"
   ],
   "metadata": {
    "tags": [],
    "cell_id": "00004-8997a959-cfea-43b8-9977-0d8953c35955",
    "deepnote_cell_type": "code"
   },
   "outputs": [],
   "execution_count": null
  },
  {
   "cell_type": "code",
   "source": [
    "Ratings = []\n",
    "ratings_raw = soup.find_all(\"span\",class_='ipl-rating-star__rating')\n",
    "for i in range(0,len(ratings_raw),23):\n",
    "    Ratings.append(float(ratings_raw[i].text))\n",
    "\n",
    "Duration = []\n",
    "duration_raw = soup.find_all(\"span\",class_='runtime')\n",
    "for i in range(100):\n",
    "    Duration.append(duration_raw[i].text)"
   ],
   "metadata": {
    "tags": [],
    "cell_id": "00005-1aa3742c-e80d-46bd-bed6-8710a5bc5283",
    "deepnote_to_be_reexecuted": false,
    "source_hash": "b1625708",
    "execution_start": 1622808744341,
    "execution_millis": 235,
    "deepnote_cell_type": "code"
   },
   "outputs": [],
   "execution_count": 17
  },
  {
   "cell_type": "code",
   "source": [
    "data = {'Movie': movie_names,  \n",
    "        'Description': descriptions, \n",
    "        \"Release-Date\": release_years,\n",
    "        \"Directors\": director_names,\n",
    "        \"Rating\": Ratings, \n",
    "        \"Duration\": Duration}\n",
    "df = pd.DataFrame(data)\n",
    "df"
   ],
   "metadata": {
    "tags": [],
    "cell_id": "00004-938c54aa-1591-439a-9c2b-aeb8c93e6020",
    "deepnote_to_be_reexecuted": false,
    "source_hash": "6d883f63",
    "execution_start": 1622808780455,
    "execution_millis": 42,
    "deepnote_cell_type": "code"
   },
   "outputs": [
    {
     "output_type": "execute_result",
     "execution_count": 18,
     "data": {
      "application/vnd.deepnote.dataframe.v2+json": {
       "row_count": 100,
       "column_count": 6,
       "columns": [
        {
         "name": "Movie",
         "dtype": "object",
         "stats": {
          "unique_count": 98,
          "nan_count": 0,
          "categories": [
           {
            "name": "Alice in Wonderland",
            "count": 2
           },
           {
            "name": "The Mummy",
            "count": 2
           },
           {
            "name": "96 others",
            "count": 96
           }
          ]
         }
        },
        {
         "name": "Description",
         "dtype": "object",
         "stats": {
          "unique_count": 100,
          "nan_count": 0,
          "categories": [
           {
            "name": "A meek Hobbit from the Shire and eight companions set out on a journey to destroy the powerful One Ring and save Middle-earth from the Dark Lord Sauron.",
            "count": 1
           },
           {
            "name": "A scientist makes a last stand on Earth with the help of a ragtag team of soldiers against an invasion of alien phantoms.",
            "count": 1
           },
           {
            "name": "98 others",
            "count": 98
           }
          ]
         }
        },
        {
         "name": "Release-Date",
         "dtype": "object",
         "stats": {
          "unique_count": 51,
          "nan_count": 0,
          "categories": [
           {
            "name": "(1999)",
            "count": 5
           },
           {
            "name": "(2016)",
            "count": 5
           },
           {
            "name": "49 others",
            "count": 90
           }
          ]
         }
        },
        {
         "name": "Directors",
         "dtype": "object",
         "stats": {
          "unique_count": 87,
          "nan_count": 0,
          "categories": [
           {
            "name": "David Yates",
            "count": 4
           },
           {
            "name": "Peter Jackson",
            "count": 3
           },
           {
            "name": "85 others",
            "count": 93
           }
          ]
         }
        },
        {
         "name": "Rating",
         "dtype": "float64",
         "stats": {
          "unique_count": 39,
          "nan_count": 0,
          "min": "3.7",
          "max": "8.9",
          "histogram": [
           {
            "bin_start": 3.7,
            "bin_end": 4.220000000000001,
            "count": 2
           },
           {
            "bin_start": 4.220000000000001,
            "bin_end": 4.74,
            "count": 2
           },
           {
            "bin_start": 4.74,
            "bin_end": 5.26,
            "count": 3
           },
           {
            "bin_start": 5.26,
            "bin_end": 5.78,
            "count": 9
           },
           {
            "bin_start": 5.78,
            "bin_end": 6.300000000000001,
            "count": 12
           },
           {
            "bin_start": 6.300000000000001,
            "bin_end": 6.82,
            "count": 15
           },
           {
            "bin_start": 6.82,
            "bin_end": 7.34,
            "count": 15
           },
           {
            "bin_start": 7.34,
            "bin_end": 7.86,
            "count": 23
           },
           {
            "bin_start": 7.86,
            "bin_end": 8.379999999999999,
            "count": 13
           },
           {
            "bin_start": 8.379999999999999,
            "bin_end": 8.9,
            "count": 6
           }
          ]
         }
        },
        {
         "name": "Duration",
         "dtype": "object",
         "stats": {
          "unique_count": 65,
          "nan_count": 0,
          "categories": [
           {
            "name": "92 min",
            "count": 7
           },
           {
            "name": "102 min",
            "count": 4
           },
           {
            "name": "63 others",
            "count": 89
           }
          ]
         }
        },
        {
         "name": "_deepnote_index_column",
         "dtype": "int64"
        }
       ],
       "rows_top": [
        {
         "Movie": "The Lord of the Rings: The Fellowship of the Ring",
         "Description": "A meek Hobbit from the Shire and eight companions set out on a journey to destroy the powerful One …",
         "Release-Date": "(2001)",
         "Directors": "Peter Jackson",
         "Rating": 8.8,
         "Duration": "178 min",
         "_deepnote_index_column": 0
        },
        {
         "Movie": "Final Fantasy: The Spirits Within",
         "Description": "A scientist makes a last stand on Earth with the help of a ragtag team of soldiers against an invas…",
         "Release-Date": "(2001)",
         "Directors": "Hironobu Sakaguchi, Motonori Sakakibara",
         "Rating": 6.4,
         "Duration": "106 min",
         "_deepnote_index_column": 1
        },
        {
         "Movie": "X2: X-Men United",
         "Description": "When anti-mutant Colonel William Stryker kidnaps Professor X and attacks his school, the X-Men must…",
         "Release-Date": "(2003)",
         "Directors": "Bryan Singer",
         "Rating": 7.4,
         "Duration": "134 min",
         "_deepnote_index_column": 2
        },
        {
         "Movie": "Harry Potter and the Goblet of Fire",
         "Description": "Harry Potter finds himself competing in a hazardous tournament between rival schools of magic, but …",
         "Release-Date": "(2005)",
         "Directors": "Mike Newell",
         "Rating": 7.7,
         "Duration": "157 min",
         "_deepnote_index_column": 3
        },
        {
         "Movie": "Mortal Kombat",
         "Description": "Three unknowing martial artists are summoned to a mysterious island to compete in a tournament whos…",
         "Release-Date": "(1995)",
         "Directors": "Paul W.S. Anderson",
         "Rating": 5.8,
         "Duration": "101 min",
         "_deepnote_index_column": 4
        },
        {
         "Movie": "Monty Python and the Holy Grail",
         "Description": "King Arthur and his Knights of the Round Table embark on a surreal, low-budget search for the Holy …",
         "Release-Date": "(1975)",
         "Directors": "Terry Gilliam, Terry Jones",
         "Rating": 8.2,
         "Duration": "91 min",
         "_deepnote_index_column": 5
        },
        {
         "Movie": "Highlander",
         "Description": "An immortal Scottish swordsman must confront the last of his immortal opponent, a murderously bruta…",
         "Release-Date": "(1986)",
         "Directors": "Russell Mulcahy",
         "Rating": 7.1,
         "Duration": "116 min",
         "_deepnote_index_column": 6
        },
        {
         "Movie": "Willy Wonka & the Chocolate Factory",
         "Description": "A poor but hopeful boy seeks one of the five coveted golden tickets that will send him on a tour of…",
         "Release-Date": "(1971)",
         "Directors": "Mel Stuart",
         "Rating": 7.8,
         "Duration": "100 min",
         "_deepnote_index_column": 7
        },
        {
         "Movie": "Space Jam",
         "Description": "In a desperate attempt to win a basketball match and earn their freedom, the Looney Tunes seek the …",
         "Release-Date": "(1996)",
         "Directors": "Joe Pytka",
         "Rating": 6.4,
         "Duration": "88 min",
         "_deepnote_index_column": 8
        },
        {
         "Movie": "Harry Potter and the Sorcerer's Stone",
         "Description": "An orphaned boy enrolls in a school of wizardry, where he learns the truth about himself, his famil…",
         "Release-Date": "(2001)",
         "Directors": "Chris Columbus",
         "Rating": 7.6,
         "Duration": "152 min",
         "_deepnote_index_column": 9
        },
        {
         "Movie": "The Chronicles of Narnia: The Lion, the Witch and the Wardrobe",
         "Description": "Four kids travel through a wardrobe to the land of Narnia and learn of their destiny to free it wit…",
         "Release-Date": "(2005)",
         "Directors": "Andrew Adamson",
         "Rating": 6.9,
         "Duration": "143 min",
         "_deepnote_index_column": 10
        },
        {
         "Movie": "The Wizard of Oz",
         "Description": "Dorothy Gale is swept away from a farm in Kansas to a magical land of Oz in a tornado and embarks o…",
         "Release-Date": "(1939)",
         "Directors": "Victor Fleming, George Cukor, Mervyn LeRoy, Norman Taurog, Richard Thorpe, King Vidor",
         "Rating": 8,
         "Duration": "102 min",
         "_deepnote_index_column": 11
        },
        {
         "Movie": "The NeverEnding Story",
         "Description": "A troubled boy dives into a wondrous fantasy world through the pages of a mysterious book.",
         "Release-Date": "(1984)",
         "Directors": "Wolfgang Petersen",
         "Rating": 7.4,
         "Duration": "102 min",
         "_deepnote_index_column": 12
        },
        {
         "Movie": "South Park: Bigger, Longer & Uncut",
         "Description": "When Stan Marsh and his friends go see an R-rated movie, they start cursing and their parents think…",
         "Release-Date": "(1999)",
         "Directors": "Trey Parker",
         "Rating": 7.7,
         "Duration": "81 min",
         "_deepnote_index_column": 13
        },
        {
         "Movie": "Willow",
         "Description": "A young farmer is chosen to undertake a perilous journey in order to protect a special baby from an…",
         "Release-Date": "(1988)",
         "Directors": "Ron Howard",
         "Rating": 7.3,
         "Duration": "126 min",
         "_deepnote_index_column": 14
        },
        {
         "Movie": "The Doll",
         "Description": "Forced into marriage by his uncle, a man decides to fool him by marrying a life-like mechanical dol…",
         "Release-Date": "(1919)",
         "Directors": "Ernst Lubitsch",
         "Rating": 7.4,
         "Duration": "66 min",
         "_deepnote_index_column": 15
        },
        {
         "Movie": "If I Stay",
         "Description": "Life changes in an instant for young Mia Hall after a car accident puts her in a coma. During an ou…",
         "Release-Date": "(2014)",
         "Directors": "R.J. Cutler",
         "Rating": 6.7,
         "Duration": "107 min",
         "_deepnote_index_column": 16
        },
        {
         "Movie": "Wolf Children",
         "Description": "After her werewolf lover unexpectedly dies in an accident while hunting for food for their children…",
         "Release-Date": "(2012)",
         "Directors": "Mamoru Hosoda",
         "Rating": 8.1,
         "Duration": "117 min",
         "_deepnote_index_column": 17
        },
        {
         "Movie": "Jumanji",
         "Description": "When two kids find and play a magical board game, they release a man trapped in it for decades - an…",
         "Release-Date": "(1995)",
         "Directors": "Joe Johnston",
         "Rating": 7,
         "Duration": "104 min",
         "_deepnote_index_column": 18
        },
        {
         "Movie": "Castle in the Sky",
         "Description": "A young boy and a girl with a magic crystal must race against pirates and foreign agents in a searc…",
         "Release-Date": "(1986)",
         "Directors": "Hayao Miyazaki",
         "Rating": 8,
         "Duration": "125 min",
         "_deepnote_index_column": 19
        },
        {
         "Movie": "Jumanji: Welcome to the Jungle",
         "Description": "Four teenagers are sucked into a magical video game, and the only way they can escape is to work to…",
         "Release-Date": "(2017)",
         "Directors": "Jake Kasdan",
         "Rating": 6.9,
         "Duration": "119 min",
         "_deepnote_index_column": 20
        },
        {
         "Movie": "Alice in Wonderland",
         "Description": "In Victorian England a bored young girl dreams that she has entered a fantasy world called Wonderla…",
         "Release-Date": "(1933)",
         "Directors": "Norman Z. McLeod, Hugh Harman, Rudolf Ising",
         "Rating": 6.4,
         "Duration": "76 min",
         "_deepnote_index_column": 21
        },
        {
         "Movie": "Avengers: Infinity War",
         "Description": "The Avengers and their allies must be willing to sacrifice all in an attempt to defeat the powerful…",
         "Release-Date": "(2018)",
         "Directors": "Anthony Russo, Joe Russo",
         "Rating": 8.4,
         "Duration": "149 min",
         "_deepnote_index_column": 22
        },
        {
         "Movie": "Dungeons & Dragons",
         "Description": "Profion, a tyrant, attempts to overthrow a peaceful kingdom ruled by a tough empress.",
         "Release-Date": "(2000)",
         "Directors": "Courtney Solomon",
         "Rating": 3.7,
         "Duration": "107 min",
         "_deepnote_index_column": 23
        },
        {
         "Movie": "The Lord of the Rings: The Return of the King",
         "Description": "Gandalf and Aragorn lead the World of Men against Sauron's army to draw his gaze from Frodo and Sam…",
         "Release-Date": "(2003)",
         "Directors": "Peter Jackson",
         "Rating": 8.9,
         "Duration": "201 min",
         "_deepnote_index_column": 24
        },
        {
         "Movie": "Alice in Wonderland",
         "Description": "Alice stumbles into the world of Wonderland. Will she get home? Not if the Queen of Hearts has her …",
         "Release-Date": "(1951)",
         "Directors": "Clyde Geronimi, Wilfred Jackson, Hamilton Luske, Jack Kinney",
         "Rating": 7.4,
         "Duration": "75 min",
         "_deepnote_index_column": 25
        },
        {
         "Movie": "Chitty Chitty Bang Bang",
         "Description": "A down-on-his-luck inventor turns a broken-down Grand Prix car into a fancy vehicle for his childre…",
         "Release-Date": "(1968)",
         "Directors": "Ken Hughes",
         "Rating": 6.9,
         "Duration": "144 min",
         "_deepnote_index_column": 26
        },
        {
         "Movie": "Harry Potter and the Chamber of Secrets",
         "Description": "An ancient prophecy seems to be coming true when a mysterious presence begins stalking the corridor…",
         "Release-Date": "(2002)",
         "Directors": "Chris Columbus",
         "Rating": 7.4,
         "Duration": "161 min",
         "_deepnote_index_column": 27
        },
        {
         "Movie": "Pete's Dragon",
         "Description": "An orphan boy and his magical dragon come to town with his abusive adoptive parents in pursuit.",
         "Release-Date": "(1977)",
         "Directors": "Don Chaffey, Don Bluth",
         "Rating": 6.4,
         "Duration": "128 min",
         "_deepnote_index_column": 28
        },
        {
         "Movie": "Who Framed Roger Rabbit",
         "Description": "A toon-hating detective is a cartoon rabbit's only hope to prove his innocence when he is accused o…",
         "Release-Date": "(1988)",
         "Directors": "Robert Zemeckis",
         "Rating": 7.7,
         "Duration": "104 min",
         "_deepnote_index_column": 29
        },
        {
         "Movie": "Matilda",
         "Description": "This film adaptation of a Roald Dahl work tells the story of Matilda Wormwood, a gifted girl forced…",
         "Release-Date": "(1996)",
         "Directors": "Danny DeVito",
         "Rating": 6.9,
         "Duration": "102 min",
         "_deepnote_index_column": 30
        },
        {
         "Movie": "Mary Poppins",
         "Description": "In turn of the century London, a magical nanny employs music and adventure to help two neglected ch…",
         "Release-Date": "(1964)",
         "Directors": "Robert Stevenson",
         "Rating": 7.8,
         "Duration": "139 min",
         "_deepnote_index_column": 31
        },
        {
         "Movie": "The Lord of the Rings: The Two Towers",
         "Description": "While Frodo and Sam edge closer to Mordor with the help of the shifty Gollum, the divided fellowshi…",
         "Release-Date": "(2002)",
         "Directors": "Peter Jackson",
         "Rating": 8.7,
         "Duration": "179 min",
         "_deepnote_index_column": 32
        },
        {
         "Movie": "Muppets from Space",
         "Description": "Gonzo is contacted by his alien family through his breakfast cereal. But when the men in black kidn…",
         "Release-Date": "(1999)",
         "Directors": "Tim Hill",
         "Rating": 6.3,
         "Duration": "87 min",
         "_deepnote_index_column": 33
        },
        {
         "Movie": "Shrek",
         "Description": "A mean lord exiles fairytale creatures to the swamp of a grumpy ogre, who must go on a quest and re…",
         "Release-Date": "(2001)",
         "Directors": "Andrew Adamson, Vicky Jenson",
         "Rating": 7.9,
         "Duration": "90 min",
         "_deepnote_index_column": 34
        },
        {
         "Movie": "The Dark Tower",
         "Description": "A boy haunted by visions of a dark tower from a parallel reality teams up with the tower's disillus…",
         "Release-Date": "(2017)",
         "Directors": "Nikolaj Arcel",
         "Rating": 5.6,
         "Duration": "95 min",
         "_deepnote_index_column": 35
        },
        {
         "Movie": "Alice",
         "Description": "A surrealistic revision of Alice in Wonderland.",
         "Release-Date": "(1988)",
         "Directors": "Jan Svankmajer",
         "Rating": 7.5,
         "Duration": "86 min",
         "_deepnote_index_column": 36
        },
        {
         "Movie": "Frozen",
         "Description": "When the newly crowned Queen Elsa accidentally uses her power to turn things into ice to curse her …",
         "Release-Date": "(I) (2013)",
         "Directors": "Chris Buck, Jennifer Lee",
         "Rating": 7.4,
         "Duration": "102 min",
         "_deepnote_index_column": 37
        },
        {
         "Movie": "Don't Be Afraid of the Dark",
         "Description": "A young girl sent to live with her father and his new girlfriend believes that she has released cre…",
         "Release-Date": "(2010)",
         "Directors": "Troy Nixey",
         "Rating": 5.6,
         "Duration": "99 min",
         "_deepnote_index_column": 38
        },
        {
         "Movie": "The Pirate Fairy",
         "Description": "When Zarina steals Pixie Hollow's Blue Pixie Dust and flies away, Tinker Bell and her friends sets …",
         "Release-Date": "(2014 Video)",
         "Directors": "Peggy Holmes",
         "Rating": 6.6,
         "Duration": "78 min",
         "_deepnote_index_column": 39
        },
        {
         "Movie": "Harry Potter and the Deathly Hallows: Part 1",
         "Description": "As Harry, Ron, and Hermione race against time and evil to destroy the Horcruxes, they uncover the e…",
         "Release-Date": "(2010)",
         "Directors": "David Yates",
         "Rating": 7.7,
         "Duration": "146 min",
         "_deepnote_index_column": 40
        },
        {
         "Movie": "Ghostbusters",
         "Description": "Three former parapsychology professors set up shop as a unique ghost removal service.",
         "Release-Date": "(1984)",
         "Directors": "Ivan Reitman",
         "Rating": 7.8,
         "Duration": "105 min",
         "_deepnote_index_column": 41
        },
        {
         "Movie": "Doctor Strange",
         "Description": "While on a journey of physical and spiritual healing, a brilliant neurosurgeon is drawn into the wo…",
         "Release-Date": "(2016)",
         "Directors": "Scott Derrickson",
         "Rating": 7.5,
         "Duration": "115 min",
         "_deepnote_index_column": 42
        },
        {
         "Movie": "Kiki's Delivery Service",
         "Description": "A young witch, on her mandatory year of independent life, finds fitting into a new community diffic…",
         "Release-Date": "(1989)",
         "Directors": "Hayao Miyazaki",
         "Rating": 7.9,
         "Duration": "103 min",
         "_deepnote_index_column": 43
        },
        {
         "Movie": "Monster Trucks",
         "Description": "A young man working at a small town junkyard discovers and befriends a creature which feeds on oil …",
         "Release-Date": "(2016)",
         "Directors": "Chris Wedge",
         "Rating": 5.7,
         "Duration": "104 min",
         "_deepnote_index_column": 44
        },
        {
         "Movie": "Ghostbusters: Answer the Call",
         "Description": "Following a ghost invasion of Manhattan, paranormal enthusiasts Erin Gilbert and Abby Yates, nuclea…",
         "Release-Date": "(2016)",
         "Directors": "Paul Feig",
         "Rating": 6.6,
         "Duration": "117 min",
         "_deepnote_index_column": 45
        },
        {
         "Movie": "The Scorpion King",
         "Description": "A desert warrior rises up against the evil army that is destroying his homeland. He captures the en…",
         "Release-Date": "(2002)",
         "Directors": "Chuck Russell",
         "Rating": 5.5,
         "Duration": "92 min",
         "_deepnote_index_column": 46
        },
        {
         "Movie": "Highlander: Endgame",
         "Description": "Immortals Connor and Duncan MacLeod must join forces against Kell, an evil immortal who has become …",
         "Release-Date": "(2000)",
         "Directors": "Douglas Aarniokoski",
         "Rating": 4.6,
         "Duration": "87 min",
         "_deepnote_index_column": 47
        },
        {
         "Movie": "The Lure",
         "Description": "In Warsaw, a pair of mermaid sisters are adopted into a cabaret. While one seeks love with humans t…",
         "Release-Date": "(2015)",
         "Directors": "Agnieszka Smoczynska",
         "Rating": 6.3,
         "Duration": "92 min",
         "_deepnote_index_column": 48
        },
        {
         "Movie": "The Raven",
         "Description": "A magician, who has been turned into a raven, turns to a former sorcerer for help.",
         "Release-Date": "(1963)",
         "Directors": "Roger Corman",
         "Rating": 6.6,
         "Duration": "86 min",
         "_deepnote_index_column": 49
        },
        {
         "Movie": "Howl's Moving Castle",
         "Description": "When an unconfident young woman is cursed with an old body by a spiteful witch, her only chance of …",
         "Release-Date": "(2004)",
         "Directors": "Hayao Miyazaki",
         "Rating": 8.2,
         "Duration": "119 min",
         "_deepnote_index_column": 50
        },
        {
         "Movie": "Mr. Popper's Penguins",
         "Description": "The life of a businessman begins to change after he inherits six penguins, and as he transforms his…",
         "Release-Date": "(2011)",
         "Directors": "Mark Waters",
         "Rating": 6,
         "Duration": "94 min",
         "_deepnote_index_column": 51
        },
        {
         "Movie": "It's a Wonderful Life",
         "Description": "An angel is sent from Heaven to help a desperately frustrated businessman by showing him what life …",
         "Release-Date": "(1946)",
         "Directors": "Frank Capra",
         "Rating": 8.6,
         "Duration": "130 min",
         "_deepnote_index_column": 52
        },
        {
         "Movie": "Dracula's Daughter",
         "Description": "When Countess Marya Zaleska appears in London, mysterious events occur leading Dr. Von Helsing to b…",
         "Release-Date": "(1936)",
         "Directors": "Lambert Hillyer",
         "Rating": 6.3,
         "Duration": "71 min",
         "_deepnote_index_column": 53
        },
        {
         "Movie": "Justice League: War",
         "Description": "The world's finest heroes found the Justice League in order to stop an alien invasion of Earth.",
         "Release-Date": "(2014 Video)",
         "Directors": "Jay Oliva",
         "Rating": 7.2,
         "Duration": "79 min",
         "_deepnote_index_column": 54
        },
        {
         "Movie": "Red Riding Hood",
         "Description": "Set in a medieval village that is haunted by a werewolf, a young girl falls for an orphaned woodcut…",
         "Release-Date": "(2011)",
         "Directors": "Catherine Hardwicke",
         "Rating": 5.4,
         "Duration": "100 min",
         "_deepnote_index_column": 55
        },
        {
         "Movie": "Harry Potter and the Deathly Hallows: Part 2",
         "Description": "Harry, Ron, and Hermione search for Voldemort's remaining Horcruxes in their effort to destroy the …",
         "Release-Date": "(2011)",
         "Directors": "David Yates",
         "Rating": 8.1,
         "Duration": "130 min",
         "_deepnote_index_column": 56
        },
        {
         "Movie": "Harry Potter and the Prisoner of Azkaban",
         "Description": "Harry Potter, Ron and Hermione return to Hogwarts School of Witchcraft and Wizardry for their third…",
         "Release-Date": "(2004)",
         "Directors": "Alfonso Cuarón",
         "Rating": 7.9,
         "Duration": "142 min",
         "_deepnote_index_column": 57
        },
        {
         "Movie": "Harry Potter and the Half-Blood Prince",
         "Description": "As Harry Potter begins his sixth year at Hogwarts, he discovers an old book marked as \"the property…",
         "Release-Date": "(2009)",
         "Directors": "David Yates",
         "Rating": 7.6,
         "Duration": "153 min",
         "_deepnote_index_column": 58
        },
        {
         "Movie": "The Mummy",
         "Description": "At an archaeological dig in the ancient city of Hamunaptra, an American serving in the French Forei…",
         "Release-Date": "(1999)",
         "Directors": "Stephen Sommers",
         "Rating": 7,
         "Duration": "124 min",
         "_deepnote_index_column": 59
        },
        {
         "Movie": "The Lego Batman Movie",
         "Description": "A cooler-than-ever Bruce Wayne must deal with the usual suspects as they plan to rule Gotham City, …",
         "Release-Date": "(2017)",
         "Directors": "Chris McKay",
         "Rating": 7.3,
         "Duration": "104 min",
         "_deepnote_index_column": 60
        },
        {
         "Movie": "Jack the Giant Slayer",
         "Description": "The ancient war between humans and a race of giants is reignited when Jack, a young farmhand fighti…",
         "Release-Date": "(2013)",
         "Directors": "Bryan Singer",
         "Rating": 6.2,
         "Duration": "114 min",
         "_deepnote_index_column": 61
        },
        {
         "Movie": "The Librarian: Quest for the Spear",
         "Description": "A bookworm becomes the librarian. Same night a magical spear gets stolen and he's off to get some r…",
         "Release-Date": "(2004 TV Movie)",
         "Directors": "Peter Winther",
         "Rating": 6.3,
         "Duration": "92 min",
         "_deepnote_index_column": 62
        },
        {
         "Movie": "A Haunted House",
         "Description": "Malcolm and Kisha move into their dream home, but soon learn a demon also resides there. When Kisha…",
         "Release-Date": "(2013)",
         "Directors": "Michael Tiddes",
         "Rating": 5,
         "Duration": "86 min",
         "_deepnote_index_column": 63
        },
        {
         "Movie": "Aladdin",
         "Description": "A kindhearted street urchin and a power-hungry Grand Vizier vie for a magic lamp that has the power…",
         "Release-Date": "(1992)",
         "Directors": "Ron Clements, John Musker",
         "Rating": 8,
         "Duration": "90 min",
         "_deepnote_index_column": 64
        },
        {
         "Movie": "Labyrinth",
         "Description": "Sixteen-year-old Sarah is given thirteen hours to solve a labyrinth and rescue her baby brother Tob…",
         "Release-Date": "(1986)",
         "Directors": "Jim Henson",
         "Rating": 7.4,
         "Duration": "101 min",
         "_deepnote_index_column": 65
        },
        {
         "Movie": "Cinderella",
         "Description": "When her father unexpectedly dies, young Ella finds herself at the mercy of her cruel stepmother an…",
         "Release-Date": "(I) (2015)",
         "Directors": "Kenneth Branagh",
         "Rating": 6.9,
         "Duration": "105 min",
         "_deepnote_index_column": 66
        },
        {
         "Movie": "The Chronicles of Narnia: Prince Caspian",
         "Description": "The Pevensie siblings return to Narnia, where they are enlisted to once again help ward off an evil…",
         "Release-Date": "(2008)",
         "Directors": "Andrew Adamson",
         "Rating": 6.5,
         "Duration": "150 min",
         "_deepnote_index_column": 67
        },
        {
         "Movie": "Beowulf",
         "Description": "In a besieged land, Beowulf must battle against the hideous creature Grendel and his vengeance seek…",
         "Release-Date": "(1999)",
         "Directors": "Graham Baker",
         "Rating": 4.1,
         "Duration": "95 min",
         "_deepnote_index_column": 68
        },
        {
         "Movie": "Evil Dead",
         "Description": "Five friends head to a remote cabin, where the discovery of a Book of the Dead leads them to unwitt…",
         "Release-Date": "(2013)",
         "Directors": "Fede Alvarez",
         "Rating": 6.5,
         "Duration": "91 min",
         "_deepnote_index_column": 69
        },
        {
         "Movie": "Suicide Squad",
         "Description": "A secret government agency recruits some of the most dangerous incarcerated super-villains to form …",
         "Release-Date": "(2016)",
         "Directors": "David Ayer",
         "Rating": 5.9,
         "Duration": "123 min",
         "_deepnote_index_column": 70
        },
        {
         "Movie": "Addams Family Values",
         "Description": "The Addams Family try to rescue their beloved Uncle Fester from his gold-digging new love, a black …",
         "Release-Date": "(1993)",
         "Directors": "Barry Sonnenfeld",
         "Rating": 6.8,
         "Duration": "94 min",
         "_deepnote_index_column": 71
        },
        {
         "Movie": "Before I Wake",
         "Description": "A couple adopt an orphaned child whose dreams - and nightmares - manifest physically as he sleeps.",
         "Release-Date": "(2016)",
         "Directors": "Mike Flanagan",
         "Rating": 6.2,
         "Duration": "97 min",
         "_deepnote_index_column": 72
        },
        {
         "Movie": "The Twilight Saga: Breaking Dawn - Part 2",
         "Description": "After the birth of Renesmee/Nessie, the Cullens gather other vampire clans in order to protect the …",
         "Release-Date": "(2012)",
         "Directors": "Bill Condon",
         "Rating": 5.5,
         "Duration": "115 min",
         "_deepnote_index_column": 73
        },
        {
         "Movie": "The Hole",
         "Description": "A pair of brothers stumble upon a mysterious hole in their basement that leads to the darkest corri…",
         "Release-Date": "(2009)",
         "Directors": "Joe Dante",
         "Rating": 5.7,
         "Duration": "92 min",
         "_deepnote_index_column": 74
        },
        {
         "Movie": "Hugo",
         "Description": "In 1931 Paris, an orphan living in the walls of a train station gets wrapped up in a mystery involv…",
         "Release-Date": "(2011)",
         "Directors": "Martin Scorsese",
         "Rating": 7.5,
         "Duration": "126 min",
         "_deepnote_index_column": 75
        },
        {
         "Movie": "Idle Hands",
         "Description": "A teenage slacker's right hand becomes possessed with murderous intent.",
         "Release-Date": "(1999)",
         "Directors": "Rodman Flender",
         "Rating": 6.2,
         "Duration": "92 min",
         "_deepnote_index_column": 76
        },
        {
         "Movie": "Snow White and the Seven Dwarfs",
         "Description": "Exiled into the dangerous forest by her wicked stepmother, a princess is rescued by seven dwarf min…",
         "Release-Date": "(1937)",
         "Directors": "William Cottrell, David Hand, Wilfred Jackson, Larry Morey, Perce Pearce, Ben Sharpsteen",
         "Rating": 7.6,
         "Duration": "83 min",
         "_deepnote_index_column": 77
        },
        {
         "Movie": "The Princess Bride",
         "Description": "While home sick in bed, a young boy's grandfather reads him the story of a farmboy-turned-pirate wh…",
         "Release-Date": "(1987)",
         "Directors": "Rob Reiner",
         "Rating": 8.1,
         "Duration": "98 min",
         "_deepnote_index_column": 78
        },
        {
         "Movie": "The Time Traveler's Wife",
         "Description": "A Chicago librarian has a gene that causes him to involuntarily time travel, creating complications…",
         "Release-Date": "(2009)",
         "Directors": "Robert Schwentke",
         "Rating": 7.1,
         "Duration": "107 min",
         "_deepnote_index_column": 79
        },
        {
         "Movie": "Masters of the Universe",
         "Description": "The heroic warrior He-Man battles against the evil lord Skeletor and his armies of darkness for con…",
         "Release-Date": "(1987)",
         "Directors": "Gary Goddard",
         "Rating": 5.4,
         "Duration": "106 min",
         "_deepnote_index_column": 80
        },
        {
         "Movie": "Wicked Little Things",
         "Description": "Karen, Sarah, and Emma Tunney are all moving to a small town in Pennsylvania where, unknown to them…",
         "Release-Date": "(2006)",
         "Directors": "J.S. Cardone",
         "Rating": 5.1,
         "Duration": "94 min",
         "_deepnote_index_column": 81
        },
        {
         "Movie": "Ghostbusters II",
         "Description": "The discovery of a massive river of ectoplasm and a resurgence of spectral activity allows the staf…",
         "Release-Date": "(1989)",
         "Directors": "Ivan Reitman",
         "Rating": 6.6,
         "Duration": "108 min",
         "_deepnote_index_column": 82
        },
        {
         "Movie": "The Little Mermaid",
         "Description": "A mermaid princess makes a Faustian bargain in an attempt to become human and win a prince's love.",
         "Release-Date": "(1989)",
         "Directors": "Ron Clements, John Musker",
         "Rating": 7.6,
         "Duration": "83 min",
         "_deepnote_index_column": 83
        },
        {
         "Movie": "Dracula",
         "Description": "After a naive real estate agent succumbs to the will of Count Dracula, the two head to London where…",
         "Release-Date": "(1931)",
         "Directors": "Tod Browning, Karl Freund",
         "Rating": 7.5,
         "Duration": "75 min",
         "_deepnote_index_column": 84
        },
        {
         "Movie": "Indiana Jones and the Last Crusade",
         "Description": "In 1938, after his father Professor Henry Jones, Sr. goes missing while pursuing the Holy Grail, Pr…",
         "Release-Date": "(1989)",
         "Directors": "Steven Spielberg",
         "Rating": 8.2,
         "Duration": "127 min",
         "_deepnote_index_column": 85
        },
        {
         "Movie": "The Mummy",
         "Description": "An Egyptian mummy searches Cairo for the girl he thinks is his long-lost princess.",
         "Release-Date": "(1932)",
         "Directors": "Karl Freund",
         "Rating": 7.1,
         "Duration": "73 min",
         "_deepnote_index_column": 86
        },
        {
         "Movie": "R.I.P.D.",
         "Description": "A recently slain cop joins a team of undead police officers working for the Rest in Peace Departmen…",
         "Release-Date": "(2013)",
         "Directors": "Robert Schwentke",
         "Rating": 5.6,
         "Duration": "96 min",
         "_deepnote_index_column": 87
        },
        {
         "Movie": "Star Wars: Episode IV - A New Hope",
         "Description": "Luke Skywalker joins forces with a Jedi Knight, a cocky pilot, a Wookiee and two droids to save the…",
         "Release-Date": "(1977)",
         "Directors": "George Lucas",
         "Rating": 8.6,
         "Duration": "121 min",
         "_deepnote_index_column": 88
        },
        {
         "Movie": "Underworld: Rise of the Lycans",
         "Description": "An origins story centered on the centuries-old feud between the race of aristocratic vampires and t…",
         "Release-Date": "(2009)",
         "Directors": "Patrick Tatopoulos",
         "Rating": 6.6,
         "Duration": "92 min",
         "_deepnote_index_column": 89
        },
        {
         "Movie": "Alvin and the Chipmunks: The Road Chip",
         "Description": "The Chipmunks believe that Dave plans to propose to his new girlfriend in Miami.--and dump them. Th…",
         "Release-Date": "(2015)",
         "Directors": "Walt Becker",
         "Rating": 5,
         "Duration": "92 min",
         "_deepnote_index_column": 90
        },
        {
         "Movie": "The Chronicles of Narnia: The Voyage of the Dawn Treader",
         "Description": "Lucy and Edmund Pevensie return to Narnia with their cousin Eustace where they meet up with Prince …",
         "Release-Date": "(2010)",
         "Directors": "Michael Apted",
         "Rating": 6.3,
         "Duration": "113 min",
         "_deepnote_index_column": 91
        },
        {
         "Movie": "Secret of the Wings",
         "Description": "Tinkerbell wanders into the forbidden Winter woods and meets Periwinkle. Together they learn the se…",
         "Release-Date": "(2012)",
         "Directors": "Roberts Gannaway, Peggy Holmes",
         "Rating": 7.1,
         "Duration": "75 min",
         "_deepnote_index_column": 92
        },
        {
         "Movie": "Santo and Blue Demon vs. the Monsters",
         "Description": "To foil his plan for world domination, wrestling superheroes El Santo and Blue Demon battle the mad…",
         "Release-Date": "(1970)",
         "Directors": "Gilberto Martínez Solares",
         "Rating": 6.2,
         "Duration": "85 min",
         "_deepnote_index_column": 93
        },
        {
         "Movie": "I Am Dragon",
         "Description": "In the midst of the wedding princess Miroslava is kidnapped by a dragon and carried away into his c…",
         "Release-Date": "(2015)",
         "Directors": "Indar Dzhendubaev",
         "Rating": 6.9,
         "Duration": "110 min",
         "_deepnote_index_column": 94
        },
        {
         "Movie": "The Tale of The Princess Kaguya",
         "Description": "Found inside a shining stalk of bamboo by an old bamboo cutter and his wife, a tiny girl grows rapi…",
         "Release-Date": "(2013)",
         "Directors": "Isao Takahata",
         "Rating": 8,
         "Duration": "137 min",
         "_deepnote_index_column": 95
        },
        {
         "Movie": "Hansel and Gretel",
         "Description": "Based on the fairy tale by The Brothers Grimm. Hansel and Gretel are abandoned after the famine str…",
         "Release-Date": "(1987)",
         "Directors": "Len Talan",
         "Rating": 6.7,
         "Duration": "84 min",
         "_deepnote_index_column": 96
        },
        {
         "Movie": "Ariana's Quest",
         "Description": "Princess Ariana fights for the return of her lost Kingdom and the liberation of her people. With th…",
         "Release-Date": "(2002 TV Movie)",
         "Directors": "Lloyd A. Simandl",
         "Rating": 4.5,
         "Duration": "94 min",
         "_deepnote_index_column": 97
        },
        {
         "Movie": "New Nightmare",
         "Description": "A demonic force has chosen Freddy Krueger as its portal to the real world. Can Heather Langenkamp p…",
         "Release-Date": "(1994)",
         "Directors": "Wes Craven",
         "Rating": 6.5,
         "Duration": "112 min",
         "_deepnote_index_column": 98
        },
        {
         "Movie": "Harry Potter and the Order of the Phoenix",
         "Description": "With their warning about Lord Voldemort's return scoffed at, Harry and Dumbledore are targeted by t…",
         "Release-Date": "(2007)",
         "Directors": "David Yates",
         "Rating": 7.5,
         "Duration": "138 min",
         "_deepnote_index_column": 99
        }
       ],
       "rows_bottom": null
      },
      "text/plain": "                                                Movie  \\\n0   The Lord of the Rings: The Fellowship of the Ring   \n1                   Final Fantasy: The Spirits Within   \n2                                    X2: X-Men United   \n3                 Harry Potter and the Goblet of Fire   \n4                                       Mortal Kombat   \n..                                                ...   \n95                    The Tale of The Princess Kaguya   \n96                                  Hansel and Gretel   \n97                                     Ariana's Quest   \n98                                      New Nightmare   \n99          Harry Potter and the Order of the Phoenix   \n\n                                          Description     Release-Date  \\\n0   A meek Hobbit from the Shire and eight compani...           (2001)   \n1   A scientist makes a last stand on Earth with t...           (2001)   \n2   When anti-mutant Colonel William Stryker kidna...           (2003)   \n3   Harry Potter finds himself competing in a haza...           (2005)   \n4   Three unknowing martial artists are summoned t...           (1995)   \n..                                                ...              ...   \n95  Found inside a shining stalk of bamboo by an o...           (2013)   \n96  Based on the fairy tale by The Brothers Grimm....           (1987)   \n97  Princess Ariana fights for the return of her l...  (2002 TV Movie)   \n98  A demonic force has chosen Freddy Krueger as i...           (1994)   \n99  With their warning about Lord Voldemort's retu...           (2007)   \n\n                                  Directors  Rating Duration  \n0                             Peter Jackson     8.8  178 min  \n1   Hironobu Sakaguchi, Motonori Sakakibara     6.4  106 min  \n2                              Bryan Singer     7.4  134 min  \n3                               Mike Newell     7.7  157 min  \n4                        Paul W.S. Anderson     5.8  101 min  \n..                                      ...     ...      ...  \n95                            Isao Takahata     8.0  137 min  \n96                                Len Talan     6.7   84 min  \n97                         Lloyd A. Simandl     4.5   94 min  \n98                               Wes Craven     6.5  112 min  \n99                              David Yates     7.5  138 min  \n\n[100 rows x 6 columns]",
      "text/html": "<div>\n<style scoped>\n    .dataframe tbody tr th:only-of-type {\n        vertical-align: middle;\n    }\n\n    .dataframe tbody tr th {\n        vertical-align: top;\n    }\n\n    .dataframe thead th {\n        text-align: right;\n    }\n</style>\n<table border=\"1\" class=\"dataframe\">\n  <thead>\n    <tr style=\"text-align: right;\">\n      <th></th>\n      <th>Movie</th>\n      <th>Description</th>\n      <th>Release-Date</th>\n      <th>Directors</th>\n      <th>Rating</th>\n      <th>Duration</th>\n    </tr>\n  </thead>\n  <tbody>\n    <tr>\n      <th>0</th>\n      <td>The Lord of the Rings: The Fellowship of the Ring</td>\n      <td>A meek Hobbit from the Shire and eight compani...</td>\n      <td>(2001)</td>\n      <td>Peter Jackson</td>\n      <td>8.8</td>\n      <td>178 min</td>\n    </tr>\n    <tr>\n      <th>1</th>\n      <td>Final Fantasy: The Spirits Within</td>\n      <td>A scientist makes a last stand on Earth with t...</td>\n      <td>(2001)</td>\n      <td>Hironobu Sakaguchi, Motonori Sakakibara</td>\n      <td>6.4</td>\n      <td>106 min</td>\n    </tr>\n    <tr>\n      <th>2</th>\n      <td>X2: X-Men United</td>\n      <td>When anti-mutant Colonel William Stryker kidna...</td>\n      <td>(2003)</td>\n      <td>Bryan Singer</td>\n      <td>7.4</td>\n      <td>134 min</td>\n    </tr>\n    <tr>\n      <th>3</th>\n      <td>Harry Potter and the Goblet of Fire</td>\n      <td>Harry Potter finds himself competing in a haza...</td>\n      <td>(2005)</td>\n      <td>Mike Newell</td>\n      <td>7.7</td>\n      <td>157 min</td>\n    </tr>\n    <tr>\n      <th>4</th>\n      <td>Mortal Kombat</td>\n      <td>Three unknowing martial artists are summoned t...</td>\n      <td>(1995)</td>\n      <td>Paul W.S. Anderson</td>\n      <td>5.8</td>\n      <td>101 min</td>\n    </tr>\n    <tr>\n      <th>...</th>\n      <td>...</td>\n      <td>...</td>\n      <td>...</td>\n      <td>...</td>\n      <td>...</td>\n      <td>...</td>\n    </tr>\n    <tr>\n      <th>95</th>\n      <td>The Tale of The Princess Kaguya</td>\n      <td>Found inside a shining stalk of bamboo by an o...</td>\n      <td>(2013)</td>\n      <td>Isao Takahata</td>\n      <td>8.0</td>\n      <td>137 min</td>\n    </tr>\n    <tr>\n      <th>96</th>\n      <td>Hansel and Gretel</td>\n      <td>Based on the fairy tale by The Brothers Grimm....</td>\n      <td>(1987)</td>\n      <td>Len Talan</td>\n      <td>6.7</td>\n      <td>84 min</td>\n    </tr>\n    <tr>\n      <th>97</th>\n      <td>Ariana's Quest</td>\n      <td>Princess Ariana fights for the return of her l...</td>\n      <td>(2002 TV Movie)</td>\n      <td>Lloyd A. Simandl</td>\n      <td>4.5</td>\n      <td>94 min</td>\n    </tr>\n    <tr>\n      <th>98</th>\n      <td>New Nightmare</td>\n      <td>A demonic force has chosen Freddy Krueger as i...</td>\n      <td>(1994)</td>\n      <td>Wes Craven</td>\n      <td>6.5</td>\n      <td>112 min</td>\n    </tr>\n    <tr>\n      <th>99</th>\n      <td>Harry Potter and the Order of the Phoenix</td>\n      <td>With their warning about Lord Voldemort's retu...</td>\n      <td>(2007)</td>\n      <td>David Yates</td>\n      <td>7.5</td>\n      <td>138 min</td>\n    </tr>\n  </tbody>\n</table>\n<p>100 rows × 6 columns</p>\n</div>"
     },
     "metadata": {}
    }
   ],
   "execution_count": 18
  },
  {
   "cell_type": "code",
   "source": [
    "# \"Release-Date\":[1999,2000,2001],\n",
    "#         \"Directors\":[\"Peter Jackson\", \"David Lynch\", \"Guillermo del Torro\"],\n",
    "#         \"Rating\":[8, 9, 10], \n",
    "#         \"Duration\":[2,3,4],\n",
    "#         \"Genre\":[\"Fantasy\", \"Drama\", \"Action\"], \n",
    "#         \"Stars\":[\"Sean Bean died\", \"Brad Pitt, Angelina Jolie\", \"James McAvoy, Jennifer Lawrenece\"]"
   ],
   "metadata": {
    "tags": [],
    "cell_id": "00005-3f9dbfa7-8164-4e7f-83b3-ef36d72321f5",
    "deepnote_cell_type": "code"
   },
   "outputs": [],
   "execution_count": null
  },
  {
   "cell_type": "markdown",
   "source": [
    "<a style='text-decoration:none;line-height:16px;display:flex;color:#5B5B62;padding:10px;justify-content:end;' href='https://deepnote.com?utm_source=created-in-deepnote-cell&projectId=67a060c6-2ca9-43eb-ab8a-e0db5e43f744' target=\"_blank\">\n",
    "<img alt='Created in deepnote.com' style='display:inline;max-height:16px;margin:0px;margin-right:7.5px;' src='data:image/svg+xml;base64,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' > </img>\n",
    "Created in <span style='font-weight:600;margin-left:4px;'>Deepnote</span></a>"
   ],
   "metadata": {
    "tags": [],
    "created_in_deepnote_cell": true,
    "deepnote_cell_type": "markdown"
   }
  }
 ],
 "nbformat": 4,
 "nbformat_minor": 2,
 "metadata": {
  "orig_nbformat": 2,
  "deepnote": {
   "is_reactive": false
  },
  "deepnote_notebook_id": "2a48e542-f5a6-47f2-96b1-ab2a12c985c9",
  "deepnote_execution_queue": [],
  "kernelspec": {
   "name": "python3810jvsc74a57bd068274f4789de8facababa72c5292f6e9ee0042994feee1bf982b457f4d00f7e0",
   "display_name": "Python 3.8.10 64-bit ('strivenev': conda)"
  },
  "metadata": {
   "interpreter": {
    "hash": "63fd5069d213b44bf678585dea6b12cceca9941eaf7f819626cde1f2670de90d"
   }
  }
 }
}