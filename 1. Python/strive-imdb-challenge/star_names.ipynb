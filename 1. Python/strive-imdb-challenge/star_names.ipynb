{
 "metadata": {
  "language_info": {
   "codemirror_mode": {
    "name": "ipython",
    "version": 3
   },
   "file_extension": ".py",
   "mimetype": "text/x-python",
   "name": "python",
   "nbconvert_exporter": "python",
   "pygments_lexer": "ipython3",
   "version": "3.8.10"
  },
  "orig_nbformat": 2,
  "kernelspec": {
   "name": "python3810jvsc74a57bd068274f4789de8facababa72c5292f6e9ee0042994feee1bf982b457f4d00f7e0",
   "display_name": "Python 3.8.10 64-bit ('strivenev': conda)"
  },
  "metadata": {
   "interpreter": {
    "hash": "63fd5069d213b44bf678585dea6b12cceca9941eaf7f819626cde1f2670de90d"
   }
  }
 },
 "nbformat": 4,
 "nbformat_minor": 2,
 "cells": [
  {
   "cell_type": "code",
   "execution_count": 1,
   "metadata": {},
   "outputs": [],
   "source": [
    "import requests\n",
    "from bs4 import BeautifulSoup"
   ]
  },
  {
   "cell_type": "code",
   "execution_count": 2,
   "metadata": {},
   "outputs": [
    {
     "output_type": "stream",
     "name": "stdout",
     "text": [
      "<Response [200]>\n"
     ]
    }
   ],
   "source": [
    "response = requests.get(\"https://www.imdb.com/list/ls066247137/\")\n",
    "print(response)"
   ]
  },
  {
   "cell_type": "code",
   "execution_count": 4,
   "metadata": {},
   "outputs": [],
   "source": [
    "page = response.content\n",
    "soup = BeautifulSoup(page, \"html.parser\")"
   ]
  },
  {
   "cell_type": "code",
   "execution_count": 7,
   "metadata": {},
   "outputs": [
    {
     "output_type": "stream",
     "name": "stdout",
     "text": [
      "['16', '|', '178', 'min', '|', 'Action,', 'Adventure,', 'Drama']\n['Director:', 'Peter', 'Jackson', '|', 'Stars:', 'Elijah', 'Wood,', 'Ian', 'McKellen,', 'Orlando', 'Bloom,', 'Sean', 'Bean']\n['Votes:', '1,696,325', '|', 'Gross:', '$315.54M']\n['Peter Jackson']\n"
     ]
    }
   ],
   "source": [
    "movies =  soup.find_all('div', class_ = 'lister-item-content')\n",
    "\n",
    "# print(len(movies))\n",
    "\n",
    "all_movies_info = []\n",
    "for movie in movies:\n",
    "    all_movies_info.append(movie.find_all('p', class_ = 'text-muted text-small'))\n",
    "\n",
    "# print(\"Number of movies: \", len(movies_info))\n",
    "\n",
    "director_names = []\n",
    "for single_movie_info in all_movies_info[0:1]:\n",
    "    # print(movie_info)\n",
    "    \n",
    "    for markup_info in single_movie_info:\n",
    "\n",
    "        markup_string = markup_info.get_text().split()\n",
    "        print(markup_string)\n",
    "        if \"Director:\" in markup_string:\n",
    "            director = markup_string[markup_string.index(\"Director:\") + 1 : markup_string.index(\"Stars:\") - 1]\n",
    "            director = \" \".join(director)\n",
    "            director_names.append(director)\n",
    "        \n",
    "        # elif \"Directors:\" in markup_string:\n",
    "        #     directors = markup_string[markup_string.index(\"Directors:\") + 1 : markup_string.index(\"Stars:\") - 1]\n",
    "        #     directors = \" \".join(directors)\n",
    "        #     director_names.append(directors)\n",
    "\n",
    "print(director_names)"
   ]
  },
  {
   "cell_type": "code",
   "execution_count": null,
   "metadata": {},
   "outputs": [],
   "source": []
  }
 ]
}