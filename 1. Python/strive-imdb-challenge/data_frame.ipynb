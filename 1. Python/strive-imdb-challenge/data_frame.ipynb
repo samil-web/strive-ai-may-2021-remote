{
 "cells": [
  {
   "cell_type": "code",
   "source": "!pip install bs4==0.0.1",
   "metadata": {
    "tags": [],
    "cell_id": "00000-5ca8855a-0ca4-4b51-abd4-7ad3da9759bf",
    "deepnote_to_be_reexecuted": false,
    "source_hash": "6c3283c9",
    "execution_start": 1622812664934,
    "execution_millis": 3586,
    "deepnote_cell_type": "code"
   },
   "outputs": [
    {
     "name": "stdout",
     "text": "Requirement already satisfied: bs4==0.0.1 in /root/venv/lib/python3.7/site-packages (0.0.1)\nRequirement already satisfied: beautifulsoup4 in /root/venv/lib/python3.7/site-packages (from bs4==0.0.1) (4.9.3)\nRequirement already satisfied: soupsieve>1.2 in /root/venv/lib/python3.7/site-packages (from beautifulsoup4->bs4==0.0.1) (2.2.1)\n",
     "output_type": "stream"
    }
   ],
   "execution_count": 1
  },
  {
   "cell_type": "code",
   "source": "!pip install bs4==0.0.1",
   "metadata": {
    "tags": [],
    "cell_id": "00001-5b459427-22a4-4829-947a-0b4633687300",
    "deepnote_to_be_reexecuted": false,
    "source_hash": "6c3283c9",
    "execution_start": 1622812668529,
    "execution_millis": 3102,
    "deepnote_cell_type": "code"
   },
   "outputs": [
    {
     "name": "stdout",
     "text": "Requirement already satisfied: bs4==0.0.1 in /root/venv/lib/python3.7/site-packages (0.0.1)\r\nRequirement already satisfied: beautifulsoup4 in /root/venv/lib/python3.7/site-packages (from bs4==0.0.1) (4.9.3)\r\nRequirement already satisfied: soupsieve>1.2 in /root/venv/lib/python3.7/site-packages (from beautifulsoup4->bs4==0.0.1) (2.2.1)\r\n",
     "output_type": "stream"
    }
   ],
   "execution_count": 2
  },
  {
   "cell_type": "code",
   "metadata": {
    "tags": [],
    "cell_id": "00000-fbbf5891-f511-41e6-8ddd-18828b42468c",
    "deepnote_to_be_reexecuted": false,
    "source_hash": "d78579c0",
    "execution_start": 1622812671637,
    "execution_millis": 1433,
    "deepnote_cell_type": "code"
   },
   "source": "import pandas as pd \nimport numpy as np\nimport requests\nfrom bs4 import BeautifulSoup\nimport matplotlib.pyplot as plt\nimport seaborn as sns",
   "execution_count": 3,
   "outputs": []
  },
  {
   "cell_type": "code",
   "metadata": {
    "tags": [],
    "cell_id": "00001-a0efb3df-0acb-4132-9162-e95f55055c6c",
    "deepnote_to_be_reexecuted": false,
    "source_hash": "b623e53d",
    "execution_start": 1622812673075,
    "execution_millis": 2,
    "deepnote_cell_type": "code"
   },
   "source": "",
   "execution_count": 3,
   "outputs": []
  },
  {
   "cell_type": "code",
   "source": "page = requests.get(\"https://www.imdb.com/list/ls066247137/\")\nsoup = BeautifulSoup(page.content, \"html.parser\")\n\nmovie_names = []\nmovies_parent =  soup.find_all('h3', class_ = 'lister-item-header')\nfor movie_name in movies_parent:\n    movie_names.append(movie_name.find_all('a')[0].get_text())\n\ndescriptions = soup.find_all('p', class_= \"\")[1::2]\ndescriptions = [description.get_text().strip() for description in descriptions]",
   "metadata": {
    "tags": [],
    "cell_id": "00002-234cf5e0-642d-4e21-87ee-7ea1f12b7f36",
    "deepnote_to_be_reexecuted": false,
    "source_hash": "df51e71a",
    "execution_start": 1622812673088,
    "execution_millis": 5646,
    "deepnote_cell_type": "code"
   },
   "outputs": [],
   "execution_count": 4
  },
  {
   "cell_type": "code",
   "source": "release_dates = soup.find_all('span', class_ = 'lister-item-year text-muted unbold')\nrelease_years = [release_date.get_text() for release_date in release_dates]\n\nmovies =  soup.find_all('div', class_ = 'lister-item-content')\n\nall_movies_info = []\nfor movie in movies:\n    all_movies_info.append(movie.find_all('p', class_ = 'text-muted text-small'))\n\n# print(\"Number of movies: \", len(movies_info))\n\ndirector_names = []\nfor single_movie_info in all_movies_info:\n    \n    for markup_info in single_movie_info:\n\n        markup_string = markup_info.get_text().split()\n        \n        if \"Director:\" in markup_string:\n            director = markup_string[markup_string.index(\"Director:\") + 1 : markup_string.index(\"Stars:\") - 1]\n            director = \" \".join(director)\n            director_names.append(director)\n        \n        elif \"Directors:\" in markup_string:\n            directors = markup_string[markup_string.index(\"Directors:\") + 1 : markup_string.index(\"Stars:\") - 1]\n            directors = \" \".join(directors)\n            director_names.append(directors)",
   "metadata": {
    "tags": [],
    "cell_id": "00004-8997a959-cfea-43b8-9977-0d8953c35955",
    "deepnote_to_be_reexecuted": false,
    "source_hash": "21e6b7c0",
    "execution_start": 1622812678770,
    "execution_millis": 500,
    "deepnote_cell_type": "code"
   },
   "outputs": [],
   "execution_count": 5
  },
  {
   "cell_type": "code",
   "source": "Ratings = []\nratings_raw = soup.find_all(\"span\",class_='ipl-rating-star__rating')\nfor i in range(0,len(ratings_raw),23):\n    Ratings.append(float(ratings_raw[i].text))\n\nDuration = []\nduration_raw = soup.find_all(\"span\",class_='runtime')\nfor i in range(100):\n    Duration.append(duration_raw[i].text)",
   "metadata": {
    "tags": [],
    "cell_id": "00005-1aa3742c-e80d-46bd-bed6-8710a5bc5283",
    "deepnote_to_be_reexecuted": false,
    "source_hash": "b1625708",
    "execution_start": 1622812679312,
    "execution_millis": 398,
    "deepnote_cell_type": "code"
   },
   "outputs": [],
   "execution_count": 6
  },
  {
   "cell_type": "code",
   "source": "genres = soup.find_all('span', class_ =\"genre\")\n\ngenres_text = []\nfor t in genres:\n    genres_text.append(t.text.strip())",
   "metadata": {
    "tags": [],
    "cell_id": "00006-db3981f4-155e-43de-91b8-cb776f262121",
    "deepnote_to_be_reexecuted": false,
    "source_hash": "9d851f82",
    "execution_start": 1622812679735,
    "execution_millis": 196,
    "deepnote_cell_type": "code"
   },
   "outputs": [],
   "execution_count": 7
  },
  {
   "cell_type": "code",
   "source": "star_names = []\nfor single_movie_info in all_movies_info:\n    \n    for markup_info in single_movie_info:\n\n        markup_string = markup_info.get_text().split()\n\n        if \"Stars:\" in markup_string:\n            star = markup_string[markup_string.index(\"Stars:\") + 1 :]\n            star = \" \".join(star)\n            star_names.append(star)\n            # print(star)",
   "metadata": {
    "tags": [],
    "cell_id": "00007-ddf53c30-982e-416e-84de-356b2aa3bb42",
    "deepnote_to_be_reexecuted": false,
    "source_hash": "3ec0ff7e",
    "execution_start": 1622812679944,
    "execution_millis": 3,
    "deepnote_cell_type": "code"
   },
   "outputs": [],
   "execution_count": 8
  },
  {
   "cell_type": "code",
   "source": "data = {'Movie': movie_names,  \n        'Description': descriptions, \n        \"Release-Date\": release_years,\n        \"Directors\": director_names,\n        \"Rating\": Ratings, \n        \"Duration\": Duration,\n        \"Genre\" : genres_text,\n        \"Stars\": star_names,\n        }\ndf = pd.DataFrame(data)\ndf",
   "metadata": {
    "tags": [],
    "cell_id": "00004-938c54aa-1591-439a-9c2b-aeb8c93e6020",
    "deepnote_to_be_reexecuted": false,
    "source_hash": "729708b8",
    "execution_start": 1622812679976,
    "execution_millis": 70,
    "deepnote_cell_type": "code"
   },
   "outputs": [
    {
     "output_type": "execute_result",
     "execution_count": 9,
     "data": {
      "application/vnd.deepnote.dataframe.v2+json": {
       "row_count": 100,
       "column_count": 8,
       "columns": [
        {
         "name": "Movie",
         "dtype": "object",
         "stats": {
          "unique_count": 98,
          "nan_count": 0,
          "categories": [
           {
            "name": "Alice in Wonderland",
            "count": 2
           },
           {
            "name": "The Mummy",
            "count": 2
           },
           {
            "name": "96 others",
            "count": 96
           }
          ]
         }
        },
        {
         "name": "Description",
         "dtype": "object",
         "stats": {
          "unique_count": 100,
          "nan_count": 0,
          "categories": [
           {
            "name": "A meek Hobbit from the Shire and eight companions set out on a journey to destroy the powerful One Ring and save Middle-earth from the Dark Lord Sauron.",
            "count": 1
           },
           {
            "name": "A scientist makes a last stand on Earth with the help of a ragtag team of soldiers against an invasion of alien phantoms.",
            "count": 1
           },
           {
            "name": "98 others",
            "count": 98
           }
          ]
         }
        },
        {
         "name": "Release-Date",
         "dtype": "object",
         "stats": {
          "unique_count": 51,
          "nan_count": 0,
          "categories": [
           {
            "name": "(1999)",
            "count": 5
           },
           {
            "name": "(2016)",
            "count": 5
           },
           {
            "name": "49 others",
            "count": 90
           }
          ]
         }
        },
        {
         "name": "Directors",
         "dtype": "object",
         "stats": {
          "unique_count": 87,
          "nan_count": 0,
          "categories": [
           {
            "name": "David Yates",
            "count": 4
           },
           {
            "name": "Peter Jackson",
            "count": 3
           },
           {
            "name": "85 others",
            "count": 93
           }
          ]
         }
        },
        {
         "name": "Rating",
         "dtype": "float64",
         "stats": {
          "unique_count": 39,
          "nan_count": 0,
          "min": "3.7",
          "max": "8.9",
          "histogram": [
           {
            "bin_start": 3.7,
            "bin_end": 4.220000000000001,
            "count": 2
           },
           {
            "bin_start": 4.220000000000001,
            "bin_end": 4.74,
            "count": 2
           },
           {
            "bin_start": 4.74,
            "bin_end": 5.26,
            "count": 3
           },
           {
            "bin_start": 5.26,
            "bin_end": 5.78,
            "count": 9
           },
           {
            "bin_start": 5.78,
            "bin_end": 6.300000000000001,
            "count": 12
           },
           {
            "bin_start": 6.300000000000001,
            "bin_end": 6.82,
            "count": 15
           },
           {
            "bin_start": 6.82,
            "bin_end": 7.34,
            "count": 15
           },
           {
            "bin_start": 7.34,
            "bin_end": 7.86,
            "count": 23
           },
           {
            "bin_start": 7.86,
            "bin_end": 8.379999999999999,
            "count": 13
           },
           {
            "bin_start": 8.379999999999999,
            "bin_end": 8.9,
            "count": 6
           }
          ]
         }
        },
        {
         "name": "Duration",
         "dtype": "object",
         "stats": {
          "unique_count": 65,
          "nan_count": 0,
          "categories": [
           {
            "name": "92 min",
            "count": 7
           },
           {
            "name": "102 min",
            "count": 4
           },
           {
            "name": "63 others",
            "count": 89
           }
          ]
         }
        },
        {
         "name": "Genre",
         "dtype": "object",
         "stats": {
          "unique_count": 38,
          "nan_count": 0,
          "categories": [
           {
            "name": "Action, Adventure, Fantasy",
            "count": 13
           },
           {
            "name": "Adventure, Family, Fantasy",
            "count": 12
           },
           {
            "name": "36 others",
            "count": 75
           }
          ]
         }
        },
        {
         "name": "Stars",
         "dtype": "object",
         "stats": {
          "unique_count": 98,
          "nan_count": 0,
          "categories": [
           {
            "name": "Bill Murray, Dan Aykroyd, Sigourney Weaver, Harold Ramis",
            "count": 2
           },
           {
            "name": "Daniel Radcliffe, Emma Watson, Rupert Grint, Michael Gambon",
            "count": 2
           },
           {
            "name": "96 others",
            "count": 96
           }
          ]
         }
        },
        {
         "name": "_deepnote_index_column",
         "dtype": "int64"
        }
       ],
       "rows_top": [
        {
         "Movie": "The Lord of the Rings: The Fellowship of the Ring",
         "Description": "A meek Hobbit from the Shire and eight companions set out on a journey to destroy the powerful One …",
         "Release-Date": "(2001)",
         "Directors": "Peter Jackson",
         "Rating": 8.8,
         "Duration": "178 min",
         "Genre": "Action, Adventure, Drama",
         "Stars": "Elijah Wood, Ian McKellen, Orlando Bloom, Sean Bean",
         "_deepnote_index_column": 0
        },
        {
         "Movie": "Final Fantasy: The Spirits Within",
         "Description": "A scientist makes a last stand on Earth with the help of a ragtag team of soldiers against an invas…",
         "Release-Date": "(2001)",
         "Directors": "Hironobu Sakaguchi, Motonori Sakakibara",
         "Rating": 6.4,
         "Duration": "106 min",
         "Genre": "Animation, Action, Adventure",
         "Stars": "Alec Baldwin, Steve Buscemi, Ming-Na Wen, Ving Rhames",
         "_deepnote_index_column": 1
        },
        {
         "Movie": "X2: X-Men United",
         "Description": "When anti-mutant Colonel William Stryker kidnaps Professor X and attacks his school, the X-Men must…",
         "Release-Date": "(2003)",
         "Directors": "Bryan Singer",
         "Rating": 7.4,
         "Duration": "134 min",
         "Genre": "Action, Sci-Fi, Thriller",
         "Stars": "Patrick Stewart, Hugh Jackman, Halle Berry, Ian McKellen",
         "_deepnote_index_column": 2
        },
        {
         "Movie": "Harry Potter and the Goblet of Fire",
         "Description": "Harry Potter finds himself competing in a hazardous tournament between rival schools of magic, but …",
         "Release-Date": "(2005)",
         "Directors": "Mike Newell",
         "Rating": 7.7,
         "Duration": "157 min",
         "Genre": "Adventure, Family, Fantasy",
         "Stars": "Daniel Radcliffe, Emma Watson, Rupert Grint, Eric Sykes",
         "_deepnote_index_column": 3
        },
        {
         "Movie": "Mortal Kombat",
         "Description": "Three unknowing martial artists are summoned to a mysterious island to compete in a tournament whos…",
         "Release-Date": "(1995)",
         "Directors": "Paul W.S. Anderson",
         "Rating": 5.8,
         "Duration": "101 min",
         "Genre": "Action, Adventure, Fantasy",
         "Stars": "Christopher Lambert, Robin Shou, Linden Ashby, Cary-Hiroyuki Tagawa",
         "_deepnote_index_column": 4
        },
        {
         "Movie": "Monty Python and the Holy Grail",
         "Description": "King Arthur and his Knights of the Round Table embark on a surreal, low-budget search for the Holy …",
         "Release-Date": "(1975)",
         "Directors": "Terry Gilliam, Terry Jones",
         "Rating": 8.2,
         "Duration": "91 min",
         "Genre": "Adventure, Comedy, Fantasy",
         "Stars": "Graham Chapman, John Cleese, Eric Idle, Terry Gilliam",
         "_deepnote_index_column": 5
        },
        {
         "Movie": "Highlander",
         "Description": "An immortal Scottish swordsman must confront the last of his immortal opponent, a murderously bruta…",
         "Release-Date": "(1986)",
         "Directors": "Russell Mulcahy",
         "Rating": 7.1,
         "Duration": "116 min",
         "Genre": "Action, Adventure, Fantasy",
         "Stars": "Christopher Lambert, Sean Connery, Clancy Brown, Roxanne Hart",
         "_deepnote_index_column": 6
        },
        {
         "Movie": "Willy Wonka & the Chocolate Factory",
         "Description": "A poor but hopeful boy seeks one of the five coveted golden tickets that will send him on a tour of…",
         "Release-Date": "(1971)",
         "Directors": "Mel Stuart",
         "Rating": 7.8,
         "Duration": "100 min",
         "Genre": "Family, Fantasy, Musical",
         "Stars": "Gene Wilder, Jack Albertson, Peter Ostrum, Roy Kinnear",
         "_deepnote_index_column": 7
        },
        {
         "Movie": "Space Jam",
         "Description": "In a desperate attempt to win a basketball match and earn their freedom, the Looney Tunes seek the …",
         "Release-Date": "(1996)",
         "Directors": "Joe Pytka",
         "Rating": 6.4,
         "Duration": "88 min",
         "Genre": "Animation, Adventure, Comedy",
         "Stars": "Michael Jordan, Wayne Knight, Theresa Randle, Manner Washington",
         "_deepnote_index_column": 8
        },
        {
         "Movie": "Harry Potter and the Sorcerer's Stone",
         "Description": "An orphaned boy enrolls in a school of wizardry, where he learns the truth about himself, his famil…",
         "Release-Date": "(2001)",
         "Directors": "Chris Columbus",
         "Rating": 7.6,
         "Duration": "152 min",
         "Genre": "Adventure, Family, Fantasy",
         "Stars": "Daniel Radcliffe, Rupert Grint, Richard Harris, Maggie Smith",
         "_deepnote_index_column": 9
        },
        {
         "Movie": "The Chronicles of Narnia: The Lion, the Witch and the Wardrobe",
         "Description": "Four kids travel through a wardrobe to the land of Narnia and learn of their destiny to free it wit…",
         "Release-Date": "(2005)",
         "Directors": "Andrew Adamson",
         "Rating": 6.9,
         "Duration": "143 min",
         "Genre": "Adventure, Family, Fantasy",
         "Stars": "Tilda Swinton, Georgie Henley, William Moseley, Skandar Keynes",
         "_deepnote_index_column": 10
        },
        {
         "Movie": "The Wizard of Oz",
         "Description": "Dorothy Gale is swept away from a farm in Kansas to a magical land of Oz in a tornado and embarks o…",
         "Release-Date": "(1939)",
         "Directors": "Victor Fleming, George Cukor, Mervyn LeRoy, Norman Taurog, Richard Thorpe, King Vidor",
         "Rating": 8,
         "Duration": "102 min",
         "Genre": "Adventure, Family, Fantasy",
         "Stars": "Judy Garland, Frank Morgan, Ray Bolger, Bert Lahr",
         "_deepnote_index_column": 11
        },
        {
         "Movie": "The NeverEnding Story",
         "Description": "A troubled boy dives into a wondrous fantasy world through the pages of a mysterious book.",
         "Release-Date": "(1984)",
         "Directors": "Wolfgang Petersen",
         "Rating": 7.4,
         "Duration": "102 min",
         "Genre": "Adventure, Drama, Family",
         "Stars": "Noah Hathaway, Barret Oliver, Tami Stronach, Gerald McRaney",
         "_deepnote_index_column": 12
        },
        {
         "Movie": "South Park: Bigger, Longer & Uncut",
         "Description": "When Stan Marsh and his friends go see an R-rated movie, they start cursing and their parents think…",
         "Release-Date": "(1999)",
         "Directors": "Trey Parker",
         "Rating": 7.7,
         "Duration": "81 min",
         "Genre": "Animation, Comedy, Fantasy",
         "Stars": "Trey Parker, Matt Stone, Mary Kay Bergman, Isaac Hayes",
         "_deepnote_index_column": 13
        },
        {
         "Movie": "Willow",
         "Description": "A young farmer is chosen to undertake a perilous journey in order to protect a special baby from an…",
         "Release-Date": "(1988)",
         "Directors": "Ron Howard",
         "Rating": 7.3,
         "Duration": "126 min",
         "Genre": "Action, Adventure, Drama",
         "Stars": "Val Kilmer, Joanne Whalley, Warwick Davis, Jean Marsh",
         "_deepnote_index_column": 14
        },
        {
         "Movie": "The Doll",
         "Description": "Forced into marriage by his uncle, a man decides to fool him by marrying a life-like mechanical dol…",
         "Release-Date": "(1919)",
         "Directors": "Ernst Lubitsch",
         "Rating": 7.4,
         "Duration": "66 min",
         "Genre": "Comedy, Fantasy",
         "Stars": "Ossi Oswalda, Hermann Thimig, Victor Janson, Max Kronert",
         "_deepnote_index_column": 15
        },
        {
         "Movie": "If I Stay",
         "Description": "Life changes in an instant for young Mia Hall after a car accident puts her in a coma. During an ou…",
         "Release-Date": "(2014)",
         "Directors": "R.J. Cutler",
         "Rating": 6.7,
         "Duration": "107 min",
         "Genre": "Drama, Fantasy, Music",
         "Stars": "Chloë Grace Moretz, Mireille Enos, Jamie Blackley, Joshua Leonard",
         "_deepnote_index_column": 16
        },
        {
         "Movie": "Wolf Children",
         "Description": "After her werewolf lover unexpectedly dies in an accident while hunting for food for their children…",
         "Release-Date": "(2012)",
         "Directors": "Mamoru Hosoda",
         "Rating": 8.1,
         "Duration": "117 min",
         "Genre": "Animation, Drama, Fantasy",
         "Stars": "Aoi Miyazaki, Takao Osawa, Haru Kuroki, Yukito Nishii",
         "_deepnote_index_column": 17
        },
        {
         "Movie": "Jumanji",
         "Description": "When two kids find and play a magical board game, they release a man trapped in it for decades - an…",
         "Release-Date": "(1995)",
         "Directors": "Joe Johnston",
         "Rating": 7,
         "Duration": "104 min",
         "Genre": "Adventure, Comedy, Family",
         "Stars": "Robin Williams, Kirsten Dunst, Bonnie Hunt, Jonathan Hyde",
         "_deepnote_index_column": 18
        },
        {
         "Movie": "Castle in the Sky",
         "Description": "A young boy and a girl with a magic crystal must race against pirates and foreign agents in a searc…",
         "Release-Date": "(1986)",
         "Directors": "Hayao Miyazaki",
         "Rating": 8,
         "Duration": "125 min",
         "Genre": "Animation, Adventure, Drama",
         "Stars": "Mayumi Tanaka, Keiko Yokozawa, Kotoe Hatsui, Minori Terada",
         "_deepnote_index_column": 19
        },
        {
         "Movie": "Jumanji: Welcome to the Jungle",
         "Description": "Four teenagers are sucked into a magical video game, and the only way they can escape is to work to…",
         "Release-Date": "(2017)",
         "Directors": "Jake Kasdan",
         "Rating": 6.9,
         "Duration": "119 min",
         "Genre": "Action, Adventure, Comedy",
         "Stars": "Dwayne Johnson, Karen Gillan, Kevin Hart, Jack Black",
         "_deepnote_index_column": 20
        },
        {
         "Movie": "Alice in Wonderland",
         "Description": "In Victorian England a bored young girl dreams that she has entered a fantasy world called Wonderla…",
         "Release-Date": "(1933)",
         "Directors": "Norman Z. McLeod, Hugh Harman, Rudolf Ising",
         "Rating": 6.4,
         "Duration": "76 min",
         "Genre": "Adventure, Family, Fantasy",
         "Stars": "Richard Arlen, Roscoe Ates, William Austin, Gary Cooper",
         "_deepnote_index_column": 21
        },
        {
         "Movie": "Avengers: Infinity War",
         "Description": "The Avengers and their allies must be willing to sacrifice all in an attempt to defeat the powerful…",
         "Release-Date": "(2018)",
         "Directors": "Anthony Russo, Joe Russo",
         "Rating": 8.4,
         "Duration": "149 min",
         "Genre": "Action, Adventure, Sci-Fi",
         "Stars": "Robert Downey Jr., Chris Hemsworth, Mark Ruffalo, Chris Evans",
         "_deepnote_index_column": 22
        },
        {
         "Movie": "Dungeons & Dragons",
         "Description": "Profion, a tyrant, attempts to overthrow a peaceful kingdom ruled by a tough empress.",
         "Release-Date": "(2000)",
         "Directors": "Courtney Solomon",
         "Rating": 3.7,
         "Duration": "107 min",
         "Genre": "Action, Adventure, Fantasy",
         "Stars": "Justin Whalin, Jeremy Irons, Zoe McLellan, Bruce Payne",
         "_deepnote_index_column": 23
        },
        {
         "Movie": "The Lord of the Rings: The Return of the King",
         "Description": "Gandalf and Aragorn lead the World of Men against Sauron's army to draw his gaze from Frodo and Sam…",
         "Release-Date": "(2003)",
         "Directors": "Peter Jackson",
         "Rating": 8.9,
         "Duration": "201 min",
         "Genre": "Action, Adventure, Drama",
         "Stars": "Elijah Wood, Viggo Mortensen, Ian McKellen, Orlando Bloom",
         "_deepnote_index_column": 24
        },
        {
         "Movie": "Alice in Wonderland",
         "Description": "Alice stumbles into the world of Wonderland. Will she get home? Not if the Queen of Hearts has her …",
         "Release-Date": "(1951)",
         "Directors": "Clyde Geronimi, Wilfred Jackson, Hamilton Luske, Jack Kinney",
         "Rating": 7.4,
         "Duration": "75 min",
         "Genre": "Animation, Adventure, Family",
         "Stars": "Kathryn Beaumont, Ed Wynn, Richard Haydn, Sterling Holloway",
         "_deepnote_index_column": 25
        },
        {
         "Movie": "Chitty Chitty Bang Bang",
         "Description": "A down-on-his-luck inventor turns a broken-down Grand Prix car into a fancy vehicle for his childre…",
         "Release-Date": "(1968)",
         "Directors": "Ken Hughes",
         "Rating": 6.9,
         "Duration": "144 min",
         "Genre": "Adventure, Family, Fantasy",
         "Stars": "Dick Van Dyke, Sally Ann Howes, Lionel Jeffries, Benny Hill",
         "_deepnote_index_column": 26
        },
        {
         "Movie": "Harry Potter and the Chamber of Secrets",
         "Description": "An ancient prophecy seems to be coming true when a mysterious presence begins stalking the corridor…",
         "Release-Date": "(2002)",
         "Directors": "Chris Columbus",
         "Rating": 7.4,
         "Duration": "161 min",
         "Genre": "Adventure, Family, Fantasy",
         "Stars": "Daniel Radcliffe, Rupert Grint, Emma Watson, Richard Harris",
         "_deepnote_index_column": 27
        },
        {
         "Movie": "Pete's Dragon",
         "Description": "An orphan boy and his magical dragon come to town with his abusive adoptive parents in pursuit.",
         "Release-Date": "(1977)",
         "Directors": "Don Chaffey, Don Bluth",
         "Rating": 6.4,
         "Duration": "128 min",
         "Genre": "Animation, Adventure, Comedy",
         "Stars": "Sean Marshall, Helen Reddy, Jim Dale, Mickey Rooney",
         "_deepnote_index_column": 28
        },
        {
         "Movie": "Who Framed Roger Rabbit",
         "Description": "A toon-hating detective is a cartoon rabbit's only hope to prove his innocence when he is accused o…",
         "Release-Date": "(1988)",
         "Directors": "Robert Zemeckis",
         "Rating": 7.7,
         "Duration": "104 min",
         "Genre": "Animation, Adventure, Comedy",
         "Stars": "Bob Hoskins, Christopher Lloyd, Joanna Cassidy, Charles Fleischer",
         "_deepnote_index_column": 29
        },
        {
         "Movie": "Matilda",
         "Description": "This film adaptation of a Roald Dahl work tells the story of Matilda Wormwood, a gifted girl forced…",
         "Release-Date": "(1996)",
         "Directors": "Danny DeVito",
         "Rating": 6.9,
         "Duration": "102 min",
         "Genre": "Comedy, Family, Fantasy",
         "Stars": "Danny DeVito, Rhea Perlman, Mara Wilson, Embeth Davidtz",
         "_deepnote_index_column": 30
        },
        {
         "Movie": "Mary Poppins",
         "Description": "In turn of the century London, a magical nanny employs music and adventure to help two neglected ch…",
         "Release-Date": "(1964)",
         "Directors": "Robert Stevenson",
         "Rating": 7.8,
         "Duration": "139 min",
         "Genre": "Comedy, Family, Fantasy",
         "Stars": "Julie Andrews, Dick Van Dyke, David Tomlinson, Glynis Johns",
         "_deepnote_index_column": 31
        },
        {
         "Movie": "The Lord of the Rings: The Two Towers",
         "Description": "While Frodo and Sam edge closer to Mordor with the help of the shifty Gollum, the divided fellowshi…",
         "Release-Date": "(2002)",
         "Directors": "Peter Jackson",
         "Rating": 8.7,
         "Duration": "179 min",
         "Genre": "Action, Adventure, Drama",
         "Stars": "Elijah Wood, Ian McKellen, Viggo Mortensen, Orlando Bloom",
         "_deepnote_index_column": 32
        },
        {
         "Movie": "Muppets from Space",
         "Description": "Gonzo is contacted by his alien family through his breakfast cereal. But when the men in black kidn…",
         "Release-Date": "(1999)",
         "Directors": "Tim Hill",
         "Rating": 6.3,
         "Duration": "87 min",
         "Genre": "Adventure, Comedy, Family",
         "Stars": "Dave Goelz, Steve Whitmire, Bill Barretta, Jerry Nelson",
         "_deepnote_index_column": 33
        },
        {
         "Movie": "Shrek",
         "Description": "A mean lord exiles fairytale creatures to the swamp of a grumpy ogre, who must go on a quest and re…",
         "Release-Date": "(2001)",
         "Directors": "Andrew Adamson, Vicky Jenson",
         "Rating": 7.9,
         "Duration": "90 min",
         "Genre": "Animation, Adventure, Comedy",
         "Stars": "Mike Myers, Eddie Murphy, Cameron Diaz, John Lithgow",
         "_deepnote_index_column": 34
        },
        {
         "Movie": "The Dark Tower",
         "Description": "A boy haunted by visions of a dark tower from a parallel reality teams up with the tower's disillus…",
         "Release-Date": "(2017)",
         "Directors": "Nikolaj Arcel",
         "Rating": 5.6,
         "Duration": "95 min",
         "Genre": "Action, Adventure, Fantasy",
         "Stars": "Idris Elba, Matthew McConaughey, Tom Taylor, Dennis Haysbert",
         "_deepnote_index_column": 35
        },
        {
         "Movie": "Alice",
         "Description": "A surrealistic revision of Alice in Wonderland.",
         "Release-Date": "(1988)",
         "Directors": "Jan Svankmajer",
         "Rating": 7.5,
         "Duration": "86 min",
         "Genre": "Animation, Adventure, Fantasy",
         "Stars": "Kristýna Kohoutová, Camilla Power",
         "_deepnote_index_column": 36
        },
        {
         "Movie": "Frozen",
         "Description": "When the newly crowned Queen Elsa accidentally uses her power to turn things into ice to curse her …",
         "Release-Date": "(I) (2013)",
         "Directors": "Chris Buck, Jennifer Lee",
         "Rating": 7.4,
         "Duration": "102 min",
         "Genre": "Animation, Adventure, Comedy",
         "Stars": "Kristen Bell, Idina Menzel, Jonathan Groff, Josh Gad",
         "_deepnote_index_column": 37
        },
        {
         "Movie": "Don't Be Afraid of the Dark",
         "Description": "A young girl sent to live with her father and his new girlfriend believes that she has released cre…",
         "Release-Date": "(2010)",
         "Directors": "Troy Nixey",
         "Rating": 5.6,
         "Duration": "99 min",
         "Genre": "Adventure, Fantasy, Horror",
         "Stars": "Katie Holmes, Guy Pearce, Bailee Madison, Bruce Gleeson",
         "_deepnote_index_column": 38
        },
        {
         "Movie": "The Pirate Fairy",
         "Description": "When Zarina steals Pixie Hollow's Blue Pixie Dust and flies away, Tinker Bell and her friends sets …",
         "Release-Date": "(2014 Video)",
         "Directors": "Peggy Holmes",
         "Rating": 6.6,
         "Duration": "78 min",
         "Genre": "Animation, Adventure, Family",
         "Stars": "Mae Whitman, Christina Hendricks, Tom Hiddleston, Lucy Liu",
         "_deepnote_index_column": 39
        },
        {
         "Movie": "Harry Potter and the Deathly Hallows: Part 1",
         "Description": "As Harry, Ron, and Hermione race against time and evil to destroy the Horcruxes, they uncover the e…",
         "Release-Date": "(2010)",
         "Directors": "David Yates",
         "Rating": 7.7,
         "Duration": "146 min",
         "Genre": "Adventure, Family, Fantasy",
         "Stars": "Daniel Radcliffe, Emma Watson, Rupert Grint, Bill Nighy",
         "_deepnote_index_column": 40
        },
        {
         "Movie": "Ghostbusters",
         "Description": "Three former parapsychology professors set up shop as a unique ghost removal service.",
         "Release-Date": "(1984)",
         "Directors": "Ivan Reitman",
         "Rating": 7.8,
         "Duration": "105 min",
         "Genre": "Action, Comedy, Fantasy",
         "Stars": "Bill Murray, Dan Aykroyd, Sigourney Weaver, Harold Ramis",
         "_deepnote_index_column": 41
        },
        {
         "Movie": "Doctor Strange",
         "Description": "While on a journey of physical and spiritual healing, a brilliant neurosurgeon is drawn into the wo…",
         "Release-Date": "(2016)",
         "Directors": "Scott Derrickson",
         "Rating": 7.5,
         "Duration": "115 min",
         "Genre": "Action, Adventure, Fantasy",
         "Stars": "Benedict Cumberbatch, Chiwetel Ejiofor, Rachel McAdams, Benedict Wong",
         "_deepnote_index_column": 42
        },
        {
         "Movie": "Kiki's Delivery Service",
         "Description": "A young witch, on her mandatory year of independent life, finds fitting into a new community diffic…",
         "Release-Date": "(1989)",
         "Directors": "Hayao Miyazaki",
         "Rating": 7.9,
         "Duration": "103 min",
         "Genre": "Animation, Adventure, Drama",
         "Stars": "Kirsten Dunst, Minami Takayama, Rei Sakuma, Kappei Yamaguchi",
         "_deepnote_index_column": 43
        },
        {
         "Movie": "Monster Trucks",
         "Description": "A young man working at a small town junkyard discovers and befriends a creature which feeds on oil …",
         "Release-Date": "(2016)",
         "Directors": "Chris Wedge",
         "Rating": 5.7,
         "Duration": "104 min",
         "Genre": "Animation, Action, Adventure",
         "Stars": "Lucas Till, Jane Levy, Thomas Lennon, Barry Pepper",
         "_deepnote_index_column": 44
        },
        {
         "Movie": "Ghostbusters: Answer the Call",
         "Description": "Following a ghost invasion of Manhattan, paranormal enthusiasts Erin Gilbert and Abby Yates, nuclea…",
         "Release-Date": "(2016)",
         "Directors": "Paul Feig",
         "Rating": 6.6,
         "Duration": "117 min",
         "Genre": "Action, Comedy, Fantasy",
         "Stars": "Melissa McCarthy, Kristen Wiig, Kate McKinnon, Leslie Jones",
         "_deepnote_index_column": 45
        },
        {
         "Movie": "The Scorpion King",
         "Description": "A desert warrior rises up against the evil army that is destroying his homeland. He captures the en…",
         "Release-Date": "(2002)",
         "Directors": "Chuck Russell",
         "Rating": 5.5,
         "Duration": "92 min",
         "Genre": "Action, Adventure, Fantasy",
         "Stars": "Dwayne Johnson, Steven Brand, Michael Clarke Duncan, Kelly Hu",
         "_deepnote_index_column": 46
        },
        {
         "Movie": "Highlander: Endgame",
         "Description": "Immortals Connor and Duncan MacLeod must join forces against Kell, an evil immortal who has become …",
         "Release-Date": "(2000)",
         "Directors": "Douglas Aarniokoski",
         "Rating": 4.6,
         "Duration": "87 min",
         "Genre": "Action, Adventure, Fantasy",
         "Stars": "Christopher Lambert, Adrian Paul, Bruce Payne, Lisa Barbuscia",
         "_deepnote_index_column": 47
        },
        {
         "Movie": "The Lure",
         "Description": "In Warsaw, a pair of mermaid sisters are adopted into a cabaret. While one seeks love with humans t…",
         "Release-Date": "(2015)",
         "Directors": "Agnieszka Smoczynska",
         "Rating": 6.3,
         "Duration": "92 min",
         "Genre": "Drama, Fantasy, Horror",
         "Stars": "Marta Mazurek, Michalina Olszanska, Kinga Preis, Andrzej Konopka",
         "_deepnote_index_column": 48
        },
        {
         "Movie": "The Raven",
         "Description": "A magician, who has been turned into a raven, turns to a former sorcerer for help.",
         "Release-Date": "(1963)",
         "Directors": "Roger Corman",
         "Rating": 6.6,
         "Duration": "86 min",
         "Genre": "Comedy, Fantasy, Horror",
         "Stars": "Vincent Price, Peter Lorre, Boris Karloff, Hazel Court",
         "_deepnote_index_column": 49
        },
        {
         "Movie": "Howl's Moving Castle",
         "Description": "When an unconfident young woman is cursed with an old body by a spiteful witch, her only chance of …",
         "Release-Date": "(2004)",
         "Directors": "Hayao Miyazaki",
         "Rating": 8.2,
         "Duration": "119 min",
         "Genre": "Animation, Adventure, Family",
         "Stars": "Chieko Baishô, Takuya Kimura, Tatsuya Gashûin, Akihiro Miwa",
         "_deepnote_index_column": 50
        },
        {
         "Movie": "Mr. Popper's Penguins",
         "Description": "The life of a businessman begins to change after he inherits six penguins, and as he transforms his…",
         "Release-Date": "(2011)",
         "Directors": "Mark Waters",
         "Rating": 6,
         "Duration": "94 min",
         "Genre": "Comedy, Family, Fantasy",
         "Stars": "Jim Carrey, Carla Gugino, Angela Lansbury, Ophelia Lovibond",
         "_deepnote_index_column": 51
        },
        {
         "Movie": "It's a Wonderful Life",
         "Description": "An angel is sent from Heaven to help a desperately frustrated businessman by showing him what life …",
         "Release-Date": "(1946)",
         "Directors": "Frank Capra",
         "Rating": 8.6,
         "Duration": "130 min",
         "Genre": "Drama, Family, Fantasy",
         "Stars": "James Stewart, Donna Reed, Lionel Barrymore, Thomas Mitchell",
         "_deepnote_index_column": 52
        },
        {
         "Movie": "Dracula's Daughter",
         "Description": "When Countess Marya Zaleska appears in London, mysterious events occur leading Dr. Von Helsing to b…",
         "Release-Date": "(1936)",
         "Directors": "Lambert Hillyer",
         "Rating": 6.3,
         "Duration": "71 min",
         "Genre": "Drama, Fantasy, Horror",
         "Stars": "Otto Kruger, Gloria Holden, Marguerite Churchill, Edward Van Sloan",
         "_deepnote_index_column": 53
        },
        {
         "Movie": "Justice League: War",
         "Description": "The world's finest heroes found the Justice League in order to stop an alien invasion of Earth.",
         "Release-Date": "(2014 Video)",
         "Directors": "Jay Oliva",
         "Rating": 7.2,
         "Duration": "79 min",
         "Genre": "Animation, Action, Adventure",
         "Stars": "Sean Astin, Zach Callison, Christopher Gorham, Justin Kirk",
         "_deepnote_index_column": 54
        },
        {
         "Movie": "Red Riding Hood",
         "Description": "Set in a medieval village that is haunted by a werewolf, a young girl falls for an orphaned woodcut…",
         "Release-Date": "(2011)",
         "Directors": "Catherine Hardwicke",
         "Rating": 5.4,
         "Duration": "100 min",
         "Genre": "Fantasy, Horror, Mystery",
         "Stars": "Amanda Seyfried, Lukas Haas, Gary Oldman, Billy Burke",
         "_deepnote_index_column": 55
        },
        {
         "Movie": "Harry Potter and the Deathly Hallows: Part 2",
         "Description": "Harry, Ron, and Hermione search for Voldemort's remaining Horcruxes in their effort to destroy the …",
         "Release-Date": "(2011)",
         "Directors": "David Yates",
         "Rating": 8.1,
         "Duration": "130 min",
         "Genre": "Adventure, Drama, Fantasy",
         "Stars": "Daniel Radcliffe, Emma Watson, Rupert Grint, Michael Gambon",
         "_deepnote_index_column": 56
        },
        {
         "Movie": "Harry Potter and the Prisoner of Azkaban",
         "Description": "Harry Potter, Ron and Hermione return to Hogwarts School of Witchcraft and Wizardry for their third…",
         "Release-Date": "(2004)",
         "Directors": "Alfonso Cuarón",
         "Rating": 7.9,
         "Duration": "142 min",
         "Genre": "Adventure, Family, Fantasy",
         "Stars": "Daniel Radcliffe, Emma Watson, Rupert Grint, Richard Griffiths",
         "_deepnote_index_column": 57
        },
        {
         "Movie": "Harry Potter and the Half-Blood Prince",
         "Description": "As Harry Potter begins his sixth year at Hogwarts, he discovers an old book marked as \"the property…",
         "Release-Date": "(2009)",
         "Directors": "David Yates",
         "Rating": 7.6,
         "Duration": "153 min",
         "Genre": "Action, Adventure, Family",
         "Stars": "Daniel Radcliffe, Emma Watson, Rupert Grint, Michael Gambon",
         "_deepnote_index_column": 58
        },
        {
         "Movie": "The Mummy",
         "Description": "At an archaeological dig in the ancient city of Hamunaptra, an American serving in the French Forei…",
         "Release-Date": "(1999)",
         "Directors": "Stephen Sommers",
         "Rating": 7,
         "Duration": "124 min",
         "Genre": "Action, Adventure, Fantasy",
         "Stars": "Brendan Fraser, Rachel Weisz, John Hannah, Arnold Vosloo",
         "_deepnote_index_column": 59
        },
        {
         "Movie": "The Lego Batman Movie",
         "Description": "A cooler-than-ever Bruce Wayne must deal with the usual suspects as they plan to rule Gotham City, …",
         "Release-Date": "(2017)",
         "Directors": "Chris McKay",
         "Rating": 7.3,
         "Duration": "104 min",
         "Genre": "Animation, Action, Comedy",
         "Stars": "Will Arnett, Michael Cera, Rosario Dawson, Ralph Fiennes",
         "_deepnote_index_column": 60
        },
        {
         "Movie": "Jack the Giant Slayer",
         "Description": "The ancient war between humans and a race of giants is reignited when Jack, a young farmhand fighti…",
         "Release-Date": "(2013)",
         "Directors": "Bryan Singer",
         "Rating": 6.2,
         "Duration": "114 min",
         "Genre": "Adventure, Comedy, Family",
         "Stars": "Nicholas Hoult, Stanley Tucci, Ewan McGregor, Bill Nighy",
         "_deepnote_index_column": 61
        },
        {
         "Movie": "The Librarian: Quest for the Spear",
         "Description": "A bookworm becomes the librarian. Same night a magical spear gets stolen and he's off to get some r…",
         "Release-Date": "(2004 TV Movie)",
         "Directors": "Peter Winther",
         "Rating": 6.3,
         "Duration": "92 min",
         "Genre": "Action, Adventure, Comedy",
         "Stars": "Noah Wyle, Sonya Walger, Bob Newhart, Kyle MacLachlan",
         "_deepnote_index_column": 62
        },
        {
         "Movie": "A Haunted House",
         "Description": "Malcolm and Kisha move into their dream home, but soon learn a demon also resides there. When Kisha…",
         "Release-Date": "(2013)",
         "Directors": "Michael Tiddes",
         "Rating": 5,
         "Duration": "86 min",
         "Genre": "Comedy, Fantasy",
         "Stars": "Marlon Wayans, Essence Atkins, Marlene Forte, David Koechner",
         "_deepnote_index_column": 63
        },
        {
         "Movie": "Aladdin",
         "Description": "A kindhearted street urchin and a power-hungry Grand Vizier vie for a magic lamp that has the power…",
         "Release-Date": "(1992)",
         "Directors": "Ron Clements, John Musker",
         "Rating": 8,
         "Duration": "90 min",
         "Genre": "Animation, Adventure, Comedy",
         "Stars": "Scott Weinger, Robin Williams, Linda Larkin, Jonathan Freeman",
         "_deepnote_index_column": 64
        },
        {
         "Movie": "Labyrinth",
         "Description": "Sixteen-year-old Sarah is given thirteen hours to solve a labyrinth and rescue her baby brother Tob…",
         "Release-Date": "(1986)",
         "Directors": "Jim Henson",
         "Rating": 7.4,
         "Duration": "101 min",
         "Genre": "Adventure, Family, Fantasy",
         "Stars": "David Bowie, Jennifer Connelly, Toby Froud, Shelley Thompson",
         "_deepnote_index_column": 65
        },
        {
         "Movie": "Cinderella",
         "Description": "When her father unexpectedly dies, young Ella finds herself at the mercy of her cruel stepmother an…",
         "Release-Date": "(I) (2015)",
         "Directors": "Kenneth Branagh",
         "Rating": 6.9,
         "Duration": "105 min",
         "Genre": "Drama, Family, Fantasy",
         "Stars": "Lily James, Cate Blanchett, Richard Madden, Helena Bonham Carter",
         "_deepnote_index_column": 66
        },
        {
         "Movie": "The Chronicles of Narnia: Prince Caspian",
         "Description": "The Pevensie siblings return to Narnia, where they are enlisted to once again help ward off an evil…",
         "Release-Date": "(2008)",
         "Directors": "Andrew Adamson",
         "Rating": 6.5,
         "Duration": "150 min",
         "Genre": "Action, Adventure, Family",
         "Stars": "Ben Barnes, Skandar Keynes, Georgie Henley, William Moseley",
         "_deepnote_index_column": 67
        },
        {
         "Movie": "Beowulf",
         "Description": "In a besieged land, Beowulf must battle against the hideous creature Grendel and his vengeance seek…",
         "Release-Date": "(1999)",
         "Directors": "Graham Baker",
         "Rating": 4.1,
         "Duration": "95 min",
         "Genre": "Action, Adventure, Fantasy",
         "Stars": "Christopher Lambert, Rhona Mitra, Oliver Cotton, Götz Otto",
         "_deepnote_index_column": 68
        },
        {
         "Movie": "Evil Dead",
         "Description": "Five friends head to a remote cabin, where the discovery of a Book of the Dead leads them to unwitt…",
         "Release-Date": "(2013)",
         "Directors": "Fede Alvarez",
         "Rating": 6.5,
         "Duration": "91 min",
         "Genre": "Horror",
         "Stars": "Jane Levy, Shiloh Fernandez, Jessica Lucas, Lou Taylor Pucci",
         "_deepnote_index_column": 69
        },
        {
         "Movie": "Suicide Squad",
         "Description": "A secret government agency recruits some of the most dangerous incarcerated super-villains to form …",
         "Release-Date": "(2016)",
         "Directors": "David Ayer",
         "Rating": 5.9,
         "Duration": "123 min",
         "Genre": "Action, Adventure, Fantasy",
         "Stars": "Will Smith, Jared Leto, Margot Robbie, Viola Davis",
         "_deepnote_index_column": 70
        },
        {
         "Movie": "Addams Family Values",
         "Description": "The Addams Family try to rescue their beloved Uncle Fester from his gold-digging new love, a black …",
         "Release-Date": "(1993)",
         "Directors": "Barry Sonnenfeld",
         "Rating": 6.8,
         "Duration": "94 min",
         "Genre": "Comedy, Fantasy",
         "Stars": "Anjelica Huston, Raul Julia, Christopher Lloyd, Joan Cusack",
         "_deepnote_index_column": 71
        },
        {
         "Movie": "Before I Wake",
         "Description": "A couple adopt an orphaned child whose dreams - and nightmares - manifest physically as he sleeps.",
         "Release-Date": "(2016)",
         "Directors": "Mike Flanagan",
         "Rating": 6.2,
         "Duration": "97 min",
         "Genre": "Drama, Fantasy, Horror",
         "Stars": "Kate Bosworth, Oleksandr Reshetilov, Thomas Jane, Jacob Tremblay",
         "_deepnote_index_column": 72
        },
        {
         "Movie": "The Twilight Saga: Breaking Dawn - Part 2",
         "Description": "After the birth of Renesmee/Nessie, the Cullens gather other vampire clans in order to protect the …",
         "Release-Date": "(2012)",
         "Directors": "Bill Condon",
         "Rating": 5.5,
         "Duration": "115 min",
         "Genre": "Adventure, Drama, Fantasy",
         "Stars": "Kristen Stewart, Robert Pattinson, Taylor Lautner, Peter Facinelli",
         "_deepnote_index_column": 73
        },
        {
         "Movie": "The Hole",
         "Description": "A pair of brothers stumble upon a mysterious hole in their basement that leads to the darkest corri…",
         "Release-Date": "(2009)",
         "Directors": "Joe Dante",
         "Rating": 5.7,
         "Duration": "92 min",
         "Genre": "Fantasy, Thriller",
         "Stars": "Chris Massoglia, Haley Bennett, Nathan Gamble, Teri Polo",
         "_deepnote_index_column": 74
        },
        {
         "Movie": "Hugo",
         "Description": "In 1931 Paris, an orphan living in the walls of a train station gets wrapped up in a mystery involv…",
         "Release-Date": "(2011)",
         "Directors": "Martin Scorsese",
         "Rating": 7.5,
         "Duration": "126 min",
         "Genre": "Drama, Family, Fantasy",
         "Stars": "Asa Butterfield, Chloë Grace Moretz, Christopher Lee, Ben Kingsley",
         "_deepnote_index_column": 75
        },
        {
         "Movie": "Idle Hands",
         "Description": "A teenage slacker's right hand becomes possessed with murderous intent.",
         "Release-Date": "(1999)",
         "Directors": "Rodman Flender",
         "Rating": 6.2,
         "Duration": "92 min",
         "Genre": "Comedy, Fantasy, Horror",
         "Stars": "Devon Sawa, Seth Green, Elden Henson, Jessica Alba",
         "_deepnote_index_column": 76
        },
        {
         "Movie": "Snow White and the Seven Dwarfs",
         "Description": "Exiled into the dangerous forest by her wicked stepmother, a princess is rescued by seven dwarf min…",
         "Release-Date": "(1937)",
         "Directors": "William Cottrell, David Hand, Wilfred Jackson, Larry Morey, Perce Pearce, Ben Sharpsteen",
         "Rating": 7.6,
         "Duration": "83 min",
         "Genre": "Animation, Family, Fantasy",
         "Stars": "Adriana Caselotti, Harry Stockwell, Lucille La Verne, Lem Wright",
         "_deepnote_index_column": 77
        },
        {
         "Movie": "The Princess Bride",
         "Description": "While home sick in bed, a young boy's grandfather reads him the story of a farmboy-turned-pirate wh…",
         "Release-Date": "(1987)",
         "Directors": "Rob Reiner",
         "Rating": 8.1,
         "Duration": "98 min",
         "Genre": "Adventure, Family, Fantasy",
         "Stars": "Cary Elwes, Mandy Patinkin, Robin Wright, Chris Sarandon",
         "_deepnote_index_column": 78
        },
        {
         "Movie": "The Time Traveler's Wife",
         "Description": "A Chicago librarian has a gene that causes him to involuntarily time travel, creating complications…",
         "Release-Date": "(2009)",
         "Directors": "Robert Schwentke",
         "Rating": 7.1,
         "Duration": "107 min",
         "Genre": "Drama, Fantasy, Romance",
         "Stars": "Eric Bana, Rachel McAdams, Ron Livingston, Michelle Nolden",
         "_deepnote_index_column": 79
        },
        {
         "Movie": "Masters of the Universe",
         "Description": "The heroic warrior He-Man battles against the evil lord Skeletor and his armies of darkness for con…",
         "Release-Date": "(1987)",
         "Directors": "Gary Goddard",
         "Rating": 5.4,
         "Duration": "106 min",
         "Genre": "Action, Adventure, Fantasy",
         "Stars": "Dolph Lundgren, Frank Langella, Meg Foster, Billy Barty",
         "_deepnote_index_column": 80
        },
        {
         "Movie": "Wicked Little Things",
         "Description": "Karen, Sarah, and Emma Tunney are all moving to a small town in Pennsylvania where, unknown to them…",
         "Release-Date": "(2006)",
         "Directors": "J.S. Cardone",
         "Rating": 5.1,
         "Duration": "94 min",
         "Genre": "Drama, Fantasy, Horror",
         "Stars": "Lori Heuring, Scout Taylor-Compton, Chloë Grace Moretz, Geoffrey Lewis",
         "_deepnote_index_column": 81
        },
        {
         "Movie": "Ghostbusters II",
         "Description": "The discovery of a massive river of ectoplasm and a resurgence of spectral activity allows the staf…",
         "Release-Date": "(1989)",
         "Directors": "Ivan Reitman",
         "Rating": 6.6,
         "Duration": "108 min",
         "Genre": "Action, Comedy, Fantasy",
         "Stars": "Bill Murray, Dan Aykroyd, Sigourney Weaver, Harold Ramis",
         "_deepnote_index_column": 82
        },
        {
         "Movie": "The Little Mermaid",
         "Description": "A mermaid princess makes a Faustian bargain in an attempt to become human and win a prince's love.",
         "Release-Date": "(1989)",
         "Directors": "Ron Clements, John Musker",
         "Rating": 7.6,
         "Duration": "83 min",
         "Genre": "Animation, Family, Fantasy",
         "Stars": "Jodi Benson, Samuel E. Wright, Rene Auberjonois, Christopher Daniel Barnes",
         "_deepnote_index_column": 83
        },
        {
         "Movie": "Dracula",
         "Description": "After a naive real estate agent succumbs to the will of Count Dracula, the two head to London where…",
         "Release-Date": "(1931)",
         "Directors": "Tod Browning, Karl Freund",
         "Rating": 7.5,
         "Duration": "75 min",
         "Genre": "Drama, Fantasy, Horror",
         "Stars": "Bela Lugosi, Helen Chandler, David Manners, Dwight Frye",
         "_deepnote_index_column": 84
        },
        {
         "Movie": "Indiana Jones and the Last Crusade",
         "Description": "In 1938, after his father Professor Henry Jones, Sr. goes missing while pursuing the Holy Grail, Pr…",
         "Release-Date": "(1989)",
         "Directors": "Steven Spielberg",
         "Rating": 8.2,
         "Duration": "127 min",
         "Genre": "Action, Adventure",
         "Stars": "Harrison Ford, Sean Connery, Alison Doody, Denholm Elliott",
         "_deepnote_index_column": 85
        },
        {
         "Movie": "The Mummy",
         "Description": "An Egyptian mummy searches Cairo for the girl he thinks is his long-lost princess.",
         "Release-Date": "(1932)",
         "Directors": "Karl Freund",
         "Rating": 7.1,
         "Duration": "73 min",
         "Genre": "Fantasy, Horror",
         "Stars": "Boris Karloff, Zita Johann, David Manners, Arthur Byron",
         "_deepnote_index_column": 86
        },
        {
         "Movie": "R.I.P.D.",
         "Description": "A recently slain cop joins a team of undead police officers working for the Rest in Peace Departmen…",
         "Release-Date": "(2013)",
         "Directors": "Robert Schwentke",
         "Rating": 5.6,
         "Duration": "96 min",
         "Genre": "Action, Adventure, Comedy",
         "Stars": "Ryan Reynolds, Jeff Bridges, Mary-Louise Parker, Kevin Bacon",
         "_deepnote_index_column": 87
        },
        {
         "Movie": "Star Wars: Episode IV - A New Hope",
         "Description": "Luke Skywalker joins forces with a Jedi Knight, a cocky pilot, a Wookiee and two droids to save the…",
         "Release-Date": "(1977)",
         "Directors": "George Lucas",
         "Rating": 8.6,
         "Duration": "121 min",
         "Genre": "Action, Adventure, Fantasy",
         "Stars": "Mark Hamill, Harrison Ford, Carrie Fisher, Alec Guinness",
         "_deepnote_index_column": 88
        },
        {
         "Movie": "Underworld: Rise of the Lycans",
         "Description": "An origins story centered on the centuries-old feud between the race of aristocratic vampires and t…",
         "Release-Date": "(2009)",
         "Directors": "Patrick Tatopoulos",
         "Rating": 6.6,
         "Duration": "92 min",
         "Genre": "Action, Fantasy, Thriller",
         "Stars": "Rhona Mitra, Michael Sheen, Bill Nighy, Steven Mackintosh",
         "_deepnote_index_column": 89
        },
        {
         "Movie": "Alvin and the Chipmunks: The Road Chip",
         "Description": "The Chipmunks believe that Dave plans to propose to his new girlfriend in Miami.--and dump them. Th…",
         "Release-Date": "(2015)",
         "Directors": "Walt Becker",
         "Rating": 5,
         "Duration": "92 min",
         "Genre": "Animation, Adventure, Comedy",
         "Stars": "Jason Lee, Justin Long, Matthew Gray Gubler, Jesse McCartney",
         "_deepnote_index_column": 90
        },
        {
         "Movie": "The Chronicles of Narnia: The Voyage of the Dawn Treader",
         "Description": "Lucy and Edmund Pevensie return to Narnia with their cousin Eustace where they meet up with Prince …",
         "Release-Date": "(2010)",
         "Directors": "Michael Apted",
         "Rating": 6.3,
         "Duration": "113 min",
         "Genre": "Adventure, Family, Fantasy",
         "Stars": "Ben Barnes, Skandar Keynes, Georgie Henley, Will Poulter",
         "_deepnote_index_column": 91
        },
        {
         "Movie": "Secret of the Wings",
         "Description": "Tinkerbell wanders into the forbidden Winter woods and meets Periwinkle. Together they learn the se…",
         "Release-Date": "(2012)",
         "Directors": "Roberts Gannaway, Peggy Holmes",
         "Rating": 7.1,
         "Duration": "75 min",
         "Genre": "Animation, Family, Fantasy",
         "Stars": "Mae Whitman, Lucy Hale, Timothy Dalton, Jeff Bennett",
         "_deepnote_index_column": 92
        },
        {
         "Movie": "Santo and Blue Demon vs. the Monsters",
         "Description": "To foil his plan for world domination, wrestling superheroes El Santo and Blue Demon battle the mad…",
         "Release-Date": "(1970)",
         "Directors": "Gilberto Martínez Solares",
         "Rating": 6.2,
         "Duration": "85 min",
         "Genre": "Action, Adventure, Fantasy",
         "Stars": "Santo, Blue Demon, Ivan J. Rado, Carlos Ancira",
         "_deepnote_index_column": 93
        },
        {
         "Movie": "I Am Dragon",
         "Description": "In the midst of the wedding princess Miroslava is kidnapped by a dragon and carried away into his c…",
         "Release-Date": "(2015)",
         "Directors": "Indar Dzhendubaev",
         "Rating": 6.9,
         "Duration": "110 min",
         "Genre": "Adventure, Fantasy, Romance",
         "Stars": "Matvey Lykov, Mariya Poezzhaeva, Stanislav Lyubshin, Petr Romanov",
         "_deepnote_index_column": 94
        },
        {
         "Movie": "The Tale of The Princess Kaguya",
         "Description": "Found inside a shining stalk of bamboo by an old bamboo cutter and his wife, a tiny girl grows rapi…",
         "Release-Date": "(2013)",
         "Directors": "Isao Takahata",
         "Rating": 8,
         "Duration": "137 min",
         "Genre": "Animation, Adventure, Drama",
         "Stars": "Chloë Grace Moretz, James Caan, Mary Steenburgen, James Marsden",
         "_deepnote_index_column": 95
        },
        {
         "Movie": "Hansel and Gretel",
         "Description": "Based on the fairy tale by The Brothers Grimm. Hansel and Gretel are abandoned after the famine str…",
         "Release-Date": "(1987)",
         "Directors": "Len Talan",
         "Rating": 6.7,
         "Duration": "84 min",
         "Genre": "Family, Fantasy, Musical",
         "Stars": "David Warner, Hugh Pollard, Nicola Stapleton, Emily Richard",
         "_deepnote_index_column": 96
        },
        {
         "Movie": "Ariana's Quest",
         "Description": "Princess Ariana fights for the return of her lost Kingdom and the liberation of her people. With th…",
         "Release-Date": "(2002 TV Movie)",
         "Directors": "Lloyd A. Simandl",
         "Rating": 4.5,
         "Duration": "94 min",
         "Genre": "Action, Fantasy",
         "Stars": "Rena Lesnar, Anthony De Longis, Katerina Brozová, Daniela Krhutova",
         "_deepnote_index_column": 97
        },
        {
         "Movie": "New Nightmare",
         "Description": "A demonic force has chosen Freddy Krueger as its portal to the real world. Can Heather Langenkamp p…",
         "Release-Date": "(1994)",
         "Directors": "Wes Craven",
         "Rating": 6.5,
         "Duration": "112 min",
         "Genre": "Fantasy, Horror, Mystery",
         "Stars": "Heather Langenkamp, Robert Englund, Jeff Davis, Miko Hughes",
         "_deepnote_index_column": 98
        },
        {
         "Movie": "Harry Potter and the Order of the Phoenix",
         "Description": "With their warning about Lord Voldemort's return scoffed at, Harry and Dumbledore are targeted by t…",
         "Release-Date": "(2007)",
         "Directors": "David Yates",
         "Rating": 7.5,
         "Duration": "138 min",
         "Genre": "Action, Adventure, Family",
         "Stars": "Daniel Radcliffe, Emma Watson, Rupert Grint, Brendan Gleeson",
         "_deepnote_index_column": 99
        }
       ],
       "rows_bottom": null
      },
      "text/plain": "                                                Movie  \\\n0   The Lord of the Rings: The Fellowship of the Ring   \n1                   Final Fantasy: The Spirits Within   \n2                                    X2: X-Men United   \n3                 Harry Potter and the Goblet of Fire   \n4                                       Mortal Kombat   \n..                                                ...   \n95                    The Tale of The Princess Kaguya   \n96                                  Hansel and Gretel   \n97                                     Ariana's Quest   \n98                                      New Nightmare   \n99          Harry Potter and the Order of the Phoenix   \n\n                                          Description     Release-Date  \\\n0   A meek Hobbit from the Shire and eight compani...           (2001)   \n1   A scientist makes a last stand on Earth with t...           (2001)   \n2   When anti-mutant Colonel William Stryker kidna...           (2003)   \n3   Harry Potter finds himself competing in a haza...           (2005)   \n4   Three unknowing martial artists are summoned t...           (1995)   \n..                                                ...              ...   \n95  Found inside a shining stalk of bamboo by an o...           (2013)   \n96  Based on the fairy tale by The Brothers Grimm....           (1987)   \n97  Princess Ariana fights for the return of her l...  (2002 TV Movie)   \n98  A demonic force has chosen Freddy Krueger as i...           (1994)   \n99  With their warning about Lord Voldemort's retu...           (2007)   \n\n                                  Directors  Rating Duration  \\\n0                             Peter Jackson     8.8  178 min   \n1   Hironobu Sakaguchi, Motonori Sakakibara     6.4  106 min   \n2                              Bryan Singer     7.4  134 min   \n3                               Mike Newell     7.7  157 min   \n4                        Paul W.S. Anderson     5.8  101 min   \n..                                      ...     ...      ...   \n95                            Isao Takahata     8.0  137 min   \n96                                Len Talan     6.7   84 min   \n97                         Lloyd A. Simandl     4.5   94 min   \n98                               Wes Craven     6.5  112 min   \n99                              David Yates     7.5  138 min   \n\n                           Genre  \\\n0       Action, Adventure, Drama   \n1   Animation, Action, Adventure   \n2       Action, Sci-Fi, Thriller   \n3     Adventure, Family, Fantasy   \n4     Action, Adventure, Fantasy   \n..                           ...   \n95   Animation, Adventure, Drama   \n96      Family, Fantasy, Musical   \n97               Action, Fantasy   \n98      Fantasy, Horror, Mystery   \n99     Action, Adventure, Family   \n\n                                                Stars  \n0   Elijah Wood, Ian McKellen, Orlando Bloom, Sean...  \n1   Alec Baldwin, Steve Buscemi, Ming-Na Wen, Ving...  \n2   Patrick Stewart, Hugh Jackman, Halle Berry, Ia...  \n3   Daniel Radcliffe, Emma Watson, Rupert Grint, E...  \n4   Christopher Lambert, Robin Shou, Linden Ashby,...  \n..                                                ...  \n95  Chloë Grace Moretz, James Caan, Mary Steenburg...  \n96  David Warner, Hugh Pollard, Nicola Stapleton, ...  \n97  Rena Lesnar, Anthony De Longis, Katerina Brozo...  \n98  Heather Langenkamp, Robert Englund, Jeff Davis...  \n99  Daniel Radcliffe, Emma Watson, Rupert Grint, B...  \n\n[100 rows x 8 columns]",
      "text/html": "<div>\n<style scoped>\n    .dataframe tbody tr th:only-of-type {\n        vertical-align: middle;\n    }\n\n    .dataframe tbody tr th {\n        vertical-align: top;\n    }\n\n    .dataframe thead th {\n        text-align: right;\n    }\n</style>\n<table border=\"1\" class=\"dataframe\">\n  <thead>\n    <tr style=\"text-align: right;\">\n      <th></th>\n      <th>Movie</th>\n      <th>Description</th>\n      <th>Release-Date</th>\n      <th>Directors</th>\n      <th>Rating</th>\n      <th>Duration</th>\n      <th>Genre</th>\n      <th>Stars</th>\n    </tr>\n  </thead>\n  <tbody>\n    <tr>\n      <th>0</th>\n      <td>The Lord of the Rings: The Fellowship of the Ring</td>\n      <td>A meek Hobbit from the Shire and eight compani...</td>\n      <td>(2001)</td>\n      <td>Peter Jackson</td>\n      <td>8.8</td>\n      <td>178 min</td>\n      <td>Action, Adventure, Drama</td>\n      <td>Elijah Wood, Ian McKellen, Orlando Bloom, Sean...</td>\n    </tr>\n    <tr>\n      <th>1</th>\n      <td>Final Fantasy: The Spirits Within</td>\n      <td>A scientist makes a last stand on Earth with t...</td>\n      <td>(2001)</td>\n      <td>Hironobu Sakaguchi, Motonori Sakakibara</td>\n      <td>6.4</td>\n      <td>106 min</td>\n      <td>Animation, Action, Adventure</td>\n      <td>Alec Baldwin, Steve Buscemi, Ming-Na Wen, Ving...</td>\n    </tr>\n    <tr>\n      <th>2</th>\n      <td>X2: X-Men United</td>\n      <td>When anti-mutant Colonel William Stryker kidna...</td>\n      <td>(2003)</td>\n      <td>Bryan Singer</td>\n      <td>7.4</td>\n      <td>134 min</td>\n      <td>Action, Sci-Fi, Thriller</td>\n      <td>Patrick Stewart, Hugh Jackman, Halle Berry, Ia...</td>\n    </tr>\n    <tr>\n      <th>3</th>\n      <td>Harry Potter and the Goblet of Fire</td>\n      <td>Harry Potter finds himself competing in a haza...</td>\n      <td>(2005)</td>\n      <td>Mike Newell</td>\n      <td>7.7</td>\n      <td>157 min</td>\n      <td>Adventure, Family, Fantasy</td>\n      <td>Daniel Radcliffe, Emma Watson, Rupert Grint, E...</td>\n    </tr>\n    <tr>\n      <th>4</th>\n      <td>Mortal Kombat</td>\n      <td>Three unknowing martial artists are summoned t...</td>\n      <td>(1995)</td>\n      <td>Paul W.S. Anderson</td>\n      <td>5.8</td>\n      <td>101 min</td>\n      <td>Action, Adventure, Fantasy</td>\n      <td>Christopher Lambert, Robin Shou, Linden Ashby,...</td>\n    </tr>\n    <tr>\n      <th>...</th>\n      <td>...</td>\n      <td>...</td>\n      <td>...</td>\n      <td>...</td>\n      <td>...</td>\n      <td>...</td>\n      <td>...</td>\n      <td>...</td>\n    </tr>\n    <tr>\n      <th>95</th>\n      <td>The Tale of The Princess Kaguya</td>\n      <td>Found inside a shining stalk of bamboo by an o...</td>\n      <td>(2013)</td>\n      <td>Isao Takahata</td>\n      <td>8.0</td>\n      <td>137 min</td>\n      <td>Animation, Adventure, Drama</td>\n      <td>Chloë Grace Moretz, James Caan, Mary Steenburg...</td>\n    </tr>\n    <tr>\n      <th>96</th>\n      <td>Hansel and Gretel</td>\n      <td>Based on the fairy tale by The Brothers Grimm....</td>\n      <td>(1987)</td>\n      <td>Len Talan</td>\n      <td>6.7</td>\n      <td>84 min</td>\n      <td>Family, Fantasy, Musical</td>\n      <td>David Warner, Hugh Pollard, Nicola Stapleton, ...</td>\n    </tr>\n    <tr>\n      <th>97</th>\n      <td>Ariana's Quest</td>\n      <td>Princess Ariana fights for the return of her l...</td>\n      <td>(2002 TV Movie)</td>\n      <td>Lloyd A. Simandl</td>\n      <td>4.5</td>\n      <td>94 min</td>\n      <td>Action, Fantasy</td>\n      <td>Rena Lesnar, Anthony De Longis, Katerina Brozo...</td>\n    </tr>\n    <tr>\n      <th>98</th>\n      <td>New Nightmare</td>\n      <td>A demonic force has chosen Freddy Krueger as i...</td>\n      <td>(1994)</td>\n      <td>Wes Craven</td>\n      <td>6.5</td>\n      <td>112 min</td>\n      <td>Fantasy, Horror, Mystery</td>\n      <td>Heather Langenkamp, Robert Englund, Jeff Davis...</td>\n    </tr>\n    <tr>\n      <th>99</th>\n      <td>Harry Potter and the Order of the Phoenix</td>\n      <td>With their warning about Lord Voldemort's retu...</td>\n      <td>(2007)</td>\n      <td>David Yates</td>\n      <td>7.5</td>\n      <td>138 min</td>\n      <td>Action, Adventure, Family</td>\n      <td>Daniel Radcliffe, Emma Watson, Rupert Grint, B...</td>\n    </tr>\n  </tbody>\n</table>\n<p>100 rows × 8 columns</p>\n</div>"
     },
     "metadata": {}
    }
   ],
   "execution_count": 9
  },
  {
   "cell_type": "code",
   "source": "type(df['Stars'])",
   "metadata": {
    "tags": [],
    "cell_id": "00010-db90d38b-f80d-4026-8633-6fd8b04c2eae",
    "deepnote_to_be_reexecuted": false,
    "source_hash": "3b7e0b4b",
    "execution_start": 1622813361086,
    "execution_millis": 18,
    "deepnote_cell_type": "code"
   },
   "outputs": [
    {
     "output_type": "execute_result",
     "execution_count": 46,
     "data": {
      "text/plain": "pandas.core.series.Series"
     },
     "metadata": {}
    }
   ],
   "execution_count": 46
  },
  {
   "cell_type": "code",
   "source": "# \"Release-Date\":[1999,2000,2001],\n#         \"Directors\":[\"Peter Jackson\", \"David Lynch\", \"Guillermo del Torro\"],\n#         \"Rating\":[8, 9, 10], \n#         \"Duration\":[2,3,4],\n#         \"Genre\":[\"Fantasy\", \"Drama\", \"Action\"], \n#         \"Stars\":[\"Sean Bean died\", \"Brad Pitt, Angelina Jolie\", \"James McAvoy, Jennifer Lawrenece\"]",
   "metadata": {
    "tags": [],
    "cell_id": "00005-3f9dbfa7-8164-4e7f-83b3-ef36d72321f5",
    "deepnote_to_be_reexecuted": false,
    "source_hash": "b41f6f01",
    "execution_start": 1622812680082,
    "execution_millis": 0,
    "deepnote_cell_type": "code"
   },
   "outputs": [],
   "execution_count": 10
  },
  {
   "cell_type": "code",
   "source": "\n#import seaborn; seaborn.set()\n\nplt.title('Comparison of Movie Ratings')\nplt.xlabel('Movies')\nplt.ylabel('Ratings')\nplt.xticks(rotation=90)\n\nplt.bar(df['Movie'][0:10], df['Rating'][0:10])",
   "metadata": {
    "tags": [],
    "cell_id": "00009-8783f4ba-da8b-4591-9af4-45142f2574e5",
    "deepnote_to_be_reexecuted": false,
    "source_hash": "c0c25fc8",
    "execution_start": 1622812680083,
    "execution_millis": 316,
    "deepnote_cell_type": "code"
   },
   "outputs": [
    {
     "output_type": "execute_result",
     "execution_count": 11,
     "data": {
      "text/plain": "<BarContainer object of 10 artists>"
     },
     "metadata": {}
    },
    {
     "data": {
      "text/plain": "<Figure size 432x288 with 1 Axes>",
      "image/png": "[encoded data removed]"
     },
     "metadata": {
      "needs_background": "light",
      "image/png": {
       "width": 376,
       "height": 513
      }
     },
     "output_type": "display_data"
    }
   ],
   "execution_count": 11
  },
  {
   "cell_type": "code",
   "source": "",
   "metadata": {
    "cell_id": "00011-343b7b1b-2b9b-4664-837d-67100a3e7100",
    "deepnote_to_be_reexecuted": false,
    "source_hash": "b623e53d",
    "execution_start": 1622812680395,
    "execution_millis": 4,
    "deepnote_cell_type": "visualization"
   },
   "outputs": [],
   "execution_count": 11
  },
  {
   "cell_type": "markdown",
   "source": "",
   "metadata": {
    "tags": [],
    "cell_id": "00012-9e973a10-d4fd-4efc-af07-b96d62f881c2",
    "deepnote_cell_type": "markdown"
   }
  },
  {
   "cell_type": "markdown",
   "source": "![Picture title](image-20210604-142947.png)",
   "metadata": {
    "tags": [],
    "cell_id": "00013-5d2ed8cc-64e6-44a8-9ef2-1b74f5c5cac6",
    "deepnote_cell_type": "markdown"
   }
  },
  {
   "cell_type": "code",
   "source": "Norm_rating = []\nfor i in range(len(Ratings)):\n    Norm_rating.append((Ratings[i]-min(Ratings))/(max(Ratings)-min(Ratings)))\n    #print(str(Ratings[i])+'  '+str(Norm_rating[i]))\n\n\nNorm_d = []\nfor i in range(len(Duration)):\n    Norm_d.append(float(Duration[i].split()[0]))\nNorm_duration = []\nfor i in range(len(Norm_d)):\n    Norm_duration.append(round((Norm_d[i]-min(Norm_d))/(max(Norm_d)-min(Norm_d)),2))\n\n\nNorm_rating_mean = []\nfor i in range(len(Ratings)):\n    Norm_rating_mean.append( round((Ratings[i]-(sum(Ratings)/len(Ratings)))/(max(Ratings)-min(Ratings)),2))\n\n\nNorm_duration_mean = []\nfor i in range(len(Norm_d)):\n    Norm_duration_mean.append(round((Norm_d[i]-(sum(Norm_d)/len(Norm_d)))/(max(Norm_d)-min(Norm_d)),2))\nNorm_duration_mean\n\n",
   "metadata": {
    "tags": [],
    "cell_id": "00014-83f381f4-a33e-4dd2-870b-1da4092b8827",
    "deepnote_to_be_reexecuted": false,
    "source_hash": "bf3480b5",
    "execution_start": 1622814061314,
    "execution_millis": 10,
    "deepnote_cell_type": "code"
   },
   "outputs": [
    {
     "name": "stdout",
     "text": "-0.32\n0.68\n",
     "output_type": "stream"
    }
   ],
   "execution_count": 54
  },
  {
   "cell_type": "code",
   "source": "plt.title('Movie Ratings by Year of Release')\nplt.xlabel('Year')\nplt.ylabel('Rating')\nplt.xticks(rotation=90)\n\n\n\n\n\nplt.scatter(df['Release-Date'].sort_values(ascending=True)[0:25], df['Rating'][0:25])\n# plt.hist(df['Rating'])",
   "metadata": {
    "tags": [],
    "cell_id": "00015-6e9c0c2b-95b8-4deb-ab7d-dcb52a339f91",
    "deepnote_to_be_reexecuted": false,
    "source_hash": "384fd13a",
    "execution_start": 1622812929688,
    "execution_millis": 254,
    "deepnote_cell_type": "code"
   },
   "outputs": [
    {
     "output_type": "execute_result",
     "execution_count": 30,
     "data": {
      "text/plain": "<matplotlib.collections.PathCollection at 0x7f408c9008d0>"
     },
     "metadata": {}
    },
    {
     "data": {
      "text/plain": "<Figure size 432x288 with 1 Axes>",
      "image/png": "[encoded data removed]"
     },
     "metadata": {
      "needs_background": "light",
      "image/png": {
       "width": 376,
       "height": 302
      }
     },
     "output_type": "display_data"
    }
   ],
   "execution_count": 30
  },
  {
   "cell_type": "code",
   "source": "# for director in df['Directors']\n# directors_single = []\n# for director in df['Directors']:\n#     directors_single.append(director.split(','))\n\n# directors_single[0:5]\n# extract all comma separated names from pandas series \n# (https://stackoverflow.com/questions/41244981/how-to-extract-comma-separated-values-to-individual-rows-in-pandas)\n\ndf_directors = df[['Directors', 'Movie']]\ndf_directors.Directors = df.Directors.str.split(', ')\ndf_directors = df_directors.explode('Directors').reset_index(drop=True)\n# df_directors\ncount_directors = df_directors.groupby('Directors').count()",
   "metadata": {
    "tags": [],
    "cell_id": "00016-29c195a8-1da0-4ee0-a8c0-5543a385e657",
    "deepnote_to_be_reexecuted": false,
    "source_hash": "8061605f",
    "execution_start": 1622816411224,
    "execution_millis": 12,
    "deepnote_cell_type": "code"
   },
   "outputs": [
    {
     "name": "stderr",
     "text": "/shared-libs/python3.7/py/lib/python3.7/site-packages/pandas/core/generic.py:5494: SettingWithCopyWarning: \nA value is trying to be set on a copy of a slice from a DataFrame.\nTry using .loc[row_indexer,col_indexer] = value instead\n\nSee the caveats in the documentation: https://pandas.pydata.org/pandas-docs/stable/user_guide/indexing.html#returning-a-view-versus-a-copy\n  self[name] = value\n",
     "output_type": "stream"
    }
   ],
   "execution_count": 107
  },
  {
   "cell_type": "code",
   "source": "x_directors = count_directors.index\ny_directors = count_directors.index.values\ncount_directors[0:10].plot.bar()\n",
   "metadata": {
    "tags": [],
    "cell_id": "00019-420c29f4-8dd9-4da6-a1e8-0c7dd88709c1",
    "deepnote_to_be_reexecuted": false,
    "source_hash": "97d41837",
    "execution_start": 1622817473752,
    "execution_millis": 250,
    "deepnote_cell_type": "code"
   },
   "outputs": [
    {
     "output_type": "execute_result",
     "execution_count": 155,
     "data": {
      "text/plain": "<AxesSubplot:xlabel='Directors'>"
     },
     "metadata": {}
    },
    {
     "data": {
      "text/plain": "<Figure size 432x288 with 1 Axes>",
      "image/png": "[encoded data removed]"
     },
     "metadata": {
      "needs_background": "light",
      "image/png": {
       "width": 372,
       "height": 368
      }
     },
     "output_type": "display_data"
    }
   ],
   "execution_count": 155
  },
  {
   "cell_type": "code",
   "source": "",
   "metadata": {
    "cell_id": "00019-15d6127e-aa34-428e-9087-6cb0d5403250",
    "deepnote_variable_name": "df_directors",
    "deepnote_visualization_spec": {
     "$schema": "https://vega.github.io/schema/vega-lite/v4.json",
     "mark": {
      "type": "bar",
      "tooltip": {
       "content": "data"
      }
     },
     "height": 220,
     "autosize": {
      "type": "fit"
     },
     "data": {
      "name": "placeholder"
     },
     "encoding": {
      "x": {
       "field": "Directors",
       "type": "nominal",
       "sort": "ascending",
       "scale": {
        "type": "linear",
        "zero": false
       }
      },
      "y": {
       "field": "COUNT(*)",
       "type": "quantitative",
       "sort": "ascending",
       "aggregate": "count",
       "scale": {
        "type": "linear",
        "zero": true
       }
      },
      "color": {
       "field": "",
       "type": "nominal",
       "sort": "ascending",
       "scale": {
        "type": "linear",
        "zero": false
       }
      }
     }
    },
    "deepnote_to_be_reexecuted": false,
    "source_hash": "b623e53d",
    "execution_start": 1622816433262,
    "execution_millis": 78,
    "deepnote_cell_type": "visualization"
   },
   "outputs": [
    {
     "output_type": "execute_result",
     "execution_count": 108,
     "data": {
      "text/html": "\n<div id=\"altair-viz-e03b053b0fc4476fbf9283ae7c7c925c\"></div>\n<script type=\"text/javascript\">\n  (function(spec, embedOpt){\n    let outputDiv = document.currentScript.previousElementSibling;\n    if (outputDiv.id !== \"altair-viz-e03b053b0fc4476fbf9283ae7c7c925c\") {\n      outputDiv = document.getElementById(\"altair-viz-e03b053b0fc4476fbf9283ae7c7c925c\");\n    }\n    const paths = {\n      \"vega\": \"https://cdn.jsdelivr.net/npm//vega@5?noext\",\n      \"vega-lib\": \"https://cdn.jsdelivr.net/npm//vega-lib?noext\",\n      \"vega-lite\": \"https://cdn.jsdelivr.net/npm//vega-lite@4.8.1?noext\",\n      \"vega-embed\": \"https://cdn.jsdelivr.net/npm//vega-embed@6?noext\",\n    };\n\n    function loadScript(lib) {\n      return new Promise(function(resolve, reject) {\n        var s = document.createElement('script');\n        s.src = paths[lib];\n        s.async = true;\n        s.onload = () => resolve(paths[lib]);\n        s.onerror = () => reject(`Error loading script: ${paths[lib]}`);\n        document.getElementsByTagName(\"head\")[0].appendChild(s);\n      });\n    }\n\n    function showError(err) {\n      outputDiv.innerHTML = `<div class=\"error\" style=\"color:red;\">${err}</div>`;\n      throw err;\n    }\n\n    function displayChart(vegaEmbed) {\n      vegaEmbed(outputDiv, spec, embedOpt)\n        .catch(err => showError(`Javascript Error: ${err.message}<br>This usually means there's a typo in your chart specification. See the javascript console for the full traceback.`));\n    }\n\n    if(typeof define === \"function\" && define.amd) {\n      requirejs.config({paths});\n      require([\"vega-embed\"], displayChart, err => showError(`Error loading script: ${err.message}`));\n    } else if (typeof vegaEmbed === \"function\") {\n      displayChart(vegaEmbed);\n    } else {\n      loadScript(\"vega\")\n        .then(() => loadScript(\"vega-lite\"))\n        .then(() => loadScript(\"vega-embed\"))\n        .catch(showError)\n        .then(() => displayChart(vegaEmbed));\n    }\n  })({\"config\": {\"view\": {\"continuousWidth\": 400, \"continuousHeight\": 300}, \"area\": {\"fill\": \"#51C0E9\"}, \"axis\": {\"labelFont\": \"Inter, sans-serif\", \"labelFontSize\": 12, \"labelFontWeight\": \"normal\", \"labelLimit\": 60, \"labelOverlap\": \"greedy\", \"titleFont\": \"Inter, sans-serif\", \"titleFontSize\": 12, \"titleFontWeight\": \"bold\"}, \"background\": \"#ffffff\", \"legend\": {\"labelFont\": \"Inter, sans-serif\", \"labelFontSize\": 12, \"titleFont\": \"Inter, sans-serif\", \"titleFontSize\": 12, \"titleFontWeight\": \"bold\"}, \"line\": {\"stroke\": \"#51C0E9\", \"strokeWidth\": 2}, \"rect\": {\"fill\": \"#51C0E9\"}, \"title\": {\"anchor\": \"start\", \"color\": \"#000000\", \"font\": \"Inter, sans-serif\", \"fontSize\": 22, \"fontWeight\": \"normal\"}}, \"data\": {\"name\": \"data-867478a408218da9730da37dea7bb623\"}, \"mark\": {\"type\": \"bar\", \"tooltip\": {\"content\": \"data\"}}, \"autosize\": {\"type\": \"fit\"}, \"encoding\": {\"color\": {\"type\": \"nominal\", \"field\": \"\", \"scale\": {\"type\": \"linear\", \"zero\": false}, \"sort\": \"ascending\"}, \"x\": {\"type\": \"nominal\", \"field\": \"Directors\", \"scale\": {\"type\": \"linear\", \"zero\": false}, \"sort\": \"ascending\"}, \"y\": {\"type\": \"quantitative\", \"aggregate\": \"count\", \"field\": \"COUNT(*)\", \"scale\": {\"type\": \"linear\", \"zero\": true}, \"sort\": \"ascending\"}}, \"height\": 300, \"width\": \"container\", \"$schema\": \"https://vega.github.io/schema/vega-lite/v4.json\", \"datasets\": {\"data-867478a408218da9730da37dea7bb623\": [{\"Directors\": \"Peter Jackson\", \"Movie\": \"The Lord of the Rings: The Fellowship of the Ring\"}, {\"Directors\": \"Hironobu Sakaguchi\", \"Movie\": \"Final Fantasy: The Spirits Within\"}, {\"Directors\": \"Motonori Sakakibara\", \"Movie\": \"Final Fantasy: The Spirits Within\"}, {\"Directors\": \"Bryan Singer\", \"Movie\": \"X2: X-Men United\"}, {\"Directors\": \"Mike Newell\", \"Movie\": \"Harry Potter and the Goblet of Fire\"}, {\"Directors\": \"Paul W.S. Anderson\", \"Movie\": \"Mortal Kombat\"}, {\"Directors\": \"Terry Gilliam\", \"Movie\": \"Monty Python and the Holy Grail\"}, {\"Directors\": \"Terry Jones\", \"Movie\": \"Monty Python and the Holy Grail\"}, {\"Directors\": \"Russell Mulcahy\", \"Movie\": \"Highlander\"}, {\"Directors\": \"Mel Stuart\", \"Movie\": \"Willy Wonka & the Chocolate Factory\"}, {\"Directors\": \"Joe Pytka\", \"Movie\": \"Space Jam\"}, {\"Directors\": \"Chris Columbus\", \"Movie\": \"Harry Potter and the Sorcerer's Stone\"}, {\"Directors\": \"Andrew Adamson\", \"Movie\": \"The Chronicles of Narnia: The Lion, the Witch and the Wardrobe\"}, {\"Directors\": \"Victor Fleming\", \"Movie\": \"The Wizard of Oz\"}, {\"Directors\": \"George Cukor\", \"Movie\": \"The Wizard of Oz\"}, {\"Directors\": \"Mervyn LeRoy\", \"Movie\": \"The Wizard of Oz\"}, {\"Directors\": \"Norman Taurog\", \"Movie\": \"The Wizard of Oz\"}, {\"Directors\": \"Richard Thorpe\", \"Movie\": \"The Wizard of Oz\"}, {\"Directors\": \"King Vidor\", \"Movie\": \"The Wizard of Oz\"}, {\"Directors\": \"Wolfgang Petersen\", \"Movie\": \"The NeverEnding Story\"}, {\"Directors\": \"Trey Parker\", \"Movie\": \"South Park: Bigger, Longer & Uncut\"}, {\"Directors\": \"Ron Howard\", \"Movie\": \"Willow\"}, {\"Directors\": \"Ernst Lubitsch\", \"Movie\": \"The Doll\"}, {\"Directors\": \"R.J. Cutler\", \"Movie\": \"If I Stay\"}, {\"Directors\": \"Mamoru Hosoda\", \"Movie\": \"Wolf Children\"}, {\"Directors\": \"Joe Johnston\", \"Movie\": \"Jumanji\"}, {\"Directors\": \"Hayao Miyazaki\", \"Movie\": \"Castle in the Sky\"}, {\"Directors\": \"Jake Kasdan\", \"Movie\": \"Jumanji: Welcome to the Jungle\"}, {\"Directors\": \"Norman Z. McLeod\", \"Movie\": \"Alice in Wonderland\"}, {\"Directors\": \"Hugh Harman\", \"Movie\": \"Alice in Wonderland\"}, {\"Directors\": \"Rudolf Ising\", \"Movie\": \"Alice in Wonderland\"}, {\"Directors\": \"Anthony Russo\", \"Movie\": \"Avengers: Infinity War\"}, {\"Directors\": \"Joe Russo\", \"Movie\": \"Avengers: Infinity War\"}, {\"Directors\": \"Courtney Solomon\", \"Movie\": \"Dungeons & Dragons\"}, {\"Directors\": \"Peter Jackson\", \"Movie\": \"The Lord of the Rings: The Return of the King\"}, {\"Directors\": \"Clyde Geronimi\", \"Movie\": \"Alice in Wonderland\"}, {\"Directors\": \"Wilfred Jackson\", \"Movie\": \"Alice in Wonderland\"}, {\"Directors\": \"Hamilton Luske\", \"Movie\": \"Alice in Wonderland\"}, {\"Directors\": \"Jack Kinney\", \"Movie\": \"Alice in Wonderland\"}, {\"Directors\": \"Ken Hughes\", \"Movie\": \"Chitty Chitty Bang Bang\"}, {\"Directors\": \"Chris Columbus\", \"Movie\": \"Harry Potter and the Chamber of Secrets\"}, {\"Directors\": \"Don Chaffey\", \"Movie\": \"Pete's Dragon\"}, {\"Directors\": \"Don Bluth\", \"Movie\": \"Pete's Dragon\"}, {\"Directors\": \"Robert Zemeckis\", \"Movie\": \"Who Framed Roger Rabbit\"}, {\"Directors\": \"Danny DeVito\", \"Movie\": \"Matilda\"}, {\"Directors\": \"Robert Stevenson\", \"Movie\": \"Mary Poppins\"}, {\"Directors\": \"Peter Jackson\", \"Movie\": \"The Lord of the Rings: The Two Towers\"}, {\"Directors\": \"Tim Hill\", \"Movie\": \"Muppets from Space\"}, {\"Directors\": \"Andrew Adamson\", \"Movie\": \"Shrek\"}, {\"Directors\": \"Vicky Jenson\", \"Movie\": \"Shrek\"}, {\"Directors\": \"Nikolaj Arcel\", \"Movie\": \"The Dark Tower\"}, {\"Directors\": \"Jan Svankmajer\", \"Movie\": \"Alice\"}, {\"Directors\": \"Chris Buck\", \"Movie\": \"Frozen\"}, {\"Directors\": \"Jennifer Lee\", \"Movie\": \"Frozen\"}, {\"Directors\": \"Troy Nixey\", \"Movie\": \"Don't Be Afraid of the Dark\"}, {\"Directors\": \"Peggy Holmes\", \"Movie\": \"The Pirate Fairy\"}, {\"Directors\": \"David Yates\", \"Movie\": \"Harry Potter and the Deathly Hallows: Part 1\"}, {\"Directors\": \"Ivan Reitman\", \"Movie\": \"Ghostbusters\"}, {\"Directors\": \"Scott Derrickson\", \"Movie\": \"Doctor Strange\"}, {\"Directors\": \"Hayao Miyazaki\", \"Movie\": \"Kiki's Delivery Service\"}, {\"Directors\": \"Chris Wedge\", \"Movie\": \"Monster Trucks\"}, {\"Directors\": \"Paul Feig\", \"Movie\": \"Ghostbusters: Answer the Call\"}, {\"Directors\": \"Chuck Russell\", \"Movie\": \"The Scorpion King\"}, {\"Directors\": \"Douglas Aarniokoski\", \"Movie\": \"Highlander: Endgame\"}, {\"Directors\": \"Agnieszka Smoczynska\", \"Movie\": \"The Lure\"}, {\"Directors\": \"Roger Corman\", \"Movie\": \"The Raven\"}, {\"Directors\": \"Hayao Miyazaki\", \"Movie\": \"Howl's Moving Castle\"}, {\"Directors\": \"Mark Waters\", \"Movie\": \"Mr. Popper's Penguins\"}, {\"Directors\": \"Frank Capra\", \"Movie\": \"It's a Wonderful Life\"}, {\"Directors\": \"Lambert Hillyer\", \"Movie\": \"Dracula's Daughter\"}, {\"Directors\": \"Jay Oliva\", \"Movie\": \"Justice League: War\"}, {\"Directors\": \"Catherine Hardwicke\", \"Movie\": \"Red Riding Hood\"}, {\"Directors\": \"David Yates\", \"Movie\": \"Harry Potter and the Deathly Hallows: Part 2\"}, {\"Directors\": \"Alfonso Cuar\\u00f3n\", \"Movie\": \"Harry Potter and the Prisoner of Azkaban\"}, {\"Directors\": \"David Yates\", \"Movie\": \"Harry Potter and the Half-Blood Prince\"}, {\"Directors\": \"Stephen Sommers\", \"Movie\": \"The Mummy\"}, {\"Directors\": \"Chris McKay\", \"Movie\": \"The Lego Batman Movie\"}, {\"Directors\": \"Bryan Singer\", \"Movie\": \"Jack the Giant Slayer\"}, {\"Directors\": \"Peter Winther\", \"Movie\": \"The Librarian: Quest for the Spear\"}, {\"Directors\": \"Michael Tiddes\", \"Movie\": \"A Haunted House\"}, {\"Directors\": \"Ron Clements\", \"Movie\": \"Aladdin\"}, {\"Directors\": \"John Musker\", \"Movie\": \"Aladdin\"}, {\"Directors\": \"Jim Henson\", \"Movie\": \"Labyrinth\"}, {\"Directors\": \"Kenneth Branagh\", \"Movie\": \"Cinderella\"}, {\"Directors\": \"Andrew Adamson\", \"Movie\": \"The Chronicles of Narnia: Prince Caspian\"}, {\"Directors\": \"Graham Baker\", \"Movie\": \"Beowulf\"}, {\"Directors\": \"Fede Alvarez\", \"Movie\": \"Evil Dead\"}, {\"Directors\": \"David Ayer\", \"Movie\": \"Suicide Squad\"}, {\"Directors\": \"Barry Sonnenfeld\", \"Movie\": \"Addams Family Values\"}, {\"Directors\": \"Mike Flanagan\", \"Movie\": \"Before I Wake\"}, {\"Directors\": \"Bill Condon\", \"Movie\": \"The Twilight Saga: Breaking Dawn - Part 2\"}, {\"Directors\": \"Joe Dante\", \"Movie\": \"The Hole\"}, {\"Directors\": \"Martin Scorsese\", \"Movie\": \"Hugo\"}, {\"Directors\": \"Rodman Flender\", \"Movie\": \"Idle Hands\"}, {\"Directors\": \"William Cottrell\", \"Movie\": \"Snow White and the Seven Dwarfs\"}, {\"Directors\": \"David Hand\", \"Movie\": \"Snow White and the Seven Dwarfs\"}, {\"Directors\": \"Wilfred Jackson\", \"Movie\": \"Snow White and the Seven Dwarfs\"}, {\"Directors\": \"Larry Morey\", \"Movie\": \"Snow White and the Seven Dwarfs\"}, {\"Directors\": \"Perce Pearce\", \"Movie\": \"Snow White and the Seven Dwarfs\"}, {\"Directors\": \"Ben Sharpsteen\", \"Movie\": \"Snow White and the Seven Dwarfs\"}, {\"Directors\": \"Rob Reiner\", \"Movie\": \"The Princess Bride\"}, {\"Directors\": \"Robert Schwentke\", \"Movie\": \"The Time Traveler's Wife\"}, {\"Directors\": \"Gary Goddard\", \"Movie\": \"Masters of the Universe\"}, {\"Directors\": \"J.S. Cardone\", \"Movie\": \"Wicked Little Things\"}, {\"Directors\": \"Ivan Reitman\", \"Movie\": \"Ghostbusters II\"}, {\"Directors\": \"Ron Clements\", \"Movie\": \"The Little Mermaid\"}, {\"Directors\": \"John Musker\", \"Movie\": \"The Little Mermaid\"}, {\"Directors\": \"Tod Browning\", \"Movie\": \"Dracula\"}, {\"Directors\": \"Karl Freund\", \"Movie\": \"Dracula\"}, {\"Directors\": \"Steven Spielberg\", \"Movie\": \"Indiana Jones and the Last Crusade\"}, {\"Directors\": \"Karl Freund\", \"Movie\": \"The Mummy\"}, {\"Directors\": \"Robert Schwentke\", \"Movie\": \"R.I.P.D.\"}, {\"Directors\": \"George Lucas\", \"Movie\": \"Star Wars: Episode IV - A New Hope\"}, {\"Directors\": \"Patrick Tatopoulos\", \"Movie\": \"Underworld: Rise of the Lycans\"}, {\"Directors\": \"Walt Becker\", \"Movie\": \"Alvin and the Chipmunks: The Road Chip\"}, {\"Directors\": \"Michael Apted\", \"Movie\": \"The Chronicles of Narnia: The Voyage of the Dawn Treader\"}, {\"Directors\": \"Roberts Gannaway\", \"Movie\": \"Secret of the Wings\"}, {\"Directors\": \"Peggy Holmes\", \"Movie\": \"Secret of the Wings\"}, {\"Directors\": \"Gilberto Mart\\u00ednez Solares\", \"Movie\": \"Santo and Blue Demon vs. the Monsters\"}, {\"Directors\": \"Indar Dzhendubaev\", \"Movie\": \"I Am Dragon\"}, {\"Directors\": \"Isao Takahata\", \"Movie\": \"The Tale of The Princess Kaguya\"}, {\"Directors\": \"Len Talan\", \"Movie\": \"Hansel and Gretel\"}, {\"Directors\": \"Lloyd A. Simandl\", \"Movie\": \"Ariana's Quest\"}, {\"Directors\": \"Wes Craven\", \"Movie\": \"New Nightmare\"}, {\"Directors\": \"David Yates\", \"Movie\": \"Harry Potter and the Order of the Phoenix\"}]}}, {\"actions\": false, \"mode\": \"vega-lite\"});\n</script>",
      "text/plain": "alt.Chart(...)"
     },
     "metadata": {}
    }
   ],
   "execution_count": 108
  },
  {
   "cell_type": "code",
   "source": "",
   "metadata": {
    "tags": [],
    "cell_id": "00020-b0871fbb-14ad-45bc-9d72-6767b55e00bd",
    "deepnote_to_be_reexecuted": false,
    "source_hash": "b623e53d",
    "execution_start": 1622816384830,
    "execution_millis": 4,
    "deepnote_cell_type": "code"
   },
   "outputs": [],
   "execution_count": 106
  },
  {
   "cell_type": "code",
   "source": "# df_directors = df['Directors'].str.split(',', expand = True)\n# type(df['Stars']) -> Series\n# df_stars = df['Stars'].str.split(',', expand = True) -> ???\n\n#df_stars = df[['Stars', 'Movie']]\n#df_stars.Stars = df.Stars.str.split(', ')\n#df_stars = df_stars.explode('Stars').reset_index(drop=True)\n\n#extract all comma separated names from pandas series\n\n\ndf_stars = df[['Stars', 'Movie']]\ndf_stars.Stars = df.Stars.str.split(', ')\ndf_stars = df_stars.explode('Stars').reset_index(drop=True)\n\n# df_stars = df['Stars'].str.split(',', expand = True)\n#print(df_stars)\n\n#counter = df_stars.groupby('S').count()\n# print(counter)\n\n\n#for a in df_stars:\n#    for b in df_stars:\n#        if a != b:\n#            names.append(a)\n\n#print(names)\n\n\n        \ncounter = 0\n\n#for n in df_stars:\n#    for i in df_stars:\n#        if n == i:\n#            amount.append(n[counter =+ 1 ])\n\n\n\n#plt.title('Number of movies in top 100 / actor')\n#plt.xlabel('Actor')\n#plt.ylabel('Amount of movies')\n#plt.ticks(rotation = 90)\n            ",
   "metadata": {
    "tags": [],
    "cell_id": "00018-4ea2d6d5-f223-4a09-9283-1fdf6bdc8b10",
    "deepnote_to_be_reexecuted": false,
    "source_hash": "1021327a",
    "execution_start": 1622815367507,
    "execution_millis": 7,
    "deepnote_cell_type": "code"
   },
   "outputs": [
    {
     "name": "stderr",
     "text": "/shared-libs/python3.7/py/lib/python3.7/site-packages/pandas/core/generic.py:5494: SettingWithCopyWarning: \nA value is trying to be set on a copy of a slice from a DataFrame.\nTry using .loc[row_indexer,col_indexer] = value instead\n\nSee the caveats in the documentation: https://pandas.pydata.org/pandas-docs/stable/user_guide/indexing.html#returning-a-view-versus-a-copy\n  self[name] = value\n",
     "output_type": "stream"
    }
   ],
   "execution_count": 82
  },
  {
   "cell_type": "code",
   "source": "",
   "metadata": {
    "tags": [],
    "cell_id": "00021-0d8c513e-b458-4c9f-9a55-b571174d7780",
    "deepnote_cell_type": "code"
   },
   "outputs": [],
   "execution_count": null
  },
  {
   "cell_type": "code",
   "source": "df_stars = df[['Stars', 'Movie']]\ndf_stars.Stars = df.Stars.str.split(', ')\ndf_stars = df_stars.explode('Stars').reset_index(drop=True)\n\n#print(df_stars)\ncount = df_stars.groupby('Stars').count()\nsort = count.sort_values('Movie', ascending = False)\nprint(sort)\n\n",
   "metadata": {
    "tags": [],
    "cell_id": "00022-277d306b-7718-4bd5-933d-eb5554da893c",
    "deepnote_to_be_reexecuted": false,
    "source_hash": "60cff50c",
    "execution_start": 1622817570329,
    "execution_millis": 26,
    "deepnote_cell_type": "code"
   },
   "outputs": [
    {
     "name": "stdout",
     "text": "                     Movie\nStars                     \nRupert Grint             8\nDaniel Radcliffe         8\nEmma Watson              7\nChristopher Lambert      4\nChloë Grace Moretz       4\n...                    ...\nIsaac Hayes              1\nIdris Elba               1\nIdina Menzel             1\nHugh Pollard             1\nZoe McLellan             1\n\n[336 rows x 1 columns]\n/shared-libs/python3.7/py/lib/python3.7/site-packages/pandas/core/generic.py:5494: SettingWithCopyWarning: \nA value is trying to be set on a copy of a slice from a DataFrame.\nTry using .loc[row_indexer,col_indexer] = value instead\n\nSee the caveats in the documentation: https://pandas.pydata.org/pandas-docs/stable/user_guide/indexing.html#returning-a-view-versus-a-copy\n  self[name] = value\n",
     "output_type": "stream"
    }
   ],
   "execution_count": 157
  },
  {
   "cell_type": "code",
   "source": "sort[0:10].plot.bar()",
   "metadata": {
    "tags": [],
    "cell_id": "00025-bc24a389-4be5-4b36-b17c-bd4ba42ffa9e",
    "deepnote_to_be_reexecuted": false,
    "source_hash": "4b240ad0",
    "execution_start": 1622817632341,
    "execution_millis": 275,
    "deepnote_cell_type": "code"
   },
   "outputs": [
    {
     "output_type": "execute_result",
     "execution_count": 159,
     "data": {
      "text/plain": "<AxesSubplot:xlabel='Stars'>"
     },
     "metadata": {}
    },
    {
     "data": {
      "text/plain": "<Figure size 432x288 with 1 Axes>",
      "image/png": "[encoded data removed]"
     },
     "metadata": {
      "needs_background": "light",
      "image/png": {
       "width": 362,
       "height": 355
      }
     },
     "output_type": "display_data"
    }
   ],
   "execution_count": 159
  },
  {
   "cell_type": "code",
   "source": "plt.title('Number of movies in top 100 / actor')\nplt.xlabel('Actor')\nplt.ylabel('Amount of movies')\nplt.xticks(rotation = 90)\n\ntype(df_stars)\nallnumbers = sort.values.tolist()\n\n# type(sort['Stars'])\n#type(count)\n# plt.plot(sort['Stars'], sort['Movies'])\nplt.bar[sort['Stars'],allnumbers]",
   "metadata": {
    "tags": [],
    "cell_id": "00025-de367636-758f-4775-9144-35d8b1196e41",
    "deepnote_cell_type": "code"
   },
   "outputs": [],
   "execution_count": null
  },
  {
   "cell_type": "code",
   "source": "print(sort)",
   "metadata": {
    "tags": [],
    "cell_id": "00023-881918bb-7607-4c10-8fa8-c10fda531cfd",
    "deepnote_to_be_reexecuted": false,
    "source_hash": "18e64757",
    "execution_start": 1622816869785,
    "execution_millis": 11,
    "deepnote_cell_type": "code"
   },
   "outputs": [
    {
     "name": "stdout",
     "text": "                     Movie\nStars                     \nRupert Grint             8\nDaniel Radcliffe         8\nEmma Watson              7\nChristopher Lambert      4\nChloë Grace Moretz       4\n...                    ...\nIsaac Hayes              1\nIdris Elba               1\nIdina Menzel             1\nHugh Pollard             1\nZoe McLellan             1\n\n[336 rows x 1 columns]\n",
     "output_type": "stream"
    }
   ],
   "execution_count": 133
  },
  {
   "cell_type": "code",
   "source": "sort.type",
   "metadata": {
    "tags": [],
    "cell_id": "00025-7b7e7b99-50ed-471e-94b9-9390aa68c7a8",
    "deepnote_cell_type": "code"
   },
   "outputs": [],
   "execution_count": null
  },
  {
   "cell_type": "markdown",
   "source": "<a style='text-decoration:none;line-height:16px;display:flex;color:#5B5B62;padding:10px;justify-content:end;' href='https://deepnote.com?utm_source=created-in-deepnote-cell&projectId=67a060c6-2ca9-43eb-ab8a-e0db5e43f744' target=\"_blank\">\n<img alt='Created in deepnote.com' style='display:inline;max-height:16px;margin:0px;margin-right:7.5px;' src='data:image/svg+xml;base64,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' > </img>\nCreated in <span style='font-weight:600;margin-left:4px;'>Deepnote</span></a>",
   "metadata": {
    "tags": [],
    "created_in_deepnote_cell": true,
    "deepnote_cell_type": "markdown"
   }
  }
 ],
 "nbformat": 4,
 "nbformat_minor": 2,
 "metadata": {
  "orig_nbformat": 2,
  "deepnote": {
   "is_reactive": false
  },
  "deepnote_notebook_id": "2a48e542-f5a6-47f2-96b1-ab2a12c985c9",
  "deepnote_execution_queue": []
 }
}