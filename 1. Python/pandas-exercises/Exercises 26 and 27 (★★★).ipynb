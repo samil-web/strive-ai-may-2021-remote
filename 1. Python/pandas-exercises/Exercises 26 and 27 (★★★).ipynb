{
 "cells": [
  {
   "cell_type": "code",
   "execution_count": 4,
   "id": "comic-license",
   "metadata": {},
   "outputs": [],
   "source": [
    "# import the needed libraries and datasets\n",
    "import pandas as pd \n",
    "import numpy as np"
   ]
  },
  {
   "cell_type": "markdown",
   "id": "after-lithuania",
   "metadata": {},
   "source": [
    "**26.** You have a DataFrame that consists of 10 columns of floating--point numbers. Suppose that exactly 5 entries in each row are NaN values. For each row of the DataFrame, find the *column* which contains the *third* NaN value.\n",
    "\n",
    "(You should return a Series of column labels. Try not to use `.iterrows()`)"
   ]
  },
  {
   "cell_type": "code",
   "execution_count": 5,
   "id": "supported-bicycle",
   "metadata": {},
   "outputs": [],
   "source": [
    "data = {\n",
    "1:[np.nan,2,np.nan,4,5],\n",
    "2:[np.nan,2,3,np.nan,5],\n",
    "3:[np.nan,2,np.nan,4,5],\n",
    "4:[1,np.nan,3,np.nan,np.nan],\n",
    "5:[1,2,np.nan,4,5],\n",
    "6:[1,np.nan,3,np.nan,np.nan],\n",
    "7:[1,2,3,4,5],\n",
    "8:[1,np.nan,3,np.nan,np.nan],\n",
    "9:[1,2,3,4,np.nan],\n",
    "10:[1,np.nan,3,4,5]}"
   ]
  },
  {
   "cell_type": "code",
   "execution_count": 7,
   "id": "asian-thought",
   "metadata": {},
   "outputs": [
    {
     "output_type": "stream",
     "name": "stdout",
     "text": [
      "Original dataframe:\n     1    2    3    4    5    6   7    8    9    10\n0  NaN  NaN  NaN  1.0  1.0  1.0   1  1.0  1.0  1.0\n1  2.0  2.0  2.0  NaN  2.0  NaN   2  NaN  2.0  NaN\n2  NaN  3.0  NaN  3.0  NaN  3.0   3  3.0  3.0  3.0\n3  4.0  NaN  4.0  NaN  4.0  NaN   4  NaN  4.0  4.0\n4  5.0  5.0  5.0  NaN  5.0  NaN   5  NaN  NaN  5.0\n\nCumsum for True values:\n    1   2   3   4   5   6   7   8   9   10\n0   1   2   3   3   3   3   3   3   3   3\n1   0   0   0   1   1   2   2   3   3   4\n2   1   1   2   2   3   3   3   3   3   3\n3   0   1   1   2   2   3   3   4   4   4\n4   0   0   0   1   1   2   2   3   4   4\n\nIndices: \n 0    3\n1    8\n2    5\n3    6\n4    8\ndtype: int64\n"
     ]
    }
   ],
   "source": [
    "df = pd.DataFrame(data)\n",
    "print(\"Original dataframe:\\n\", df)\n",
    "\n",
    "mod_df = df.isnull()\n",
    "mod_df = mod_df.cumsum(axis=1)\n",
    "print(\"\\nCumsum for True values:\\n\", mod_df)\n",
    "mod_df = (mod_df == 3).idxmax(axis = 1)\n",
    "\n",
    "print(\"\\nIndices: \\n\", mod_df)"
   ]
  },
  {
   "cell_type": "markdown",
   "id": "severe-count",
   "metadata": {},
   "source": [
    "**27.** A DataFrame has a column of groups 'grps' and and column of numbers 'vals'. For example: \n",
    "\n",
    "```python\n",
    "df = pd.DataFrame({'grps': list('aaabbcaabcccbbc'), \n",
    "                   'vals': [12,345,3,1,45,14,4,52,54,23,235,21,57,3,87]})\n",
    "```\n",
    "For each *group*, find the sum of the three greatest values."
   ]
  },
  {
   "cell_type": "code",
   "execution_count": 8,
   "id": "czech-superior",
   "metadata": {},
   "outputs": [
    {
     "output_type": "execute_result",
     "data": {
      "text/plain": [
       "grps\n",
       "a    409\n",
       "b    156\n",
       "c    345\n",
       "Name: vals, dtype: int64"
      ]
     },
     "metadata": {},
     "execution_count": 8
    }
   ],
   "source": [
    "df = pd.DataFrame({'grps': list('aaabbcaabcccbbc'), \n",
    "                   'vals': [12,345,3,1,45,14,4,52,54,23,235,21,57,3,87]})\n",
    "\n",
    "df.groupby('grps')['vals'].nlargest(3).sum(level=0)"
   ]
  },
  {
   "cell_type": "code",
   "execution_count": null,
   "metadata": {},
   "outputs": [],
   "source": []
  }
 ],
 "metadata": {
  "kernelspec": {
   "name": "strivenv",
   "display_name": "strivenv",
   "language": "python"
  },
  "language_info": {
   "codemirror_mode": {
    "name": "ipython",
    "version": 3
   },
   "file_extension": ".py",
   "mimetype": "text/x-python",
   "name": "python",
   "nbconvert_exporter": "python",
   "pygments_lexer": "ipython3",
   "version": "3.8.10"
  },
  "metadata": {
   "interpreter": {
    "hash": "f6994aa55bc61d72601f55547868387060de7218ca98c8d71f30c3582803c8c9"
   }
  }
 },
 "nbformat": 4,
 "nbformat_minor": 5
}