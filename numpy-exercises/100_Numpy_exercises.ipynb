{
 "cells": [
  {
   "cell_type": "markdown",
   "metadata": {},
   "source": [
    "# 100 numpy exercises\n",
    "\n",
    "This is a collection of exercises that have been collected in the numpy mailing list, on stack overflow and in the numpy documentation. The goal of this collection is to offer a quick reference for both old and new users but also to provide a set of exercises for those who teach.\n",
    "\n",
    "\n",
    "If you find an error or think you've a better way to solve some of them, feel free to open an issue at <https://github.com/rougier/numpy-100>"
   ]
  },
  {
   "cell_type": "markdown",
   "metadata": {},
   "source": [
    "#### 1. Import the numpy package under the name `np` (★☆☆)"
   ]
  },
  {
   "cell_type": "code",
   "execution_count": 1,
   "metadata": {
    "collapsed": true
   },
   "outputs": [],
   "source": [
    "import numpy as np"
   ]
  },
  {
   "cell_type": "markdown",
   "metadata": {},
   "source": [
    "#### 2. Print the numpy version and the configuration (★☆☆)"
   ]
  },
  {
   "cell_type": "code",
   "execution_count": 5,
   "metadata": {},
   "outputs": [
    {
     "output_type": "execute_result",
     "data": {
      "text/plain": [
       "'1.20.2'"
      ]
     },
     "metadata": {},
     "execution_count": 5
    }
   ],
   "source": [
    "np.__version__"
   ]
  },
  {
   "cell_type": "markdown",
   "metadata": {},
   "source": [
    "#### 3. Create a null vector of size 10 (★☆☆)"
   ]
  },
  {
   "cell_type": "code",
   "execution_count": 44,
   "metadata": {
    "tags": []
   },
   "outputs": [
    {
     "output_type": "execute_result",
     "data": {
      "text/plain": [
       "array([0., 0., 0., 0., 0., 0., 0., 0., 0., 0.])"
      ]
     },
     "metadata": {},
     "execution_count": 44
    }
   ],
   "source": [
    "np.zeros(10)"
   ]
  },
  {
   "cell_type": "markdown",
   "metadata": {},
   "source": [
    "#### 4.  How to find the memory size of any array (★☆☆)"
   ]
  },
  {
   "cell_type": "code",
   "execution_count": 45,
   "metadata": {},
   "outputs": [
    {
     "output_type": "execute_result",
     "data": {
      "text/plain": [
       "80"
      ]
     },
     "metadata": {},
     "execution_count": 45
    }
   ],
   "source": [
    "my_array = np.zeros((10))\n",
    "memory = np.size(my_array)*my_array.itemsize\n",
    "memory"
   ]
  },
  {
   "cell_type": "markdown",
   "metadata": {},
   "source": [
    "#### 5.  How to get the documentation of the numpy add function from the command line? (★☆☆)"
   ]
  },
  {
   "cell_type": "markdown",
   "metadata": {},
   "source": [
    "#### 6.  Create a null vector of size 10 but the fifth value which is 1 (★☆☆)"
   ]
  },
  {
   "cell_type": "code",
   "execution_count": 41,
   "metadata": {
    "collapsed": true,
    "tags": [
     "outputPrepend"
    ]
   },
   "outputs": [
    {
     "output_type": "stream",
     "name": "stdout",
     "text": [
      "ay to act on.\n |      axis : int, optional\n |          The axis along which to apply the accumulation; default is zero.\n |      dtype : data-type code, optional\n |          The data-type used to represent the intermediate results. Defaults\n |          to the data-type of the output array if such is provided, or the\n |          the data-type of the input array if no output array is provided.\n |      out : ndarray, None, or tuple of ndarray and None, optional\n |          A location into which the result is stored. If not provided or None,\n |          a freshly-allocated array is returned. For consistency with\n |          ``ufunc.__call__``, if given as a keyword, this may be wrapped in a\n |          1-element tuple.\n |      \n |          .. versionchanged:: 1.13.0\n |             Tuples are allowed for keyword argument.\n |      \n |      Returns\n |      -------\n |      r : ndarray\n |          The accumulated values. If `out` was supplied, `r` is a reference to\n |          `out`.\n |      \n |      Examples\n |      --------\n |      1-D array examples:\n |      \n |      >>> np.add.accumulate([2, 3, 5])\n |      array([ 2,  5, 10])\n |      >>> np.multiply.accumulate([2, 3, 5])\n |      array([ 2,  6, 30])\n |      \n |      2-D array examples:\n |      \n |      >>> I = np.eye(2)\n |      >>> I\n |      array([[1.,  0.],\n |             [0.,  1.]])\n |      \n |      Accumulate along axis 0 (rows), down columns:\n |      \n |      >>> np.add.accumulate(I, 0)\n |      array([[1.,  0.],\n |             [1.,  1.]])\n |      >>> np.add.accumulate(I) # no axis specified = axis zero\n |      array([[1.,  0.],\n |             [1.,  1.]])\n |      \n |      Accumulate along axis 1 (columns), through rows:\n |      \n |      >>> np.add.accumulate(I, 1)\n |      array([[1.,  1.],\n |             [0.,  1.]])\n |  \n |  at(...)\n |      at(a, indices, b=None, /)\n |      \n |      Performs unbuffered in place operation on operand 'a' for elements\n |      specified by 'indices'. For addition ufunc, this method is equivalent to\n |      ``a[indices] += b``, except that results are accumulated for elements that\n |      are indexed more than once. For example, ``a[[0,0]] += 1`` will only\n |      increment the first element once because of buffering, whereas\n |      ``add.at(a, [0,0], 1)`` will increment the first element twice.\n |      \n |      .. versionadded:: 1.8.0\n |      \n |      Parameters\n |      ----------\n |      a : array_like\n |          The array to perform in place operation on.\n |      indices : array_like or tuple\n |          Array like index object or slice object for indexing into first\n |          operand. If first operand has multiple dimensions, indices can be a\n |          tuple of array like index objects or slice objects.\n |      b : array_like\n |          Second operand for ufuncs requiring two operands. Operand must be\n |          broadcastable over first operand after indexing or slicing.\n |      \n |      Examples\n |      --------\n |      Set items 0 and 1 to their negative values:\n |      \n |      >>> a = np.array([1, 2, 3, 4])\n |      >>> np.negative.at(a, [0, 1])\n |      >>> a\n |      array([-1, -2,  3,  4])\n |      \n |      Increment items 0 and 1, and increment item 2 twice:\n |      \n |      >>> a = np.array([1, 2, 3, 4])\n |      >>> np.add.at(a, [0, 1, 2, 2], 1)\n |      >>> a\n |      array([2, 3, 5, 4])\n |      \n |      Add items 0 and 1 in first array to second array,\n |      and store results in first array:\n |      \n |      >>> a = np.array([1, 2, 3, 4])\n |      >>> b = np.array([1, 2])\n |      >>> np.add.at(a, [0, 1], b)\n |      >>> a\n |      array([2, 4, 3, 4])\n |  \n |  outer(...)\n |      outer(A, B, /, **kwargs)\n |      \n |      Apply the ufunc `op` to all pairs (a, b) with a in `A` and b in `B`.\n |      \n |      Let ``M = A.ndim``, ``N = B.ndim``. Then the result, `C`, of\n |      ``op.outer(A, B)`` is an array of dimension M + N such that:\n |      \n |      .. math:: C[i_0, ..., i_{M-1}, j_0, ..., j_{N-1}] =\n |         op(A[i_0, ..., i_{M-1}], B[j_0, ..., j_{N-1}])\n |      \n |      For `A` and `B` one-dimensional, this is equivalent to::\n |      \n |        r = empty(len(A),len(B))\n |        for i in range(len(A)):\n |            for j in range(len(B)):\n |                r[i,j] = op(A[i], B[j]) # op = ufunc in question\n |      \n |      Parameters\n |      ----------\n |      A : array_like\n |          First array\n |      B : array_like\n |          Second array\n |      kwargs : any\n |          Arguments to pass on to the ufunc. Typically `dtype` or `out`.\n |      \n |      Returns\n |      -------\n |      r : ndarray\n |          Output array\n |      \n |      See Also\n |      --------\n |      numpy.outer : A less powerful version of ``np.multiply.outer``\n |                    that `ravel`\\ s all inputs to 1D. This exists\n |                    primarily for compatibility with old code.\n |      \n |      tensordot : ``np.tensordot(a, b, axes=((), ()))`` and\n |                  ``np.multiply.outer(a, b)`` behave same for all\n |                  dimensions of a and b.\n |      \n |      Examples\n |      --------\n |      >>> np.multiply.outer([1, 2, 3], [4, 5, 6])\n |      array([[ 4,  5,  6],\n |             [ 8, 10, 12],\n |             [12, 15, 18]])\n |      \n |      A multi-dimensional example:\n |      \n |      >>> A = np.array([[1, 2, 3], [4, 5, 6]])\n |      >>> A.shape\n |      (2, 3)\n |      >>> B = np.array([[1, 2, 3, 4]])\n |      >>> B.shape\n |      (1, 4)\n |      >>> C = np.multiply.outer(A, B)\n |      >>> C.shape; C\n |      (2, 3, 1, 4)\n |      array([[[[ 1,  2,  3,  4]],\n |              [[ 2,  4,  6,  8]],\n |              [[ 3,  6,  9, 12]]],\n |             [[[ 4,  8, 12, 16]],\n |              [[ 5, 10, 15, 20]],\n |              [[ 6, 12, 18, 24]]]])\n |  \n |  reduce(...)\n |      reduce(array, axis=0, dtype=None, out=None, keepdims=False, initial=<no value>, where=True)\n |      \n |      Reduces `array`'s dimension by one, by applying ufunc along one axis.\n |      \n |      Let :math:`array.shape = (N_0, ..., N_i, ..., N_{M-1})`.  Then\n |      :math:`ufunc.reduce(array, axis=i)[k_0, ..,k_{i-1}, k_{i+1}, .., k_{M-1}]` =\n |      the result of iterating `j` over :math:`range(N_i)`, cumulatively applying\n |      ufunc to each :math:`array[k_0, ..,k_{i-1}, j, k_{i+1}, .., k_{M-1}]`.\n |      For a one-dimensional array, reduce produces results equivalent to:\n |      ::\n |      \n |       r = op.identity # op = ufunc\n |       for i in range(len(A)):\n |         r = op(r, A[i])\n |       return r\n |      \n |      For example, add.reduce() is equivalent to sum().\n |      \n |      Parameters\n |      ----------\n |      array : array_like\n |          The array to act on.\n |      axis : None or int or tuple of ints, optional\n |          Axis or axes along which a reduction is performed.\n |          The default (`axis` = 0) is perform a reduction over the first\n |          dimension of the input array. `axis` may be negative, in\n |          which case it counts from the last to the first axis.\n |      \n |          .. versionadded:: 1.7.0\n |      \n |          If this is None, a reduction is performed over all the axes.\n |          If this is a tuple of ints, a reduction is performed on multiple\n |          axes, instead of a single axis or all the axes as before.\n |      \n |          For operations which are either not commutative or not associative,\n |          doing a reduction over multiple axes is not well-defined. The\n |          ufuncs do not currently raise an exception in this case, but will\n |          likely do so in the future.\n |      dtype : data-type code, optional\n |          The type used to represent the intermediate results. Defaults\n |          to the data-type of the output array if this is provided, or\n |          the data-type of the input array if no output array is provided.\n |      out : ndarray, None, or tuple of ndarray and None, optional\n |          A location into which the result is stored. If not provided or None,\n |          a freshly-allocated array is returned. For consistency with\n |          ``ufunc.__call__``, if given as a keyword, this may be wrapped in a\n |          1-element tuple.\n |      \n |          .. versionchanged:: 1.13.0\n |             Tuples are allowed for keyword argument.\n |      keepdims : bool, optional\n |          If this is set to True, the axes which are reduced are left\n |          in the result as dimensions with size one. With this option,\n |          the result will broadcast correctly against the original `array`.\n |      \n |          .. versionadded:: 1.7.0\n |      initial : scalar, optional\n |          The value with which to start the reduction.\n |          If the ufunc has no identity or the dtype is object, this defaults\n |          to None - otherwise it defaults to ufunc.identity.\n |          If ``None`` is given, the first element of the reduction is used,\n |          and an error is thrown if the reduction is empty.\n |      \n |          .. versionadded:: 1.15.0\n |      \n |      where : array_like of bool, optional\n |          A boolean array which is broadcasted to match the dimensions\n |          of `array`, and selects elements to include in the reduction. Note\n |          that for ufuncs like ``minimum`` that do not have an identity\n |          defined, one has to pass in also ``initial``.\n |      \n |          .. versionadded:: 1.17.0\n |      \n |      Returns\n |      -------\n |      r : ndarray\n |          The reduced array. If `out` was supplied, `r` is a reference to it.\n |      \n |      Examples\n |      --------\n |      >>> np.multiply.reduce([2,3,5])\n |      30\n |      \n |      A multi-dimensional array example:\n |      \n |      >>> X = np.arange(8).reshape((2,2,2))\n |      >>> X\n |      array([[[0, 1],\n |              [2, 3]],\n |             [[4, 5],\n |              [6, 7]]])\n |      >>> np.add.reduce(X, 0)\n |      array([[ 4,  6],\n |             [ 8, 10]])\n |      >>> np.add.reduce(X) # confirm: default axis value is 0\n |      array([[ 4,  6],\n |             [ 8, 10]])\n |      >>> np.add.reduce(X, 1)\n |      array([[ 2,  4],\n |             [10, 12]])\n |      >>> np.add.reduce(X, 2)\n |      array([[ 1,  5],\n |             [ 9, 13]])\n |      \n |      You can use the ``initial`` keyword argument to initialize the reduction\n |      with a different value, and ``where`` to select specific elements to include:\n |      \n |      >>> np.add.reduce([10], initial=5)\n |      15\n |      >>> np.add.reduce(np.ones((2, 2, 2)), axis=(0, 2), initial=10)\n |      array([14., 14.])\n |      >>> a = np.array([10., np.nan, 10])\n |      >>> np.add.reduce(a, where=~np.isnan(a))\n |      20.0\n |      \n |      Allows reductions of empty arrays where they would normally fail, i.e.\n |      for ufuncs without an identity.\n |      \n |      >>> np.minimum.reduce([], initial=np.inf)\n |      inf\n |      >>> np.minimum.reduce([[1., 2.], [3., 4.]], initial=10., where=[True, False])\n |      array([ 1., 10.])\n |      >>> np.minimum.reduce([])\n |      Traceback (most recent call last):\n |          ...\n |      ValueError: zero-size array to reduction operation minimum which has no identity\n |  \n |  reduceat(...)\n |      reduceat(array, indices, axis=0, dtype=None, out=None)\n |      \n |      Performs a (local) reduce with specified slices over a single axis.\n |      \n |      For i in ``range(len(indices))``, `reduceat` computes\n |      ``ufunc.reduce(array[indices[i]:indices[i+1]])``, which becomes the i-th\n |      generalized \"row\" parallel to `axis` in the final result (i.e., in a\n |      2-D array, for example, if `axis = 0`, it becomes the i-th row, but if\n |      `axis = 1`, it becomes the i-th column).  There are three exceptions to this:\n |      \n |      * when ``i = len(indices) - 1`` (so for the last index),\n |        ``indices[i+1] = array.shape[axis]``.\n |      * if ``indices[i] >= indices[i + 1]``, the i-th generalized \"row\" is\n |        simply ``array[indices[i]]``.\n |      * if ``indices[i] >= len(array)`` or ``indices[i] < 0``, an error is raised.\n |      \n |      The shape of the output depends on the size of `indices`, and may be\n |      larger than `array` (this happens if ``len(indices) > array.shape[axis]``).\n |      \n |      Parameters\n |      ----------\n |      array : array_like\n |          The array to act on.\n |      indices : array_like\n |          Paired indices, comma separated (not colon), specifying slices to\n |          reduce.\n |      axis : int, optional\n |          The axis along which to apply the reduceat.\n |      dtype : data-type code, optional\n |          The type used to represent the intermediate results. Defaults\n |          to the data type of the output array if this is provided, or\n |          the data type of the input array if no output array is provided.\n |      out : ndarray, None, or tuple of ndarray and None, optional\n |          A location into which the result is stored. If not provided or None,\n |          a freshly-allocated array is returned. For consistency with\n |          ``ufunc.__call__``, if given as a keyword, this may be wrapped in a\n |          1-element tuple.\n |      \n |          .. versionchanged:: 1.13.0\n |             Tuples are allowed for keyword argument.\n |      \n |      Returns\n |      -------\n |      r : ndarray\n |          The reduced values. If `out` was supplied, `r` is a reference to\n |          `out`.\n |      \n |      Notes\n |      -----\n |      A descriptive example:\n |      \n |      If `array` is 1-D, the function `ufunc.accumulate(array)` is the same as\n |      ``ufunc.reduceat(array, indices)[::2]`` where `indices` is\n |      ``range(len(array) - 1)`` with a zero placed\n |      in every other element:\n |      ``indices = zeros(2 * len(array) - 1)``,\n |      ``indices[1::2] = range(1, len(array))``.\n |      \n |      Don't be fooled by this attribute's name: `reduceat(array)` is not\n |      necessarily smaller than `array`.\n |      \n |      Examples\n |      --------\n |      To take the running sum of four successive values:\n |      \n |      >>> np.add.reduceat(np.arange(8),[0,4, 1,5, 2,6, 3,7])[::2]\n |      array([ 6, 10, 14, 18])\n |      \n |      A 2-D example:\n |      \n |      >>> x = np.linspace(0, 15, 16).reshape(4,4)\n |      >>> x\n |      array([[ 0.,   1.,   2.,   3.],\n |             [ 4.,   5.,   6.,   7.],\n |             [ 8.,   9.,  10.,  11.],\n |             [12.,  13.,  14.,  15.]])\n |      \n |      ::\n |      \n |       # reduce such that the result has the following five rows:\n |       # [row1 + row2 + row3]\n |       # [row4]\n |       # [row2]\n |       # [row3]\n |       # [row1 + row2 + row3 + row4]\n |      \n |      >>> np.add.reduceat(x, [0, 3, 1, 2, 0])\n |      array([[12.,  15.,  18.,  21.],\n |             [12.,  13.,  14.,  15.],\n |             [ 4.,   5.,   6.,   7.],\n |             [ 8.,   9.,  10.,  11.],\n |             [24.,  28.,  32.,  36.]])\n |      \n |      ::\n |      \n |       # reduce such that result has the following two columns:\n |       # [col1 * col2 * col3, col4]\n |      \n |      >>> np.multiply.reduceat(x, [0, 3], 1)\n |      array([[   0.,     3.],\n |             [ 120.,     7.],\n |             [ 720.,    11.],\n |             [2184.,    15.]])\n |  \n |  ----------------------------------------------------------------------\n |  Data descriptors defined here:\n |  \n |  identity\n |      The identity value.\n |      \n |      Data attribute containing the identity element for the ufunc, if it has one.\n |      If it does not, the attribute value is None.\n |      \n |      Examples\n |      --------\n |      >>> np.add.identity\n |      0\n |      >>> np.multiply.identity\n |      1\n |      >>> np.power.identity\n |      1\n |      >>> print(np.exp.identity)\n |      None\n |  \n |  nargs\n |      The number of arguments.\n |      \n |      Data attribute containing the number of arguments the ufunc takes, including\n |      optional ones.\n |      \n |      Notes\n |      -----\n |      Typically this value will be one more than what you might expect because all\n |      ufuncs take  the optional \"out\" argument.\n |      \n |      Examples\n |      --------\n |      >>> np.add.nargs\n |      3\n |      >>> np.multiply.nargs\n |      3\n |      >>> np.power.nargs\n |      3\n |      >>> np.exp.nargs\n |      2\n |  \n |  nin\n |      The number of inputs.\n |      \n |      Data attribute containing the number of arguments the ufunc treats as input.\n |      \n |      Examples\n |      --------\n |      >>> np.add.nin\n |      2\n |      >>> np.multiply.nin\n |      2\n |      >>> np.power.nin\n |      2\n |      >>> np.exp.nin\n |      1\n |  \n |  nout\n |      The number of outputs.\n |      \n |      Data attribute containing the number of arguments the ufunc treats as output.\n |      \n |      Notes\n |      -----\n |      Since all ufuncs can take output arguments, this will always be (at least) 1.\n |      \n |      Examples\n |      --------\n |      >>> np.add.nout\n |      1\n |      >>> np.multiply.nout\n |      1\n |      >>> np.power.nout\n |      1\n |      >>> np.exp.nout\n |      1\n |  \n |  ntypes\n |      The number of types.\n |      \n |      The number of numerical NumPy types - of which there are 18 total - on which\n |      the ufunc can operate.\n |      \n |      See Also\n |      --------\n |      numpy.ufunc.types\n |      \n |      Examples\n |      --------\n |      >>> np.add.ntypes\n |      18\n |      >>> np.multiply.ntypes\n |      18\n |      >>> np.power.ntypes\n |      17\n |      >>> np.exp.ntypes\n |      7\n |      >>> np.remainder.ntypes\n |      14\n |  \n |  signature\n |      Definition of the core elements a generalized ufunc operates on.\n |      \n |      The signature determines how the dimensions of each input/output array\n |      are split into core and loop dimensions:\n |      \n |      1. Each dimension in the signature is matched to a dimension of the\n |         corresponding passed-in array, starting from the end of the shape tuple.\n |      2. Core dimensions assigned to the same label in the signature must have\n |         exactly matching sizes, no broadcasting is performed.\n |      3. The core dimensions are removed from all inputs and the remaining\n |         dimensions are broadcast together, defining the loop dimensions.\n |      \n |      Notes\n |      -----\n |      Generalized ufuncs are used internally in many linalg functions, and in\n |      the testing suite; the examples below are taken from these.\n |      For ufuncs that operate on scalars, the signature is None, which is\n |      equivalent to '()' for every argument.\n |      \n |      Examples\n |      --------\n |      >>> np.core.umath_tests.matrix_multiply.signature\n |      '(m,n),(n,p)->(m,p)'\n |      >>> np.linalg._umath_linalg.det.signature\n |      '(m,m)->()'\n |      >>> np.add.signature is None\n |      True  # equivalent to '(),()->()'\n |  \n |  types\n |      Returns a list with types grouped input->output.\n |      \n |      Data attribute listing the data-type \"Domain-Range\" groupings the ufunc can\n |      deliver. The data-types are given using the character codes.\n |      \n |      See Also\n |      --------\n |      numpy.ufunc.ntypes\n |      \n |      Examples\n |      --------\n |      >>> np.add.types\n |      ['??->?', 'bb->b', 'BB->B', 'hh->h', 'HH->H', 'ii->i', 'II->I', 'll->l',\n |      'LL->L', 'qq->q', 'QQ->Q', 'ff->f', 'dd->d', 'gg->g', 'FF->F', 'DD->D',\n |      'GG->G', 'OO->O']\n |      \n |      >>> np.multiply.types\n |      ['??->?', 'bb->b', 'BB->B', 'hh->h', 'HH->H', 'ii->i', 'II->I', 'll->l',\n |      'LL->L', 'qq->q', 'QQ->Q', 'ff->f', 'dd->d', 'gg->g', 'FF->F', 'DD->D',\n |      'GG->G', 'OO->O']\n |      \n |      >>> np.power.types\n |      ['bb->b', 'BB->B', 'hh->h', 'HH->H', 'ii->i', 'II->I', 'll->l', 'LL->L',\n |      'qq->q', 'QQ->Q', 'ff->f', 'dd->d', 'gg->g', 'FF->F', 'DD->D', 'GG->G',\n |      'OO->O']\n |      \n |      >>> np.exp.types\n |      ['f->f', 'd->d', 'g->g', 'F->F', 'D->D', 'G->G', 'O->O']\n |      \n |      >>> np.remainder.types\n |      ['bb->b', 'BB->B', 'hh->h', 'HH->H', 'ii->i', 'II->I', 'll->l', 'LL->L',\n |      'qq->q', 'QQ->Q', 'ff->f', 'dd->d', 'gg->g', 'OO->O']\n\n"
     ]
    }
   ],
   "source": [
    "help(np.add)"
   ]
  },
  {
   "cell_type": "code",
   "execution_count": 43,
   "metadata": {},
   "outputs": [
    {
     "output_type": "execute_result",
     "data": {
      "text/plain": [
       "array([0., 0., 0., 0., 5., 0., 0., 0., 0., 0.])"
      ]
     },
     "metadata": {},
     "execution_count": 43
    }
   ],
   "source": [
    "my_array = np.zeros((10))\n",
    "my_array[4] = 5\n",
    "my_array"
   ]
  },
  {
   "cell_type": "markdown",
   "metadata": {},
   "source": [
    "#### 7.  Create a vector with values ranging from 10 to 49 (★☆☆)"
   ]
  },
  {
   "cell_type": "code",
   "execution_count": 47,
   "metadata": {},
   "outputs": [
    {
     "output_type": "execute_result",
     "data": {
      "text/plain": [
       "array([10, 11, 12, 13, 14, 15, 16, 17, 18, 19, 20, 21, 22, 23, 24, 25, 26,\n",
       "       27, 28, 29, 30, 31, 32, 33, 34, 35, 36, 37, 38, 39, 40, 41, 42, 43,\n",
       "       44, 45, 46, 47, 48, 49])"
      ]
     },
     "metadata": {},
     "execution_count": 47
    }
   ],
   "source": [
    "np.arange(10,50)"
   ]
  },
  {
   "cell_type": "markdown",
   "metadata": {},
   "source": [
    "#### 8.  Reverse a vector (first element becomes last) (★☆☆)"
   ]
  },
  {
   "cell_type": "code",
   "execution_count": 54,
   "metadata": {
    "tags": []
   },
   "outputs": [
    {
     "output_type": "execute_result",
     "data": {
      "text/plain": [
       "array([9, 8, 7, 6, 5, 4, 3, 2, 1, 0])"
      ]
     },
     "metadata": {},
     "execution_count": 54
    }
   ],
   "source": [
    "my_vector = np.arange(10)\n",
    "reversed_vector = my_vector[::-1]\n",
    "reversed_vector"
   ]
  },
  {
   "cell_type": "markdown",
   "metadata": {},
   "source": [
    "#### 9.  Create a 3x3 matrix with values ranging from 0 to 8 (★☆☆)"
   ]
  },
  {
   "cell_type": "code",
   "execution_count": 55,
   "metadata": {},
   "outputs": [
    {
     "output_type": "stream",
     "name": "stdout",
     "text": [
      "Help on built-in function arange in module numpy:\n\narange(...)\n    arange([start,] stop[, step,], dtype=None, *, like=None)\n    \n    Return evenly spaced values within a given interval.\n    \n    Values are generated within the half-open interval ``[start, stop)``\n    (in other words, the interval including `start` but excluding `stop`).\n    For integer arguments the function is equivalent to the Python built-in\n    `range` function, but returns an ndarray rather than a list.\n    \n    When using a non-integer step, such as 0.1, the results will often not\n    be consistent.  It is better to use `numpy.linspace` for these cases.\n    \n    Parameters\n    ----------\n    start : integer or real, optional\n        Start of interval.  The interval includes this value.  The default\n        start value is 0.\n    stop : integer or real\n        End of interval.  The interval does not include this value, except\n        in some cases where `step` is not an integer and floating point\n        round-off affects the length of `out`.\n    step : integer or real, optional\n        Spacing between values.  For any output `out`, this is the distance\n        between two adjacent values, ``out[i+1] - out[i]``.  The default\n        step size is 1.  If `step` is specified as a position argument,\n        `start` must also be given.\n    dtype : dtype\n        The type of the output array.  If `dtype` is not given, infer the data\n        type from the other input arguments.\n    like : array_like\n        Reference object to allow the creation of arrays which are not\n        NumPy arrays. If an array-like passed in as ``like`` supports\n        the ``__array_function__`` protocol, the result will be defined\n        by it. In this case, it ensures the creation of an array object\n        compatible with that passed in via this argument.\n    \n        .. note::\n            The ``like`` keyword is an experimental feature pending on\n            acceptance of :ref:`NEP 35 <NEP35>`.\n    \n        .. versionadded:: 1.20.0\n    \n    Returns\n    -------\n    arange : ndarray\n        Array of evenly spaced values.\n    \n        For floating point arguments, the length of the result is\n        ``ceil((stop - start)/step)``.  Because of floating point overflow,\n        this rule may result in the last element of `out` being greater\n        than `stop`.\n    \n    See Also\n    --------\n    numpy.linspace : Evenly spaced numbers with careful handling of endpoints.\n    numpy.ogrid: Arrays of evenly spaced numbers in N-dimensions.\n    numpy.mgrid: Grid-shaped arrays of evenly spaced numbers in N-dimensions.\n    \n    Examples\n    --------\n    >>> np.arange(3)\n    array([0, 1, 2])\n    >>> np.arange(3.0)\n    array([ 0.,  1.,  2.])\n    >>> np.arange(3,7)\n    array([3, 4, 5, 6])\n    >>> np.arange(3,7,2)\n    array([3, 5])\n\n"
     ]
    }
   ],
   "source": [
    "help(np.arange)"
   ]
  },
  {
   "cell_type": "markdown",
   "metadata": {},
   "source": [
    "#### 10. Find indices of non-zero elements from \\[1,2,0,0,4,0\\] (★☆☆)"
   ]
  },
  {
   "cell_type": "code",
   "execution_count": 62,
   "metadata": {},
   "outputs": [
    {
     "output_type": "execute_result",
     "data": {
      "text/plain": [
       "(array([2, 3, 5], dtype=int64),)"
      ]
     },
     "metadata": {},
     "execution_count": 62
    }
   ],
   "source": [
    "my_array = np.asarray([1, 2, 0, 0, 4, 0])\n",
    "np.where(my_array == 0)"
   ]
  },
  {
   "cell_type": "markdown",
   "metadata": {},
   "source": [
    "#### 11. Create a 3x3 identity matrix (★☆☆)"
   ]
  },
  {
   "cell_type": "code",
   "execution_count": 64,
   "metadata": {},
   "outputs": [
    {
     "output_type": "execute_result",
     "data": {
      "text/plain": [
       "array([[1., 0., 0.],\n",
       "       [0., 1., 0.],\n",
       "       [0., 0., 1.]])"
      ]
     },
     "metadata": {},
     "execution_count": 64
    }
   ],
   "source": [
    "np.eye(3,3)"
   ]
  },
  {
   "cell_type": "markdown",
   "metadata": {},
   "source": [
    "#### 12. Create a 3x3x3 array with random values (★☆☆)"
   ]
  },
  {
   "cell_type": "code",
   "execution_count": 73,
   "metadata": {
    "collapsed": true,
    "tags": []
   },
   "outputs": [
    {
     "output_type": "execute_result",
     "data": {
      "text/plain": [
       "array([[[3, 5, 0],\n",
       "        [5, 4, 0],\n",
       "        [4, 0, 6]],\n",
       "\n",
       "       [[6, 3, 6],\n",
       "        [1, 5, 3],\n",
       "        [8, 6, 8]],\n",
       "\n",
       "       [[6, 2, 5],\n",
       "        [0, 7, 2],\n",
       "        [2, 5, 7]]])"
      ]
     },
     "metadata": {},
     "execution_count": 73
    }
   ],
   "source": [
    "np.random.randint(0, 10 , size = (3,3,3))"
   ]
  },
  {
   "cell_type": "markdown",
   "metadata": {},
   "source": [
    "#### 13. Create a 10x10 array with random values and find the minimum and maximum values (★☆☆)"
   ]
  },
  {
   "cell_type": "code",
   "execution_count": 82,
   "metadata": {},
   "outputs": [
    {
     "output_type": "stream",
     "name": "stdout",
     "text": [
      "Maximum:  99\nMinimum:  4\n"
     ]
    }
   ],
   "source": [
    "my_array = np.random.randint(0, 100,  size = (10, 10))\n",
    "print(\"Maximum: \", np.max(my_array))\n",
    "print(\"Minimum: \", np.min(my_array))"
   ]
  },
  {
   "cell_type": "markdown",
   "metadata": {},
   "source": [
    "#### 14. Create a random vector of size 30 and find the mean value (★☆☆)"
   ]
  },
  {
   "cell_type": "code",
   "execution_count": 88,
   "metadata": {
    "tags": []
   },
   "outputs": [
    {
     "output_type": "execute_result",
     "data": {
      "text/plain": [
       "0.4710554799254619"
      ]
     },
     "metadata": {},
     "execution_count": 88
    }
   ],
   "source": [
    "my_array = np.random.rand(30)\n",
    "my_array.mean()"
   ]
  },
  {
   "cell_type": "markdown",
   "metadata": {},
   "source": [
    "#### 15. Create a 2d array with 1 on the border and 0 inside (★☆☆)"
   ]
  },
  {
   "cell_type": "code",
   "execution_count": 103,
   "metadata": {},
   "outputs": [
    {
     "output_type": "execute_result",
     "data": {
      "text/plain": [
       "array([[1., 1., 1., 1., 1.],\n",
       "       [1., 0., 0., 0., 1.],\n",
       "       [1., 0., 0., 0., 1.],\n",
       "       [1., 0., 0., 0., 1.],\n",
       "       [1., 1., 1., 1., 1.]])"
      ]
     },
     "metadata": {},
     "execution_count": 103
    }
   ],
   "source": [
    "my_array = np.ones((5,5))\n",
    "my_array[1:-1, 1:-1] = 0\n",
    "my_array"
   ]
  },
  {
   "cell_type": "markdown",
   "metadata": {},
   "source": [
    "#### 16. How to add a border (filled with 0's) around an existing array? (★☆☆)"
   ]
  },
  {
   "cell_type": "code",
   "execution_count": 183,
   "metadata": {},
   "outputs": [
    {
     "output_type": "execute_result",
     "data": {
      "text/plain": [
       "array([[1., 1., 1., 1., 1., 1., 1., 1., 1., 1., 1., 1.],\n",
       "       [1., 0., 0., 0., 0., 0., 0., 0., 0., 0., 0., 1.],\n",
       "       [1., 0., 0., 0., 0., 0., 0., 0., 0., 0., 0., 1.],\n",
       "       [1., 0., 0., 0., 0., 0., 0., 0., 0., 0., 0., 1.],\n",
       "       [1., 0., 0., 0., 0., 0., 0., 0., 0., 0., 0., 1.],\n",
       "       [1., 0., 0., 0., 0., 0., 0., 0., 0., 0., 0., 1.],\n",
       "       [1., 0., 0., 0., 0., 0., 0., 0., 0., 0., 0., 1.],\n",
       "       [1., 0., 0., 0., 0., 0., 0., 0., 0., 0., 0., 1.],\n",
       "       [1., 0., 0., 0., 0., 0., 0., 0., 0., 0., 0., 1.],\n",
       "       [1., 0., 0., 0., 0., 0., 0., 0., 0., 0., 0., 1.],\n",
       "       [1., 0., 0., 0., 0., 0., 0., 0., 0., 0., 0., 1.],\n",
       "       [1., 1., 1., 1., 1., 1., 1., 1., 1., 1., 1., 1.]])"
      ]
     },
     "metadata": {},
     "execution_count": 183
    }
   ],
   "source": [
    "a = np.zeros((10,10))\n",
    "np.pad(a, (1,1), 'constant', constant_values = (1,1))"
   ]
  },
  {
   "cell_type": "markdown",
   "metadata": {},
   "source": [
    "#### 17. What is the result of the following expression? (★☆☆)"
   ]
  },
  {
   "cell_type": "markdown",
   "metadata": {},
   "source": [
    "```python\n",
    "0 * np.nan\n",
    "np.nan == np.nan\n",
    "np.inf > np.nan\n",
    "np.nan - np.nan\n",
    "np.nan in set([np.nan])\n",
    "0.3 == 3 * 0.1\n",
    "```"
   ]
  },
  {
   "cell_type": "code",
   "execution_count": 192,
   "metadata": {},
   "outputs": [
    {
     "output_type": "stream",
     "name": "stdout",
     "text": [
      "nan\nFalse\nFalse\nnan\nTrue\nFalse\n"
     ]
    }
   ],
   "source": [
    "print(0* np.nan)\n",
    "print(np.nan == np.nan)\n",
    "print(np.inf > np.nan)\n",
    "print(np.nan - np.nan)\n",
    "print(np.nan in set([np.nan]))\n",
    "print(0.3 == 3*0.1)"
   ]
  },
  {
   "cell_type": "markdown",
   "metadata": {},
   "source": [
    "#### 18. Create a 5x5 matrix with values 1,2,3,4 just below the diagonal (★☆☆)"
   ]
  },
  {
   "cell_type": "code",
   "execution_count": 195,
   "metadata": {},
   "outputs": [
    {
     "output_type": "execute_result",
     "data": {
      "text/plain": [
       "array([[0, 0, 0, 0, 0],\n",
       "       [1, 0, 0, 0, 0],\n",
       "       [0, 2, 0, 0, 0],\n",
       "       [0, 0, 3, 0, 0],\n",
       "       [0, 0, 0, 4, 0]])"
      ]
     },
     "metadata": {},
     "execution_count": 195
    }
   ],
   "source": [
    "np.diag([1,2,3,4], k = -1)"
   ]
  },
  {
   "cell_type": "markdown",
   "metadata": {},
   "source": [
    "#### 19. Create a 8x8 matrix and fill it with a checkerboard pattern (★☆☆)"
   ]
  },
  {
   "cell_type": "code",
   "execution_count": 226,
   "metadata": {},
   "outputs": [
    {
     "output_type": "execute_result",
     "data": {
      "text/plain": [
       "array([[0., 1., 0., 1., 0., 1., 0., 1.],\n",
       "       [1., 0., 1., 0., 1., 0., 1., 0.],\n",
       "       [0., 1., 0., 1., 0., 1., 0., 1.],\n",
       "       [1., 0., 1., 0., 1., 0., 1., 0.],\n",
       "       [0., 1., 0., 1., 0., 1., 0., 1.],\n",
       "       [1., 0., 1., 0., 1., 0., 1., 0.],\n",
       "       [0., 1., 0., 1., 0., 1., 0., 1.],\n",
       "       [1., 0., 1., 0., 1., 0., 1., 0.]])"
      ]
     },
     "metadata": {},
     "execution_count": 226
    }
   ],
   "source": [
    "# pattern = np.asarray([[0, 1], \n",
    "#                     [1, 0]])\n",
    "# np.tile(pattern, (4,4))\n",
    "\n",
    "# pattern = np.zeros((8,8))\n",
    "# pattern[::2 , 1::2] = 1\n",
    "# pattern[1::2, ::2] = 1\n",
    "# pattern\n",
    "\n",
    "# row, col = np.indices(8,8)\n",
    "i,j = np.indices((8,8))\n",
    "M = ( 1- ((-1)**(i+j)) )/2\n",
    "M"
   ]
  },
  {
   "cell_type": "markdown",
   "metadata": {},
   "source": [
    "#### 20. Consider a (6,7,8) shape array, what is the index (x,y,z) of the 100th element?"
   ]
  },
  {
   "cell_type": "code",
   "execution_count": 230,
   "metadata": {},
   "outputs": [
    {
     "output_type": "execute_result",
     "data": {
      "text/plain": [
       "(1, 5, 4)"
      ]
     },
     "metadata": {},
     "execution_count": 230
    }
   ],
   "source": [
    "np.unravel_index(100, (6,7,8))"
   ]
  },
  {
   "cell_type": "markdown",
   "metadata": {},
   "source": [
    "#### 21. Create a checkerboard 8x8 matrix using the tile function (★☆☆)"
   ]
  },
  {
   "cell_type": "code",
   "execution_count": 231,
   "metadata": {},
   "outputs": [
    {
     "output_type": "execute_result",
     "data": {
      "text/plain": [
       "array([[0, 1, 0, 1, 0, 1, 0, 1],\n",
       "       [1, 0, 1, 0, 1, 0, 1, 0],\n",
       "       [0, 1, 0, 1, 0, 1, 0, 1],\n",
       "       [1, 0, 1, 0, 1, 0, 1, 0],\n",
       "       [0, 1, 0, 1, 0, 1, 0, 1],\n",
       "       [1, 0, 1, 0, 1, 0, 1, 0],\n",
       "       [0, 1, 0, 1, 0, 1, 0, 1],\n",
       "       [1, 0, 1, 0, 1, 0, 1, 0]])"
      ]
     },
     "metadata": {},
     "execution_count": 231
    }
   ],
   "source": [
    "pattern = np.asarray([[0, 1], \n",
    "                    [1, 0]])\n",
    "np.tile(pattern, (4,4))"
   ]
  },
  {
   "cell_type": "markdown",
   "metadata": {},
   "source": [
    "#### 22. Normalize a 5x5 random matrix (★☆☆)"
   ]
  },
  {
   "cell_type": "code",
   "execution_count": 237,
   "metadata": {
    "tags": []
   },
   "outputs": [
    {
     "output_type": "execute_result",
     "data": {
      "text/plain": [
       "array([[0.        , 0.01428571, 0.02857143, 0.04285714, 0.05714286],\n",
       "       [0.07142857, 0.08571429, 0.1       , 0.11428571, 0.12857143],\n",
       "       [0.14285714, 0.15714286, 0.17142857, 0.18571429, 0.2       ],\n",
       "       [0.21428571, 0.22857143, 0.24285714, 0.25714286, 0.27142857],\n",
       "       [0.28571429, 0.3       , 0.31428571, 0.32857143, 0.34285714]])"
      ]
     },
     "metadata": {},
     "execution_count": 237
    }
   ],
   "source": [
    "my_array = np.arange(25).reshape(5, 5)\n",
    "norm_array = my_array/np.linalg.norm(my_array)\n",
    "norm_array"
   ]
  },
  {
   "cell_type": "markdown",
   "metadata": {},
   "source": [
    "#### 23. Create a custom dtype that describes a color as four unsigned bytes (RGBA) (★☆☆)"
   ]
  },
  {
   "cell_type": "code",
   "execution_count": null,
   "metadata": {
    "collapsed": true
   },
   "outputs": [],
   "source": []
  },
  {
   "cell_type": "markdown",
   "metadata": {},
   "source": [
    "#### 24. Multiply a 5x3 matrix by a 3x2 matrix (real matrix product) (★☆☆)"
   ]
  },
  {
   "cell_type": "code",
   "execution_count": null,
   "metadata": {},
   "outputs": [],
   "source": []
  },
  {
   "cell_type": "markdown",
   "metadata": {},
   "source": [
    "#### 25. Given a 1D array, negate all elements which are between 3 and 8, in place. (★☆☆)"
   ]
  },
  {
   "cell_type": "code",
   "execution_count": null,
   "metadata": {},
   "outputs": [],
   "source": []
  },
  {
   "cell_type": "markdown",
   "metadata": {},
   "source": [
    "#### 26. What is the output of the following script? (★☆☆)"
   ]
  },
  {
   "cell_type": "markdown",
   "metadata": {},
   "source": [
    "```python\n",
    "# Author: Jake VanderPlas\n",
    "\n",
    "print(sum(range(5),-1))\n",
    "from numpy import *\n",
    "print(sum(range(5),-1))\n",
    "```"
   ]
  },
  {
   "cell_type": "code",
   "execution_count": null,
   "metadata": {},
   "outputs": [],
   "source": []
  },
  {
   "cell_type": "markdown",
   "metadata": {},
   "source": [
    "#### 27. Consider an integer vector Z, which of these expressions are legal? (★☆☆)"
   ]
  },
  {
   "cell_type": "markdown",
   "metadata": {},
   "source": [
    "```python\n",
    "Z**Z\n",
    "2 << Z >> 2\n",
    "Z <- Z\n",
    "1j*Z\n",
    "Z/1/1\n",
    "Z<Z>Z\n",
    "```"
   ]
  },
  {
   "cell_type": "code",
   "execution_count": null,
   "metadata": {},
   "outputs": [],
   "source": []
  },
  {
   "cell_type": "markdown",
   "metadata": {},
   "source": [
    "#### 28. What are the result of the following expressions?"
   ]
  },
  {
   "cell_type": "markdown",
   "metadata": {},
   "source": [
    "```python\n",
    "np.array(0) / np.array(0)\n",
    "np.array(0) // np.array(0)\n",
    "np.array([np.nan]).astype(int).astype(float)\n",
    "```"
   ]
  },
  {
   "cell_type": "code",
   "execution_count": null,
   "metadata": {},
   "outputs": [],
   "source": []
  },
  {
   "cell_type": "markdown",
   "metadata": {},
   "source": [
    "#### 29. How to round away from zero a float array ? (★☆☆)"
   ]
  },
  {
   "cell_type": "code",
   "execution_count": null,
   "metadata": {},
   "outputs": [],
   "source": []
  },
  {
   "cell_type": "markdown",
   "metadata": {},
   "source": [
    "#### 30. How to find common values between two arrays? (★☆☆)"
   ]
  },
  {
   "cell_type": "code",
   "execution_count": null,
   "metadata": {},
   "outputs": [],
   "source": []
  },
  {
   "cell_type": "markdown",
   "metadata": {},
   "source": [
    "#### 31. How to ignore all numpy warnings (not recommended)? (★☆☆)"
   ]
  },
  {
   "cell_type": "code",
   "execution_count": null,
   "metadata": {},
   "outputs": [],
   "source": []
  },
  {
   "cell_type": "markdown",
   "metadata": {},
   "source": [
    "#### 32. Is the following expressions true? (★☆☆)"
   ]
  },
  {
   "cell_type": "markdown",
   "metadata": {},
   "source": [
    "```python\n",
    "np.sqrt(-1) == np.emath.sqrt(-1)\n",
    "```"
   ]
  },
  {
   "cell_type": "code",
   "execution_count": null,
   "metadata": {},
   "outputs": [],
   "source": []
  },
  {
   "cell_type": "markdown",
   "metadata": {},
   "source": [
    "#### 33. How to get the dates of yesterday, today and tomorrow? (★☆☆)"
   ]
  },
  {
   "cell_type": "code",
   "execution_count": 111,
   "metadata": {
    "collapsed": true
   },
   "outputs": [],
   "source": [
    "year_calendar = np.datetime64('2016')\r\n"
   ]
  },
  {
   "cell_type": "markdown",
   "metadata": {},
   "source": [
    "#### 34. How to get all the dates corresponding to the month of July 2016? (★★☆)"
   ]
  },
  {
   "cell_type": "code",
   "execution_count": 132,
   "metadata": {},
   "outputs": [
    {
     "output_type": "execute_result",
     "data": {
      "text/plain": [
       "array(['2016-07-01', '2016-07-02', '2016-07-03', '2016-07-04',\n",
       "       '2016-07-05', '2016-07-06', '2016-07-07', '2016-07-08',\n",
       "       '2016-07-09', '2016-07-10', '2016-07-11', '2016-07-12',\n",
       "       '2016-07-13', '2016-07-14', '2016-07-15', '2016-07-16',\n",
       "       '2016-07-17', '2016-07-18', '2016-07-19', '2016-07-20',\n",
       "       '2016-07-21', '2016-07-22', '2016-07-23', '2016-07-24',\n",
       "       '2016-07-25', '2016-07-26', '2016-07-27', '2016-07-28',\n",
       "       '2016-07-29', '2016-07-30', '2016-07-31'], dtype='datetime64[D]')"
      ]
     },
     "metadata": {},
     "execution_count": 132
    }
   ],
   "source": [
    "my_dates = np.arange('2016-07', '2016-08', dtype = 'datetime64[D]')\n",
    "my_dates"
   ]
  },
  {
   "cell_type": "markdown",
   "metadata": {},
   "source": [
    "#### 35. How to compute ((A+B)\\*(-A/2)) in place (without copy)? (★★☆)"
   ]
  },
  {
   "cell_type": "code",
   "execution_count": null,
   "metadata": {},
   "outputs": [],
   "source": []
  },
  {
   "cell_type": "markdown",
   "metadata": {},
   "source": [
    "#### 36. Extract the integer part of a random array using 5 different methods (★★☆)"
   ]
  },
  {
   "cell_type": "code",
   "execution_count": null,
   "metadata": {},
   "outputs": [],
   "source": []
  },
  {
   "cell_type": "markdown",
   "metadata": {},
   "source": [
    "#### 37. Create a 5x5 matrix with row values ranging from 0 to 4 (★★☆)"
   ]
  },
  {
   "cell_type": "code",
   "execution_count": null,
   "metadata": {},
   "outputs": [],
   "source": []
  },
  {
   "cell_type": "markdown",
   "metadata": {},
   "source": [
    "#### 38. Consider a generator function that generates 10 integers and use it to build an array (★☆☆)"
   ]
  },
  {
   "cell_type": "code",
   "execution_count": null,
   "metadata": {},
   "outputs": [],
   "source": []
  },
  {
   "cell_type": "markdown",
   "metadata": {},
   "source": [
    "#### 39. Create a vector of size 10 with values ranging from 0 to 1, both excluded (★★☆)"
   ]
  },
  {
   "cell_type": "code",
   "execution_count": null,
   "metadata": {},
   "outputs": [],
   "source": []
  },
  {
   "cell_type": "markdown",
   "metadata": {},
   "source": [
    "#### 40. Create a random vector of size 10 and sort it (★★☆)"
   ]
  },
  {
   "cell_type": "code",
   "execution_count": null,
   "metadata": {},
   "outputs": [],
   "source": []
  },
  {
   "cell_type": "markdown",
   "metadata": {},
   "source": [
    "#### 41. How to sum a small array faster than np.sum? (★★☆)"
   ]
  },
  {
   "cell_type": "code",
   "execution_count": null,
   "metadata": {},
   "outputs": [],
   "source": []
  },
  {
   "cell_type": "markdown",
   "metadata": {},
   "source": [
    "#### 42. Consider two random array A and B, check if they are equal (★★☆)"
   ]
  },
  {
   "cell_type": "code",
   "execution_count": 143,
   "metadata": {},
   "outputs": [
    {
     "output_type": "stream",
     "name": "stdout",
     "text": [
      "Should be False: False\nShould be True: True\n"
     ]
    }
   ],
   "source": [
    "A = np.asarray([1, 2])\n",
    "B = np.asarray([2, 1])\n",
    "print(\"Should be False:\", np.array_equal(A,B))\n",
    "# Reversing A so that they are equal\n",
    "print(\"Should be True:\", np.array_equal(A[::-1], B))"
   ]
  },
  {
   "cell_type": "markdown",
   "metadata": {},
   "source": [
    "#### 43. Make an array immutable (read-only) (★★☆)"
   ]
  },
  {
   "cell_type": "code",
   "execution_count": null,
   "metadata": {},
   "outputs": [],
   "source": []
  },
  {
   "cell_type": "markdown",
   "metadata": {},
   "source": [
    "#### 44. Consider a random 10x2 matrix representing cartesian coordinates, convert them to polar coordinates (★★☆)"
   ]
  },
  {
   "cell_type": "code",
   "execution_count": null,
   "metadata": {},
   "outputs": [],
   "source": []
  },
  {
   "cell_type": "markdown",
   "metadata": {},
   "source": [
    "#### 45. Create random vector of size 10 and replace the maximum value by 0 (★★☆)"
   ]
  },
  {
   "cell_type": "code",
   "execution_count": null,
   "metadata": {},
   "outputs": [],
   "source": []
  },
  {
   "cell_type": "markdown",
   "metadata": {},
   "source": [
    "#### 46. Create a structured array with `x` and `y` coordinates covering the \\[0,1\\]x\\[0,1\\] area (★★☆)"
   ]
  },
  {
   "cell_type": "code",
   "execution_count": null,
   "metadata": {},
   "outputs": [],
   "source": []
  },
  {
   "cell_type": "markdown",
   "metadata": {},
   "source": [
    "####  47. Given two arrays, X and Y, construct the Cauchy matrix C (Cij =1/(xi - yj))"
   ]
  },
  {
   "cell_type": "code",
   "execution_count": null,
   "metadata": {},
   "outputs": [],
   "source": []
  },
  {
   "cell_type": "markdown",
   "metadata": {},
   "source": [
    "#### 48. Print the minimum and maximum representable value for each numpy scalar type (★★☆)"
   ]
  },
  {
   "cell_type": "code",
   "execution_count": null,
   "metadata": {},
   "outputs": [],
   "source": []
  },
  {
   "cell_type": "markdown",
   "metadata": {},
   "source": [
    "#### 49. How to print all the values of an array? (★★☆)"
   ]
  },
  {
   "cell_type": "code",
   "execution_count": null,
   "metadata": {},
   "outputs": [],
   "source": []
  },
  {
   "cell_type": "markdown",
   "metadata": {},
   "source": [
    "#### 50. How to find the closest value (to a given scalar) in a vector? (★★☆)"
   ]
  },
  {
   "cell_type": "code",
   "execution_count": null,
   "metadata": {},
   "outputs": [],
   "source": []
  },
  {
   "cell_type": "markdown",
   "metadata": {},
   "source": [
    "#### 51. Create a structured array representing a position (x,y) and a color (r,g,b) (★★☆)"
   ]
  },
  {
   "cell_type": "code",
   "execution_count": null,
   "metadata": {},
   "outputs": [],
   "source": []
  },
  {
   "cell_type": "markdown",
   "metadata": {},
   "source": [
    "#### 52. Consider a random vector with shape (100,2) representing coordinates, find point by point distances (★★☆)"
   ]
  },
  {
   "cell_type": "code",
   "execution_count": null,
   "metadata": {},
   "outputs": [],
   "source": []
  },
  {
   "cell_type": "markdown",
   "metadata": {},
   "source": [
    "#### 53. How to convert a float (32 bits) array into an integer (32 bits) in place?"
   ]
  },
  {
   "cell_type": "code",
   "execution_count": null,
   "metadata": {},
   "outputs": [],
   "source": []
  },
  {
   "cell_type": "markdown",
   "metadata": {},
   "source": [
    "#### 54. How to read the following file? (★★☆)"
   ]
  },
  {
   "cell_type": "markdown",
   "metadata": {},
   "source": [
    "```\n",
    "1, 2, 3, 4, 5\n",
    "6,  ,  , 7, 8\n",
    " ,  , 9,10,11\n",
    "```"
   ]
  },
  {
   "cell_type": "code",
   "execution_count": null,
   "metadata": {},
   "outputs": [],
   "source": []
  },
  {
   "cell_type": "markdown",
   "metadata": {},
   "source": [
    "#### 55. What is the equivalent of enumerate for numpy arrays? (★★☆)"
   ]
  },
  {
   "cell_type": "code",
   "execution_count": null,
   "metadata": {},
   "outputs": [],
   "source": []
  },
  {
   "cell_type": "markdown",
   "metadata": {},
   "source": [
    "#### 56. Generate a generic 2D Gaussian-like array (★★☆)"
   ]
  },
  {
   "cell_type": "code",
   "execution_count": null,
   "metadata": {},
   "outputs": [],
   "source": []
  },
  {
   "cell_type": "markdown",
   "metadata": {},
   "source": [
    "#### 57. How to randomly place p elements in a 2D array? (★★☆)"
   ]
  },
  {
   "cell_type": "code",
   "execution_count": null,
   "metadata": {},
   "outputs": [],
   "source": []
  },
  {
   "cell_type": "markdown",
   "metadata": {},
   "source": [
    "#### 58. Subtract the mean of each row of a matrix (★★☆)"
   ]
  },
  {
   "cell_type": "code",
   "execution_count": null,
   "metadata": {},
   "outputs": [],
   "source": []
  },
  {
   "cell_type": "markdown",
   "metadata": {},
   "source": [
    "#### 59. How to sort an array by the nth column? (★★☆)"
   ]
  },
  {
   "cell_type": "code",
   "execution_count": null,
   "metadata": {},
   "outputs": [],
   "source": []
  },
  {
   "cell_type": "markdown",
   "metadata": {},
   "source": [
    "#### 60. How to tell if a given 2D array has null columns? (★★☆)"
   ]
  },
  {
   "cell_type": "code",
   "execution_count": null,
   "metadata": {},
   "outputs": [],
   "source": []
  },
  {
   "cell_type": "markdown",
   "metadata": {},
   "source": [
    "#### 61. Find the nearest value from a given value in an array (★★☆)"
   ]
  },
  {
   "cell_type": "code",
   "execution_count": null,
   "metadata": {},
   "outputs": [],
   "source": []
  },
  {
   "cell_type": "markdown",
   "metadata": {},
   "source": [
    "#### 62. Considering two arrays with shape (1,3) and (3,1), how to compute their sum using an iterator? (★★☆)"
   ]
  },
  {
   "cell_type": "code",
   "execution_count": null,
   "metadata": {},
   "outputs": [],
   "source": []
  },
  {
   "cell_type": "markdown",
   "metadata": {},
   "source": [
    "#### 63. Create an array class that has a name attribute (★★☆)"
   ]
  },
  {
   "cell_type": "code",
   "execution_count": null,
   "metadata": {},
   "outputs": [],
   "source": []
  },
  {
   "cell_type": "markdown",
   "metadata": {},
   "source": [
    "#### 64. Consider a given vector, how to add 1 to each element indexed by a second vector (be careful with repeated indices)? (★★★)"
   ]
  },
  {
   "cell_type": "code",
   "execution_count": null,
   "metadata": {},
   "outputs": [],
   "source": []
  },
  {
   "cell_type": "markdown",
   "metadata": {},
   "source": [
    "#### 65. How to accumulate elements of a vector (X) to an array (F) based on an index list (I)? (★★★)"
   ]
  },
  {
   "cell_type": "code",
   "execution_count": null,
   "metadata": {},
   "outputs": [],
   "source": []
  },
  {
   "cell_type": "markdown",
   "metadata": {},
   "source": [
    "#### 66. Considering a (w,h,3) image of (dtype=ubyte), compute the number of unique colors (★★★)"
   ]
  },
  {
   "cell_type": "code",
   "execution_count": null,
   "metadata": {},
   "outputs": [],
   "source": []
  },
  {
   "cell_type": "markdown",
   "metadata": {},
   "source": [
    "#### 67. Considering a four dimensions array, how to get sum over the last two axis at once? (★★★)"
   ]
  },
  {
   "cell_type": "code",
   "execution_count": null,
   "metadata": {},
   "outputs": [],
   "source": []
  },
  {
   "cell_type": "markdown",
   "metadata": {},
   "source": [
    "#### 68. Considering a one-dimensional vector D, how to compute means of subsets of D using a vector S of same size describing subset  indices? (★★★)"
   ]
  },
  {
   "cell_type": "code",
   "execution_count": null,
   "metadata": {},
   "outputs": [],
   "source": []
  },
  {
   "cell_type": "markdown",
   "metadata": {},
   "source": [
    "#### 69. How to get the diagonal of a dot product? (★★★)"
   ]
  },
  {
   "cell_type": "code",
   "execution_count": null,
   "metadata": {},
   "outputs": [],
   "source": []
  },
  {
   "cell_type": "markdown",
   "metadata": {},
   "source": [
    "#### 70. Consider the vector \\[1, 2, 3, 4, 5\\], how to build a new vector with 3 consecutive zeros interleaved between each value? (★★★)"
   ]
  },
  {
   "cell_type": "code",
   "execution_count": null,
   "metadata": {},
   "outputs": [],
   "source": []
  },
  {
   "cell_type": "markdown",
   "metadata": {},
   "source": [
    "#### 71. Consider an array of dimension (5,5,3), how to mulitply it by an array with dimensions (5,5)? (★★★)"
   ]
  },
  {
   "cell_type": "code",
   "execution_count": null,
   "metadata": {
    "collapsed": true
   },
   "outputs": [],
   "source": []
  },
  {
   "cell_type": "markdown",
   "metadata": {},
   "source": [
    "#### 72. How to swap two rows of an array? (★★★)"
   ]
  },
  {
   "cell_type": "code",
   "execution_count": 160,
   "metadata": {},
   "outputs": [
    {
     "output_type": "stream",
     "name": "stdout",
     "text": [
      "Before swapping:\n  [[3 9 3 8 1]\n [2 7 1 5 9]\n [3 8 8 5 2]\n [3 2 2 1 5]\n [9 1 5 7 9]]\nAfter swapping row 1 and row 4:\n  [[3 2 2 1 5]\n [2 7 1 5 9]\n [3 8 8 5 2]\n [3 9 3 8 1]\n [9 1 5 7 9]]\n"
     ]
    }
   ],
   "source": [
    "my_array = np.random.randint(1,10, size = (5,5))\n",
    "\n",
    "print(\"Before swapping:\\n \", my_array)\n",
    "my_array[[0,3]] = my_array[[3,0]]\n",
    "print(\"After swapping row 1 and row 4:\\n \", my_array)"
   ]
  },
  {
   "cell_type": "markdown",
   "metadata": {},
   "source": [
    "#### 73. Consider a set of 10 triplets describing 10 triangles (with shared vertices), find the set of unique line segments composing all the  triangles (★★★)"
   ]
  },
  {
   "cell_type": "code",
   "execution_count": null,
   "metadata": {},
   "outputs": [],
   "source": []
  },
  {
   "cell_type": "markdown",
   "metadata": {},
   "source": [
    "#### 74. Given an array C that is a bincount, how to produce an array A such that np.bincount(A) == C? (★★★)"
   ]
  },
  {
   "cell_type": "code",
   "execution_count": null,
   "metadata": {},
   "outputs": [],
   "source": []
  },
  {
   "cell_type": "markdown",
   "metadata": {},
   "source": [
    "#### 75. How to compute averages using a sliding window over an array? (★★★)"
   ]
  },
  {
   "cell_type": "code",
   "execution_count": 175,
   "metadata": {},
   "outputs": [
    {
     "output_type": "error",
     "ename": "IndexError",
     "evalue": "tuple index out of range",
     "traceback": [
      "\u001b[1;31m---------------------------------------------------------------------------\u001b[0m",
      "\u001b[1;31mIndexError\u001b[0m                                Traceback (most recent call last)",
      "\u001b[1;32m<ipython-input-175-22dda9d5f1ee>\u001b[0m in \u001b[0;36m<module>\u001b[1;34m\u001b[0m\n\u001b[0;32m     19\u001b[0m \u001b[0mmain_array\u001b[0m \u001b[1;33m=\u001b[0m \u001b[0mnp\u001b[0m\u001b[1;33m.\u001b[0m\u001b[0marange\u001b[0m\u001b[1;33m(\u001b[0m\u001b[1;36m1\u001b[0m\u001b[1;33m,\u001b[0m\u001b[1;36m10\u001b[0m\u001b[1;33m)\u001b[0m\u001b[1;33m\u001b[0m\u001b[1;33m\u001b[0m\u001b[0m\n\u001b[0;32m     20\u001b[0m \u001b[0mwindow\u001b[0m \u001b[1;33m=\u001b[0m \u001b[0mnp\u001b[0m\u001b[1;33m.\u001b[0m\u001b[0masarray\u001b[0m\u001b[1;33m(\u001b[0m\u001b[1;33m[\u001b[0m\u001b[1;36m2\u001b[0m\u001b[1;33m,\u001b[0m\u001b[1;36m1\u001b[0m\u001b[1;33m]\u001b[0m\u001b[1;33m)\u001b[0m\u001b[1;33m\u001b[0m\u001b[1;33m\u001b[0m\u001b[0m\n\u001b[1;32m---> 21\u001b[1;33m \u001b[0mprint\u001b[0m\u001b[1;33m(\u001b[0m\u001b[0mmoving_average\u001b[0m\u001b[1;33m(\u001b[0m\u001b[0mmain_array\u001b[0m\u001b[1;33m,\u001b[0m \u001b[0mwindow\u001b[0m\u001b[1;33m)\u001b[0m\u001b[1;33m)\u001b[0m\u001b[1;33m\u001b[0m\u001b[1;33m\u001b[0m\u001b[0m\n\u001b[0m",
      "\u001b[1;32m<ipython-input-175-22dda9d5f1ee>\u001b[0m in \u001b[0;36mmoving_average\u001b[1;34m(arr, window)\u001b[0m\n\u001b[0;32m      8\u001b[0m     \"\"\"\n\u001b[0;32m      9\u001b[0m     \u001b[0mrows\u001b[0m \u001b[1;33m=\u001b[0m \u001b[0marr\u001b[0m\u001b[1;33m.\u001b[0m\u001b[0mshape\u001b[0m\u001b[1;33m[\u001b[0m\u001b[1;36m0\u001b[0m\u001b[1;33m]\u001b[0m \u001b[1;33m-\u001b[0m \u001b[1;33m(\u001b[0m\u001b[0mwindow\u001b[0m\u001b[1;33m.\u001b[0m\u001b[0mshape\u001b[0m\u001b[1;33m[\u001b[0m\u001b[1;36m0\u001b[0m\u001b[1;33m]\u001b[0m \u001b[1;33m-\u001b[0m \u001b[1;36m1\u001b[0m\u001b[1;33m)\u001b[0m\u001b[1;33m\u001b[0m\u001b[1;33m\u001b[0m\u001b[0m\n\u001b[1;32m---> 10\u001b[1;33m     \u001b[0mcolumns\u001b[0m \u001b[1;33m=\u001b[0m \u001b[0marr\u001b[0m\u001b[1;33m.\u001b[0m\u001b[0mshape\u001b[0m\u001b[1;33m[\u001b[0m\u001b[1;36m1\u001b[0m\u001b[1;33m]\u001b[0m \u001b[1;33m-\u001b[0m \u001b[1;33m(\u001b[0m\u001b[0mwindow\u001b[0m\u001b[1;33m.\u001b[0m\u001b[0mshape\u001b[0m\u001b[1;33m[\u001b[0m\u001b[1;36m1\u001b[0m\u001b[1;33m]\u001b[0m \u001b[1;33m-\u001b[0m \u001b[1;36m1\u001b[0m\u001b[1;33m)\u001b[0m\u001b[1;33m\u001b[0m\u001b[1;33m\u001b[0m\u001b[0m\n\u001b[0m\u001b[0;32m     11\u001b[0m     \u001b[0maverages\u001b[0m \u001b[1;33m=\u001b[0m \u001b[0mnp\u001b[0m\u001b[1;33m.\u001b[0m\u001b[0mzeros\u001b[0m\u001b[1;33m(\u001b[0m\u001b[1;33m(\u001b[0m\u001b[0mrows\u001b[0m\u001b[1;33m,\u001b[0m \u001b[0mcolumns\u001b[0m\u001b[1;33m)\u001b[0m\u001b[1;33m)\u001b[0m\u001b[1;33m\u001b[0m\u001b[1;33m\u001b[0m\u001b[0m\n\u001b[0;32m     12\u001b[0m \u001b[1;33m\u001b[0m\u001b[0m\n",
      "\u001b[1;31mIndexError\u001b[0m: tuple index out of range"
     ]
    }
   ],
   "source": [
    "def moving_average(arr, window):\n",
    "    \"\"\"\n",
    "    Inputs: \n",
    "    arr: 1D or 2D array\n",
    "    window: window size over which to average\n",
    "    Returns:\n",
    "    Array with the averages\n",
    "    \"\"\"\n",
    "    rows = arr.shape[0] - (window.shape[0] - 1)\n",
    "    columns = arr.shape[1] - (window.shape[1] - 1)\n",
    "    averages = np.zeros((rows, columns))\n",
    "\n",
    "    for i in range(rows):\n",
    "        for j in range(columns):\n",
    "            averages[i, j] = np.mean(arr[i:i+1, j, j+1])/(rows*columns)\n",
    "            \n",
    "    return averages    \n",
    "\n",
    "main_array = np.arange(1,10)\n",
    "window = np.asarray([2,2])\n",
    "print(moving_average(main_array, window))"
   ]
  },
  {
   "cell_type": "markdown",
   "metadata": {},
   "source": [
    "#### 76. Consider a one-dimensional array Z, build a two-dimensional array whose first row is (Z\\[0\\],Z\\[1\\],Z\\[2\\]) and each subsequent row is  shifted by 1 (last row should be (Z\\[-3\\],Z\\[-2\\],Z\\[-1\\]) (★★★)"
   ]
  },
  {
   "cell_type": "code",
   "execution_count": 172,
   "metadata": {},
   "outputs": [
    {
     "output_type": "execute_result",
     "data": {
      "text/plain": [
       "9"
      ]
     },
     "metadata": {},
     "execution_count": 172
    }
   ],
   "source": [
    "window = np.arange(1,10)\n",
    "window.shape[0]"
   ]
  },
  {
   "cell_type": "markdown",
   "metadata": {},
   "source": [
    "#### 77. How to negate a boolean, or to change the sign of a float inplace? (★★★)"
   ]
  },
  {
   "cell_type": "code",
   "execution_count": null,
   "metadata": {},
   "outputs": [],
   "source": []
  },
  {
   "cell_type": "markdown",
   "metadata": {},
   "source": [
    "#### 78. Consider 2 sets of points P0,P1 describing lines (2d) and a point p, how to compute distance from p to each line i  (P0\\[i\\],P1\\[i\\])? (★★★)"
   ]
  },
  {
   "cell_type": "code",
   "execution_count": null,
   "metadata": {},
   "outputs": [],
   "source": []
  },
  {
   "cell_type": "markdown",
   "metadata": {},
   "source": [
    "#### 79. Consider 2 sets of points P0,P1 describing lines (2d) and a set of points P, how to compute distance from each point j (P\\[j\\]) to each line i (P0\\[i\\],P1\\[i\\])? (★★★)"
   ]
  },
  {
   "cell_type": "code",
   "execution_count": null,
   "metadata": {},
   "outputs": [],
   "source": []
  },
  {
   "cell_type": "markdown",
   "metadata": {},
   "source": [
    "#### 80. Consider an arbitrary array, write a function that extract a subpart with a fixed shape and centered on a given element (pad with a `fill` value when necessary) (★★★)"
   ]
  },
  {
   "cell_type": "code",
   "execution_count": null,
   "metadata": {},
   "outputs": [],
   "source": []
  },
  {
   "cell_type": "markdown",
   "metadata": {},
   "source": [
    "#### 81. Consider an array Z = \\[1,2,3,4,5,6,7,8,9,10,11,12,13,14\\], how to generate an array R = \\[\\[1,2,3,4\\], \\[2,3,4,5\\], \\[3,4,5,6\\], ..., \\[11,12,13,14\\]\\]? (★★★)"
   ]
  },
  {
   "cell_type": "code",
   "execution_count": null,
   "metadata": {},
   "outputs": [],
   "source": []
  },
  {
   "cell_type": "markdown",
   "metadata": {},
   "source": [
    "#### 82. Compute a matrix rank (★★★)"
   ]
  },
  {
   "cell_type": "code",
   "execution_count": null,
   "metadata": {},
   "outputs": [],
   "source": []
  },
  {
   "cell_type": "markdown",
   "metadata": {},
   "source": [
    "#### 83. How to find the most frequent value in an array?"
   ]
  },
  {
   "cell_type": "code",
   "execution_count": null,
   "metadata": {},
   "outputs": [],
   "source": []
  },
  {
   "cell_type": "markdown",
   "metadata": {},
   "source": [
    "#### 84. Extract all the contiguous 3x3 blocks from a random 10x10 matrix (★★★)"
   ]
  },
  {
   "cell_type": "code",
   "execution_count": null,
   "metadata": {},
   "outputs": [],
   "source": []
  },
  {
   "cell_type": "markdown",
   "metadata": {},
   "source": [
    "#### 85. Create a 2D array subclass such that Z\\[i,j\\] == Z\\[j,i\\] (★★★)"
   ]
  },
  {
   "cell_type": "code",
   "execution_count": null,
   "metadata": {},
   "outputs": [],
   "source": []
  },
  {
   "cell_type": "markdown",
   "metadata": {},
   "source": [
    "#### 86. Consider a set of p matrices wich shape (n,n) and a set of p vectors with shape (n,1). How to compute the sum of of the p matrix products at once? (result has shape (n,1)) (★★★)"
   ]
  },
  {
   "cell_type": "code",
   "execution_count": null,
   "metadata": {},
   "outputs": [],
   "source": []
  },
  {
   "cell_type": "markdown",
   "metadata": {},
   "source": [
    "#### 87. Consider a 16x16 array, how to get the block-sum (block size is 4x4)? (★★★)"
   ]
  },
  {
   "cell_type": "code",
   "execution_count": null,
   "metadata": {},
   "outputs": [],
   "source": []
  },
  {
   "cell_type": "markdown",
   "metadata": {},
   "source": [
    "#### 88. How to implement the Game of Life using numpy arrays? (★★★)"
   ]
  },
  {
   "cell_type": "code",
   "execution_count": null,
   "metadata": {},
   "outputs": [],
   "source": []
  },
  {
   "cell_type": "markdown",
   "metadata": {},
   "source": [
    "#### 89. How to get the n largest values of an array (★★★)"
   ]
  },
  {
   "cell_type": "code",
   "execution_count": null,
   "metadata": {},
   "outputs": [],
   "source": []
  },
  {
   "cell_type": "markdown",
   "metadata": {},
   "source": [
    "#### 90. Given an arbitrary number of vectors, build the cartesian product (every combinations of every item) (★★★)"
   ]
  },
  {
   "cell_type": "code",
   "execution_count": null,
   "metadata": {
    "scrolled": true
   },
   "outputs": [],
   "source": []
  },
  {
   "cell_type": "markdown",
   "metadata": {},
   "source": [
    "#### 91. How to create a record array from a regular array? (★★★)"
   ]
  },
  {
   "cell_type": "code",
   "execution_count": null,
   "metadata": {},
   "outputs": [],
   "source": []
  },
  {
   "cell_type": "markdown",
   "metadata": {},
   "source": [
    "#### 92. Consider a large vector Z, compute Z to the power of 3 using 3 different methods (★★★)"
   ]
  },
  {
   "cell_type": "code",
   "execution_count": null,
   "metadata": {},
   "outputs": [],
   "source": []
  },
  {
   "cell_type": "markdown",
   "metadata": {},
   "source": [
    "#### 93. Consider two arrays A and B of shape (8,3) and (2,2). How to find rows of A that contain elements of each row of B regardless of the order of the elements in B? (★★★)"
   ]
  },
  {
   "cell_type": "code",
   "execution_count": null,
   "metadata": {},
   "outputs": [],
   "source": []
  },
  {
   "cell_type": "markdown",
   "metadata": {},
   "source": [
    "#### 94. Considering a 10x3 matrix, extract rows with unequal values (e.g. \\[2,2,3\\]) (★★★)"
   ]
  },
  {
   "cell_type": "code",
   "execution_count": null,
   "metadata": {},
   "outputs": [],
   "source": []
  },
  {
   "cell_type": "markdown",
   "metadata": {},
   "source": [
    "#### 95. Convert a vector of ints into a matrix binary representation (★★★)"
   ]
  },
  {
   "cell_type": "code",
   "execution_count": null,
   "metadata": {},
   "outputs": [],
   "source": []
  },
  {
   "cell_type": "markdown",
   "metadata": {},
   "source": [
    "#### 96. Given a two dimensional array, how to extract unique rows? (★★★)"
   ]
  },
  {
   "cell_type": "code",
   "execution_count": null,
   "metadata": {},
   "outputs": [],
   "source": []
  },
  {
   "cell_type": "markdown",
   "metadata": {},
   "source": [
    "#### 97. Considering 2 vectors A & B, write the einsum equivalent of inner, outer, sum, and mul function (★★★)"
   ]
  },
  {
   "cell_type": "code",
   "execution_count": null,
   "metadata": {},
   "outputs": [],
   "source": []
  },
  {
   "cell_type": "markdown",
   "metadata": {},
   "source": [
    "#### 98. Considering a path described by two vectors (X,Y), how to sample it using equidistant samples (★★★)?"
   ]
  },
  {
   "cell_type": "code",
   "execution_count": null,
   "metadata": {
    "collapsed": true
   },
   "outputs": [],
   "source": []
  },
  {
   "cell_type": "markdown",
   "metadata": {},
   "source": [
    "#### 99. Given an integer n and a 2D array X, select from X the rows which can be interpreted as draws from a multinomial distribution with n degrees, i.e., the rows which only contain integers and which sum to n. (★★★)"
   ]
  },
  {
   "cell_type": "code",
   "execution_count": null,
   "metadata": {},
   "outputs": [],
   "source": []
  },
  {
   "cell_type": "markdown",
   "metadata": {},
   "source": [
    "#### 100. Compute bootstrapped 95% confidence intervals for the mean of a 1D array X (i.e., resample the elements of an array with replacement N times, compute the mean of each sample, and then compute percentiles over the means). (★★★)"
   ]
  },
  {
   "cell_type": "code",
   "execution_count": null,
   "metadata": {},
   "outputs": [],
   "source": []
  }
 ],
 "metadata": {
  "kernelspec": {
   "name": "python3810jvsc74a57bd068274f4789de8facababa72c5292f6e9ee0042994feee1bf982b457f4d00f7e0",
   "display_name": "Python 3.8.10 64-bit ('strivenev': conda)"
  },
  "language_info": {
   "codemirror_mode": {
    "name": "ipython",
    "version": 3
   },
   "file_extension": ".py",
   "mimetype": "text/x-python",
   "name": "python",
   "nbconvert_exporter": "python",
   "pygments_lexer": "ipython3",
   "version": "3.8.10"
  }
 },
 "nbformat": 4,
 "nbformat_minor": 1
}